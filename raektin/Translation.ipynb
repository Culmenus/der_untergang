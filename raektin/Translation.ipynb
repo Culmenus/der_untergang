{
 "cells": [
  {
   "cell_type": "markdown",
   "metadata": {
    "id": "X4cRE8IbIrIV"
   },
   "source": [
    "If you're opening this Notebook on colab, you will probably need to install 🤗 Transformers and 🤗 Datasets. Uncomment the following cell and run it."
   ]
  },
  {
   "cell_type": "code",
   "execution_count": 1,
   "metadata": {
    "id": "MOsHUjgdIrIW"
   },
   "outputs": [
    {
     "name": "stdout",
     "output_type": "stream",
     "text": [
      "Requirement already satisfied: datasets in /home/oddurace/anaconda3/lib/python3.8/site-packages (1.15.1)\n",
      "Requirement already satisfied: transformers in /home/oddurace/anaconda3/lib/python3.8/site-packages (4.12.3)\n",
      "Collecting sacrebleu\n",
      "  Downloading sacrebleu-2.0.0-py3-none-any.whl (90 kB)\n",
      "\u001b[K     |████████████████████████████████| 90 kB 1.3 MB/s eta 0:00:01\n",
      "\u001b[?25hRequirement already satisfied: pyarrow!=4.0.0,>=1.0.0 in /home/oddurace/anaconda3/lib/python3.8/site-packages (from datasets) (6.0.0)\n",
      "Requirement already satisfied: multiprocess in /home/oddurace/anaconda3/lib/python3.8/site-packages (from datasets) (0.70.12.2)\n",
      "Requirement already satisfied: tqdm>=4.62.1 in /home/oddurace/anaconda3/lib/python3.8/site-packages (from datasets) (4.62.3)\n",
      "Requirement already satisfied: numpy>=1.17 in /home/oddurace/anaconda3/lib/python3.8/site-packages (from datasets) (1.20.1)\n",
      "Requirement already satisfied: requests>=2.19.0 in /home/oddurace/anaconda3/lib/python3.8/site-packages (from datasets) (2.25.1)\n",
      "Requirement already satisfied: xxhash in /home/oddurace/anaconda3/lib/python3.8/site-packages (from datasets) (2.0.2)\n",
      "Requirement already satisfied: pandas in /home/oddurace/anaconda3/lib/python3.8/site-packages (from datasets) (1.2.4)\n",
      "Requirement already satisfied: dill in /home/oddurace/anaconda3/lib/python3.8/site-packages (from datasets) (0.3.4)\n",
      "Requirement already satisfied: fsspec[http]>=2021.05.0 in /home/oddurace/anaconda3/lib/python3.8/site-packages (from datasets) (2021.11.0)\n",
      "Requirement already satisfied: aiohttp in /home/oddurace/anaconda3/lib/python3.8/site-packages (from datasets) (3.8.0)\n",
      "Requirement already satisfied: packaging in /home/oddurace/anaconda3/lib/python3.8/site-packages (from datasets) (20.9)\n",
      "Requirement already satisfied: huggingface-hub<1.0.0,>=0.1.0 in /home/oddurace/anaconda3/lib/python3.8/site-packages (from datasets) (0.1.2)\n",
      "Requirement already satisfied: typing-extensions>=3.7.4.3 in /home/oddurace/anaconda3/lib/python3.8/site-packages (from huggingface-hub<1.0.0,>=0.1.0->datasets) (3.7.4.3)\n",
      "Requirement already satisfied: pyyaml in /home/oddurace/anaconda3/lib/python3.8/site-packages (from huggingface-hub<1.0.0,>=0.1.0->datasets) (5.4.1)\n",
      "Requirement already satisfied: filelock in /home/oddurace/anaconda3/lib/python3.8/site-packages (from huggingface-hub<1.0.0,>=0.1.0->datasets) (3.0.12)\n",
      "Requirement already satisfied: pyparsing>=2.0.2 in /home/oddurace/anaconda3/lib/python3.8/site-packages (from packaging->datasets) (2.4.7)\n",
      "Requirement already satisfied: urllib3<1.27,>=1.21.1 in /home/oddurace/anaconda3/lib/python3.8/site-packages (from requests>=2.19.0->datasets) (1.26.4)\n",
      "Requirement already satisfied: chardet<5,>=3.0.2 in /home/oddurace/anaconda3/lib/python3.8/site-packages (from requests>=2.19.0->datasets) (4.0.0)\n",
      "Requirement already satisfied: idna<3,>=2.5 in /home/oddurace/anaconda3/lib/python3.8/site-packages (from requests>=2.19.0->datasets) (2.10)\n",
      "Requirement already satisfied: certifi>=2017.4.17 in /home/oddurace/anaconda3/lib/python3.8/site-packages (from requests>=2.19.0->datasets) (2020.12.5)\n",
      "Requirement already satisfied: regex in /home/oddurace/anaconda3/lib/python3.8/site-packages (from sacrebleu) (2021.4.4)\n",
      "Collecting portalocker\n",
      "  Downloading portalocker-2.3.2-py2.py3-none-any.whl (15 kB)\n",
      "Requirement already satisfied: colorama in /home/oddurace/anaconda3/lib/python3.8/site-packages (from sacrebleu) (0.4.4)\n",
      "Collecting tabulate>=0.8.9\n",
      "  Downloading tabulate-0.8.9-py3-none-any.whl (25 kB)\n",
      "Requirement already satisfied: tokenizers<0.11,>=0.10.1 in /home/oddurace/anaconda3/lib/python3.8/site-packages (from transformers) (0.10.3)\n",
      "Requirement already satisfied: sacremoses in /home/oddurace/anaconda3/lib/python3.8/site-packages (from transformers) (0.0.46)\n",
      "Requirement already satisfied: multidict<7.0,>=4.5 in /home/oddurace/anaconda3/lib/python3.8/site-packages (from aiohttp->datasets) (5.2.0)\n",
      "Requirement already satisfied: aiosignal>=1.1.2 in /home/oddurace/anaconda3/lib/python3.8/site-packages (from aiohttp->datasets) (1.2.0)\n",
      "Requirement already satisfied: attrs>=17.3.0 in /home/oddurace/anaconda3/lib/python3.8/site-packages (from aiohttp->datasets) (20.3.0)\n",
      "Requirement already satisfied: async-timeout<5.0,>=4.0.0a3 in /home/oddurace/anaconda3/lib/python3.8/site-packages (from aiohttp->datasets) (4.0.0)\n",
      "Requirement already satisfied: yarl<2.0,>=1.0 in /home/oddurace/anaconda3/lib/python3.8/site-packages (from aiohttp->datasets) (1.7.2)\n",
      "Requirement already satisfied: frozenlist>=1.1.1 in /home/oddurace/anaconda3/lib/python3.8/site-packages (from aiohttp->datasets) (1.2.0)\n",
      "Requirement already satisfied: charset-normalizer<3.0,>=2.0 in /home/oddurace/anaconda3/lib/python3.8/site-packages (from aiohttp->datasets) (2.0.7)\n",
      "Requirement already satisfied: python-dateutil>=2.7.3 in /home/oddurace/anaconda3/lib/python3.8/site-packages (from pandas->datasets) (2.8.1)\n",
      "Requirement already satisfied: pytz>=2017.3 in /home/oddurace/anaconda3/lib/python3.8/site-packages (from pandas->datasets) (2021.1)\n",
      "Requirement already satisfied: six>=1.5 in /home/oddurace/anaconda3/lib/python3.8/site-packages (from python-dateutil>=2.7.3->pandas->datasets) (1.15.0)\n",
      "Requirement already satisfied: click in /home/oddurace/anaconda3/lib/python3.8/site-packages (from sacremoses->transformers) (7.1.2)\n",
      "Requirement already satisfied: joblib in /home/oddurace/anaconda3/lib/python3.8/site-packages (from sacremoses->transformers) (1.0.1)\n",
      "Installing collected packages: tabulate, portalocker, sacrebleu\n",
      "Successfully installed portalocker-2.3.2 sacrebleu-2.0.0 tabulate-0.8.9\n"
     ]
    }
   ],
   "source": [
    "! pip install datasets transformers sacrebleu"
   ]
  },
  {
   "cell_type": "markdown",
   "metadata": {
    "id": "BtwJA_QzbahD"
   },
   "source": [
    "If you're opening this notebook locally, make sure your environment has an install from the last version of those libraries.\n",
    "\n",
    "To be able to share your model with the community and generate results like the one shown in the picture below via the inference API, there are a few more steps to follow.\n",
    "\n",
    "First you have to store your authentication token from the Hugging Face website (sign up [here](https://huggingface.co/join) if you haven't already!) then execute the following cell and input your username and password:"
   ]
  },
  {
   "cell_type": "code",
   "execution_count": 2,
   "metadata": {
    "id": "B0cucDdKbahE"
   },
   "outputs": [
    {
     "data": {
      "application/vnd.jupyter.widget-view+json": {
       "model_id": "eccba7c72c894550b48b4f8acf968fbc",
       "version_major": 2,
       "version_minor": 0
      },
      "text/plain": [
       "VBox(children=(HTML(value=\"<center>\\n<img src=https://huggingface.co/front/assets/huggingface_logo-noborder.sv…"
      ]
     },
     "metadata": {},
     "output_type": "display_data"
    }
   ],
   "source": [
    "from huggingface_hub import notebook_login\n",
    "\n",
    "notebook_login()"
   ]
  },
  {
   "cell_type": "markdown",
   "metadata": {
    "id": "stwS-qwRbahF"
   },
   "source": [
    "Then you need to install Git-LFS. Uncomment the following instructions:"
   ]
  },
  {
   "cell_type": "code",
   "execution_count": 3,
   "metadata": {
    "id": "3jtROeepbahF"
   },
   "outputs": [
    {
     "name": "stdout",
     "output_type": "stream",
     "text": [
      "\u001b[1;31mE: \u001b[0mCould not open lock file /var/lib/dpkg/lock-frontend - open (13: Permission denied)\u001b[0m\n",
      "\u001b[1;31mE: \u001b[0mUnable to acquire the dpkg frontend lock (/var/lib/dpkg/lock-frontend), are you root?\u001b[0m\n"
     ]
    }
   ],
   "source": [
    "# !apt install git-lfs"
   ]
  },
  {
   "cell_type": "markdown",
   "metadata": {
    "id": "qGUhO151bahF"
   },
   "source": [
    "Make sure your version of Transformers is at least 4.11.0 since the functionality was introduced in that version:"
   ]
  },
  {
   "cell_type": "code",
   "execution_count": 4,
   "metadata": {
    "id": "XByMzQJibahG"
   },
   "outputs": [
    {
     "name": "stderr",
     "output_type": "stream",
     "text": [
      "None of PyTorch, TensorFlow >= 2.0, or Flax have been found. Models won't be available and only tokenizers, configuration and file/data utilities can be used.\n"
     ]
    },
    {
     "name": "stdout",
     "output_type": "stream",
     "text": [
      "4.12.3\n"
     ]
    }
   ],
   "source": [
    "import transformers\n",
    "\n",
    "print(transformers.__version__)"
   ]
  },
  {
   "cell_type": "markdown",
   "metadata": {
    "id": "HFASsisvIrIb"
   },
   "source": [
    "You can find a script version of this notebook to fine-tune your model in a distributed fashion using multiple GPUs or TPUs [here](https://github.com/huggingface/transformers/tree/master/examples/seq2seq)."
   ]
  },
  {
   "cell_type": "markdown",
   "metadata": {
    "id": "rEJBSTyZIrIb"
   },
   "source": [
    "# Fine-tuning a model on a translation task"
   ]
  },
  {
   "cell_type": "markdown",
   "metadata": {
    "id": "kTCFado4IrIc"
   },
   "source": [
    "In this notebook, we will see how to fine-tune one of the [🤗 Transformers](https://github.com/huggingface/transformers) model for a translation task. We will use the [WMT dataset](http://www.statmt.org/wmt16/), a machine translation dataset composed from a collection of various sources, including news commentaries and parliament proceedings.\n",
    "\n",
    "![Widget inference on a translation task](https://github.com/huggingface/notebooks/blob/master/examples/images/translation.png?raw=1)\n",
    "\n",
    "We will see how to easily load the dataset for this task using 🤗 Datasets and how to fine-tune a model on it using the `Trainer` API."
   ]
  },
  {
   "cell_type": "code",
   "execution_count": 5,
   "metadata": {
    "id": "wsenUQgBbahM"
   },
   "outputs": [],
   "source": [
    "model_checkpoint = \"Helsinki-NLP/opus-mt-de-is\""
   ]
  },
  {
   "cell_type": "markdown",
   "metadata": {
    "id": "4RRkXuteIrIh"
   },
   "source": [
    "This notebook is built to run  with any model checkpoint from the [Model Hub](https://huggingface.co/models) as long as that model has a sequence-to-sequence version in the Transformers library. Here we picked the [`Helsinki-NLP/opus-mt-en-ro`](https://huggingface.co/Helsinki-NLP/opus-mt-en-ro) checkpoint. "
   ]
  },
  {
   "cell_type": "markdown",
   "metadata": {
    "id": "whPRbBNbIrIl"
   },
   "source": [
    "## Loading the dataset"
   ]
  },
  {
   "cell_type": "markdown",
   "metadata": {
    "id": "W7QYTpxXIrIl"
   },
   "source": [
    "We will use the [🤗 Datasets](https://github.com/huggingface/datasets) library to download the data and get the metric we need to use for evaluation (to compare our model to the benchmark). This can be easily done with the functions `load_dataset` and `load_metric`. We use the English/Romanian part of the WMT dataset here."
   ]
  },
  {
   "cell_type": "code",
   "execution_count": 7,
   "metadata": {
    "id": "IreSlFmlIrIm",
    "outputId": "ceb1d6be-18c1-4a65-cb12-303abb552499"
   },
   "outputs": [
    {
     "data": {
      "application/vnd.jupyter.widget-view+json": {
       "model_id": "cbaa982c759847e2b3ddab6d2c401c37",
       "version_major": 2,
       "version_minor": 0
      },
      "text/plain": [
       "Downloading:   0%|          | 0.00/5.58k [00:00<?, ?B/s]"
      ]
     },
     "metadata": {},
     "output_type": "display_data"
    },
    {
     "data": {
      "application/vnd.jupyter.widget-view+json": {
       "model_id": "4debebefd5c64b0c859c880bdc70d51e",
       "version_major": 2,
       "version_minor": 0
      },
      "text/plain": [
       "Downloading:   0%|          | 0.00/278k [00:00<?, ?B/s]"
      ]
     },
     "metadata": {},
     "output_type": "display_data"
    },
    {
     "name": "stdout",
     "output_type": "stream",
     "text": [
      "Downloading and preparing dataset flores101/deu (download: 12.48 MiB, generated: 536.54 KiB, post-processed: Unknown size, total: 13.00 MiB) to /home/oddurace/.cache/huggingface/datasets/gsarti___flores101/deu/1.0.0/22346864a94723ccfc3ac88520a7348d91f8d08fa4d1929a7d719b524802c467...\n"
     ]
    },
    {
     "data": {
      "application/vnd.jupyter.widget-view+json": {
       "model_id": "f67fb539cc784dd9b6508542405c5ad5",
       "version_major": 2,
       "version_minor": 0
      },
      "text/plain": [
       "Downloading:   0%|          | 0.00/13.1M [00:00<?, ?B/s]"
      ]
     },
     "metadata": {},
     "output_type": "display_data"
    },
    {
     "data": {
      "application/vnd.jupyter.widget-view+json": {
       "model_id": "",
       "version_major": 2,
       "version_minor": 0
      },
      "text/plain": [
       "0 examples [00:00, ? examples/s]"
      ]
     },
     "metadata": {},
     "output_type": "display_data"
    },
    {
     "data": {
      "application/vnd.jupyter.widget-view+json": {
       "model_id": "",
       "version_major": 2,
       "version_minor": 0
      },
      "text/plain": [
       "0 examples [00:00, ? examples/s]"
      ]
     },
     "metadata": {},
     "output_type": "display_data"
    },
    {
     "name": "stdout",
     "output_type": "stream",
     "text": [
      "Dataset flores101 downloaded and prepared to /home/oddurace/.cache/huggingface/datasets/gsarti___flores101/deu/1.0.0/22346864a94723ccfc3ac88520a7348d91f8d08fa4d1929a7d719b524802c467. Subsequent calls will reuse this data.\n"
     ]
    },
    {
     "data": {
      "application/vnd.jupyter.widget-view+json": {
       "model_id": "afcb255c936a418196fbe6317ab53a3b",
       "version_major": 2,
       "version_minor": 0
      },
      "text/plain": [
       "  0%|          | 0/2 [00:00<?, ?it/s]"
      ]
     },
     "metadata": {},
     "output_type": "display_data"
    },
    {
     "data": {
      "application/vnd.jupyter.widget-view+json": {
       "model_id": "e95d2bc5ceb34e22954e3057f9eaf89d",
       "version_major": 2,
       "version_minor": 0
      },
      "text/plain": [
       "Downloading:   0%|          | 0.00/2.37k [00:00<?, ?B/s]"
      ]
     },
     "metadata": {},
     "output_type": "display_data"
    }
   ],
   "source": [
    "from datasets import load_dataset, load_metric\n",
    "\n",
    "fra_doods\n",
    "\n",
    "dataset_de = load_dataset(\"gsarti/flores_101\", \"deu\")\n",
    "metric = load_metric(\"sacrebleu\")"
   ]
  },
  {
   "cell_type": "markdown",
   "metadata": {
    "id": "RzfPtOMoIrIu"
   },
   "source": [
    "The `dataset` object itself is [`DatasetDict`](https://huggingface.co/docs/datasets/package_reference/main_classes.html#datasetdict), which contains one key for the training, validation and test set:"
   ]
  },
  {
   "cell_type": "code",
   "execution_count": 8,
   "metadata": {
    "id": "GWiVUF0jIrIv",
    "outputId": "35e3ea43-f397-4a54-c90c-f2cf8d36873e"
   },
   "outputs": [
    {
     "data": {
      "text/plain": [
       "DatasetDict({\n",
       "    dev: Dataset({\n",
       "        features: ['id', 'sentence', 'URL', 'domain', 'topic', 'has_image', 'has_hyperlink'],\n",
       "        num_rows: 997\n",
       "    })\n",
       "    devtest: Dataset({\n",
       "        features: ['id', 'sentence', 'URL', 'domain', 'topic', 'has_image', 'has_hyperlink'],\n",
       "        num_rows: 1012\n",
       "    })\n",
       "})"
      ]
     },
     "execution_count": 8,
     "metadata": {},
     "output_type": "execute_result"
    }
   ],
   "source": [
    "dataset_de"
   ]
  },
  {
   "cell_type": "code",
   "execution_count": 11,
   "metadata": {},
   "outputs": [
    {
     "name": "stdout",
     "output_type": "stream",
     "text": [
      "Downloading and preparing dataset flores101/isl (download: 12.48 MiB, generated: 512.56 KiB, post-processed: Unknown size, total: 12.98 MiB) to /home/oddurace/.cache/huggingface/datasets/gsarti___flores101/isl/1.0.0/22346864a94723ccfc3ac88520a7348d91f8d08fa4d1929a7d719b524802c467...\n"
     ]
    },
    {
     "data": {
      "application/vnd.jupyter.widget-view+json": {
       "model_id": "",
       "version_major": 2,
       "version_minor": 0
      },
      "text/plain": [
       "0 examples [00:00, ? examples/s]"
      ]
     },
     "metadata": {},
     "output_type": "display_data"
    },
    {
     "data": {
      "application/vnd.jupyter.widget-view+json": {
       "model_id": "",
       "version_major": 2,
       "version_minor": 0
      },
      "text/plain": [
       "0 examples [00:00, ? examples/s]"
      ]
     },
     "metadata": {},
     "output_type": "display_data"
    },
    {
     "name": "stdout",
     "output_type": "stream",
     "text": [
      "Dataset flores101 downloaded and prepared to /home/oddurace/.cache/huggingface/datasets/gsarti___flores101/isl/1.0.0/22346864a94723ccfc3ac88520a7348d91f8d08fa4d1929a7d719b524802c467. Subsequent calls will reuse this data.\n"
     ]
    },
    {
     "data": {
      "application/vnd.jupyter.widget-view+json": {
       "model_id": "52a90c359db047a1953e40bdf2b76588",
       "version_major": 2,
       "version_minor": 0
      },
      "text/plain": [
       "  0%|          | 0/2 [00:00<?, ?it/s]"
      ]
     },
     "metadata": {},
     "output_type": "display_data"
    }
   ],
   "source": [
    "dataset_is = load_dataset(\"gsarti/flores_101\", \"isl\")"
   ]
  },
  {
   "cell_type": "markdown",
   "metadata": {
    "id": "u3EtYfeHIrIz"
   },
   "source": [
    "To access an actual element, you need to select a split first, then give an index:"
   ]
  },
  {
   "cell_type": "code",
   "execution_count": 17,
   "metadata": {
    "id": "X6HrpprwIrIz",
    "outputId": "d7670bc0-42e4-4c09-8a6a-5c018ded7d95"
   },
   "outputs": [
    {
     "name": "stdout",
     "output_type": "stream",
     "text": [
      "{'URL': 'https://en.wikinews.org/wiki/Scientists_say_new_medical_diagnostic_chip_can_sort_cells_anywhere_with_an_inkjet',\n",
      " 'domain': 'wikinews',\n",
      " 'has_hyperlink': 0,\n",
      " 'has_image': 0,\n",
      " 'id': 2,\n",
      " 'sentence': 'Führende Forscher sagen, dass dies die Früherkennung von Krebs, '\n",
      "             'Tuberkulose, HIV und Malaria für Patienten in '\n",
      "             'einkommensschwachen Ländern fördern könnte, wo die '\n",
      "             'Überlebensraten bei Krankheiten wie Brustkrebs teilweise nur '\n",
      "             'halb so hoch sind wie in reicheren Ländern.',\n",
      " 'topic': 'health'}\n",
      "{'URL': 'https://en.wikinews.org/wiki/Scientists_say_new_medical_diagnostic_chip_can_sort_cells_anywhere_with_an_inkjet',\n",
      " 'domain': 'wikinews',\n",
      " 'has_hyperlink': 0,\n",
      " 'has_image': 0,\n",
      " 'id': 2,\n",
      " 'sentence': 'Leiðandi vísindamenn segja að þetta geti orðið til snemmbúinnar '\n",
      "             'greiningar á krabbameini, berklum, alnæmi og malaríu hjá '\n",
      "             'sjúklingum í lágtekjulöndum, þar sem lifunarhlutfall fyrir '\n",
      "             'sjúkdóma á borð við brjóstakrabbamein getur verið helmingi lægri '\n",
      "             'en hjá ríkari löndum.',\n",
      " 'topic': 'health'}\n"
     ]
    }
   ],
   "source": [
    "from pprint import pprint\n",
    "pprint(dataset_de['dev'][1])\n",
    "pprint(dataset_is['dev'][1])"
   ]
  },
  {
   "cell_type": "code",
   "execution_count": 61,
   "metadata": {},
   "outputs": [],
   "source": [
    "dataset_de1 = dataset_de.remove_columns(['URL', 'domain', 'has_hyperlink', 'has_image', 'topic'])\n",
    "dataset_is1 = dataset_is.remove_columns(['URL', 'domain', 'has_hyperlink', 'has_image', 'topic'])"
   ]
  },
  {
   "cell_type": "code",
   "execution_count": 62,
   "metadata": {},
   "outputs": [],
   "source": [
    "dataset_de1 = dataset_de1.rename_column('sentence', 'de')\n",
    "dataset_is1 = dataset_is1.rename_column('sentence', 'is')"
   ]
  },
  {
   "cell_type": "code",
   "execution_count": 63,
   "metadata": {},
   "outputs": [
    {
     "name": "stdout",
     "output_type": "stream",
     "text": [
      "DatasetDict({\n",
      "    dev: Dataset({\n",
      "        features: ['id', 'de'],\n",
      "        num_rows: 997\n",
      "    })\n",
      "    devtest: Dataset({\n",
      "        features: ['id', 'de'],\n",
      "        num_rows: 1012\n",
      "    })\n",
      "})\n",
      "DatasetDict({\n",
      "    dev: Dataset({\n",
      "        features: ['id', 'is'],\n",
      "        num_rows: 997\n",
      "    })\n",
      "    devtest: Dataset({\n",
      "        features: ['id', 'is'],\n",
      "        num_rows: 1012\n",
      "    })\n",
      "})\n"
     ]
    }
   ],
   "source": [
    "print(dataset_de1)\n",
    "print(dataset_is1)"
   ]
  },
  {
   "cell_type": "code",
   "execution_count": 64,
   "metadata": {},
   "outputs": [],
   "source": [
    "#hakk\n",
    "pd_de = dataset_de1['dev'].to_pandas()\n",
    "pd_is = dataset_is1['dev'].to_pandas()"
   ]
  },
  {
   "cell_type": "code",
   "execution_count": 65,
   "metadata": {},
   "outputs": [
    {
     "name": "stdout",
     "output_type": "stream",
     "text": [
      "      id                                                 is\n",
      "0      1  Á mánudag tilkynntu vísindamenn frá læknadeild...\n",
      "1      2  Leiðandi vísindamenn segja að þetta geti orðið...\n",
      "2      3  JAS 39C Gripen-flugvélin brotlenti á flugbraut...\n",
      "3      4  Staðfest var að flugmaðurinn var leiðtogi flok...\n",
      "4      5  Samkvæmt fjölmiðlum á staðnum valt slökkvibíl ...\n",
      "..   ...                                                ...\n",
      "992  993  Á indverska sumrinu nær ferðamannatími hæðarst...\n",
      "993  994  Slík fjallþorp búa hins vegar yfir annarri feg...\n",
      "994  995  Aðeins fá flugfélög bjóða enn gjöld vegna ástv...\n",
      "995  996  Flugfélög sem bjóða upp á slíkt eru m.a. Air C...\n",
      "996  997  Þú verður alltaf að bóka beint hjá flugfélagin...\n",
      "\n",
      "[997 rows x 2 columns]\n"
     ]
    }
   ],
   "source": [
    "print(pd_is)"
   ]
  },
  {
   "cell_type": "code",
   "execution_count": 66,
   "metadata": {},
   "outputs": [],
   "source": [
    "import pandas as pd\n",
    "megahakk = pd.merge(pd_de, pd_is, on='id')"
   ]
  },
  {
   "cell_type": "code",
   "execution_count": 68,
   "metadata": {},
   "outputs": [
    {
     "name": "stdout",
     "output_type": "stream",
     "text": [
      "      id                                                 de  \\\n",
      "0      1  Am Montag haben die Wisenschaftler der Stanfor...   \n",
      "1      2  Führende Forscher sagen, dass dies die Früherk...   \n",
      "2      3  Der JAS 39C Gripen stürzte gegen 9:30 Uhr Orts...   \n",
      "3      4  Der Pilot wurde als Staffelführer Dilokrit Pat...   \n",
      "4      5  Lokale Medien berichten, dass ein Feuerwehrwag...   \n",
      "..   ...                                                ...   \n",
      "992  993  Die Touristensaison für die Hügelstationen err...   \n",
      "993  994  Allerdings verfügen sie im Winter über eine an...   \n",
      "994  995  Nur noch wenige Fluggesellschaften bieten Tode...   \n",
      "995  996  Zu den Fluggesellschaften, die diese anbieten,...   \n",
      "996  997  Sie müssen in jedem Fall telefonisch über die ...   \n",
      "\n",
      "                                                    is  \n",
      "0    Á mánudag tilkynntu vísindamenn frá læknadeild...  \n",
      "1    Leiðandi vísindamenn segja að þetta geti orðið...  \n",
      "2    JAS 39C Gripen-flugvélin brotlenti á flugbraut...  \n",
      "3    Staðfest var að flugmaðurinn var leiðtogi flok...  \n",
      "4    Samkvæmt fjölmiðlum á staðnum valt slökkvibíl ...  \n",
      "..                                                 ...  \n",
      "992  Á indverska sumrinu nær ferðamannatími hæðarst...  \n",
      "993  Slík fjallþorp búa hins vegar yfir annarri feg...  \n",
      "994  Aðeins fá flugfélög bjóða enn gjöld vegna ástv...  \n",
      "995  Flugfélög sem bjóða upp á slíkt eru m.a. Air C...  \n",
      "996  Þú verður alltaf að bóka beint hjá flugfélagin...  \n",
      "\n",
      "[997 rows x 3 columns]\n"
     ]
    }
   ],
   "source": [
    "print(megahakk)"
   ]
  },
  {
   "cell_type": "code",
   "execution_count": 102,
   "metadata": {},
   "outputs": [],
   "source": [
    "from datasets import Dataset\n",
    "hello = Dataset.from_pandas(megahakk)"
   ]
  },
  {
   "cell_type": "code",
   "execution_count": 103,
   "metadata": {},
   "outputs": [
    {
     "name": "stdout",
     "output_type": "stream",
     "text": [
      "Dataset({\n",
      "    features: ['id', 'de', 'is', '__index_level_0__'],\n",
      "    num_rows: 997\n",
      "})\n"
     ]
    }
   ],
   "source": [
    "print(hello)"
   ]
  },
  {
   "cell_type": "code",
   "execution_count": 104,
   "metadata": {},
   "outputs": [],
   "source": [
    "wow = hello.remove_columns(['__index_level_0__'])"
   ]
  },
  {
   "cell_type": "code",
   "execution_count": 105,
   "metadata": {
    "collapsed": true,
    "jupyter": {
     "outputs_hidden": true
    },
    "tags": []
   },
   "outputs": [
    {
     "name": "stdout",
     "output_type": "stream",
     "text": [
      "{'id': 1, 'de': 'Am Montag haben die Wisenschaftler der Stanford University School of Medicine die Erfindung eines neuen Diagnosetools bekanntgegeben, mit dem Zellen nach ihrem Typ sortiert werden können: ein winziger, ausdruckbarer Chip, der für jeweils etwa einen US-Cent mit Standard-Tintenstrahldruckern hergestellt werden kann.', 'is': 'Á mánudag tilkynntu vísindamenn frá læknadeild Stanford-háskóla uppfinningu á nýju greiningartæki sem getur flokkað frumur eftir tegund: örlítill prentanleg flaga sem hægt er að framleiða með venjulegum bleksprautuprentara fyrir mögulega um eitt bandarískt sent stykkið.'} \n",
      "\n",
      "{'id': 2, 'de': 'Führende Forscher sagen, dass dies die Früherkennung von Krebs, Tuberkulose, HIV und Malaria für Patienten in einkommensschwachen Ländern fördern könnte, wo die Überlebensraten bei Krankheiten wie Brustkrebs teilweise nur halb so hoch sind wie in reicheren Ländern.', 'is': 'Leiðandi vísindamenn segja að þetta geti orðið til snemmbúinnar greiningar á krabbameini, berklum, alnæmi og malaríu hjá sjúklingum í lágtekjulöndum, þar sem lifunarhlutfall fyrir sjúkdóma á borð við brjóstakrabbamein getur verið helmingi lægri en hjá ríkari löndum.'} \n",
      "\n",
      "{'id': 3, 'de': 'Der JAS 39C Gripen stürzte gegen 9:30 Uhr Ortszeit (02:30 UTC) auf eine Startbahn und explodierte, sodass der Flughafen für kommerzielle Flüge geschlossen werden musste.', 'is': 'JAS 39C Gripen-flugvélin brotlenti á flugbraut um klukkan 9:30 að staðartíma (02:30 UTC). Hún sprakk og lokað var á allt áætlunarflug á flugvellinum.'} \n",
      "\n",
      "{'id': 4, 'de': 'Der Pilot wurde als Staffelführer Dilokrit Pattavee identifiziert.', 'is': 'Staðfest var að flugmaðurinn var leiðtogi flokksins, Dilokrit Pattavee.'} \n",
      "\n",
      "{'id': 5, 'de': 'Lokale Medien berichten, dass ein Feuerwehrwagen während der Rettungsaktion umkippte.', 'is': 'Samkvæmt fjölmiðlum á staðnum valt slökkvibíl á flugvellinum eftir að hafa farið í útkallið.'} \n",
      "\n",
      "{'id': 6, 'de': 'Der 28-jährige Vidal war vor drei Spielzeiten von Sevilla zu Barça gekommen.', 'is': 'Hinn 28 ára gamli Vidal gekk til liðs við Barcelona frá Sevilla fyrir þremur keppnistímabilum.'} \n",
      "\n",
      "{'id': 7, 'de': 'Seit seinem Umzug in die katalanische Hauptstadt hatte Vidal für den Verein 49 Partien gespielt.', 'is': 'Vidal hefur leikið 49 leiki fyrir félagið frá því hann flutti til höfuðborgar Katalóníu.'} \n",
      "\n",
      "{'id': 8, 'de': 'Der Protest begann gegen 11:00 Uhr Ortszeit (UTC +1) in Whitehall gegenüber dem von der Polizei bewachten Eingang zur Downing Street, dem offiziellen Wohnsitz des Premierministers.', 'is': 'Mótmælin byrjuðu um kl. 11:00 að staðartíma (UTC+1) í Whitehall á móti innganginum að Downing Street, embættisbústað forsætisráðherra, sem naut verndar lögreglunnar.'} \n",
      "\n",
      "{'id': 9, 'de': 'Kurz nach 11.00 Uhr blockierten die Demonstranten den Verkehr Richtung Norden in Whitehall.', 'is': 'Rétt eftir klukkan 11:00 lokuðu mótmælendur fyrir norðurumferð í Whitehall.'} \n",
      "\n",
      "{'id': 10, 'de': 'Um 11:20 Uhr forderte die Polizei die Demonstranten dazu auf, wieder auf die Bürgersteige zurückzukehren, und gab dazu an, dass man das Demonstrationsrecht mit dem Verkehrsaufkommen abwägen müsse.', 'is': 'Kl. 11:20 bað lögreglan mótmælendur um að færa sig aftur upp á gangstéttina vegna þess að hún þyrfti að hleypa bílaumferðinni í gegn án þess að brjóta gegn réttinum til að mótmæla.'} \n",
      "\n",
      "{'id': 11, 'de': 'Gegen 11.29 Uhr zog der Protest nach Whitehall, vorbei am Trafalgar Square, die Straße Strand entlang, vorbei an Aldwych und den Kingsway entlang nach Holborn, wo die Konservative Partei ihr Frühjahrsforum im Hotel Grand Connaught Rooms abhielt.', 'is': 'Kl. 11:29 færðust mótmælin upp Whitehall, fram hjá Trafalgar-torgi, eftir The Strand, fram hjá Aldwych og upp Kingsway í áttina að Holborn þar sem Íhaldsflokkurinn var að halda vorráðstefnu sína í Grand Connaught Rooms-hótelinu.'} \n",
      "\n",
      "{'id': 12, 'de': 'Nadals Rekord im direkten Vergleich gegen den Kanadier liegt bei 7:2.', 'is': 'Fyrri árangur Nadal gegn Kanadabúanum er 7–2.'} \n",
      "\n",
      "{'id': 13, 'de': 'Vor kurzem verlor er bei den Brisbane Open gegen Raonic.', 'is': 'Hann tapaði nýverið fyrir Raonic á opna mótinu í Brisbane.'} \n",
      "\n",
      "{'id': 14, 'de': 'Nadal sackte 88% der Netzpunkte im Spiel ein, womit er im ersten Aufschlag 76 Punkte gewann.', 'is': 'Nadal fékk 88% af þeim stigum sem í boði voru og vann sér inn 76 stig í fyrstu lotu.'} \n",
      "\n",
      "{'id': 15, 'de': 'Nach dem Spiel sagte der Sandplatz-König: „Ich freue mich einfach, wieder in den Finalrunden der wichtigsten Turniere zu sein. Ich bin hier, weil ich versuchen will zu gewinnen.“', 'is': 'Konungur leirsins hafði þetta að segja eftir leikinn: \"Ég er bara mjög spenntur yfir því að komast í lokaumferð mikilvægustu mótanna. Ég er mættur hingað til að vinna mótið.\"'} \n",
      "\n",
      "{'id': 16, 'de': '\"\"\"Panama Papers\"\" ist ein Sammelbegriff für ungefähr zehn Millionen Dokumente aus der panamaischen Rechtsanwaltskanzlei Mossack Fonseca, die der Presse im Frühjahr 2016 zugespielt wurden.\"', 'is': '\"Panamaskjölin\" er regnhlífarhugtak fyrir um það bil tíu milljónir skjala frá panamísku lögfræðistofunni Mossack Fonseca, sem lekið var til fjölmiðla vorið 2016.'} \n",
      "\n",
      "{'id': 17, 'de': 'Die Dokumente zeigten, dass vierzehn Banken reichen Klienten dabei halfen, Vermögen im Wert von mehreren Milliarden US-Dollar zu verstecken, um Steuern und andere gesetzliche Vorgaben zu umgehen.', 'is': 'Skjölin sýndu fram á að 14 bankar aðstoðuðu ríka viðskiptavini sína að fela auð sem nam milljörðum Bandaríkjadala til að komast undan skattgreiðslum og öðrum reglum.'} \n",
      "\n",
      "{'id': 18, 'de': 'Die britische Zeitung The Guardian deutete an, dass die Deutsche Bank etwa ein Drittel der 1200 Briefkastenfirmen kontrollierte, die genutzt wurden, um das zu erreichen.', 'is': 'Breska dagblaðið The Guardian gaf í skyn að Deutsche Bank hefði stýrt hartnær þriðjungi þeirra 1200 skúffufyrirtækja sem notuð voru til að koma þessu í kring.'} \n",
      "\n",
      "{'id': 19, 'de': 'Es kam weltweit zu Protesten, mehreren Strafverfolgungen, und die Regierungschefs von Island und Pakistan sind beide zurückgetreten.', 'is': 'Mótmæli voru á heimsvísu, nokkrar saksóknir og leiðtogar ríkisstjórna Íslands og Pakistan sögðu báðir af sér.'} \n",
      "\n",
      "{'id': 20, 'de': '\"Ma wurde in Hongkong geboren, studierte an der New York University und der Harvard Law School und war im Besitz einer amerikanischen „Green Card\"\" für dauerhaft Ansässige.\"', 'is': 'Ma fæddist í Hong Kong og stundaði nám við háskólann í New York og lögfræði við Harvard-háskóla og var eitt sinn með „græna kortið\" og fasta búsetu í Bandaríkjunum.'} \n",
      "\n",
      "{'id': 21, 'de': 'Hsieh deutete während der Wahl an, dass Ma während einer Krisenzeit aus dem Land fliehen könnte.', 'is': 'Hsieh gaf í skyn þegar kosningarnar fóru fram að Ma kynni að flýja land um leið og neyðarástand yrði.'} \n",
      "\n",
      "{'id': 22, 'de': 'Hsieh argumentierte zudem, dass die photogene Ma mehr Stil als Substanz war.', 'is': 'Hsieh sagði einnig að hinn myndfríði Ma hugaði frekar að stíl en innihaldi.'} \n",
      "\n",
      "{'id': 23, 'de': 'Trotz dieser Vorwürfe hat Ma auf einem Podium, das für engere Beziehungen zum chinesischen Festland eintritt, mühelos gewonnen.x', 'is': 'Þrátt fyrir ásakanirnar vann Ma þægilegan sigur með það á stefnuskránni að auka tengsl við meginland Kína.'} \n",
      "\n",
      "{'id': 24, 'de': 'Der Spieler des Tages ist heute Alex Ovechkin von den Washington Capitals.', 'is': 'Leikmaður dagsins er Alex Ovechkin í liði Washington Capitals.'} \n",
      "\n",
      "{'id': 25, 'de': 'Beim 5:3-Sieg Washingtons gegen die Atlanta Thrashers machte er 2 Tore und 2 Assists.', 'is': 'Hann skoraði tvö mörk og átti tvær stoðsendingar í 5-3 sigri Washington á Atlanta Thrashers.'} \n",
      "\n",
      "{'id': 26, 'de': 'Ovechkins erster Assist des Abends führte zum Siegestreffer des Neulings Nicklas Backstrom;', 'is': 'Fyrsta stoðsending Ovechkin um kvöldið var fyrir markið nýliðans Nicklas Backstrom sem skilaði sigri í leiknum;'} \n",
      "\n",
      "{'id': 27, 'de': 'Sein zweites Tor des Abends war sein sechzigstes der Saison, womit er der erste Spieler mit 60 oder mehr Toren in einer Saison seit 1995-96 ist, als Jaromir Jagr und Mario Lemieux diesen Meilenstein erreichten.', 'is': 'annað mark hans um kvöldið var 60. markið hans á tímabilinu. Hann varð því fyrsti leikmaðurinn til að skora fleiri en 60 mörk á einu tímabili síðan 1995–96 þegar Jaromir Jagr og Mario Lemieux náðu þessum merka áfanga.'} \n",
      "\n",
      "{'id': 28, 'de': 'Batten wurde auf der Liste der 400 reichsten Amerikaner von 2008 mit einem geschätzten Vermögen von 2,3 Milliarden Dollar auf Rang 190 geführt.', 'is': 'Batten var í 190. sæti á lista yfir 400 ríkustu Bandaríkjamennina árið 2008 með eignir metnar á 2,3 milljarða Bandaríkjadala.'} \n",
      "\n",
      "{'id': 29, 'de': 'Er machte im Jahr 1950 seinen Abschluss am College of Arts & Sciences der University of Virginia und war ein bedeutender Stifter dieser Institution.', 'is': 'Hann útskrifaðist úr lista- og vísindadeild Virginíuháskóla árið 1950 og var stór styrktaraðili stofnunarinnar.'} \n",
      "\n",
      "{'id': 30, 'de': 'Das Abu-Ghraib-Gefängnis im Irak ist während eines Aufruhrs in Brand gesetzt worden.', 'is': 'Eldur var lagður að Abu Gaib fangelsinu í Írak í óeirðum.'} \n",
      "\n",
      "{'id': 31, 'de': 'Das Gefängnis wurde berüchtigt, nachdem dort nach der Übernahme durch US-Streitkräfte Misshandlungen von Gefangenenen aufgedeckt wurden.', 'is': 'Fangelsið varð alræmt eftir að misnotkun fanga uppgötvaðist þar eftir að bandarískar hersveitir tóku það yfir.'} \n",
      "\n",
      "{'id': 32, 'de': 'Piquet Junior hatte beim Grand Prix von Singapur im Jahr 2008 direkt nach einem frühen Boxenstopp von Fernando Alonso einen Unfall, was zum Einsatz des Safety Cars führte.', 'is': 'Piquet yngri lenti í árekstri, í kappakstrinum í Singapore 2008 rétt eftir snemmbúið stopp, við Fernando Alonso og öryggisbíllinn kom út.'} \n",
      "\n",
      "{'id': 33, 'de': 'Als die Autos vor Alonso hinter dem Safety-Car zum Tanken einfuhren, rückte er im Feld auf und holte sich den Sieg.', 'is': 'Þar sem bílarnir á undan Alonso stoppuðu til að fylla á eldsneyti á meðan öryggisbíllinn var úti náði Alonso forystu og hélt henni til enda.'} \n",
      "\n",
      "{'id': 34, 'de': 'Piquet Jr. wurde nach dem Ungarischen Grand Prix in 2009 gefeuert.', 'is': 'Piquet var látinn taka pokann sinn eftir kappaksturinn í Ungverjalandi 2009.'} \n",
      "\n",
      "{'id': 35, 'de': 'Um genau 8:46 Uhr fiel eine Stille über die Stadt und markierte den exakten Moment, in dem das erste Flugzeug sein Ziel traf.', 'is': 'Klukkan nákvæmlega 8:46 fyrir hádegi sló þögn á borgina, en það var augnablikið sem fyrsta þotan flaug á skotmark sitt.'} \n",
      "\n",
      "{'id': 36, 'de': 'Zwei Flutlichter wurden so aufgestellt, dass ihre Lichtkegel nachts in Richtung Himmel zeigten.', 'is': 'Búið er að koma fyrir búnað sem beinir tveimur ljósgeislum til himins alla nóttina.'} \n",
      "\n",
      "{'id': 37, 'de': 'Auf dem Gelände werden derzeit fünf neue Wolkenkratzer gebaut, mit einem Transportzentrum und einem Gedenkpark in der Mitte.', 'is': 'Verið er að byggja fimm nýja skýjakljúfa á staðnum og í miðju þeirra er samgöngumiðstöð og minningargarður.'} \n",
      "\n",
      "{'id': 38, 'de': 'Die PBS-Sendung gewann mehr als zwei Dutzend Emmy-Preise und ihre Laufzeit ist nur kürzer als die Sesamstraße und Mister Roger‘s Neighborhood.', 'is': \"PBS-þátturinn hefur fengið fleiri en tvo tugi Emmy-verðlauna og hann hefur verið í sýningu skemur en Sesame Street og Mister Rogers' Neighborhood.\"} \n",
      "\n",
      "{'id': 39, 'de': 'Jede Episode der Sendung konzentriert sich auf ein Thema in einem bestimmten Buch und erforscht dieses Thema dann in mehreren Geschichten.', 'is': 'Hver þáttur í þáttaröðinni lagði áherslu á viðfangsefni úr ákveðinni bók og síðan var kafað ofan í þetta viðfangsefni í gegnum margar sögur.'} \n",
      "\n",
      "{'id': 40, 'de': 'Jede Show gab auch Empfehlungen für Bücher, nach denen Kinder Ausschau halten sollten, wenn sie in ihre Bibliothek gehen.', 'is': 'Í hverjum þætti var líka mælt með bókum sem krakkar ættu að leita að þegar þau færu á bókasafnið.'} \n",
      "\n",
      "{'id': 41, 'de': '\"John Grant von WNED Buffalo (Reading Rainbows Heimatstation) sagte: \"\"Reading Rainbow hat Kindern beigebracht, warum sie lesen sollten, ... die Liebe zum Lesen - [die Show] hat Kinder dazu ermutigt, ein Buch in die Hand zu nehmen und zu lesen.\"\"\"', 'is': 'John Grant, á WNED Buffalo (heimarás Reading Rainbow) sagði að „Reading Rainbow kenndi krökkum ástæðu lesturs, ...  að kunna að meta lestur - [þáttinn] hvatti börnin til að taka sér bók í hönd og lesa.“'} \n",
      "\n",
      "{'id': 42, 'de': 'Einige Personen, darunter John Grant, sind der Ansicht, dass sowohl die Finanzierungskrise als auch ein Wandel in der Philosophie des Bildungsfernsehens zum Ende der Serie beigetragen haben.', 'is': 'Sumir telja, þar á meðal John Grant, að skortur á fjármagni og áherslubreytingar í dagskrárgerð fræðsluefnis í sjónvarpi hafi leitt til þess að sjónvarpsþættirnir voru teknir af dagskrá.'} \n",
      "\n",
      "{'id': 43, 'de': 'Prognostiker sagen, dass sich der Sturm, der etwa 645 Meilen (1040 km) westlich der Kapverdischen Inseln befindet, wahrscheinlich auflösen wird, bevor er Landflächen bedroht.', 'is': 'Óveðrið, um 1040 km vestur af Grænhöfðaeyjum, mun líklega fara víðar og ógna síðan landsvæðum, segja veðurfræðingar.'} \n",
      "\n",
      "{'id': 44, 'de': 'Fred hat derzeit Winde mit einer Geschwindigkeit von 105 Meilen pro Stunde (165 km/h) und bewegt sich in Richtung Nordwesten.', 'is': 'Fred er sem stendur með vindhraða upp á 105 mílur á klukkustund (165 km/klst.) og stefnir í norðvestur.'} \n",
      "\n",
      "{'id': 45, 'de': 'Fred ist der stärkste tropische Wirbelsturm, der seit dem Einsatz von Satellitenbildern jemals so weit südlich und östlich im Atlantik aufgezeichnet wurde, und erst der dritte größere Wirbelsturm, der östlich von 35°W registriert wurde.', 'is': 'Fred er öflugasta hitabeltislægð sögunnar þetta langt í suðaustur á Atlantshafinu frá tilkomu gervihnattamynda, og aðeins þriðji stóri fellibylurinn á skrá austan við 35. gráðu vestlægrar lengdar.'} \n",
      "\n",
      "{'id': 46, 'de': \"Am 24 September 1759 unterzeichnete Arthur Guinness einen 9000-jährigen Pachtvertrag für die St. James' Gate Brewery in Dublin, Irland.\", 'is': 'Þann 24. september 1759 ritaði Arthur Guinness undir 9.000 ára leigusamning fyrir St James‘ Gate-brugghúsinu í Dublin á Írlandi.'} \n",
      "\n",
      "{'id': 47, 'de': '250 Jahre später ist Guinness zu einem globalen Unternehmen mit einem Jahresumsatz von über 10 Milliarden Euro (14,7 Milliarden US-Dollar) herangewachsen.', 'is': 'Í dag, 250 árum seinna, er Guinness orðið að alþjóðlegu fyrirtæki og veltir yfir 10 milljörðum evra (14,7 milljörðum USD) árlega.'} \n",
      "\n",
      "{'id': 48, 'de': 'Jonny Reid, Beifahrer für das A1GP-Team Neuseeland, hat heute Geschichte geschrieben, als er legal in neuer Rekordzeit über die 48 Jahre alte Auckland Harbour Bridge in Neuseeland gefahren ist.', 'is': 'John Reid, aðstoðarökumaður A1GP liðs Nýja-Sjálands, braut blað í sögunni í dag þegar hann keyrði hraðast allra yfir hina 48 ára Auckland Harbour-brú á Nýja-Sjálandi, með löglegum hætti.'} \n",
      "\n",
      "{'id': 49, 'de': 'Reid schaffte es, Neuseelands A1GP-Auto Black Beauty sieben Mal mit Geschwindigkeiten von über 160 km/h über die Brücke zu fahren.', 'is': 'Reid tókst að aka A1GP bíl New Zealand, Black Beauty, á hraða yfir 160 km/klst sjö sinnum yfir brúna.'} \n",
      "\n",
      "{'id': 50, 'de': 'Die neuseeländische Polizei hatte wegen der geringen Höhe von Black Beauty Schwierigkeiten, die Geschwindigkeit Reids mit ihren Radarpistolen zu erfassen, und es gelang ihr nur ein einziges Mal, die Geschwindigkeit zu messen, als Reid auf 160 km/h abbremste.', 'is': 'Lögreglan á Nýja-Sjálandi átti í vandræðum með að nota hraðamælibyssur sínar til að sjá hversu hratt hr. Reid ók vegna þess hve lágur Black Beauty er og í eina skiptið sem lögreglunni tókst að mæla hr. Reid var þegar hann hægði á sér í 160 km/klst.'} \n",
      "\n",
      "{'id': 51, 'de': 'In den letzten drei Monaten wurden über 80 Festgenommene, ohne offizielle Anklage, aus der zentralen Haftanstalt entlassen.', 'is': 'Á síðastliðnum 3 mánuðum voru yfir 80 af þeim handteknu sleppt eftir bókun án formlegar ákæru.'} \n",
      "\n",
      "{'id': 52, 'de': 'Im April dieses Jahres erließ Richter Glynn eine einstweilige Verfügung gegen die Einrichtung, um die Freilassung derjenigen durchzusetzen, die länger als 24 Stunden nach ihrer Verhaftung festgehalten worden waren und keine Anhörung durch einen Gerichtskommissar erhalten hatten.', 'is': 'Í apríl í ár setti Glynn dómari tímabundið nálgunarbann á stofnunina. Tilgangurinn var að frelsa alla fangana sem höfðu setið í haldi í meira en 24 klukkustundir eftir handtöku og höfðu ekki fengið áheyrn hjá héraðsdómara.'} \n",
      "\n",
      "{'id': 53, 'de': 'Der Kommissar setzt die Kaution fest, falls sie gewährt wird, und formalisiert die vom festnehmenden Beamten eingereichte Anklage. Die Anklage wird dann in das Computersystem des Bundesstaates eingegeben, wo der Fall verfolgt wird.', 'is': 'Fulltrúinn ákveður trygginguna, ef hún er veitt, og formfestir ákærurnar sem sá sem handtók lagði fram. Ákærurnar eru síðan færðar inn í ríkistölvukerfið þar sem málið er rakið.'} \n",
      "\n",
      "{'id': 54, 'de': 'Die Anhörung markiert auch den Zeitpunkt des Rechts des Beschuldigten auf ein zügiges Gerichtsverfahren.', 'is': 'Yfirheyrslan skapar einnig dag fyrir rétt hins grunaða á skjótum réttarhöldum.'} \n",
      "\n",
      "{'id': 55, 'de': 'Peter Costello, australischer Schatzmeister und der Mann, der am ehesten die Nachfolge von Premierminister John Howard als Parteivorsitzender der Liberalen antreten wird, hat seine Unterstützung für eine Kernkraftindustrie in Australien zum Ausdruck gebracht.', 'is': 'Peter Costello, fjármálaráðherra Ástralíu og sá aðili sem líklegast er að taki við af John Howard forsætisráðherra sem leiðtogi Frjálslynda flokksins, hefur lýst yfir stuðningi sínum við kjarnorkuiðnaðinn í Ástralíu.'} \n",
      "\n",
      "{'id': 56, 'de': 'Herr Costello sagte, dass Australien die Nutzung von Atomenergie anstreben solle, sobald deren Erzeugung wirtschaftlich rentabel ist.', 'is': 'Hr. Costello sagði að Ástralía ætti að halda áfram notkun kjarnorku um leið og hún verði þjóðhagslega hagkvæm.'} \n",
      "\n",
      "{'id': 57, 'de': '\"\"\"Wenn es kommerziell verfügbar wird, sollten wir es haben. Ich meine, es gibt keine prinzipiellen Einwände gegen Atomenergie\"\", sagte Herr Costello.\"', 'is': '\"Við ættum að komast yfir slíka tækni ef hún verður sett á almennan markað. Það er með öðrum orðum engin rök fyrir því að andmæla kjarnorku\" sagði Costello.'} \n",
      "\n",
      "{'id': 58, 'de': 'Laut Ansa „war die Polizei wegen einiger Morde in den hohen Rängen besorgt, die, wie sie befürchteten, einen regelrechten Erbfolgekrieg auslösen könnten.', 'is': 'Samkvæmt Ansa \"hefur lögreglan áhyggjur af því að tvær árásir á æðstu ráðamenn gætu leitt til mikillar valdabaráttu.'} \n",
      "\n",
      "{'id': 59, 'de': 'Die Polizei sagte, dass Lo Piccolo die Oberhand habe, weil er in Palermo Provenzanos rechte Hand war und seine größere Erfahrung ihm den Respekt der älteren Generationen einbrachte. Diese verfolgten Provenzanos Politik, keine Aufmerksamkeit auf sich zu ziehen, während sie ihr Machtnetzwerk stärkten.', 'is': 'Lögreglan sagði að Lo Piccolo hefði yfirhöndina því hann var hægri hönd Provenzano í Palermo og að hans mikla reynsla hefði skapað virðingu hans á meðal eldri kynslóðar yfirmanna þar sem þeir fylgdu reglu Provenzano um að láta fara eins lítið fyrir sér og hægt væri á meðan þeir styrkja net sitt.'} \n",
      "\n",
      "{'id': 60, 'de': 'Diese Bosse waren von Provenzano im Zaum gehalten worden, als er dem von Riina geführten Krieg gegen den Staat ein Ende setzte, der 1992 das Leben der Mafia-Kreuzritter Giovanni Falcone und Paolo Borsellino forderte.“', 'is': 'Þessum yfirmönnum var haldið í skefjum af Provenzano þegar hann batt enda á Riina-stríðið gegn ríkinu sem kostaði líf mafíukrossfaranna Miovia Giovanni Falcone og Paolo Borsellino árið 1992.\"'} \n",
      "\n",
      "{'id': 61, 'de': 'Apple-CEO Steve Jobs enthüllte das Gerät, indem er die Bühne betrat und das iPhone aus der Tasche seiner Jeans holte.', 'is': 'Steve Jobs, forstjóri Apple, opinberaði iPhone-símann þegar hann gekk inn á sviðið og dró símann upp úr vasanum á gallabuxunum sínum.'} \n",
      "\n",
      "{'id': 62, 'de': 'Während seiner zweistündigen Rede erklärte er: „Apple wird heute das Telefon neu erfinden; Wir werden heute Geschichte schreiben“.', 'is': 'Í tveggja tíma ræðu sinni fullyrti hann að: \"Í dag mun Apple enduruppgötva símann. Í dag munum við skrifa nafn okkar í sögubækurnar.\"'} \n",
      "\n",
      "{'id': 63, 'de': 'Brasilien ist das größte römisch-katholische Land der Welt und die römisch-katholische Kirche hat sich fortwährend gegen die Legalisierung der gleichgeschlechtlichen Ehe im Land gestellt.', 'is': 'Brasilía er stærsta rómversk-kaþólska landið í heiminum og rómversk-kaþólska kirkjan hefur statt og stöðugt verið mótfallin lögleiðingu hjónabands samkynhneigðra í landinu.'} \n",
      "\n",
      "{'id': 64, 'de': 'Der brasilianische Nationalkongress debattiert seit 10 Jahren über die Legalisierung, und solche bürgerlichen Ehen sind derzeit nur in Rio Grande do Sul gesetzlich erlaubt.', 'is': 'Landsþing Brasilíu hefur verið ósammála um lögleiðingu í 10 ár. Sem stendur eru slíkar borgaralegar hjónavígslur aðeins löglegar í Rio Grande do Sul.'} \n",
      "\n",
      "{'id': 65, 'de': 'Der ursprüngliche Gesetzentwurf stammt von der früheren Bürgermeisterin von São Paulo, Marta Suplicy. Nach einer Änderung ist der Gesetzesvorschlag jetzt in den Händen von Roberto Jefferson.', 'is': 'Upprunalega frumvarpið var sett saman af fyrrum borgarstjóra São Paulo, Mörtu Suplicy. Fyrirhuguð löggjöf, eftir breytingu hennar, er nú á ábyrgðarsviði Roberto Jefferson.'} \n",
      "\n",
      "{'id': 66, 'de': 'Die Demonstranten hoffen darauf, eine Petition mit 1,2 Millionen Unterschriften sammeln zu können, die dann im November dem Nationalkongress vorgelegt werden soll.', 'is': 'Mótmælendur hafa hug á að safna 1,2 milljón undirskriftum sem þeir vilja kynna á þjóðþinginu í nóvember.'} \n",
      "\n",
      "{'id': 67, 'de': 'Für die Opfer des Immobilienbetrugs wurde am 20. März im East Bay Community Law Center ein Treffen veranstaltet, nachdem klar wurde, dass zahlreiche Familien nach juristischer Hilfe suchten, um sich gegen die Räumungen zu wehren.', 'is': 'Þegar ljóst þótti að margar fjölskyldur myndu leita sér lögfræðiaðstoðar til að berjast gegn útburðinum, var haldinn fundur þann 20. mars í lagamiðstöð East Bay-samfélagsins fyrir fjölskyldurnar sem lentu í íbúðasvindlinu.'} \n",
      "\n",
      "{'id': 68, 'de': 'Als die Mieter zu erzählen begannen, was ihnen zugestoßen war, wurde den meisten der betroffenen Familien plötzlich klar, das Carolyn Wilson vom OHA ihre Kaution gestohlen und die Stadt verlassen hatte.x', 'is': 'Þegar leigjendurnir fór að segja frá hvað hafði komið fyrir, áttuðu flestar fjölskyldurnar sig á því að Carolyn Wilson hjá OHA hafði stolið tryggingafénu þeirra og stungið af úr bænum.'} \n",
      "\n",
      "{'id': 69, 'de': 'Bewohner der Lockwood Gardens glauben, dass weitere 40 Familien oder mehr von Räumungen bedroht sein könnten, seit sie erfahren haben, dass die Polizei der Wohnungsbaubehörde von Oakland (OHA) weitere Wohngebäude untersucht, die vom Wohnungsbetrug betroffen sein könnten.', 'is': 'Leigjendur í Lockwood Gardens telja að það geti verið um 40 fjölskyldur eða fleiri sem kunni að vera bornar út þar sem þau uppgötvuðu að OHA-lögreglan er að rannsaka annað opinbert íbúðarhúsnæði í Oakland sem gæti verið viðrinið húsnæðissvindlið.'} \n",
      "\n",
      "{'id': 70, 'de': 'Die Band brach den Auftritt im War-Memorial-Stadion von Maui ab, der von 9.000 Leuten besucht werden sollte, und entschuldigte sich bei den Fans.', 'is': 'Hljómsveitin hætti við tónleikana á War Memorial-leikvanginum í Maui. 9000 manns ætluðu að sækja tónleikana og bað hljómsveitin aðdáendur sína afsökunar.'} \n",
      "\n",
      "{'id': 71, 'de': 'Die Managementfirma der Band, HK Management Inc., gab keinen anfänglichen Grund an, als sie am 20. September absagte, machte aber bereits am nächsten Tag logistische Gründe dafür verantwortlich.', 'is': 'Stjórnunarfyrirtæki hljómsveitarinnar, HK Management Inc., veitti í upphafi enga ástæðu fyrir niðurfellingunni þann 20. september en vísaði til skipulagsástæðna daginn eftir.'} \n",
      "\n",
      "{'id': 72, 'de': 'Die berühmten griechischen Rechtsanwälte Sakis Kechagioglou und George Nikolakopoulos sind im Athener Korydallus-Gefängnis inhaftiert worden, da sie der Bestechung und der Korruption für schuldig befunden wurden.', 'is': 'Hinir þekktu  grísku lögfræðingar, Sakis Kechagioglou og George Nikolakopoulos, hafa verið fangelsaðir í Korydallu í Aþenu þar sem þeir voru fundnir sekir um svindl og spillingu.'} \n",
      "\n",
      "{'id': 73, 'de': 'Infolgedessen kam es in der griechischen Juristengemeinde zu einem großen Skandal durch die Aufdeckung illegaler Handlungen, die Richter, Anwälte, Notare und Staatsanwälte in den Jahren zuvor begangen hatten.', 'is': 'Þar af leiðandi hefur þetta valdið miklu hneyksli innan gríska réttarkerfisins þar sem ólögmætar aðgerðir dómara, lögmanna, héraðsdómslögmanna og lögfræðinga síðastliðinna ára hafa verið afhjúpaðar.'} \n",
      "\n",
      "{'id': 74, 'de': 'Vor einigen Wochen musste der Abgeordnete und Anwalt Petros Mantouvalos nach den Informationen, die der Journalist Makis Triantafylopoulos in seiner beliebten Fernsehsendung „Zoungla“ bei Alpha TV öffentlich machte, abdanken, da Mitglieder seines Büros in illegale Bestechung und Korruption verwickelt gewesen waren.', 'is': 'Nokkrum vikum eftir að blaðamaðurinn Makis Triantafylopoulos birti upplýsingarnar í sjónvarpsþættinum sínum vinsæla, \"Zoungla\" á Alpha TV, var þingmaðurinn og lögfræðingurinn Petros Mantouvalos settur af vegna fjármálaspillingar starfsmanna á skrifstofu hans.'} \n",
      "\n",
      "{'id': 75, 'de': 'Darüber hinaus wurde der oberste Richter Evangelos Kalousis inhaftiert, da er der Korruption und des verkommenen Verhaltens schuldig gesprochen wurde.', 'is': 'Evangelos Kalousis, einn þekktasti dómarinn, var að auki fangelsaður þar sem hann dæmdur sekur vegna spillingar og úrkynjaðrar hegðunar.'} \n",
      "\n",
      "{'id': 76, 'de': 'Roberts weigerte sich schlichtweg, etwas darüber zu sagen, wann seiner Meinung nach das Leben beginnt – eine wichtige Frage, wenn es um die Ethik der Abtreibung geht – und meinte, es wäre unethisch, sich zu den Einzelheiten möglicher Fälle zu äußern.', 'is': 'Roberts neitaði afdráttarlaust að segja frá því hvenær hann telur að líf kvikni. Það er mikilvæg spurning varðandi siðferði fóstureyðinga. Hann sagði að það væri siðlaust að tjá sig um ítaratriði tiltekinna mála.'} \n",
      "\n",
      "{'id': 77, 'de': '\"Allerdings wiederholte er seine vorherige Erklärung, dass Roe v. Wade \"\"geltende Rechtsprechung des Landes\"\" sei und betonte die Bedeutung von konsequenter Rechtsprechung durch den Supreme Court.\"', 'is': 'Hann ítrekaði þó fyrri yfirlýsingu að Roe á móti Wade væru \"útkljáð lög landsins\" og lagði áherslu á mikilvægi þess að Hæstiréttur væri samkvæmur sjálfum sér í úrskurðum sínum.'} \n",
      "\n",
      "{'id': 78, 'de': 'Er bestätigte außerdem, dass er an das implizite Recht auf Privatsphäre glaube, auf dem die Entscheidung im Fall Roe beruhe.', 'is': 'Hann staðfesti einnig að hann tryði á óbeinan rétt til friðhelgis einkalífs sem Roe-úrskurðurinn treysti á.'} \n",
      "\n",
      "{'id': 79, 'de': 'Maroochydore führte am Ende die Rangfolge an, mit sechs Punkten Vorsprung vor Noosa als Zweitem.', 'is': 'Maroochydore endaði efstur, sex stigum á undan Noosa í öðru sæti.'} \n",
      "\n",
      "{'id': 80, 'de': 'Die beiden Gegner trafen sich im wichtigsten Halbfinale, wo Noosa die Gewinner um 11 Punkte übertraf.', 'is': 'Þessi tvö lið mættust í úrslitaleiknum þar sem Noosa sigraði með 11 stigum.'} \n",
      "\n",
      "{'id': 81, 'de': 'Maroochydore besiegte Caboolture dann im vorläufigen Finale.', 'is': 'Maroochydore sigraði síðan Caboolture í forúrslitaleiknum.'} \n",
      "\n",
      "{'id': 82, 'de': 'Hesperonychus elizabethae ist eine Art aus der Familie der Dromaeosauridae und ein naher Verwandter des Velociraptors.', 'is': 'Hesperonychus elizabethae er tegund í fjölskyldu Dromaeosauridae og er náskyld snareðlu.'} \n",
      "\n",
      "{'id': 83, 'de': 'Es wird angenommen, dass dieser voll gefiederte warmblütige Raubvogel aufrecht auf zwei Beinen lief und Krallen wie der Velociraptor hatte.', 'is': 'Kenningar voru uppi um að þessi fullfjaðraði ránfugl með heitt blóð hafi gengið uppréttur á tveim fótum og verið með klær eins og snareðla.'} \n",
      "\n",
      "{'id': 84, 'de': '\"Seine zweite Klaue war größer, was ihm den Namen Hesperonychus einbrachte, was „westliche Klaue\"\" bedeutet.\"', 'is': 'Önnur kló hennar var stærri og því var hún nefnd Hesperonychus sem þýðir \"vesturklóin.\"'} \n",
      "\n",
      "{'id': 85, 'de': 'Zusätzlich zu dem erdrückenden Eis haben extreme Wetterbedingungen die Rettungsarbeiten behindert.', 'is': 'Auk myndunar mikils ískrapa hafa erfið veðurskilyrði einnig hamlað björgunarstörfum.'} \n",
      "\n",
      "{'id': 86, 'de': 'Pittman deutete an, dass sich die Bedingungen erst irgendwann in der nächsten Woche verbessern würden.', 'is': 'Pittman gaf til kynna að aðstæður myndu ekki batna fyrr en einhvern tímann í næstu viku.'} \n",
      "\n",
      "{'id': 87, 'de': 'Gemessen an seiner Menge und Dicke ist es Pittman zufolge das schlimmste Packeis, von dem Robbenfangschiffe in den letzten 15 Jahren betroffen waren.', 'is': 'Magn og þykkt hafíssins, samkvæmt Pittman, er sú versta sem verið hefur fyrir selveiðimenn undanfarin 15 ár.'} \n",
      "\n",
      "{'id': 88, 'de': 'Als heute die Bestattungen von Jeff Weise und drei der neun Opfer stattfanden, verbreitete sich die Nachricht von der Verhaftung eines weiteren Schülers in Verbindung mit den Erschießungen an einer Schule am 21. März in der Red-Lake-Gemeinschaft.', 'is': 'Fregnir bárust samfélaginu í Red Lake í dag þegar jarðarfarir Jeff Weise og þriggja af níu fórnarlömbunum voru haldnar að annar nemandi hafi verið handtekinn í tengslum við skotárásirnar í skólanum 21. mars.'} \n",
      "\n",
      "{'id': 89, 'de': 'Die Behörden sagten über die Bestätigung der heutigen Festnahme hinaus offiziell wenig.', 'is': 'Yfirvöld létu hafa lítið eftir sér opinberlega fyrir utan að staðfesta handtökuna í dag.'} \n",
      "\n",
      "{'id': 90, 'de': 'Eine Quelle, die über Kenntnis der Untersuchung verfügt, teilte der Star Tribune in Minneapolis jedoch mit, dass es sich um Louis Jourdain handelt, den 16-jährigen Sohn des Stammesvorsitzenden des Red Lake-Stammes Floyd Jourdain.', 'is': 'Aðili kunnugur rannsókninni sagði Minneapolis Star-Tribune að þetta hefði hins vegar verið Louis Jourdain, 16 ára sonur Floyd Jourdain, höfðingja Red Lake-ættbálksins.'} \n",
      "\n",
      "{'id': 91, 'de': 'Zur Zeit ist nicht bekannt, welche Vorwürfe erhoben werden oder was die Behörden zu dem Jungen geführt hat, aber vor dem Bundesgericht hat ein Jugendverfahren begonnen.', 'is': 'Ekki er vitað að svo stöddu hvaða kærur verða lagðar fram eða hvernig yfirvöld fundu drenginn, en hann verður dreginn fyrir unglingadómstól.'} \n",
      "\n",
      "{'id': 92, 'de': 'Lodin gab weiterhin an, die Entscheidung zur Absage der Stichwahl sei getroffen worden, um den Afghanen die Kosten und das Sicherheitsrisiko einer weiteren Wahl zu ersparen.', 'is': 'Lodin sagði einnig að embættismenn hefðu ákveðið að hætta við úrslitaviðureignina í kostnaðarskyni fyrir Afgani og vegna öryggisáhættu samfara öðrum kosningum.'} \n",
      "\n",
      "{'id': 93, 'de': 'Diplomaten sagten, sie hätten genug Unklarheit in der afghanischen Verfassung gefunden, um die Stichwahl für unnötig zu befinden.', 'is': 'Diplómatar sögðust hafa fundið út að afganska stjórnarskráin væri nógu óljós til að sjá að ekki væri þörf á lokakosningunni.'} \n",
      "\n",
      "{'id': 94, 'de': 'Dies widerspricht früheren Berichten, denen zufolge eine Absage der Stichwahlen verfassungswidrig ist.', 'is': 'Þetta stangast á við fyrri fregnir sem sögðu að ef hætta yrði við viðbótarumferðina væri það brot gegn stjórnarskránni.'} \n",
      "\n",
      "{'id': 95, 'de': 'Das Flugzeug war auf dem Weg nach Irkutsk und wurde von Truppen des russischen Innenministeriums betrieben.', 'is': 'Flugvélinni hafði verið beint til Irkutsk og landsherinn stjórnaði henni.'} \n",
      "\n",
      "{'id': 96, 'de': 'Es wurde eine Untersuchung zur Aufklärung des Unfalls eingeleitet.', 'is': 'Rannsókn á málinu hófst.'} \n",
      "\n",
      "{'id': 97, 'de': 'Die Il-76 ist seit den 1970er Jahren ein Hauptbestandteil sowohl des russischen als auch des sowjetischen Militärs und hatte im vergangenen Monat bereits einen schweren Unfall in Russland erlebt.', 'is': 'Il-76 hefur verið mikilvægur hlekkur í rússneska og sovéska hernum síðan á áttunda áratug síðustu aldar. Alvarlegt slys varð með hana í Rússlandi í síðasta mánuði.'} \n",
      "\n",
      "{'id': 98, 'de': 'Am 7. Oktober löste sich beim Start ein Triebwerk, es wurde allerdings niemand verletzt. Nach diesem Unfall setzte Russland die Il-76 kurzzeitig außer Dienst.', 'is': 'Hinn 7. október fór flugvél í sundur við flugtak án nokkurra meiðsla. Rússland kyrrsetti Il-76-vélar stuttu eftir slysið.'} \n",
      "\n",
      "{'id': 99, 'de': '800 Meilen der Trans-Alaska-Pipeline wurden nach dem Auslaufen von Tausenden von Fässern Rohöl südlich von Fairbanks, Alaska, stillgelegt.', 'is': '800 mílum af leiðslukerfi Trans-Alaska var lokað vegna leka á þúsundum tunna af jarðolíu suður af borginni Fairbanks í Alaska.'} \n",
      "\n",
      "{'id': 100, 'de': 'Ein Stromausfall nach einer routinemäßigen Prüfung des Systems zur Feuerbekämpfung führte in der Nähe der Pumpstation 9 von Fort Greely zum Öffnen von Überdruckventilen und zum Überlaufen von Rohöl.', 'is': 'Við prófun á brunakerfi kom upp aflskortur sem leiddi til þess að öryggislokar opnuðust og jarðolía flæddi yfir í nágrenni dælustöðvar 9 í Fort Greely.'} \n",
      "\n",
      "{'id': 101, 'de': 'Die Ventilöffnung ermöglichte eine Druckentlastung für das System, und Öl floss auf einem Schmierkissen zu einem Tank, der 55 000 Fässer (2,3 Millionen Gallonen) halten kann.', 'is': 'Opnun lokanna varð til þrýstingslosunar í kerfinu og olía streymdi í tank sem rúmar 55.000 tunnur (2,3 milljón lítra).'} \n",
      "\n",
      "{'id': 102, 'de': 'Nach Stand vom Mittwochnachmittag, waren die Tankventile immer noch undicht, wahrscheinlich aufgrund einer thermischen Expansion aus dem Inneren des Tanks.', 'is': 'Loftop tanksins voru enn að leka frá því á miðvikudaginn, líklega vegna varmaútþenslu innan í tankinum.'} \n",
      "\n",
      "{'id': 103, 'de': 'Ein weiterer sekundärer Eindämmungsbereich unterhalb der Tanks, der 104.500 Barrel fassen kann, war noch nicht bis zur vollen Kapazität gefüllt.', 'is': 'Annað afmörkunarsvæði fyrir neðan geymana rúmar 104.500 tunnur og var ekki búið að fylla að öllu leyti.'} \n",
      "\n",
      "{'id': 104, 'de': 'Mit den Kommentaren, die live im Fernsehen abgegeben wurden, gaben hochrangige iranische Quellen zum ersten Mal zu, dass die Sanktionen Wirkung zeigen.x', 'is': 'Ummælin, í beinni útsendingu í sjónvarpinu, var fyrsta tilvik þess að heimildarmenn frá Íran viðurkenni þá staðreynd að refsiaðgerðirnar skili einhverju.'} \n",
      "\n",
      "{'id': 105, 'de': 'Dazu gehören finanzielle Restriktionen und ein Verbot seitens der Europäischen Union für den Export von Rohöl, aus dem die iranische Wirtschaft 80 % ihrer ausländischen Einnahmen bezieht.x', 'is': 'Þær innihalda takmarkanir á fjárhagssviði og bann Evrópusambandsins við útflutningi á hráolíu, sem býr að baki 80% erlendra tekna íranska hagkerfisins.'} \n",
      "\n",
      "{'id': 106, 'de': 'In ihrem neuesten Monatsbericht sagte die OPEC, dass die Rohölexporte auf ihren niedrigsten Stand seit zwei Jahrzehnten gefallen sind, auf 2,8 Millionen Barrel pro Tag.', 'is': 'Í nýjustu mánaðarlegu skýrslu sinni greindi OPEC frá því að útflutningur á hráolíu hafi ekki verið minni í tvo áratugi, eða um 2,8 milljón tunnur á dag.'} \n",
      "\n",
      "{'id': 107, 'de': 'Der oberste Führer des Landes, Ayatollah Ali Chamenei, hat die Abhängigkeit vom Öl als „Falle“ beschrieben, die aus der Zeit vor der Islamischen Revolution im Iran 1979 stamme und von der sich das Land befreien müsse.', 'is': 'Æðsti leiðtogi landsins, Ayatollah Ali Khamenei, hefur lýst olíuhæði sem \"gildru\" frá því fyrir íslömsku byltingu Írans árið 1979 og að landið ætti að losa sig við hana.'} \n",
      "\n",
      "{'id': 108, 'de': 'Wenn die Kapsel um etwa 5 Uhr morgens (Eastern Time) die Erde erreicht und in die Atmosphäre eintritt, wird sie für die Leute in Nordkalifornien, Oregon, Nevada und Utah wahrscheinlich eine beeindruckende Lightshow abgeben.', 'is': 'Þegar hylkið kemur til jarðar og fer inn í andrúmsloftið, um klukkan 5 að morgni, er búist við mikilli ljósadýri á lofti fyrir íbúa í Norður-Kaliforníu, Oregon, Nevada og Utah.'} \n",
      "\n",
      "{'id': 109, 'de': 'Die Kapsel wird ähnlich wie eine Sternschuppe aussehen, die am Himmel fliegt.', 'is': 'Hylkið mun líta út eins og stjörnuhrap sem fer yfir himininn.'} \n",
      "\n",
      "{'id': 110, 'de': 'Die Kapsel wird sich mit etwa 12,8 km oder 8 Meilen pro Sekunde fortbewegen – schnell genug, um in einer Minute von San Francisco nach Los Angeles zu gelangen.', 'is': 'Hylkið mun ferðast á um 12,8 km eða 8 mílur á sekúndu, nógu hratt til að fara frá San Francisco til Los Angeles á einni mínútu.'} \n",
      "\n",
      "{'id': 111, 'de': 'Stardust wird einen neuen Allzeitrekord als das  schnellste Raumfahrzeug aufstellen, das je zur Erde zurückgekehrt ist. Damit bricht es den bisherigen Rekord, der im Mai 1969 bei der Rückkehr des Apollo X-Kommandomoduls aufgestellt wurde.', 'is': 'Stardust mun slá nýtt heimsmet því það verður hraðskreiðasta geimfarið sem lendir aftur á jörðinni. Metið sem var slegið var frá maí árið 1969 þegar Apollo X stjórnunareiningin sneri til baka.'} \n",
      "\n",
      "{'id': 112, 'de': '„Es wird sich über die Westküste Nordkaliforniens bewegen und den Himmel von Kalifornien bis Zentraloregon und weiter über Nevada und Idaho bis nach Utah erhellen“, sagte Tom Duxbury, Projektmanager von Stardust.', 'is': '„Það mun færast yfir vesturströnd Norður-Kaliforníu og lýsa upp himininn frá Kaliforníu um miðbik Oregon og áfram um Nevada og Idaho og inn í Utah,“ sagði Tom Duxbury, verkefnastjóri Stardust.'} \n",
      "\n",
      "{'id': 113, 'de': 'Die Entscheidung von Rudd, das Klimaabkommen von Kyoto zu unterzeichnen, isoliert die Vereinigten Staaten, die nun die einzige entwickelte Nation sind, die dem Abkommen nicht zustimmen.', 'is': 'Ákvörðun hr. Rudd um að undirrita Kyoto-loftslagssáttmálann einangrar Bandaríkin, sem nú verða eina þróaða þjóðin sem ekki staðfestir samninginn.'} \n",
      "\n",
      "{'id': 114, 'de': 'Australiens ehemalige konservative Regierung weigerte sich, Kyoto zu ratifizieren, mit der Begründung, es würde der Wirtschaft mit seiner starken Abhängigkeit von Kohleexporten schaden, während Länder wie Indien und China nicht an Emissionsziele gebunden seien.', 'is': 'Fyrrverandi íhaldsstjórn Ástralíu neitaði að fullgilda Kýótó-samninginn og sagði hann skaða efnahaginn sem treysti á kolaútflutning á meðan lönd eins og Indland og Kína voru ekki bundin neinum losunarmarkmiðum.'} \n",
      "\n",
      "{'id': 115, 'de': 'Es ist die größte Übernahme in der Geschichte von eBay.', 'is': 'Þetta er stærsta yfirtaka í sögu eBay.'} \n",
      "\n",
      "{'id': 116, 'de': 'Das Unternehmen hofft, seine Gewinnquellen diversifizieren zu können und in Gebieten, in denen Skype eine starke Position hält, z. B. China, Osteuropa und Brasilien, an Beliebtheit zu gewinnen.', 'is': 'Fyrirtækið vonast til að auka fjölbreytni í afkomuuppruna sínum og öðlast vinsældir á svæðum þar sem Skype hefur sterka stöðu, svo sem Kína, Austur-Evrópu og Brasilíu.'} \n",
      "\n",
      "{'id': 117, 'de': 'Wissenschaftler haben vermutet, dass Enceladus geologisch aktiv und möglicherweise eine Quelle für den eishaltigen E-Ring Saturns sein könnte.', 'is': 'Vísindamönnum hafa þann grun að Enceladus sé jarðfræðilega virkt og gæti verið upprunni hins ískalda E-hrings Satúrnusar.'} \n",
      "\n",
      "{'id': 118, 'de': 'Enceladus ist das Objekt im Sonnensystem, das am stärksten reflektiert. Er wirft etwa 90 Prozent des auf ihn treffenden Sonnenlichts zurück.', 'is': 'Enceladus er sá hlutur sem endurkastar mest í sólkerfinu, eða um 90 prósent af því sólarljósi sem lendir á honum.'} \n",
      "\n",
      "{'id': 119, 'de': 'Der Spielverleger Konami sagte heute in einer japanischen Zeitung, dass sie das Spiel Six Days in Fallujah nicht veröffentlichen werden.', 'is': 'Leikjafyrirtækið Konami skýrði frá því í dag í japönsku dagblaði að fyrirtækið muni ekki gefa út leikinn Six Days in Fallujah.'} \n",
      "\n",
      "{'id': 120, 'de': 'Das Spiel basiert auf der zweiten Schlacht von Falludscha, einem brutalen Gefecht zwischen amerikanischen und irakischen Streitkräften.', 'is': 'Leikurinn er byggist á síðari orrustunni um Fallujah, sem var hræðilegur bardagi á milli bandarískra og íraskra hersveita.'} \n",
      "\n",
      "{'id': 121, 'de': 'Die ACMA befand zudem, dass Big Brother nicht gegen Gesetze zur Zensur von Online-Inhalten verstoßen habe, obwohl das Video übers Internet gestreamt wurde, da es nicht auf der Website von Big Brother gespeichert worden waren.', 'is': 'ACMA uppgötvaði einnig að þó að myndbandinu hafi verið streymt á netinu hafði Big Brother ekki brotið gegn ritskoðunarlögum á netinu þar sem miðillinn hafði ekki verið vistaður á vefsíðu Big Brother.'} \n",
      "\n",
      "{'id': 122, 'de': 'Der Broadcasting Services Act sorgt für eine Regulierung von Online-Inhalten. Um jedoch als Online-Inhalt zu gelten, muss dieser physisch auf einem Server abgelegt sein.', 'is': 'Útvarpsþjónustulögin veita reglugerð um efni á Netinu, til að efni geti talist efni á Netinu verður það efnislega að vera á netþjóni.'} \n",
      "\n",
      "{'id': 123, 'de': 'Die US-Botschaft in Nairobi, Kenia, hat eine Warnung herausgegeben, dass „Extremisten aus Somalia“ planen, Selbstmordattentate in Kenia und Äthiopien zu verüben.', 'is': 'Bandaríska sendiráðið í Naíróbí í Kenýa hefur sent frá sér viðvörun um að „öfgamenn frá Sómalíu“ hafi hug á að hefja sjálfsmorðsárásir í Kenýa og Eþíópíu.'} \n",
      "\n",
      "{'id': 124, 'de': '\"Die USA sagen, sie hätten Informationen aus einer nicht näher benannten Quelle erlangt, die ausdrücklich den Einsatz von Selbstmordattentätern erwähnt, um \"\"bedeutende Stätten\"\" in Äthiopien und Kenia in die Luft zu sprengen.\"', 'is': 'Bandaríkjamenn segist hafa fengið upplýsingar frá ónefndum aðila sem sérstaklega nefnir notkun sjálfsmorðsárásarmanna til að sprengja \"áberandi kennileiti\" í Eþíópíu og Kenýa.'} \n",
      "\n",
      "{'id': 125, 'de': 'Lange vor The Daily Show und The Colbert Report dachten sich Heck und Johnson eine Publikation aus, die die Nachrichten - und die Nachrichtenberichterstattung - parodieren sollte, als sie 1988 an der UW studierten.', 'is': 'Löngu fyrir The Daily Show og The Colbert Report voru Heck og Johnson með í huga þátt sem myndi skopstæla fréttir og fréttaflutning. Þetta var námsárum þeirra við UW árið 1988.'} \n",
      "\n",
      "{'id': 126, 'de': 'Seit seiner Gründung hat sich The Onion zu einem wahren Nachrichtenparodie-Imperium entwickelt, mit einer Printausgabe, einer Website, die im Oktober 5 000 000 Einzelbesucher hatte, personalisierten Werbeanzeigen, einem 24-Stunden-Nachrichtensender, Podcasts und einem kürzlich veröffentlichten Weltatlas mit dem Titel Our Dumb World.', 'is': 'Frá stofnun hefur The Onion orðið að sannkölluðu stórveldi fyrir skopstælingu frétta, vefsíða sem fékk 5.000.000 einstaka gesti í októbermánuði, persónulegar auglýsingar, 24 tíma fréttanet, hlaðvarp og nýlega var hleypt af stokkunum heimsatlasi sem kallaður er Our Dumb World.'} \n",
      "\n",
      "{'id': 127, 'de': 'Al Gore und General Tommy Franks rasseln lässig ihre Lieblingsschlagzeilen herunter (Gores war, als The Onion berichtete, dass er und Tipper nach seiner Wahlniederlage von 2000 den besten Sex ihres Lebens hatten).', 'is': 'Al Gore og Tommy Franks hershöfðingi lesa eftirlætis fyrirsagnirnar sínar (eftirlæti Gore er þegar The Onion tilkynnti um að hann og Tipper hefðu stundað besta kynlíf ævi sinnar eftir tap hans í kjörmannaráðinu árið 2000).'} \n",
      "\n",
      "{'id': 128, 'de': 'Viele ihrer Autoren haben später großen Einfluss auf die Nachrichtenparodie-Shows von Jon Stewart and Stephen Colbert ausgeübt.', 'is': 'Margir höfunda þeirra hafa eftir þetta haft gríðarmikil áhrif á fréttaskopstælingarþætti Jon Stewart og Stephen Colbert.'} \n",
      "\n",
      "{'id': 129, 'de': 'Die künstlerische Veranstaltung ist auch Teil einer Kampagne des Bukarester Rathauses, welches das Image der rumänischen Hauptstadt als kreative und farbenfrohe Metropole erneuern will.', 'is': 'Listræni atburðurinn er líka hluti af herferð ráðhúss Búkarest þar sem markmiðið er að skapa að nýju ímynd rúmensku höfuðborgarinnar sem skapandi og litríkar stórborgar.'} \n",
      "\n",
      "{'id': 130, 'de': 'Die Stadt wird die erste Stadt Südosteuropas sein, die zwischen Juni und August dieses Jahres die CowParade veranstaltet, die größte öffentliche Kunstveranstaltung der Welt.', 'is': 'Borgin verður sú fyrsta í suðaustur Evrópu sem heldur CowParade, stærsta opinbera listviðburð heims, í júní til ágúst á þessu ári.'} \n",
      "\n",
      "{'id': 131, 'de': 'Mit der heutigen Ankündigung wurde auch die im März dieses Jahres eingegangene Verpflichtung der Regierung zur Finanzierung zusätzlicher Waggons erweitert.', 'is': 'Tilkynningin í dag framlenging einnig skuldbindingu stjórnvalda sem gefin var í mars fyrr á þessu ári um að úthluta fé fyrir fleiri vagna.'} \n",
      "\n",
      "{'id': 132, 'de': 'Weitere 300 heben die Gesamtzahl auf 1.300 Wagen an, die angeschafft werden müssen, um die Überfüllung zu verringern.x', 'is': 'Nú verður 300 vögnum bætt við og því verður samtals 1300 vögnum bætt við til að draga úr mannþrönginni.'} \n",
      "\n",
      "{'id': 133, 'de': 'Christopher Garcia, ein Sprecher des Los Angeles Police Departments, sagte, gegen den mutmaßlichen männlichen Täter werde eher wegen Hausfriedensbruch als wegen Vandalismus ermittelt.', 'is': 'Christopher Garcia, talsmaður lögreglunnar í Los Angeles, sagði að verið væri að rannsaka hinn grunaða karlkyns brotamann fyrir að vera þarna í leyfisleysi frekar en fyrir skemmdarverk.'} \n",
      "\n",
      "{'id': 134, 'de': 'Der Schriftzug wurde nicht physisch beschädigt. Die Änderung erfolgte mit schwarzen Planen, die mit Friedenszeichen und Herzen bedruckt waren, um das „O“ in ein kleines „e“ zu ändern.', 'is': 'Skiltið varð ekki fyrir raunverulegum skemmdum. Breytingin fór fram með því að nota svarta segldúka með táknum fyrir frið og hjarta til að breyta \"O\" í lágstafa \"e\".'} \n",
      "\n",
      "{'id': 135, 'de': 'Die Algenblüte wird von einer höher als gewöhnlichen Konzentration von Karenia brevis verursacht, einem natürlich auftretenden Meereseinzeller.', 'is': 'Litaður sjór vegna mergðar skoruþörunga orsakast af óeðlilega háum styrk Karenia brevis, einfrumunga í sjó.'} \n",
      "\n",
      "{'id': 136, 'de': 'Natürliche Faktoren können zusammenwirken, um ideale Bedingungen zu schaffen, wodurch die Anzahl dieser Algen dramatisch ansteigt.', 'is': 'Náttúrulegir þættir geta skarast og skapað kjöraðstæður sem gerir þörungum kleift að fjölga sér verulega.'} \n",
      "\n",
      "{'id': 137, 'de': 'Die Algen produzieren ein Nervengift, das Nerven sowohl beim Menschen als auch bei Fischen deaktivieren kann.', 'is': 'Þörungarnir mynda taugaeitur sem getur gert taugar bæði hjá mönnum og fiskum óvígar.'} \n",
      "\n",
      "{'id': 138, 'de': 'Fische sterben oft aufgrund der hohen Konzentrationen des Giftes in den Gewässern.', 'is': 'Fiskar deyja oft út af háum styrk eiturefnisins í vötnunum.'} \n",
      "\n",
      "{'id': 139, 'de': 'Menschen können durch das Einatmen von betroffenem Wasser beeinträchtigt werden, das durch Wind und Wellen in die Luft gerät.', 'is': 'Fólk getur veikst við innöndun á sýktu vatni sem berst í loftinu með vindi og öldugangi.'} \n",
      "\n",
      "{'id': 140, 'de': 'Auf seinem Höhepunkt erreichte der Tropensturm Gonu, der nach einer Tasche aus Palmenblättern in der Sprache der Malediven benannt wurde, eine maximale Geschwindigkeit von 240 Kilometern pro Stunde (149 Meilen pro Stunde).', 'is': 'Vindhraði fellibylsins Gonu, sem er orð yfir tösku sem gerð er úr pálmalaufum á tungumáli sem talað er á Maldíveyjum, náði mest upp í 240 kílómetra á klukkustund (149 mílur á klukkustund).'} \n",
      "\n",
      "{'id': 141, 'de': 'Heute früh betrug die Windgeschwindigkeit rund 83 km/h und es wurde erwartet, dass diese weiter abnehmen würde.', 'is': 'Snemma í dag var vindhraðinn í kringum 83 km/klst. og búist var við að áfram drægi úr vindinum.'} \n",
      "\n",
      "{'id': 142, 'de': 'Wegen Bedenken bezüglich COVID-19 suspendierte die National Basketball Association (NBA) der Vereinigten Staaten am Mittwoch die professionelle Basketball-Saison.', 'is': 'Atvinnutímabilið í körfubilta var stöðvað á miðvikudaginn af bandaríska körfuknattleikssambandinu (NBA) vegna áhyggjuefna varðandi COVID-19.'} \n",
      "\n",
      "{'id': 143, 'de': 'Die Entscheidung der NBA erfolgte, nachdem ein Spieler von Utah Jazz positiv auf das COVID-19-Virus getestet worden war.', 'is': 'Ákvörðun NBA-deildarinnar átti sér stða eftir að leikmaður Utah Jazz reyndist smitaður af COVID-19.'} \n",
      "\n",
      "{'id': 144, 'de': '„Auf Grundlage dieses Fossils lässt sich sagen, dass die Trennung viel früher stattgefunden hat, als durch molekulare Belege erwartet wurde“', 'is': 'Samkvæmt þessum steingervingi átti aðskilnaðurinn sér stað mun fyrr en gert hefur verið ráð fyrir samkvæmt sameindafræðilegum niðurstöðum.'} \n",
      "\n",
      "{'id': 145, 'de': 'Das bedeutet, dass alles vordatiert werden muss“, sagte Berhane Asfaw, Forscher am Rift Valley Research Service in Äthiopien und Mitverfasser der Studie.', 'is': 'Þetta þýðir að öllu seinkaði,\" sagði vísindamaður við Rift Valley Research Service í Eþíópíu og meðhöfundur rannsóknarinnar, Berhane Asfaw.'} \n",
      "\n",
      "{'id': 146, 'de': 'Bisher konnte AOL den IM-Markt aufgrund seiner weit verbreiteten Nutzung in den Vereinigten Staaten in eigenen Tempo bewegen und entwickeln.', 'is': 'Fram að þessu gat AOL hreyft við og þróað markaðinn fyrir snarskilaboð að eigin vild vegna hve útbreidd notkun þess var í Bandaríkjunum.'} \n",
      "\n",
      "{'id': 147, 'de': 'Mit der Einführung dieser Regelung könnte diese Freiheit enden.', 'is': 'Þegar þetta skipulag verður komið á kann það frelsi að hverfa.'} \n",
      "\n",
      "{'id': 148, 'de': 'Die Zahl der Nutzer der Dienste von Yahoo! und Microsoft zusammengenommen wird mit der Zahl der Kunden von AOL konkurrieren.', 'is': 'Fjöldi notenda Yahoo! og þjónustu Microsoft samanlagt mun jafna fjölda viðskiptavina AOL.'} \n",
      "\n",
      "{'id': 149, 'de': 'Die Northern-Rock-Bank war 2008 verstaatlicht worden, nachdem lautbar geworden war, dass die Firma eine Notfallunterstützung von der britischen Regierung bekommen hatte.', 'is': 'Northern Rock-bankinn var þjóðnýttur árið 2008 eftir að upp komst að félagið fékk neyðaraðstoð frá yfirvöldum í Bretlandi.'} \n",
      "\n",
      "{'id': 150, 'de': 'Northern Rock hatte aufgrund seiner finanziellen Belastung während der Subprime-Hypothekenkrise 2007 Unterstützung benötigt.', 'is': 'Northern Rock þurfti á aðstoð að halda vegna útsetningar í undirmálslánakreppu árið 2007.'} \n",
      "\n",
      "{'id': 151, 'de': 'Das Angebot von Sir Richard Bransons Virgin Group an die Bank wurde vor der Verstaatlichung der Bank abgelehnt.', 'is': 'Kauptilboði Richard Branson hjá Virgin Group í bankann hafði verið hafnað áður en bankinn var þjóðnýttur.'} \n",
      "\n",
      "{'id': 152, 'de': 'Die Großbank Northern Rock plc wurde im Jahre 2010, während sie sich im Staatseigentum befand, von der „Bad Bank“ Northern Rock (Asset Management) abgelöst.', 'is': 'Árið 2010 var núverandi aðalbanki Northern Rock plc þjóðnýttur og skilinn frá „slæma bankanum“ Northern Rock (eignastýringu).'} \n",
      "\n",
      "{'id': 153, 'de': 'Virgin hat nur die „gute Bank“ von Northern Rock aufgekauft, nicht die Vermögensverwaltungsgesellschaft.', 'is': \"Virgin fyrirtækið keypti aðeins ,góða' Northern Rock bankann, ekki eignastýringafyrirtækið.\"} \n",
      "\n",
      "{'id': 154, 'de': 'Es wird davon ausgegangen, dass dies das fünfte Mal in der Geschichte ist, dass Menschen beobachtet haben, was letztlich chemisch nachgewiesene Materie vom Mars ist, die auf die Erde gefallen ist.', 'is': 'Talið er að þetta sé í fimmta sinn í sögunni þar sem staðfest er að efni frá Mars falli til jarðar og fólk fylgist með því.'} \n",
      "\n",
      "{'id': 155, 'de': 'Von den etwa 24.000 bekannten Meteoriten, die auf die Erde gefallen sind, wurde nur bei 34 eine Herkunft vom Mars bestätigt.', 'is': 'Aðeins hefur verið staðfest að 34 loftsteinar, af þeim um það bil 24.000 sem fallið hafa til jarðar, eigi uppruna sinn á Mars.'} \n",
      "\n",
      "{'id': 156, 'de': '15 dieser Felsen werden mit dem Meteoritenhagel vom letzten Juli in Verbindung gebracht.', 'is': 'Talið er að 15 steinanna tilheyri loftsteinadrífunni í júlí.'} \n",
      "\n",
      "{'id': 157, 'de': 'Einige der Gesteine, die auf der Erde sehr selten sind, werden zwischen 11.000 und 22.500 US-Dollar pro Unze verkauft, was etwa zehnmal so hoch ist wie die Preis von Gold.', 'is': 'Sumir steinarnir, sem eru mjög sjaldséðir á jörðinni, ganga kaupum og sölum fyrir að 11.000 Bandaríkjadölum til 22.500 Bandaríkjadala á únsuna, sem er um það bil tífalt hærra en verðið á gulli.'} \n",
      "\n",
      "{'id': 158, 'de': 'Nach dem Rennen bleibt Keselowski mit 2.250 Punkten Spitzenreiter in der Fahrerwertung.', 'is': 'Eftir kappaksturinn heldur Keselowski forystunni í keppni ökumanna með 2250 stig.'} \n",
      "\n",
      "{'id': 159, 'de': 'Mit 2243 Punkten und sieben Punkten Rückstand ist Johnson Zweiter.', 'is': 'Johnson er sjö stigum á eftir með 2.243.'} \n",
      "\n",
      "{'id': 160, 'de': 'Auf dem dritten Platz liegt Hamlin 20 Punkte zurück, aber 5 Punkte vor Bowyer. Kahne und Truex Junior belegen mit 2.200 und 2.207 Punkten den fünften und sechsten Platz.', 'is': 'Í þriðja sæti er Hamlin, tuttugu stigum á eftir, en fimm stigum á undan Bowyer. Kahne og Truex Jr. eru í fimmta og sjötta sæti með 2.220 og 2.207 stig.'} \n",
      "\n",
      "{'id': 161, 'de': 'Stewart, Gordon, Kenseth and Harvick vervollständigen die Top-Ten-Liste der Fahrerwertung bei vier noch ausstehenden Rennen der Saison.', 'is': 'Stewart, Gordon, Kenseth og Harvick eru í tíu efstu sætunum hvað ökumannameistaratitillinn varðar þegar fjórar keppnir eru eftir á tímabilinu.'} \n",
      "\n",
      "{'id': 162, 'de': 'Auch gab die US Navy an, sie sei dabei, den Zwischenfall zu untersuchen.', 'is': 'Sjóher Bandaríkjanna lýsti því einnig yfir að vera að rannsaka atvikið.'} \n",
      "\n",
      "{'id': 163, 'de': 'Sie sagten auch in einer Stellungnahme: „Die Mannschaft arbeitet momentan an der Entscheidung, was die beste Methode ist, das Schiff sicher zu bergen.“', 'is': 'Þeir sögðu einnig í yfirlýsingu að \"áhöfnin vinnur að því að skilgreina bestu aðferðina við að fjarlægja skipið á öruggan hátt\".'} \n",
      "\n",
      "{'id': 164, 'de': 'Ein Minenabwehrschiff der Avenger-Klasse, das Schiff war auf dem Weg nach Puerto Princesa in Palawan.', 'is': 'Hér var um að ræða tundurduflaslæðara í Avenger flokki sem var á leiðinni til Puerto Princesa í Palawan.'} \n",
      "\n",
      "{'id': 165, 'de': 'Es gehört zur Siebenten Flotte der US Navy und in Sasebo, Nagasaki in Japan stationiert.', 'is': 'Skipið tilheyrir 7. flota bandaríska sjóhersins og bækistöð þess er í Sasebo, Nakasaki í Japan.'} \n",
      "\n",
      "{'id': 166, 'de': 'Die Angreifer von Mumbai kamen am 26. November 2008 mit Hilfe von Booten und brachten Granaten und automatische Waffen mit. Sie trafen mehrere Ziele, einschließlich den vielbesuchten Chhatrapai Shivaji Terminus-Bahnhof und das berühmte Taj Mahal-Hotel.', 'is': 'Árásarmennirnir í Mumbai ferðuðust bátleiðis þann 26. nóvember 2008 og voru með í fórum sér handsprengjur, sjálfvirk vopn og og réðust á mörg skotmörk, þar á meðal hina fjölmennu Chhatrapati Shivaji Terminus-lestarstöð og hið fræga Taj Mahal-hótel.'} \n",
      "\n",
      "{'id': 167, 'de': 'David Headleys Auskundschaften und Informationsbeschaffung hatten dazu beigetragen, die Aktion der 10 Schützen der pakistanischen militanten Gruppe Laskhar-e-Taiba zu ermöglichen.', 'is': 'Njósnir og upplýsingaöflun David Headley hjálpaði til við að hrinda af stað aðgerð tíu vígamanna frá herskáum hópi Laskhar-e-Taiba frá Pakistan.'} \n",
      "\n",
      "{'id': 168, 'de': 'Der Angriff strapazierte die Beziehungen zwischen Indien und Pakistan sehr.', 'is': 'Árásin setti mikið álag á samskipti Indlands og Pakistan.'} \n",
      "\n",
      "{'id': 169, 'de': 'Im Beisein der Behördenvertreter versicherte er der texanischen Bevölkerung, dass die notwendigen Schritte gemacht würden, um den Schutz der Öffentlichkeit zu gewährleisten.', 'is': 'Hann kom fram í fylgd embættismanna og fullvissaði íbúa Texas um að gripið yrði til aðgerða til að verja öryggi almennings.'} \n",
      "\n",
      "{'id': 170, 'de': '\"Perry sagte ausdrücklich: \"\"Es gibt nur wenige Orte auf der Welt, die besser gerüstet sind, um die Herausforderung zu meistern, die sich in diesem Fall stellt.\"\"\"', 'is': 'Perry sagði einkum: „Fáir staðir á heimsvísu ráða betur við að takast á við þá áskorun sem lýst er í þessu máli.“'} \n",
      "\n",
      "{'id': 171, 'de': 'Der Gouverneur gab auch bekannt: „Heute haben wir erfahren, dass bei einigen Schulkindern festgestellt wurde, dass sie mit dem Patienten in Kontakt waren.“', 'is': 'Ríkisstjórinn sagði einnig: „í dag heyrðum við að talið er að nokkur börn á skólaaldri hafi átt samskipti við sjúklinginn.\"'} \n",
      "\n",
      "{'id': 172, 'de': 'Er fuhr fort: „Dieser Fall ist ernst. Seien Sie versichert, dass unser System so gut funktioniert, wie es sollte.“', 'is': 'Hann lét einnig hafa eftirfarandi eftir sér, \"Þetta er alvarlegt mál. Við viljum fullvissa alla um að kerfið okkar starfar óaðfinnanlega.\"'} \n",
      "\n",
      "{'id': 173, 'de': 'Wenn es bestätigt wird, dann beendet der Fund Allens achtjährige Suche nach dem Musashi.', 'is': 'Um leið og fundur skipsins er staðfestur lýkur átta ára leit Allen að Musashi.'} \n",
      "\n",
      "{'id': 174, 'de': 'Nach der Kartierung des Meeresbodens wurde das Wrack mithilfe eines ROV gefunden.', 'is': 'Í kjölfar kortalagningar hafsbotnsins fannst flakið með fjarstýrðum báti.'} \n",
      "\n",
      "{'id': 175, 'de': 'Als einer der reichsten Menschen der Welt hat Allen Berichten zufolge einen Großteil seines Vermögens in die Erforschung der Meere investiert und seine Suche nach der Musashi aufgrund eines lebenslangen Interesses am Krieg begonnen.', 'is': 'Allen er einn ríkasti maður á heimsvísu og sagt er að hann hafi fjárfest mikið í hafrannsóknum og hóf leit sína með því að finna Musashi vegna ævilangs áhuga á stríðsmálum.'} \n",
      "\n",
      "{'id': 176, 'de': 'Während ihrer Zeit in Atlanta wurde sie von Kritikern gelobt und für das innovative städtische Bildungswesen ausgezeichnet.x', 'is': 'Henni var vel tekið af gagnrýnendum þegar hún var í Atlanta og hlaut viðurkenningu fyrir nýstárlega borgarmenntun.'} \n",
      "\n",
      "{'id': 177, 'de': '\"2009 wurde ihr der Titel \"\"Nationale Schulaufseherin des Jahres\"\" verliehen.\"', 'is': 'Árið 2009 var hún sæmd verðlaunum sem lögregluforingi ársins.'} \n",
      "\n",
      "{'id': 178, 'de': 'Zum Zeitpunkt der Auszeichnung haben Atlantas Schulen die Testergebnisse erheblich verbessert.', 'is': 'Þegar verðlaunin voru afhent höfðu einkunnir batnað mikið í skólum í Atlanta.'} \n",
      "\n",
      "{'id': 179, 'de': 'Kurz darauf veröffentlichte The Atlanta Journal-Constitution einen Bericht, der Probleme bei den Testergebnissen offenlegte.x', 'is': 'Stuttu síðar birti The Atlanta Journal-Constitution skýrslu sem sýndi vandamál  varðandi niðurstöður prófana.'} \n",
      "\n",
      "{'id': 180, 'de': 'Der Bericht zeigte, dass die Testergebnisse unwahrscheinlich schnell angestiegen waren, und er stellte die Behauptung auf, die Schule habe intern Probleme festgestellt, aber nicht darauf reagiert.', 'is': 'Skýrslan sýndi að prófeinkunnir höfðu hækkað ótrúlega hratt og því er haldið fram að skólinn hafi greint vandamál innanhúss en ekki brugðist við niðurstöðunum.'} \n",
      "\n",
      "{'id': 181, 'de': 'Danach deuteten Beweismittel darauf hin, dass Testpapiere manipuliert worden waren. Hall wurde 2013 zusammen mit 34 anderen Entscheidungsträgern im Bildungswesen angeklagt.', 'is': 'Vísbendingar í framhaldinu bentu til þess að átt hefði verið við prófverkefni. Hall, auk 34 annarra kennara, var ákærð árið 2013.'} \n",
      "\n",
      "{'id': 182, 'de': 'Die irische Regierung betont die Dringlichkeit einer parlamentarischen Gesetzgebung, um die Situation zu bereinigen.', 'is': 'Yfirvöld einbeita sér á tafarlausa nauðsyn löggjafans að greiða úr aðstæðunum.'} \n",
      "\n",
      "{'id': 183, 'de': '„Es ist jetzt sowohl aus Sicht der öffentlichen Gesundheit als auch aus Sicht der Strafjustiz wichtig, dass die Gesetzgebung so bald wie möglich in Kraft tritt“, sagte ein Regierungssprecher.', 'is': '\"Núna er mikilvægt, bæði frá sjónarhorni lýðheilsu og réttvísi, að lögin öðlist gildi eins fljótt og auðið er\", sagði talsmaður ríkisstjórnarinnar.'} \n",
      "\n",
      "{'id': 184, 'de': 'Der Gesundheitsminister äußerte seine Besorgnis sowohl über das Wohlergehen von Personen, die die vorübergehende Legalität der betreffenden Substanzen ausnutzen könnten, als auch über drogenbedingte Verurteilungen, die nach Inkrafttreten der jetzt verfassungswidrigen Änderungen ausgesprochen würden.', 'is': 'Heilbrigðisráðherra tjáði áhyggjur sínar af velferð einstaklinga sem nýttu sér tímabundið lögmæti efnanna er málið lítur að og sökum fíkniefnadóma sem gefnir hafa verið út frá því að breytingar tóku gildi sem eru í andstöðu við stjórnarskrána.'} \n",
      "\n",
      "{'id': 185, 'de': 'Jarque trainierte während des Vorsaisontrainings am frühen Morgen in Coverciano in Italien. Er wohnte vor dem für Sonntag geplanten Spiel gegen Bolonia im Mannschaftshotel.', 'is': 'Jarque var við æfingar á undirbúningstímabilinu á Coverciano á Ítalíu fyrr um daginn. Hann gisti á liðshótelinu fyrir þann leik sem átti að fara fram á sunnudegi gegn Bolóníu.'} \n",
      "\n",
      "{'id': 186, 'de': 'Er übernachtete im Teamhotel vor einem für Sonntag geplanten Spiel gegen Bolonia.', 'is': 'Hann gisti á hóteli liðsins fyrir leikinn á móti Bolonia sem átti að spila á sunnudeginum.'} \n",
      "\n",
      "{'id': 187, 'de': 'Der Bus fuhr nach Six Flags St. Louis in Missouri, wo die Band vor einer ausverkauften Menge spielte.', 'is': 'Rútan var á leiðinni til Six Flags St. Louis í Missouri svo að hljómsveitin gæti spilað á tónleikum sem voru uppseldir.'} \n",
      "\n",
      "{'id': 188, 'de': 'Nach Zeugenaussagen fuhr der Bus am Samstag um 1:15 Uhr über ein grünes Licht, als das Auto vor ihm abbog.', 'is': 'Kl. 01:15 eftir miðnætti fór strætisvagninn yfir á grænu ljósi að sögn vitna þegar bíllinn beygði í veg fyrir hann.'} \n",
      "\n",
      "{'id': 189, 'de': 'In der Nacht zum 9. August befand sich das Auge Morakots ungefähr siebzig Kilometer von der chinesischen Provinz Fujian entfernt.', 'is': 'Aðfaranótt 9. ágúst var fellibylurinn Morakot um sjötíu kílómetra frá kínverska héraðinu Fujian.'} \n",
      "\n",
      "{'id': 190, 'de': 'Nach Schätzungen bewegt sich der Taifun mit einer Geschwindigkeit von 11 km/h in Richtung China.', 'is': 'Gert er ráð fyrir fellibylurinn muni færast í átt til Kína á 11 km hraða á klukkustund.'} \n",
      "\n",
      "{'id': 191, 'de': 'Die Passagiere bekamen Wasser, während sie bei 90 °F (32 °C) warteten.x', 'is': 'Farþegar fengu vatn þegar þeir biðu í hita sem nam 90 (F) gráðum.'} \n",
      "\n",
      "{'id': 192, 'de': 'Feuerwehrhauptmann Scott Kouns sagte: „Es war ein heißer Tag in der Santa Clara mit Temperaturen von 90° F (30° C) und aufwärts.', 'is': 'Slökkviliðsstjórinn Scott Kouns lét hafa eftirfarandi eftir sér: „Það var heitt þennan dag í Santa Clara og fór hitinn yfir 90 gráður.'} \n",
      "\n",
      "{'id': 193, 'de': 'Jeder Zeitraum, den man auf einer Achterbahn gefangen ist, wäre – gelinde gesagt – unangenehm und es dauerte mindestens eine Stunde, um die erste Person vom Fahrgeschäft zu holen.“', 'is': 'Það er afar óþægilegt að festast í rússíbana svo ekki sé meira sagt og það tók um eina klukkustund að losa fyrstu manneskjuna úr skemmtitækinu.\"'} \n",
      "\n",
      "{'id': 194, 'de': 'Schumacher, der 2006 nach dem siebenfachen Gewinn der Formel-1-Weltmeisterschaft in den Ruhestand gegangen war, sollte den verletzten Felipe Massa ersetzen.', 'is': 'Schumacher, sem lagði skóna á hilluna árið 2006 eftir að hafa unnið Formúlu 1 meistaratitilinn sjö sinnum, átti að fylla skarð Felipe Massa sem hafði orðið fyrir meiðslum.'} \n",
      "\n",
      "{'id': 195, 'de': 'Der Brasilianer erlitt 2009 infolge eines Unfalls beim Großen Preis von Ungarn eine schwere Kopfverletzung.', 'is': 'Brasilíumaðurinn hafði fengið alvarlega höfuðáverka eftir árekstur í ungverska kappakstrinum árið 2009.'} \n",
      "\n",
      "{'id': 196, 'de': 'Massa wird für den Rest der Saison 2009 ausfallen.', 'is': 'Massa verður frá það sem eftir lifir tímabilsins 2009.'} \n",
      "\n",
      "{'id': 197, 'de': 'Arias wurde positiv auf einen milden Fall des Virus getestet, sagte der Präsidentschaftsminister.', 'is': 'Arias greindist jákvæður fyrir vægum einkennum veirunnar, sagði talsmaður forsetans, Rodrigo Arias.'} \n",
      "\n",
      "{'id': 198, 'de': 'Der Zustand des Präsidenten ist stabil, wenngleich er mehrere Tage zu Hause in Isolation verbringen wird.', 'is': 'Líðan forsetans er stöðug. Hann verður samt í einangrun á heimili sínu í nokkra daga.'} \n",
      "\n",
      "{'id': 199, 'de': '\"\"\"Abgesehen vom Fieber und den Halsschmerzen fühle ich mich gut und in guter Verfassung, um von Zuhause aus zu arbeiten.\"', 'is': 'Mér líður vel fyrir utan að vera með hita og örlítil eymsli í hálsi og ég er í góðu standi til að vinna í fjarvinnu.'} \n",
      "\n",
      "{'id': 200, 'de': 'Ich gehe davon aus, am Montag zu allen meinen Verpflichtungen zurückzukehren“, sagte Arias in einer Stellungnahme.', 'is': 'Ég býst við að mæta aftur til vinnu á mánudaginn,\" lýsti Arias yfir í tilkynningu sinni.'} \n",
      "\n",
      "{'id': 201, 'de': 'Felicia, einst ein Kategorie 4-Sturm auf der Saffir-Simpson-Hurrikanskala, schwächte sich zu einem tropischen Tiefdruckgebiet ab, bevor sie sich am Dienstag auflöste.', 'is': 'Felicia, eitt sinn fjórða stigs fellibylur á Saffir-Simpson-kvarðanum, fór niður í hitabeltislægð áður en hann leystist upp á þriðjudag.'} \n",
      "\n",
      "{'id': 202, 'de': 'Seine Überreste sorgten für Schauer auf den meisten Inseln, allerdings wurden bisher keine Schäden oder Überflutungen gemeldet.', 'is': 'Leifar hans ullu regnskúrum á flestum eyjanna, en þrátt fyrir það hafa ekki borist fregnir af skemmdum eða flóðum.'} \n",
      "\n",
      "{'id': 203, 'de': '\"Der auf Oahu gemessene Niederschlag von 6,34 Zoll wurde als „vorteilhaft\"\" bezeichnet.\"', 'is': 'Úrkoman, sem náði 6.34 tommum í mæli á Oahu, var lýst sem „gagnlegri\".'} \n",
      "\n",
      "{'id': 204, 'de': 'Einige der Regenfälle wurden von Gewittern und häufigen Blitzen begleitet.', 'is': 'Þrumuveður og tíðar eldingar fylgdu hluta af úrkomunni.'} \n",
      "\n",
      "{'id': 205, 'de': 'Die Twin Otter versuchte gestern als PNG-Flug CG4684 in Kokoda zu landen, was aber nicht gelang.', 'is': 'Twin Otter-vélin hafði reynt að lenda við Kokoda í gær sem flug CG4684 hjá PNG flugfélaginu, en hafði þegar verið hætt einu sinni við.'} \n",
      "\n",
      "{'id': 206, 'de': 'Etwa zehn Minuten, bevor sie beim zweiten Anflug landen sollte, verschwand sie.', 'is': 'Um tíu mínútum áður en hún átti að lenda úr öðru aðflugi sínu hvarf hún sporlaust.'} \n",
      "\n",
      "{'id': 207, 'de': 'Die Absturzstelle wurde heute gefunden. Sie ist so unzugänglich, dass zwei Polizisten im Dschungel abgesetzt wurden, um zum Unfallort zu gelangen und nach Überlebenden zu suchen.', 'is': 'Slysstaðurinn fannst í dag og er svo erfitt að komast að honum að tveimur lögreglumönnum var flogið inn í frumskóginn. Þaðan ganga þeir á slysstaðinn og leita eftirlifenda.'} \n",
      "\n",
      "{'id': 208, 'de': 'Die Suche wird durch die gleichen schlechten Wetterbedingungen behindert, die auch zur der verunglückten Landung führten.', 'is': 'Leitin tafðist vegna slæms veðurs sem olli að hætt var við lendingu.'} \n",
      "\n",
      "{'id': 209, 'de': 'Berichten zufolge ist eine Wohnung in der Macbeth Street aufgrund eines Gaslecks explodiert.', 'is': 'Fréttir herma að sprenging hafi orðið í íbúð á Macbeth Street vegna gasleka.'} \n",
      "\n",
      "{'id': 210, 'de': 'Ein Mitarbeiter des Gasunternehmns meldete sich am Ort des Geschehens, nachdem ein Nachbar wegen eines Gaslecks angerufen hatte.x', 'is': 'Fulltrúi gasfyrirtækisins mætti á staðinn eftir að nágranni hringdi og kvartaði yfir gasleka.'} \n",
      "\n",
      "{'id': 211, 'de': 'Als der Mitarbeiter eintraf, explodierte die Wohnung.x', 'is': 'Íbúðin sprakk eftir að embættismaðurinn var kominn.'} \n",
      "\n",
      "{'id': 212, 'de': 'Es wurden keine schwere Verletzungen gemeldet, jedoch mussten mindestens fünf der zur Zeit der Explosion Anwesenden aufgrund von Schocksymptomen behandelt werden.', 'is': 'Ekki var tilkynnt um nein umtalsverð meiðsli en að minnsta kosti fimm manns sem voru á vettvangi þegar sprengingin átti sér stað, voru meðhöndlaðir vegna áfallaeinkenna.'} \n",
      "\n",
      "{'id': 213, 'de': 'Es befand sich niemand in der Wohnung.', 'is': 'Enginn var inni í íbúðinni.'} \n",
      "\n",
      "{'id': 214, 'de': 'Damals wurden fast 100 Bewohner aus dem Gebiet evakuiert.', 'is': 'Á sama tíma voru nærri 100 íbúar á svæðinu fluttir á brott.'} \n",
      "\n",
      "{'id': 215, 'de': 'Sowohl Golf als auch Rugby sollen zu den Olympischen Spielen zurückkehren.', 'is': 'Bæði golf og ruðningur eiga að koma aftur inn á Ólympíuleikana.'} \n",
      "\n",
      "{'id': 216, 'de': 'Das Internationale Olympische Komitee stimmte heute bei seiner Vorstandssitzung in Berlin für die Aufnahme der Sportarten. Rugby, insbesondere Rugby Union, und Golf wurden fünf anderen Sportarten vorgezogen, die für eine Durchführung bei den Olympischen Spielen in Frage kommen.', 'is': 'Alþjóðaólympíunefndin kaus með meðtalningu íþróttagreinanna á framkvæmdastjórnarfundi sínum í Berlín í dag. Rúgbý, einkum rúgbýbandalagið, og golf voru valdar í stað fimm annarra greina til þátttöku á Ólympíuleikunum.'} \n",
      "\n",
      "{'id': 217, 'de': 'Squash, Karate und Skating-Sportarten versuchten, Teil des olympischen Programms zu werden, ebenso wie Baseball und Softball, die 2005 von den Olympischen Spielen ausgeschlossen wurden.', 'is': 'Reynt var að koma skvassi, karate og íþróttum á hjólum inn á Ólympíuleikana sem og hafnabolta og mjúkbolta, sem voru kosnir út af Ólympíuleikunum árið 2005.'} \n",
      "\n",
      "{'id': 218, 'de': 'Die Abstimmung muss noch vom gesamten IOK auf seiner Oktobertagung in Kopenhagen ratifiziert werden.', 'is': 'Alþjóðaviðskiptastofnunin þarf samt að staðfesta atkvæðagreiðsluna á fundi sínum sem haldinn verður í október í Kaupmannahöfn.'} \n",
      "\n",
      "{'id': 219, 'de': 'Nicht alle sprachen sich für die Einbeziehung der Frauen aus.', 'is': 'Ekki voru allir fylgjandi því að konur fengu að skrá sig.'} \n",
      "\n",
      "{'id': 220, 'de': '\"Der Gewinner einer Silbermedaille bei den Olympischen Spielen von 2004, Amir Khan, sagte: „In meinem Innersten glaube ich, dass Frauen nicht kämpfen sollten. Das ist meine Meinung.\"\"\"', 'is': 'Silfurverðlaunahafinn á Ólympíuleikunum árið 2004, Amir Khan sagði eftirfarandi: \"Innst inni finnst mér ekki að konur ættu að berjast. Þetta er mín skoðun.\"'} \n",
      "\n",
      "{'id': 221, 'de': 'Trotz seiner Kommentare sagte er, dass er die britischen Konkurrenten bei den Olympischen Spielen 2012 in London unterstützen werde.', 'is': 'Hann lýsti því yfir, þrátt fyrir það sem hann hafði sagt, að hann myndi styðja keppendurna frá Bretlandi á Ólympíuleikunum í London árið 2012.'} \n",
      "\n",
      "{'id': 222, 'de': 'Der Gerichtsprozess fand am Birmingham Crown Court statt und wurde am 3. August abgeschlossen.', 'is': 'Réttarhöldin fóru fram við Birmingham Crown Court-dómstólinn og lauk þeim 3. ágúst.'} \n",
      "\n",
      "{'id': 223, 'de': 'Der Moderator, der vor Ort verhaftet wurde, bestritt den Angriff und behauptete, dass er die Stange benutzt habe, um sich selbst vor Flaschen zu schützen, die von bis zu dreißig Leuten auf ihn geworfen worden seien.', 'is': 'Kynnirinn, sem lögreglan handtók á vettvangi, neitaði árásinni og sagðist hafa notað stöngina í sjálfsvörn eftir að allt að 30 manns hefðu kastað flöskum í hann.'} \n",
      "\n",
      "{'id': 224, 'de': 'Blake wurde auch wegen versuchter Behinderung der Justiz verurteilt.', 'is': 'Blake var einnig fundinn sekur um tilraun til að hindra framgang réttvísinnar.'} \n",
      "\n",
      "{'id': 225, 'de': 'Der Richter sagte Blake, es sei „fast unvermeidlich“, dass er ins Gefängnis müsse.', 'is': 'Dómarinn sagði Blake að það væri \"næstum óhjákvæmilegt\" að hann yrði fangelsaður.'} \n",
      "\n",
      "{'id': 226, 'de': 'Dunkle Energie ist eine vollkommen unsichtbare Kraft, die permanent auf das Universum einwirkt.', 'is': 'Hulduorka er fullkomlega ósýnilegir kraftar sem hafa stöðug áhrif á alheiminn.'} \n",
      "\n",
      "{'id': 227, 'de': 'Man weiß von ihr nur aufgrund ihrer Auswirkungen auf die Ausdehnung des Universums.', 'is': 'Einungis er vitað um tilvist þess vegna áhrifa þess á útvíkkun alheimsins.'} \n",
      "\n",
      "{'id': 228, 'de': 'Wissenschaftler haben Landformen entdeckt, welche die gesamte Mondoberfläche übersäen, als gelappte Böschungen bezeichnet werden und anscheinend durch das sehr langsame Schrumpfen des Mondes entstanden sind.', 'is': 'Vísindamenn hafa uppgötvað landlagsþætti sem eru víða á yfirborði tunglsins sem kallast sepakambar og hafa greinilega stafað af því að tunglið minnkaði mjög hægt.'} \n",
      "\n",
      "{'id': 229, 'de': 'Diese Steilhänge wurden überall auf dem Mond gefunden und scheinen nur minimal verwittert zu sein. Das lässt darauf schließen, dass die geologischen Ereignisse, die sie verursachten, relativ kürzlich stattgefunden haben.', 'is': 'Þessir kambar fundust um allt tunglið og virðast vera með lágmarksveðraðir, sem bendir til þess að jarðfræðilegir atburðir sem sköpuðu þá hafi verið nokkuð nýlegir.'} \n",
      "\n",
      "{'id': 230, 'de': 'Diese Theorie steht im Widerspruch zu der Behauptung, der Mond sei völlig frei von geologischer Aktivität.', 'is': 'Þessi kenning stríðir gegn þeirri fullyrðing þess efnið að á tunglinu sé alls engin jarðfræðileg virkni.'} \n",
      "\n",
      "{'id': 231, 'de': 'Der Mann soll mit einem dreirädrigem Fahrzeug, das mit Sprengstoff ausgestattet war, in eine Menschenmenge gefahren sein.', 'is': 'Að sögn ók maðurinn þríhjóla ökutæki með sprengiefni inn í mannfjöldann.'} \n",
      "\n",
      "{'id': 232, 'de': 'Der Mann, der unter Verdacht steht, die Bombe gezündet zu haben, wurde nachdem er durch die Explosion verletzt wurde festgenommen.', 'is': 'Maðurinn sem grunaður er um að sprengja sprengjuna var settur í varðhald eftir að hafa hlotið meiðsli í sprengingunni.'} \n",
      "\n",
      "{'id': 233, 'de': 'Seinen Namen kennen die Behörden noch immer nicht, aber sie wissen, dass er zur Volksgruppe der Uiguren gehört.', 'is': 'Yfirvöld vita ekki hvað hann heitir en er hins vegar áskynja um að hann tilheyrir Uígúrum.'} \n",
      "\n",
      "{'id': 234, 'de': 'Nadia, die am 17. September 2007 mit Kaiserschnitt in einer Entbindungsklinik in Aleisk, Russland, geboren wurde, wog enorme 7,7 Kilogramm.', 'is': 'Nadia, sem fæddist 17. september 2007, eftir að keisaraskurður var framkvæmdur á fæðingarstofu í Aleisk í Rússlandi, vóg 17 pund og 1 únsu.'} \n",
      "\n",
      "{'id': 235, 'de': '„Wir waren einfach alle schockiert“, sagte die Mutter.', 'is': '\"Við erum einfaldlega öll í áfalli,\" sagði móðirin.'} \n",
      "\n",
      "{'id': 236, 'de': 'Als sie gefragt wurde, was der Vater sagte, antwortete sie: „Er konnte nichts sagen – er stand bloß da und blinzelte.“', 'is': 'Þegar hún var spurð hvað faðir hennar hafi sagt, svaraði hún \"Hann gat ekkert sagt - hann stóð bara og blikkaði augunum.\"'} \n",
      "\n",
      "{'id': 237, 'de': '\"\"\"Es wird sich wie Wasser verhalten. Es ist genauso durchsichtig wie Wasser.\"', 'is': 'Þetta mun hegða sér eins og vatn. Efnið er gagnsætt á sama hátt og vatn.'} \n",
      "\n",
      "{'id': 238, 'de': 'Wenn Sie also am Ufer stehen würden, könnten Sie bis zu den Kieselsteinen oder dem Dreck auf dem Grund sehen.x', 'is': 'Ef maður stóð við fjöruborðið gat maður litið niður og séð þá smásteina og slímkennda jukk sem hvíldi á botninum.'} \n",
      "\n",
      "{'id': 239, 'de': '\"Soviel wir wissen, gibt es nur einen Planetenkörper, der eine größere Dynamik aufweist als Titan, und sein Name ist Erde\"\", fügte Stofan hinzu. \"', 'is': 'Samkvæmt vitneskju okkar er aðeins einn annar hnöttur sem sýnir meiri krafta en Títan og það er Jörðin,\" bætti Stofan við.'} \n",
      "\n",
      "{'id': 240, 'de': 'Das Problem begann am 1. Januar, als sich Dutzende von Anwohnern beim Postamt von Obanazawa darüber beschwerten, dass sie ihre traditionellen und üblichen Neuhjahrskarten nicht bekommen hatten.', 'is': 'Málið hófst 1. janúar þegar tugir íbúa á staðnum fóru að kvarta við pósthúsið í Obanazawa um að þeir hefðu ekki fengið sín hefðbundu nýárskort.'} \n",
      "\n",
      "{'id': 241, 'de': 'Gestern gab die Postniederlassung eine Entschuldigung an die Bürger und Medien heraus, nachdem bekannt geworden war, dass der Junge mehr als 600 Postsachen, einschließlich 429 Neujahrs-Postkarten, versteckt und nicht an die vorgesehenen Empfänger ausgeliefert hatte.', 'is': 'Póstþjónustan gaf í gær út afsökunarbeiðni til íbúa og fjölmiðla þegar upp komst að drengurinn hafði falið meira en 600 póstsendingar, þeirra á meðal 429 nýárskort, sem ekki voru afhent fyrirhuguðum viðtakendum þeirra.'} \n",
      "\n",
      "{'id': 242, 'de': 'Der unbemannte Mondorbiter Chandrayaan-1 stieß seine Mondaufprallsonde (MIP) ab, die mit 1,5 Kilometern pro Sekunde (3.000 Meilen pro Stunde) über die Oberfläche des Mondes raste und in der Nähe des Mond-Südpols erfolgreich abstürzte.', 'is': 'Ómannaða tunglfarið Chandrayaan-1 kastaði tunglkanna sínum (MIP), sem þeyttist yfir tunglyfirborðið á 1,5 km hraða á sekúndu (3000 mílur á klst.) og náði velheppnaðri brotlendingu nálægt suðurskauti tunglsins.'} \n",
      "\n",
      "{'id': 243, 'de': 'Neben drei wichtigen wissenschaftlichen Instrumenten enthielt die Mondsonde auch die auf allen Seiten aufgemalte indische Nationalflagge.', 'is': 'Fyrir utan að innihalda þrjú mikilvæg vísindatæki, þá er tunglfarartækið einnig með mynd af indverska þjóðfánanum málaða á allar hliðar þess.'} \n",
      "\n",
      "{'id': 244, 'de': '„Danke an alle, die eine Gefangene wie mich unterstützt haben“, sagte Siriporn Zitaten zufolge auf einer Pressekonferenz.', 'is': '\"Ég þakka þeim sem studdu fanga eins og mig\" sagði Siriporn á blaðamannafundi.'} \n",
      "\n",
      "{'id': 245, 'de': '\"\"\"Manche stimmen vielleicht nicht zu, aber das ist mir egal.\"\"\"', 'is': 'Mér er sama þó að sumir séu kannski ekki sammála.'} \n",
      "\n",
      "{'id': 246, 'de': 'Ich bin froh darüber, dass es Menschen gibt, die mich unterstützen wollen.', 'is': 'Ég er mjög ánægð með að fólk vill styðja við bakið á mér.'} \n",
      "\n",
      "{'id': 247, 'de': 'Seit der Unabhängigkeit Pakistans von der britischen Herrschaft im Jahr 1947 hat der pakistanische Präsident „Politische Agenten“ ernannt, um die FATA zu regieren, die eine nahezu vollständig eigenständige Kontrolle über die Gebiete ausüben.', 'is': 'Allt frá sjálfstæði Pakistans undan stjórn Bretlands árið 1947 hefur forseti Pakistans útnefnt „stjórnmálafulltrúa“ til að hafa umsjón með FATA. Þeir sinna nánast sjálfstæðu eftirliti með öllu með svæðunum.'} \n",
      "\n",
      "{'id': 248, 'de': 'Diese Beamten sind für die Ausübung von exekutiven und judikativen Funktionen nach Artikel 247 der pakistanischen Verfassung verantwortlich.', 'is': 'Þessir fulltrúar bera ábyrgð á að veita þjónustu og vegum stjórnvalda og dómsvalda samkvæmt 247. grein pakistönsku stjórnarskrárinnar.'} \n",
      "\n",
      "{'id': 249, 'de': 'In Mekka, der heiligen Stadt des Islam, stürzte heute Morgen gegen 10 Uhr Ortszeit ein Hostel ein.', 'is': 'Farfuglaheimili hrundi til grunna í Mekka, hinni heilögu borg múslima, um 10 leytið í morgun að staðartíma.'} \n",
      "\n",
      "{'id': 250, 'de': 'Das Gebäude beherbergte etliche Pilger, die zum Besuch der Heiligen Stadt am Vorabend der Hadsch-Pilgerreise kamen.', 'is': 'Byggingin hýsti fjölda pílagríma sem komu til að heimsækja borgina helgu í aðdraganda hajj-pílagrímsferðar.'} \n",
      "\n",
      "{'id': 251, 'de': 'Die Gäste des Hostels waren größtenteils Staatsbürger der Vereinigten Arabischen Emirate.', 'is': 'Gestir farfuglaheimilisins voru aðallega þegnar Sameinuðu arabísku furstadæmanna.'} \n",
      "\n",
      "{'id': 252, 'de': 'Die Zahl der Todesopfer beläuft sich auf mindestens 15; eine Zahl, die voraussichtlich steigen wird.', 'is': 'Fjöldi látinna er ekki færri en 15 manns og gert er ráð fyrir að sú tala muni hækka.'} \n",
      "\n",
      "{'id': 253, 'de': '\"Leonow, der auch \"\"Kosmonaut Nr. 11\"\" genannt wurde, war Mitglied der ursprünglichen Kosmonautenmannschaft der Sowjetunion.\"', 'is': 'Leonov, einnig þekktur sem \"geimfari nr. 11\", var hluti af upphaflegu teymi geimfara í Sovétríkjunum.'} \n",
      "\n",
      "{'id': 254, 'de': 'Am 18. März 1965 hat er den ersten bemannten Außenboardeinsatz (EVA), auch „Weltraumspaziergang“ genannt, durchgeführt. Dabei hielt er sich ein wenig länger als zwölf Minuten außerhalb des Raumfahrzeugs auf.', 'is': 'Hinn 18. mars 1965 framkvæmdi hann fyrstu „geimgönguna“ og var hann einsamall fyrir utan geimfarið í rúmar tólf mínútur.'} \n",
      "\n",
      "{'id': 255, 'de': 'Für seine Arbeit wurde er als Held der Sowjetunion geehrt, die höchste Auszeichnung der Sowjetunion.', 'is': 'Hann hlaut \"Hetju Sovétríkjanna\", æðsta heiðursmerki Sovétríkjanna, fyrir starf sitt.'} \n",
      "\n",
      "{'id': 256, 'de': 'Zehn Jahre später leitete er den sowjetischen Teil der Apollo-Sojus-Mission, die das Ende des Wettlaufs ins All symbolisierte.', 'is': 'Tíu árum síðar stýrði hann sovéska þætti Apollo–Soyuz verkefnisins sem táknaði að geimkapphlaupinu var lokið.'} \n",
      "\n",
      "{'id': 257, 'de': 'Sie sagte: „Es gibt keine Hinweise auf einen unmittelbar bevorstehenden Angriff.', 'is': 'Hún sagði: \"Engar leyniþjónustur lýsa því yfir að árás sé væntanleg yfirvofandi.'} \n",
      "\n",
      "{'id': 258, 'de': 'Die Reduzierung der Bedrohungsstufe auf eine ernsthafte Bedrohung bedeutet jedoch nicht, dass die Gesamtbedrohung verschwunden ist.“', 'is': 'Þrátt fyrir að hættustigið sé fært niður í alvarlegt stig þýðir slíkt ekki að öll hættan sé enn yfirstaðin.\"'} \n",
      "\n",
      "{'id': 259, 'de': 'Obgleich die Behörden Zweifel an der Glaubwürdigkeit der Drohung haben, hat die Verkehrsbehörde von Maryland die Sperrung auf Drängen des FBI veranlasst.', 'is': 'Á sama tíma og yfirvöld eru ekki viss um hversu alvarleg hótunin er, greið Maryland Transportaion Authority til lokunarinnar að áeggjan FBI.'} \n",
      "\n",
      "{'id': 260, 'de': 'Muldenkipper wurden eingesetzt, um die Eingänge der U-Bahn zu blockieren. 80 Polizisten waren zur Stelle, um die Autofahrer umzuleiten.', 'is': 'Vörubifreiðar voru notaðar til að loka göngunum og 80 lögreglumenn voru til taks til að vísa ökumönnum aðra leið.'} \n",
      "\n",
      "{'id': 261, 'de': 'Vom Ring, der Ausweichroute der Stadt, wurden keine großen Verkehrsbehinderungen berichtet.', 'is': 'Ekki var greint frá miklum umferðartöfum á hringbrautinni, varaleið borgarinnar.'} \n",
      "\n",
      "{'id': 262, 'de': 'Nigeria hat bereits angekündigt, dass es plant in der Woche vor dem Gipfel AfCFTA beizutreten.', 'is': 'Nígería tilkynnti áður að landið hefði í hyggju að ganga í AfCFTA í vikunni fyrir leiðtogafundinn.'} \n",
      "\n",
      "{'id': 263, 'de': 'Der AU-Beauftragte für Handel und Industrie, Albert Muchanga, gab bekannt, dass Benin sich anschließen werde.', 'is': 'Albert Muchanga, stjórnarmaður verslunar- og iðnaðarráðs Afríkusambandsins, tilkynnti að Benín ætlaði að taka þátt.'} \n",
      "\n",
      "{'id': 264, 'de': 'Der Kommissar sagte: „Wir haben uns noch nicht auf Herkunftsregeln und Zollkonditionen einigen können, aber der Rahmen, den wir entwickelt haben, reicht bereits aus, um am 1. Juli 2020 mit dem Handel zu beginnen.“', 'is': 'Framkvæmdastjórinn sagði: \"Við höfum ekki enn samþykkt reglur um uppruna og gjaldskrár, en ramminn sem við höfum er nægur til að hefja viðskipti 1. júlí 2020\".'} \n",
      "\n",
      "{'id': 265, 'de': 'Trotz eines im vorherigen Verlauf der Mission verloren gegangenen Gyroskops behielt die Raumstation bis zum Ende des Weltraumspaziergangs ihre Fluglage.', 'is': 'Þrátt fyrir að snúðvísirinn hafi tapast í upphafi leiðangursins, hélt stöðin afstöðu sinni þar til geimgöngunni var lokið.'} \n",
      "\n",
      "{'id': 266, 'de': 'Chiao und Scharipow berichteten, dass sie sich in sicherer Entfernung zu den Lagekontrolldüsen befanden.', 'is': 'Chiao og Sharipov greindu frá því að þeir væru í öruggri fjarlægð frá leiðréttingarknýlnum.'} \n",
      "\n",
      "{'id': 267, 'de': 'Die russische Bodenkontrolle aktivierte die Triebwerke, und die normale Lage der Station wurde wiederhergestellt.', 'is': 'Rússnesk stjórnun á jörðu niðri kallaði þoturnar út og eðlilegt viðhorf stöðvarinnar var endurheimt.'} \n",
      "\n",
      "{'id': 268, 'de': 'Der Fall wurde in Virginia strafrechtlich verfolgt, weil dort der führende Internetserviceanbieter AOL seinen Sitz hat, die Firma, die die Klage auf den Weg gebracht hat.', 'is': 'Málið var sótt í Virginíu vegna þess að þar eru heimkynni hins leiðandi netþjónustufyrirtækis AOL, fyrirtækisins sem stofnaði til ákærunnar.'} \n",
      "\n",
      "{'id': 269, 'de': 'Dies ist das erste Mal, dass unter Anwendung der Gesetzgebung von 2003 zur Eindämmung der massenhaften Zustellung von unerwünschten E-Mails in die Posteingänge der User, auch bekannt als Spam, ein Schuldspruch erreicht werden konnte.', 'is': 'Þetta er í fyrsta sinn sem sakfellingu er náð fram með því að nota löggjöfina sem sett var árið 2003 til að koma í veg fyrir að magnpósti, sem er ruslpóstur, sé dreift óumbeðið í pósthólf notenda.'} \n",
      "\n",
      "{'id': 270, 'de': 'Letztes Jahr, im Januar 2017, wechselte der 21 Jahre alte Jesus vom brasilianischen Club Palmeiras zu Manchester City für eine Transfergebühr, die Berichten zufolge 27 Millionen Pfund betrug.', 'is': 'Hinn 21 árs gamli Jesus gekk til liðs við Manchester City í janúar árið 2017 frá brasílíska liðinu Palmeiras fyrir 27 milljónir sterlingspunda.'} \n",
      "\n",
      "{'id': 271, 'de': 'Seitdem trat der Brasilianer in 53 Spielen in allen Wettbewerben für den Verein an und erzielte 24 Tore.', 'is': 'Eftir það hefur Brasilíumaðurinn leikið 53 leiki fyrir félagið í öllum keppnum og skorað 24 mörk.'} \n",
      "\n",
      "{'id': 272, 'de': 'Dr. Lee drückte auch seine Besorgnis über Berichte aus, dass sich Kinder in der Türkei sich nun mit dem Vogelgrippevirus A(H5N1) infiziert hätten, ohne krank zu werden.', 'is': 'Dr. Lee lýsti einnig yfir áhyggjum sínum varðandi tilkynningar um börn í Tyrklandi sem hafi sýkst af fuglainflúensunni A(H5N1) án þess að veikjast.'} \n",
      "\n",
      "{'id': 273, 'de': 'Einige Studien legen nahe, dass die Krankheit weniger tödlich werden muss, bevor sie eine globale Epidemie auslösen kann, stellte er fest.', 'is': 'Sumar rannsóknir benda til þess að sjúkdómurinn verði að verða minna banvænn áður en hann getur skapað heimsfaraldur, sagði hann.'} \n",
      "\n",
      "{'id': 274, 'de': 'Es gibt Bedenken, dass Patienten trotz milder verlaufender Grippesymptome andere Menschen anstecken könnten, wenn sie ihrem normalen Tagesablauf nachgehen.', 'is': 'Það er áhyggjuefni að sjúklingar geti haldið áfram að smita fleira fólk með því að sinna daglegum venjum sínum ef inflúensueinkennin eru áfram væg.'} \n",
      "\n",
      "{'id': 275, 'de': 'Leslie Aun, eine Sprecherin der Komen-Stiftung, sagte, dass die Organisation eine neue Regel übernommen habe, die nicht zulasse, dass Zuschüsse oder Finanzmittel an Organisationen vergeben würden, gegen die ein gerichtliches Ermittlungsverfahren laufe.', 'is': 'Leslie Aun, talskona Komen-stofnunarinnar, sagði að samtökin hefðu innleitt nýja reglu þar sem óleyfilegt er að veita styrk eða fjármagn til félaga ef þau sæta lögfræðilegri rannsókn.'} \n",
      "\n",
      "{'id': 276, 'de': 'Komens Richtlinie disqualifizierte Planned Parenthood aufgrund von laufenden Ermittlungen durch den Abgeordneten Cliff Stearns, die untersuchen, wie Planned Parenthood seine Gelder dokumentiert und ausgibt.', 'is': 'Stefna Komen gerði Planned Parenthood vanhæft vegna yfirvofandi rannsóknar á því hvernig Planned Parenthood eyðir fjármunum og skýrir frá slíku sem Cliff Stearns fulltrúi stendur fyrir.'} \n",
      "\n",
      "{'id': 277, 'de': 'Stearns untersucht in seiner Rolle als Vorsitzender des Subcommittee on Oversight and Investigations, welches zum House Committee on Energy and Commerce gehört, ob Steuergelder eingesetzt werden, um Abtreibungen durch Planned Parenthood zu finanzieren.', 'is': 'Stearns rannsakar hvort skattar séu notaðir við fjármögnun fóstureyðinga í gegnum Planned Parenthood í starfi sínu sem formaður undirnefndar á sviði eftirlits og rannsókna, sem tilheyrir orku- og viðskiptanefnd þingsins.'} \n",
      "\n",
      "{'id': 278, 'de': 'Der ehemalige Gouverneur von Massachusetts, Mitt Romney, gewann am Dienstag die Präsidentschaftsvorwahl der Republikaner in Florida mit über 46 Prozent der Stimmen.', 'is': 'Mitt Romney, fyrrum ríkisstjóri Massachusetts, vann forkosningar Repúblikanaflokksins í Flórída síðasta þriðjudag með yfir 46 prósent atkvæða.'} \n",
      "\n",
      "{'id': 279, 'de': 'Der frühere Sprecher des Repräsentantenhauses der Vereinigten Staaten Newt Gingrich kam mit 32 Prozent auf den zweiten Platz.', 'is': 'Fyrrum þingforseti fulltrúadeildarinnar, Newt Gingrich, var annar með 32 prósent.'} \n",
      "\n",
      "{'id': 280, 'de': '\"Als ein Bundesstaat nach dem \"\"Winner takes all\"\"-Prinzip gab Florida alle fünfzig Wahlmännerstimmen an Romney. Damit beförderte es ihn an die Spitze für das Nominierungsrennen der Republikanischen Partei.\"', 'is': 'Í ríki þar sem sigurvegarinn fær alla fulltrúana fékk Romney alla fimmtíu fulltrúa Flórída og var því kominn með forystu í tilnefningu Repúblikanaflokksins fyrir forsetakosningarnar.'} \n",
      "\n",
      "{'id': 281, 'de': 'Organisatoren des Protests sagten, dass in deutschen Städten wie Berlin, Köln, Hamburg und Hannover rund 100.000 Menschen teilnahmen.', 'is': 'Skipuleggjendur mótmælanna sögðu að um 100.000 manns hefðu mætt í þýskum borgum á borð við Berlín, Köln, Hamborg og Hannover.'} \n",
      "\n",
      "{'id': 282, 'de': 'In Berlin schätzte die Polizei die Zahl der Demonstranten auf 6.500.', 'is': 'Í Berlín áætlaði lögreglan að um 6500 mótmælendur hafi verið á staðnum.'} \n",
      "\n",
      "{'id': 283, 'de': 'Auch in Paris, Sofia in Bulgarien, Vilnius in Litauen, Valletta auf Malta, Tallinn in Estland und in Edinburgh und Glasgow in Schottland gab es Proteste.', 'is': 'Mótmæli fóru einnig fram í París, Sofíu í Búlgaríu, Vilníus í Litháen, Valetta á Möltu, Tallinn í Eistlandi og Edinborg og Glasgow í Skotlandi.'} \n",
      "\n",
      "{'id': 284, 'de': 'Etwa 200 Menschen protestierten in London vor den Büros mehrerer großer Urheberrechtsinhaber.', 'is': 'Í London mótmæltu um 200 manns fyrir utan skrifstofur stærstu einkaleyfishafanna.'} \n",
      "\n",
      "{'id': 285, 'de': 'Im letzten Monat gab es in Polen große Proteste, als das Land das ACTA unterzeichnete, was dazu führte, dass die polnische Regierung sich entschied, vorerst das Abkommen nicht zu ratifizieren.', 'is': 'Í síðasta mánuði fóru mikil mótmæli fram í Póllandi eftir að landið undirritaði ACTA. Þetta varð til þess að pólsk yfirvöld ákváðu að staðfesta ekki samninginn núna.'} \n",
      "\n",
      "{'id': 286, 'de': 'Sowohl Lettland als auch die Slowakei haben den ACTA-Beitrittsprozess verschoben.', 'is': 'Lettland og Slóvakía hafa bæði tafið ferlið við inngöngu í ACTA.'} \n",
      "\n",
      "{'id': 287, 'de': 'Die Tierschutzorganisationen Animal Liberation und Royal Society for the Prevention of Cruelty to Animals (RSPCA) fordern erneut die Anbringung von Überwachungskameras in allen australischen Schlachthäusern.', 'is': 'Dýraverndunarsamtökin og konunglegu samtökin um dýravernd (RSPCA) gera enn á ný kröfu um lagasetningu til að öryggismyndavélum verði komið fyrir í öllum sláturhúsum Ástralíu.'} \n",
      "\n",
      "{'id': 288, 'de': \"Der Chefinspektor der RSPCA New South Wales, David O'Shannessy, sagte der ABC, dass die Überwachung und Inspektionen von Schlachthöfen in Australien an der Tagesordnung sein sollten.\", 'is': \"Aðalskoðandi RSPCA New South Wales, David O'Shannessy, greindi ABC frá því að eftirlit og skoðanir á sláturhúsum skyldu vera algengar innan Ástralíu.\"} \n",
      "\n",
      "{'id': 289, 'de': '\"\"\"Die Videoüberwachung würde sicherlich eine klare Botschaft an die Leute senden, die mit Tieren arbeiten, dass ihr Wohlbefinden am allerwichtigsten ist.\"\"\"', 'is': '„Eftirlitsbúnaðurinn myndi vissulega senda sterk skilaboð til fólks sem vinnur með dýr, um að velferð þeirra sé í forgangi.\"'} \n",
      "\n",
      "{'id': 290, 'de': 'Die internationale Erdbebenkarte des US Geological Surveys zeigte in der Woche zuvor keine Erdbeben in Island.', 'is': 'Alþjóðlegt jarðskjálftakort Jarðfræðastofnunar Bandaríkjanna sýndi engin merki um jarðskjálfta á Íslandi vikuna þar á undan.'} \n",
      "\n",
      "{'id': 291, 'de': 'Der isländische Wetterdienst hat ebenfalls keine Erdbebenaktivität im Gebiet um die Hekla in den letzten 48 Stunden festgestellt.', 'is': 'Veðurstofa Íslands skýrði ekki frá neinni jarðskjálftavirkni á Heklusvæðinu síðustu 48 klukkustundir.'} \n",
      "\n",
      "{'id': 292, 'de': 'Die maßgebliche Erdbebenaktivität, die zum Phasenübergang führte, hatte am 10. März auf der Nordostseite des Gipfelkraters des Vulkans stattgefunden.', 'is': 'Töluverða jarðskjálftavirknin sem leiddi til stigsbreytingarinnar fór fram 10. mars norðaustan við öskjuna á tindi eldfjallsins.'} \n",
      "\n",
      "{'id': 293, 'de': 'Dunkle Wolken ohne Zusammenhang mit jeglicher vulkanischer Aktivität wurden am Fuß des Berges gemeldet.', 'is': 'Tilkynnt var um svört ský ótengd nokkurs konar eldvirkni við rætur fjallsins.'} \n",
      "\n",
      "{'id': 294, 'de': 'Durch die Wolken enstand Unklarheit darüber, ob es zu einem Ausbruch gekommen war.', 'is': 'Skýin sköpuðu möguleikann á ruglingi varðandi það hvort eldgos hefði í raun átt sér stað.'} \n",
      "\n",
      "{'id': 295, 'de': '\"Die \"\"Luno\"\" hatte 120-160 Kubikmeter Treibstoff an Bord, als sie in Seenot geriet und die starken Winde und Wellen sie gegen die Wellenbrecher drückten.\"', 'is': 'Luno var með 120–160 rúmmetra af eldsneyti um borð þegar það brotnaði saman og mikill vindur og öldur þrýstu því í hafnargarðinn.'} \n",
      "\n",
      "{'id': 296, 'de': 'Die zwölf Besatzungsmitglieder wurden mit Hubschraubern gerettet und die einzige Verletzung war eine gebrochene Nase.', 'is': 'Þyrlu fóru í björgunarleiðangur vegna skipverjanna 12 og einu ávarkar þeirra voru eitt nefbrot.'} \n",
      "\n",
      "{'id': 297, 'de': 'Das 100 Meter lange Schiff war unterwegs, um seine übliche Fracht an Düngemitteln abzuholen, und die Behörden hatten ursprünglich befürchtet, dass eine Ladung auslaufen könnte.', 'is': 'Hið 100 metra skip var á leið að sækja hefðbundinn áburðarfarm og til að byrja var ótti hjá embættismönnum að skipið gæti lekið.'} \n",
      "\n",
      "{'id': 298, 'de': 'Der vorgeschlagene Zusatz wurde bereits im Jahr 2011 von beiden Kammern genehmigt.', 'is': 'Fyrirhuguð breyting var samþykkt í báðum þingdeildum árið 2011.'} \n",
      "\n",
      "{'id': 299, 'de': 'Eine Veränderung gab es in dieser Legislaturperiode, als der zweite Satz erst vom Abgeordnetenhaus entfernt und dann am Montag in ähnlicher Form vom Senat verabschiedet wurde.', 'is': 'Breyting var gerð á löggjöfinni þegar fulltrúadeildin felldi brott aðra setninguna og hún var síðan samþykkt á svipuðu formi af öldungadeildinni á mánudeginum.'} \n",
      "\n",
      "{'id': 300, 'de': 'Das Scheitern des zweiten Satzes, in dem vorgeschlagen wird, gleichgeschlechtliche eingetragene Partnerschaften zu verbieten, könnte möglicherweise die Tür für eingetragene Partnerschaften in der Zukunft öffnen.', 'is': 'Misbrestur á annarrar setningar, þar sem lagt er til bann við óvígðri sambúð fólks af sama kyni, gæti skapað möguleikann á óvígðri sambúð í framtíðinni.'} \n",
      "\n",
      "{'id': 301, 'de': 'Dem Prozess folgend wird HJR-3 durch den nächsten gewählten Gesetzgeber entweder 2015 oder 2016 wieder geprüft, um im Prozess zu bleiben.', 'is': 'Eftir ferlið verður HJR-3 tekið til athugunar á nýjan leik af næstu kjörnu löggjafarsamkundu annaðhvort árið 2015 eða 2016 til að halda ferlinu gangandi.'} \n",
      "\n",
      "{'id': 302, 'de': 'Zu Vautiers Errungenschaften abseits des Filmschaffens gehört ein Hungerstreik 1973 gegen Vorgänge, die er als politische Zensur betrachtete.', 'is': 'Meðal afreka Vautier önnur en leikstjórn er hungurverkfall 1973 gegn því sem hann taldi vera pólitíska ritskoðun.'} \n",
      "\n",
      "{'id': 303, 'de': 'Das französische Recht wurde geändert. Sein Aktivismus begann im Zweiten Weltkrieg, als er 15 Jahre alt war und dem französischen Widerstand beitrat.', 'is': 'Frönskum lögum var breytt. Andóf hans nær aftur til 15 ára aldurs þegar hann gekk í raðir frönsku andspyrnuhreyfingarinnar í seinni heimsstyrjöldinni.'} \n",
      "\n",
      "{'id': 304, 'de': 'Er hat sich in einem Buch von 1998 selbst dokumentiert.', 'is': 'Hann skrifaði bók um sjálfan sig árið 1998.'} \n",
      "\n",
      "{'id': 305, 'de': 'In den 1960er Jahren ging er ins gerade unabhängig gewordene Algerien zurück, um Regie zu unterrichten.', 'is': 'Á sjöunda áratugnum snéri hann aftur til Alsír, stuttu eftir að landið öðlaðist sjálfstæði, til að kenna kvikmyndaleikstjórn.'} \n",
      "\n",
      "{'id': 306, 'de': 'Der japanische Judoka Hitoshi Saito, zweifacher olympischer Goldmedaillengewinner, ist im Alter von 54 Jahren gestorben.', 'is': 'Hinn japanski Judoka Hitoshi Saito, sem hlotið hefur tvenn gullverðlaun á Ólympíuleikum, er látinn 54 ára að aldri.'} \n",
      "\n",
      "{'id': 307, 'de': 'Als Todesursache wurde intrahepatischer Gallengangkrebs angegeben.', 'is': 'Dánarorsökin var sögð vera gallvegakrabbamein í lifur.'} \n",
      "\n",
      "{'id': 308, 'de': 'Er verstarb am Dienstag in Osaka.', 'is': 'Hann lést í Osaka síðasta þriðjudag.'} \n",
      "\n",
      "{'id': 309, 'de': 'Saito war nicht nur ehemaliger Olympiasieger und Weltmeister, sondern bis zu seinem Tod auch der Vorsitzende der Trainingskommission des All Japan Judoverbandes.', 'is': 'Auk þess að vera fyrrverandi Ólympíu- og heimsmeistari var Saito formaður þjálfunarnefndar japanska júdósambandsins þegar hann lést.'} \n",
      "\n",
      "{'id': 310, 'de': 'Mindestens 100 Personen hatten an der Feier teilgenommen, um den ersten Hochzeitstag eines Paares zu feiern, dessen Hochzeit im vergangenen Jahr stattfand.', 'is': 'Að minnsta kosti 100 manns voru í partíinu þar sem fagnað var fyrsta brúðkaupsafmæli hjóna sem héldu brúðkaupið sitt í fyrra.'} \n",
      "\n",
      "{'id': 311, 'de': 'Eine formelle Jubiläumsveranstaltung sei für einen späteren Zeitpunkt geplant, sagten Beamte.', 'is': 'Formlegur viðburður í tilefni afmælisins verður haldinn síðar, að sögn embættismanna.'} \n",
      "\n",
      "{'id': 312, 'de': 'Das Paar hatte vor einem Jahr in Texas geheiratet und kam nach Buffalo, um mit Freunden und Verwandten zu feiern.', 'is': 'Parið gifti sig í Texas fyrir einu ári og ferðaðist til Buffalo til að halda upp á tilefnið með vinum og vandamönnum.'} \n",
      "\n",
      "{'id': 313, 'de': 'Der 30-jährige Ehemann, der in Buffalo geboren worden war, war einer von vier bei der Schießerei getöteten, aber seine Frau wurde nicht verletzt.', 'is': 'Hinn þrítugi eiginmaður, sem fæddist í Buffalo, var einn af fjórum sem létust í skotárásinni en eiginkona hans varð ekki fyrir meiðslum.'} \n",
      "\n",
      "{'id': 314, 'de': \"Karno ist ein bekannter, aber kontroverser Englischlehrer, der an den Einrichtungen Modern Education und King's Glory unterrichtete und am Höhepunkt seiner Karriere 9000 Schüler gehabt haben soll.\", 'is': \"Karno er þekktur en umdeildur enskur einkakennari sem kenndi hjá Modern Education and King's Glory. Hann sagðist hafa verið með mest 9000 nemendur.\"} \n",
      "\n",
      "{'id': 315, 'de': 'In seinen Notizen benutzte er Wörter, die einige Eltern als derb empfanden, und im Unterricht angeblich Schimpfwörter.', 'is': 'Í minnispunktum sínum notaði hann orðalag sem sumum foreldrum fannst fullgróft og hann blótaði oft í tímum.'} \n",
      "\n",
      "{'id': 316, 'de': 'Das moderne Bildungswesen beschuldigte ihn, große Werbung ohne Genehmigung an Bussen anbringen zu lassen und zu lügen, wenn er sagte, er sei der vorsitzende Englischtutor.', 'is': 'Modern Education sakaði hann um að hafa prentað stórar auglýsingar í strætisvagna án leyfis og sagt ósatt með því að skýra frá að hann væri aðal enski einkakennarinn.'} \n",
      "\n",
      "{'id': 317, 'de': 'Er war bereits wegen einer Urheberrechtsverletzung beschuldigt, aber nicht verklagt worden.', 'is': 'Hann hefur einnig áður verið sakaður um brot á höfundarrétti, en var ekki kærður.'} \n",
      "\n",
      "{'id': 318, 'de': 'Ein ehemaliger Schüler sagte, dass er „im Unterricht Umgangssprache verwendet hat, in Kommentaren Flirttechniken vermittelte und einfach ein Kumpel der Studenten war.“', 'is': 'Fyrrverandi námsmaður „segist hafa talað slangur í tímum, kennt stefnumótafærni með minnismiðum og hafi gerst vinur nemendanna“.'} \n",
      "\n",
      "{'id': 319, 'de': 'Während der letzten drei Jahrzehnte hat China eine Marktwirtschaft entwickelt, obwohl es offiziell ein kommunistischer Staat blieb.', 'is': 'Kína hefur byggt upp markaðshagkerfi síðustu þrjá áratugi þrátt fyrir að vera út á við kommúnískt ríki.'} \n",
      "\n",
      "{'id': 320, 'de': 'Erste wirtschaftliche Reformen wurden unter der Führung von Deng Xiaoping durchgeführt.', 'is': 'Fyrstu umbætur í efnahagsmálum fóru fram undir forystu Deng Xiaoping.'} \n",
      "\n",
      "{'id': 321, 'de': 'Seitdem ist Chinas Wirtschaftskraft um das Neunzigfache gestiegen.', 'is': 'Frá því hefur efnahagur Kína vaxið 90-falt.'} \n",
      "\n",
      "{'id': 322, 'de': 'China exportierte im vergangenen Jahr erstmals mehr Autos als Deutschland und löste die Vereinigten Staaten als größten Markt für diese Industrie ab.', 'is': 'Í fyrra flutti Kína í fyrsta sinn út fleiri bifreiðar en Þýskaland og tók fram úr Bandaríkjunum sem stærsti markaðurinn í þessum iðnaði.'} \n",
      "\n",
      "{'id': 323, 'de': 'Chinas Bruttoinlandsprodukt könnte innerhalb zweier Jahrzehnte das der Vereinigten Staaten übertreffen.', 'is': 'Innan tveggja áratuga gæti verg landsframleiðsla Kína orðið meiri en Bandaríkjanna.'} \n",
      "\n",
      "{'id': 324, 'de': 'Der Tropensturm Danielle, der vierte benannte Sturm der atlantischen Hurrikansaison 2010, hat sich im östlichen Atlantik gebildet.', 'is': 'Hitabeltisstormurinn Danielle, sá fjórði sem fær nafn á fellibyljatímabilinu 2010, hefur myndast á Atlantshafi.'} \n",
      "\n",
      "{'id': 325, 'de': 'Beim Sturm, ca. 3000 Meilen von Miami, Florida entfernt, werden maximale anhaltende Winde von 40 mph (64 km/h) gemessen.', 'is': 'Óveðrið, sem er í um 3.000 mílu fjarlægð frá Miami í Flórída, er með hámarksvindhviður sem nema 40 mph (64 km/klst).'} \n",
      "\n",
      "{'id': 326, 'de': 'Wissenschaftler am National Hurricane Center sagen voraus, dass Danielle sich bis Mittwoch zu einem Hurrikan steigern wird.', 'is': 'Fræðimenn við National Hurricane Center telja að Danielle muni styrkjast og verða að fellibyl fyrir miðvikudag.'} \n",
      "\n",
      "{'id': 327, 'de': 'Da der Sturm noch weit davon entfernt ist, ins Land einzufallen, ist es immer noch schwierig, die möglichen Auswirkungen auf die Vereinigten Staaten oder die Karibik abzuschätzen.', 'is': 'Á meðan stormurinn er langt frá landi verður erfitt að meta hugsanleg áhrif hans á Bandaríkin og Karíbahafseyjarnar.'} \n",
      "\n",
      "{'id': 328, 'de': 'Bobek, in der kroatischen Hauptstadt Zagreb geboren, wurde schnell bekannt, während er für Partizan Belgrade spielte.', 'is': 'Bobek fæddist í Zagreb, höfuðborg Króatíu, og öðlaðist frægð fyrir að spila fyrir Partizan Belgrade.'} \n",
      "\n",
      "{'id': 329, 'de': 'Diesen trat er 1945 bei und blieb bis 1958.', 'is': 'Hann gekk til liðs við þá árið 1945 og var með þeim til 1958.'} \n",
      "\n",
      "{'id': 330, 'de': 'Während seiner Zeit in der Mannschaft erzielte er 403 Tore bei 468 Einsätzen.', 'is': 'Þann tíma sem hann spilaði með liðinu skoraði hann 403 mörk í 468 leikjum.'} \n",
      "\n",
      "{'id': 331, 'de': 'Niemand sonst hat jemals mehr Einsätze absolviert oder mehr Tore für den Club geschossen als Bobek.', 'is': 'Enginn annar hefur leikið fleiri leiki eða skorað fleiri mörk fyrir félagið en Bobek.'} \n",
      "\n",
      "{'id': 332, 'de': 'Er wurde 1995 zum besten Spieler in der Geschichte von Partizan gewählt.', 'is': 'Árið 1995 var hann valinn besti leikmaður í sögu Partizan.'} \n",
      "\n",
      "{'id': 333, 'de': 'Die Feiern begannen mit einer besonderen Show der weltbekannten Gruppe Cirque du Soleil.', 'is': 'Hátíðarhöldin hófust með sérstakri sýningu hins heimþekkta hóps Cirque du Soleil.'} \n",
      "\n",
      "{'id': 334, 'de': 'Es folgten das Staatliche Sinfonieorchester Istanbul, eine Janitscharenkapelle und die Sänger Fatih Erkoç und Müslüm Gürses.', 'is': 'Á eftir henni kom Sinfóníuhljómsveit Istanbúl, Janizary-hljómsveit og söngvararnir Fatih Erkoç og Müslüm Gürses.'} \n",
      "\n",
      "{'id': 335, 'de': 'Dann traten drehende Derwische auf.', 'is': 'Síðan steig Whirling Dervishes á svið.'} \n",
      "\n",
      "{'id': 336, 'de': 'Die türkische Diva Sezen Aksu trat mit dem italienischen Tenor Alessandro Safina und der griechischen Sängerin Haris Alexiou auf.', 'is': 'Tyrkneska söngdívan Sezen Aksu kom fram með ítalska tenórnum Alessandro Safina og gríska söngvaranum Haris Alexiou.'} \n",
      "\n",
      "{'id': 337, 'de': '\"Abschließend bot das türkische Tanzensemble Feuer von Anatolien die Vorführung \"\"Troja\"\" dar.\"', 'is': 'Að lokum sýndi tyrkneski dansflokkurinn Fire of Anatolia atriði sitt \"Trója\".'} \n",
      "\n",
      "{'id': 338, 'de': 'Peter Lenz, ein 13-jähriger Motorradrennfahrer, starb nachdem er in einen Unfall auf dem Indianapolis Motor Speedway verwickelt war.', 'is': 'Peter Lenz, 13 ára keppnismaður á mótorhjóli, lést eftir árekstur á Indianapolis Motor Speedway.'} \n",
      "\n",
      "{'id': 339, 'de': 'Während seiner Aufwärmrunde stürzte Lenz von seinem Motorrad und wurde dann von seinem Rennkollegen Xavier Zayat überfahren.', 'is': 'Í upphituninni féll Lenz af hjólinu og varð fyrir öðrum keppanda, Xavier Zayat.'} \n",
      "\n",
      "{'id': 340, 'de': 'Er wurde unverzüglich von dem medizinischen Personal an der Rennstrecke versorgt und in ein örtliches Krankenhaus eingeliefert, in dem er später verstarb.', 'is': 'Hann fékk umsvifalaust læknisaðstoð við brautina og var fluttur á sjúkrahús í nágrenninu þar sem hann síðar lést.'} \n",
      "\n",
      "{'id': 341, 'de': 'Zayat wurde bei dem Unfall nicht verletzt.', 'is': 'Zayat meiddist ekki í slysinu.'} \n",
      "\n",
      "{'id': 342, 'de': 'Bezüglich der globalen Finanzsituation sagte Zapatero weiter, dass „das Finanzsystem ein Teil der Wirtschaft ist, ein überlebenswichtiger Teil.', 'is': 'Varðandi fjármálaaðstæður á heimsvísu hélt Zapatero áfram með því að segja að \"fjármálakerfið væri hluti af hagkerfinu, mikilvægur hluti.'} \n",
      "\n",
      "{'id': 343, 'de': '\"\"\"Wir haben eine einjährige Finanzkrise, die ihren intensivsten Zeitpunkt in den vergangenen zwei Monaten hatte und ich denke, jetzt beginnen sich die Finanzmärkte zu erholen.\"\"\"', 'is': 'Fjármálakreppan hefur varað í eitt ár og versti hlutinn var síðustu tveir mánuðir, en ég held að fjármálamarkaðir séu að byrja að rétta út kútnum.\"'} \n",
      "\n",
      "{'id': 344, 'de': 'Naked News gab letzte Woche bekannt, sein internationales Mandat für die Berichterstattung in Fremdsprachen mit drei neuen Programmen deutlich auszuweiten.', 'is': 'Í síðustu viku skýrði Naked News frá því að það myndi stórauka framboð sitt á alþjóðlegu tungumálum í fréttaflutningi með þremur nýjum útsendingum.'} \n",
      "\n",
      "{'id': 345, 'de': 'Die globale Organisation, die bereits auf Englisch und Japanisch berichtet, beginnt mit der Ausstrahlung von Programmen auf Spanisch, Italienisch und Koreanisch für Fernsehen, Internet und Mobilgeräte.', 'is': 'Þetta er alþjóðlegt fyrirtæki sem flytur fréttur á ensku og japönsku og ætlar að framleiða þætti á spænsku, ítölsku og kóresku fyrir sjónvarp, netið og fartæki.'} \n",
      "\n",
      "{'id': 346, 'de': '„Zum Glück ist mir nichts passiert, aber ich sah grausige Szenen, als Menschen versuchten, Fenster einzuschlagen, um herauszukommen.', 'is': 'Til allrar hamingju kom ekkert fyrir mig en ég sá ógnvekjandi hluti þar sem fólk reyndi að brjóta rúður til að komast út.'} \n",
      "\n",
      "{'id': 347, 'de': 'Die Menschen schlugen mit Stühlen gegen die Glasscheiben, aber die Fenster waren unzerbrechlich.', 'is': 'Fólk barði rúður með stólum en ekki var hægt að brjóta gluggana.'} \n",
      "\n",
      "{'id': 348, 'de': 'Eine der Scheiben brach schließlich und dann begannen sie, durch das Fenster zu steigen,“ sagte der Überlebende Franciszek Kowal.', 'is': 'Ein rúðan brotnaði loks og þau fóru að fara út um gluggann,\" sagði eftirlifandinn Franciszek Kowal.'} \n",
      "\n",
      "{'id': 349, 'de': 'Durch die Energie, die produziert wird, wenn Wasserstoffatome verschmolzen (oder fusioniert) werden, um schwerere Elemente zu formen, geben Sterne Licht und Wärme ab.', 'is': 'Stjörnur gefa frá sér ljós og hita vegna orkunnar sem myndast þegar vetnisatóm eru sameinuð (eða dreifast) saman til að mynda þyngri frumefni.'} \n",
      "\n",
      "{'id': 350, 'de': 'Wissenschaftler arbeiten daran, einen Reaktor zu entwickeln, der auf dieselbe Weise Energie erzeugen kann.', 'is': 'Vísindamenn vinna að því að smíða kjarnaofn sem getur búið til orku á sama hátt.'} \n",
      "\n",
      "{'id': 351, 'de': 'Dies ist jedoch eine äußerst schwierige Aufgabe, so dass es viele Jahre dauern wird, bevor tatsächlich nutzbare Fusionsreaktoren gebaut werden.', 'is': 'Þetta er hins vegar mjög erfitt vandamál að leysa og það mun taka mörg ár áður en við sjáum gagnlega samrunaofna byggða.'} \n",
      "\n",
      "{'id': 352, 'de': 'Wegen der Oberflächenspannung treibt die Nadel aus Stahl auf dem Wasser.', 'is': 'Stálnálin flýtur ofan á vatninu vegna yfirborðsspennu.'} \n",
      "\n",
      "{'id': 353, 'de': 'Oberflächenspannung entsteht, weil sich die Wassermoleküle an der Wasseroberfläche stärker gegenseitig anziehen, als dass sie von den darüber befindlichen Luftmolekülen angezogen werden.', 'is': 'Yfirborðsspenna á sér stað því vatnssameindir við vatnsyfirborðið laðast að hver annarri meira en að loftsameindum fyrir ofan þær.'} \n",
      "\n",
      "{'id': 354, 'de': 'Die Wassermoleküle bilden eine unsichtbare Schicht auf der Wasseroberfläche, die es Gegenständen wie der Nadel erlaubt, auf dem Wasser zu treiben.', 'is': 'Vatnssameindirnar mynda ósýnilega húð á yfirborði vatnsins sem gerir hlutum eins og nálinni kleift að fljóta ofan á vatninu.'} \n",
      "\n",
      "{'id': 355, 'de': 'Die Kufe an einem modernen Schlittschuh hat eine Doppelkante mit einer konkaven Einbuchtung dazwischen. Die beiden Kanten ermöglichen einen besseren Halt auf dem Eis, selbst wenn sie gekippt werden.', 'is': 'Blað nútímaskauta er með tvöfaldri brún með íholu á milli. Brúnirnar tvær veita meira grip á ísnum, meira segja í halla.'} \n",
      "\n",
      "{'id': 356, 'de': 'Weil der untere Teil der Klinge etwas gekrümmt ist, krümmt sich auch die Kante, die mit dem Eis in Kontakt ist, wenn sich die Klinge von einer Seite zur anderen neigt.', 'is': 'Vegna þess að neðsti hluti blaðsins er örlítið sveigður myndast einnig sveigja á yfirborð íssins sem blaðið er í snertingu við þegar það hallar á aðra hvora hliðina.'} \n",
      "\n",
      "{'id': 357, 'de': 'Dadurch dreht sich der Schlittschuhläufer. Wenn sich die Schlittschuhe nach rechts neigen, dreht sich der Schlittschuhläufer nach rechts, wenn sich die Schlittschuhe nach links neigen, dreht sich der Schlittschuhläufer nach links.', 'is': 'Þetta veldur því að skautarinn þarf að snúa sér. Ef skautarnir halla til hægri, þá beygir skautarinn til hægri, ef skautarnir halla til vinstri, þá beygir skautarinn til vinstri.'} \n",
      "\n",
      "{'id': 358, 'de': 'Um zu ihrem vorherigen Energieniveau zurückzukehren, müssen sie die zusätzliche Energie loswerden, die sie durch das Licht erhalten haben.', 'is': 'Til að komast á fyrra orkustig verða þau að losna við aukaorkuna sem þau sóttu í ljósið.'} \n",
      "\n",
      "{'id': 359, 'de': 'Sie tun dies, indem sie ein winziges Lichtteilchen emittieren, das als „Photon“ bezeichnet wird.', 'is': 'Þetta er gert með sendingu á örlitlum ljósögnum sem kallast „ljóseind“.'} \n",
      "\n",
      "{'id': 360, 'de': '\"Wissenschaftler nennen diesen Prozess \"\"stimulierte Emission von Strahlung\"\", weil die Atome von hellem Licht stimuliert werden und dadurch ein Lichtphoton austritt, und Licht ist eine Art Strahlung.\"', 'is': 'Vísindamenn kalla þetta ferli \"örvaða losun geislunar\" vegna þess að frumeindir örvast af björtu ljósi, sem veldur losun á ljóseind ljóss og ljós er tegund geislunar.'} \n",
      "\n",
      "{'id': 361, 'de': 'Das nächste Bild zeigt wie die Atome Photonen emittieren. Natürlich sind die Photonen in Wirklichkeit viel kleiner als auf dem Bild.', 'is': 'Næsta mynd sýnir atómin sem senda frá sér ljóseindir. Auðvitað eru ljóseindir í raun mun minni en þær á myndinni.'} \n",
      "\n",
      "{'id': 362, 'de': 'Photonen sind noch kleiner als das Zeug, aus dem Atome bestehen!', 'is': 'Ljóseindir eru enn smærri en efnið sem myndar atóm!'} \n",
      "\n",
      "{'id': 363, 'de': 'Nach hunderten Betriebsstunden brennt der Glühfaden in der Glühbirne irgendwann aus und die Glühbirne funktioniert nicht mehr.', 'is': 'Eftir notkun í hundruðir klukkustunda brennur glóðarþráður ljósaperunnar upp og ljósaperan virkar ekki lengur.'} \n",
      "\n",
      "{'id': 364, 'de': 'Die Glühbirne muss dann ausgewechselt werden. Es ist erforderlich, beim Auswechseln der Birne vorsichtig zu sein.', 'is': 'Síðan þarf að skipta um peruna. Nauðsynlegt er að fara varlega við skipti á perunni.'} \n",
      "\n",
      "{'id': 365, 'de': 'Zuerst muss der Schalter der Leuchte ausgeschaltet oder die Kabelverbindung unterbrochen werden.', 'is': 'Fyrst þarf að slökkva ljósið með rofanum eða taka snúruna úr sambandi.'} \n",
      "\n",
      "{'id': 366, 'de': 'Der Grund dafür ist, dass dir der Strom, der in die Halterung für den Metallteil der Glühlampe fließt, einen starken Stromstoß verpassen kann, wenn du das Innere der Halterung oder den Metallsockel der Glühbirne anfasst, während er noch teilweise in der Halterung sitzt.', 'is': 'Þetta er vegna þess að rafmagn sem flæðir inn í innstunguna þar sem málmhluti peru situr getur gefið þér alvarlegt raflost ef þú snertir innstungu eða málmbotn perunnar meðan hún er enn að hluta til í innstungunni.'} \n",
      "\n",
      "{'id': 367, 'de': 'Das Hauptorgan des Kreislaufsystems ist das Herz, welches das Blut pumpt.', 'is': 'Aðallíffæri blóðrásarkerfisins er hjartað sem dælir blóðinu.'} \n",
      "\n",
      "{'id': 368, 'de': 'Blut fließt in Gefäßen, die Arterien genannt werden, vom Herz weg und kommt in Gefäßen, die Venen genannt werden, zum Herz zurück. Die kleinsten Gefäße nennt man Kapillaren.', 'is': 'Blóð flæðir frá hjartanu í gegnum pípur sem kallast slagæðar og flæðir aftur til hjartans í pípum sem kallast bláæðar. Minnstu pípurnar eru kallaðar háræðar.'} \n",
      "\n",
      "{'id': 369, 'de': 'Das Gebiss eines Triceratops war in der Lage, nicht nur Blätter, sondern sogar sehr harte Äste und Wurzeln zu zermalmen.', 'is': 'Tennur nashyrningseðlu gátu ekki bara rifið burt laufin heldur jafnvel þykkar greinar og rætur.'} \n",
      "\n",
      "{'id': 370, 'de': 'Manche Wissenschaftler denken, dass Triceratops Palmfarne fraß. Das ist eine Pflanzenart, die in der Kreidezeit verbreitet war.', 'is': 'Sumir vísindamenn telja að Triceratops hafi étið köngulpálma, en það er plöntutegund sem var algeng á krítartímabilinu.'} \n",
      "\n",
      "{'id': 371, 'de': 'Diese Pflanzen sehen aus wie kleinen Palmen mit einer Krone spitzer, scharfer Blätter.', 'is': 'Þessar plöntur líta út eins og lítið pálmatré með kórónu af hvössum og göddóttum laufum.'} \n",
      "\n",
      "{'id': 372, 'de': 'Ein Triceratops könnte seinen starken Schnabel zum Entfernen der Blätter benutzt haben, bevor er den Stamm gefressen hat.', 'is': 'Nashyrningseðla gæti hafa notað sterkbyggðan gogginn til að fjarlægja laufblöðin áður en hún át trjábolinn.'} \n",
      "\n",
      "{'id': 373, 'de': 'Andere Wissenschaftler argumentieren, dass diese Pflanzen sehr giftig gewesen seien und daher wahrscheinlich kein Dinosaurier sie gefressen haben würde, obwohl heute das Faultier und andere Tiere, z. B. Papageien (die von den Dinosauriern abstammen), durchaus giftige Blätter und Früchte essen können.', 'is': 'Aðrir vísindamenn vilja meina að þessar plöntur séu mjög eitraðar. Því er ólíklegt að risaeðlur hafi étið þær, þó að í dag geti letidýr og önnur dýr eins og páfagaukurinn (afkomandi risaeðlanna) étið eitruð lauf eða ávexti.'} \n",
      "\n",
      "{'id': 374, 'de': 'Wie würde die Schwerkraft von Io auf mich wirken? Stünden Sie auf der Oberfläche von Io, würden Sie weniger wiegen als auf der Erde.', 'is': 'Hvernig myndi aðdráttarafl Io toga í mig? Ef þú myndir standa á yfirborði Io myndir þú vega minna en á Jörðinni.'} \n",
      "\n",
      "{'id': 375, 'de': 'Eine Person, die auf der Erde 200 Pfund (90 kg) wiegt, würde auf Io etwa 36 Pfund (16 kg) wiegen. Also zieht die Schwerkraft natürlich weniger an einem.', 'is': 'Einstaklingur sem vegur 200 pund (90 kg) á jörðinni vegur um 36 pund (16 kg) á tunglinu Ió. Slíkt er auðvitað vegna þess að þyngdaraflið er minna.'} \n",
      "\n",
      "{'id': 376, 'de': 'Im Gegensatz zur Erde verfügt die Sonne nicht über eine Kruste, auf der man stehen kann. Die gesamte Sonne besteht aus Gasen, Feuer und Plasma.', 'is': 'Sólin er ekki með skorpu eins og jörðin sem þú getur staðið á. Öll sólin er gerð úr lofttegundum, eldi og plasma.'} \n",
      "\n",
      "{'id': 377, 'de': 'Das Gas wird dünner, je weiter man sich vom Zentrum der Sonne entfernt.', 'is': 'Lofttegundin þynnist þegar lengra er farið frá miðju sólarinnar.'} \n",
      "\n",
      "{'id': 378, 'de': '\"Der äußere Bereich, den wir sehen, wenn wir in die Sonne schauen, wird Photosphäre genannt, was \"\"Ball aus Licht\"\" bedeutet.\"', 'is': 'Ytri hluti sólarinnar sem við sjáum er við horfum á hana kallast ljóshvolf, sem merkir „ljóskúla“.'} \n",
      "\n",
      "{'id': 379, 'de': 'Etwa dreitausend Jahre später, im Jahr 1610, verwendete der italienische Astronom Galileo Galilei ein Teleskop und beobachtete, dass die Venus, genau wie der Mond, Phasen hat.', 'is': 'Þrjú þúsund árum síðar, árið 1610, notaði ítalski stjörnufræðingurinn Galíleó Galílei sjónauka og komst að því að Venus hefur kvartil líkt og tunglið.'} \n",
      "\n",
      "{'id': 380, 'de': 'Phasen treten auf, weil nur die der Sonne zugewandte Seite der Venus (oder des Mondes) beleuchtet wird. Die Phasen der Venus stützen die Theorie von Kopernikus, dass die Planeten um die Sonne kreisen.', 'is': 'Stig gerast vegna þess að aðeins hlið Venusar (eða tunglsins) sem snýr að sólinni er tendruð. Stig Venusar studdi kenningu Kóperníkusar um að reikistjörnurnar færu í kringum sólina.'} \n",
      "\n",
      "{'id': 381, 'de': 'Einige Jahre später dann, im Jahr 1639, beobachtete ein englischer Astronom namens Jeremiah Horrocks einen Venustransit.', 'is': 'Nokkrum árum síðar, árið 1639, fylgdist enskur stjörnufræðingur að nafni Jeremiah Horrocks með þvergöngu Venusar.'} \n",
      "\n",
      "{'id': 382, 'de': 'England hatte nach der Rückeroberung des Danelags eine lange Zeit des Friedens erlebt.', 'is': 'England upplifði langan friðartíma eftir endurupptöku Danalaga.'} \n",
      "\n",
      "{'id': 383, 'de': 'Im Jahr 991 sah sich Ethelred jedoch einer Wikingerflotte gegenüber, die größer war als jede andere seit der von Guthrum ein Jahrhundert zuvor.', 'is': 'Ethelred þurfti hins vegar að mæta víkingaflota árið 991 sem var stærri en nokkur annar floti frá því við Guthrum einni öld áður.'} \n",
      "\n",
      "{'id': 384, 'de': 'Diese Flotte wurde von Olaf Trygvasson angeführt, einem Norweger mit der Ambition, sein Land aus dänischer Herrschaft zurückzugewinnen.', 'is': 'Flotinn var undir forystu Olafs Trygvassonar, Norðmanns með metnað til að endurheimta land sitt frá yfirráðum Dana.'} \n",
      "\n",
      "{'id': 385, 'de': 'Nach anfänglichen militärischen Rückschlägen konnte sich Æthelred mit Olaf auf Bedingungen einigen. Letzterer kehrte nach Norwegen zurück, um mit wechselhaftem Erfolg zu versuchen, sein Königreich zu erlangen.', 'is': 'Eftir hernaðarlegt afhroð náði Aðalráður samkomulagi við Ólaf sem snéri aftur til Noregs til að endurheimta konungsríki sitt, með misjöfnum árangri þó.'} \n",
      "\n",
      "{'id': 386, 'de': 'Hangeul ist das einzige bewusst erfundene Alphabet, das heute tagtäglich von vielen Menschen benutzt wird. Das Alphabet wurde 1444, während der Regierungszeit von König Sejong (1418-1450), erfunden.', 'is': 'Hangeul er stafróf sem var sérstaklega búið til og það eina sem er notað að einhverju ráði í dag. Stafrófið var fundið upp árið 1444 í valdatíð Sejong konungs (1418-1450).'} \n",
      "\n",
      "{'id': 387, 'de': 'König Sejong war der vierte König der Joseon-Dynastie und ist einer, der am meisten verehrten.', 'is': 'Sejong konungur var fjórði konungur Joseon-keisaradæmisins og er einn af þeim virtustu.'} \n",
      "\n",
      "{'id': 388, 'de': 'Ursprünglich nannte er das Hangeul-Alphabet Hunmin Jeongeum, was „die richtigen Laute für die Unterweisung der Menschen“ bedeutet.', 'is': 'Upphaflega skírði hann Hangeul-stafrófið Hunmin Jeongeum, sem merkir \"réttu hljóðin fyrir leiðbeiningar handa fólkinu\".'} \n",
      "\n",
      "{'id': 389, 'de': 'Es gibt viele Theorien über die Ursprünge von Sanskrit. Eine davon ist über die Einwanderung der Arier aus dem Westen nach Indien, die ihre Sprache mitbrachten.', 'is': 'Margar kenningar eru fyrir hendi um uppruna sanskrít. Ein snýst um arískan flutning fólks í vesturátt til Indlands sem tók tungumálið sitt með sér.'} \n",
      "\n",
      "{'id': 390, 'de': 'Sanskrit ist eine alte Sprache und ist vergleichbar mit dem in Europa gesprochenen Latein.', 'is': 'Sanskrít er fornt tungumál og er sambærilegt við rómanska tungumálið sem talað er í Evrópu.'} \n",
      "\n",
      "{'id': 391, 'de': 'Das älteste bekannte Buch der Welt wurde in Sanskrit geschrieben. Nach der Sammlung der Upanishaden wich das Sanskrit aus hierarchischen Gründen zurück.', 'is': 'Fyrsta þekkta bók heimsins var skrifuð á sanskrít. Eftir safnverk Upanishads, dó sanskrít út sökum stigveldis.'} \n",
      "\n",
      "{'id': 392, 'de': 'Sanskrit ist eine sehr vielschichtige und reiche Sprache, die als Quelle für viele moderne indische Sprachen fungierte, genau wie Latein der Ursprung europäischer Sprachen wie Französisch und Spanisch ist.', 'is': 'Sanskrít er mjög flókið og auðugt tungumál, sem hefur verið uppspretta margra indverskra nútímatungumála, rétt eins og latína er uppspretta evrópskra tungumála eins og frönsku og spænsku.'} \n",
      "\n",
      "{'id': 393, 'de': 'Nachdem die Schlacht um Frankreich beendet war, bereitete sich Deutschland auf die Invasion der britischen Insel vor.', 'is': 'Þegar orustanni um Frakklandi var lokið hóf Þýskaland að undirbúa innrás Bretlands.'} \n",
      "\n",
      "{'id': 394, 'de': 'Deutschland verlieh der Attacke den Decknamen „Unternehmen Seelöwe“. Der Großteil der schweren Waffen und Vorräte der britischen Armee waren bei der Evakuation aus Dünkirchen verlorengegangen, die Armee war also ziemich geschwächt.', 'is': 'Þýskaland gaf árásinni heitið „Aðgerðin sæljón“. Þungavopn og birgðir breska hersins höfðu tapast að mestu leyti þegar hann yfirgaf Dunkirk, þannig að herinn var frekar veikburða.'} \n",
      "\n",
      "{'id': 395, 'de': 'Aber die Royal Navy war trotzdem noch viel stärker als die deutsche Marine („Kriegsmarine“) und hätte jede Invasionsflotte, die über den englischen Kanal geschickt worden wäre, zerstören können.', 'is': 'En breski sjóherinn var samt mun sterkari en sá þýski („Kriegsmarine“) og hefði getað grandað hvers kyns innrásarflota sem kæmi frá Ermasundinu.'} \n",
      "\n",
      "{'id': 396, 'de': 'Allerdings waren nur sehr wenige Schiffe der Königlichen Marine in der Nähe der wahrscheinlichen Invasionsrouten stationiert, da die Admirale befürchteten, dass sie bei einem deutschen Luftangriff versenkt werden könnten.', 'is': 'Hins vegar voru ekki mörg skip breska flotans nálægt líklegum árásarleiðum, vegna þess að aðmírálarnir voru hræddir um að skipunum yrði sökkt við loftárásir þjóðverja.'} \n",
      "\n",
      "{'id': 397, 'de': 'Beginnen wir mit einer Erläuterung der italienischen Pläne. Italien war in erster Linie der „kleine Bruder“ von Deutschland und Japan.', 'is': 'Við skulum byrja á skýringum á áætlunum Ítalíu. Ítalía var að mestu „litli bróðir\" Þýskalands og Japans.'} \n",
      "\n",
      "{'id': 398, 'de': 'Es hatte eine schwächere Armee und eine schwächere Marine, obwohl man erst kurz vor Beginn des Krieges vier neue Schiffe gebaut hatte.', 'is': 'Það bjó yfir vanmáttugri landher og sjóher, þrátt fyrir að hafa smíðað fjögur skip rétt áður en stríðið hófst.'} \n",
      "\n",
      "{'id': 399, 'de': 'Die Hauptziele Italiens waren afrikanische Länder. Um diese Länder zu erobern, brauchten sie einen Startplatz für die Truppen, damit die Truppen über das Mittelmeer segeln und in Afrika einmarschieren konnten.', 'is': 'Helstu skotmörk Ítalíu voru Afríkulöndin. Til að taka yfir þessi lönd þyrfti Ítalía að hafa sjósetningarstað fyrir hermenn til að herliðið gæti siglt yfir Miðjarðarhafið og ráðist inn í Afríku.'} \n",
      "\n",
      "{'id': 400, 'de': 'Dafür mussten sie britische Stützpunkte und Schiffe in Ägypten eliminieren. Abgesehen davon sollte Italiens Schlachtschiffen keine weitere Rolle zukommen.', 'is': 'Þess vegna urðu þeir að losa sig við breskar herstöðvar og skip í Egyptalandi. Ítölsku orrustuskipin voru ekki ætluð í neitt að undanskildum þessum aðgerðum.'} \n",
      "\n",
      "{'id': 401, 'de': 'Nun zu Japan. Japan war eine Inselstaat, genau wie Großbritannien.', 'is': 'Núna fyrir Japan. Japan var eyland, alveg eins og Bretland.'} \n",
      "\n",
      "{'id': 402, 'de': 'U-Boote sind Schiffe, die dazu bestimmt sind, unter Wasser zu fahren und dort für eine längere Zeit zu bleiben.', 'is': 'Kafbátar eru skip sem eru hönnuð til að sigla neðansjávar og vera þar til lengri tíma.'} \n",
      "\n",
      "{'id': 403, 'de': 'U-Boote wurden im Ersten und Zweiten Weltkrieg eingesetzt. Damals waren sie sehr langsam und verfügten über eine sehr begrenzte Schussweite.', 'is': 'Kafbátar voru notaðir í fyrri og síðari heimsstyrjöldinni. Á þeim tíma voru þeir mjög hægfara og skotfæri þeirra var mjög takmarkað.'} \n",
      "\n",
      "{'id': 404, 'de': 'Zu Beginn des Krieges bewegten sie sich meist an der Meeresoberfläche, aber als sich das Radar weiterentwickelte und immer genauer wurde, waren die U-Boote zum Abtauchen gezwungen, um nicht gesehen zu werden.', 'is': 'Í upphafi styrjaldarinnar ferðuðust þeir aðallega eftir yfirborði sjávar en eftir því sem ratsjáin þróaðist og varð nákvæmari urðu kafbátarnir að sigla neðansjávar til að koma í veg fyrir að þeir sæjust.'} \n",
      "\n",
      "{'id': 405, 'de': 'Das Wort U-Boot wurde in der Version „U-Boat“ auch im Englischen verwendet, womit speziell deutsche U-Boote gemeint waren. Die Deutschen waren sehr gut darin, ihre U-Boote zu navigieren und zu steuern.', 'is': 'Þýskir kafbátar voru kallaði U-bátar. Þjóðverjar voru mjög góðir í að sigla og stýra kafbátum sínum.'} \n",
      "\n",
      "{'id': 406, 'de': 'Wegen ihres Erfolges mit U-Booten vertraute man den Deutschen nach dem Krieg nicht, viele davon zu besitzen.', 'is': 'Þjóðverjum er ekki treyst til að eiga marga kafbáta eftir stríðið sökum velgengni þeirra með þá.'} \n",
      "\n",
      "{'id': 407, 'de': 'Ja! König Tutanchamun, manchmal auch als „King Tut“ oder „The Boy King“ bezeichnet, ist heute einer der bekanntesten altägyptischen Könige.', 'is': 'Já! Konungurinn Tutankhamun , sem er stundum kallaður \"Tut kóngur\" eða \"drengkóngurinn\", er einn best þekkti hinna fornu egyptsku konunga í dag.'} \n",
      "\n",
      "{'id': 408, 'de': 'Interessanterweise wurde er in der Antike nicht als sehr wichtig angesehen und war auf den ältesten Königslisten nicht aufgeführt.', 'is': 'Áhuga vekur að hann var ekki talinn mjög mikilvægur í fornöld og var ekki með á listum yfir elstu konunga.'} \n",
      "\n",
      "{'id': 409, 'de': 'Die Entdeckung seiner Grabkammer im Jahr 1922 machte ihn jedoch zu einer Berühmtheit. Während viele Gräber der alten Zeit ausgeraubt wurden, blieb sein Grab nahezu unberührt.', 'is': 'Hann varð hins vegar heimsfrægur þegar grafhvelfing hans var uppgötvuð árið 1922. Mýmargar grafhvelfingar voru rændar í fyrndinni en grafhvelfing hans var nánast ósnert.'} \n",
      "\n",
      "{'id': 410, 'de': 'Die meisten Gegenstände, mit denen Tutanchamun beigesetzt wurde, sind gut erhalten, ebenso tausende Artefakte, die aus wertvollen Metallen und seltenen Steinen hergestellt wurden.', 'is': 'Flestir munirnir sem grafnir voru með Tutankhamun hafa verið vel varðveittir, þar á meðal þúsundir muna sem unnir voru úr góðmálmum og sjaldgæfum steinum.'} \n",
      "\n",
      "{'id': 411, 'de': 'Durch die Erfindung des Speichenrads wurden die assyrischen Streitwagen leichter, schneller und besser imstande, Soldaten und andere Streitwagen zu überholen.', 'is': 'Uppfinning teinahjóla hafði í för með sér að vagnar Assýríu urðu ekki eins þungir, ekki eins hægfara og gátu betur farið fram úr hermönnum og öðrum vögnum.'} \n",
      "\n",
      "{'id': 412, 'de': 'Pfeile von ihren tödlichen Armbrüsten konnten die Rüstung feindlicher Soldaten durchbohren. Etwa 1000 v. Chr. führten die Assyrer die Kavallerie ein.', 'is': 'Örvar úr lífshættulegum lásbogum þeirra gátu stungist í gegnum brynklæði óvinahermanna. Um 1000 f.Kr. kynntu Assyríumenn fyrsta riddaraliðið til sögunnar.'} \n",
      "\n",
      "{'id': 413, 'de': 'Eine Kavallerie ist eine Truppe, die zu Pferde kämpft. Da der Sattel noch nicht erfunden war, kämpfte die assyrische Kavallerie vom bloßen Rücken ihrer Pferde aus.', 'is': 'Riddaralið er herlið sem háir orrustu á hestbaki. Riddaralið Assýríu barðist á berbaki því ekki var enn búið að finna upp hnakkinn.'} \n",
      "\n",
      "{'id': 414, 'de': 'Wir kennen zahlreiche griechischen Politiker, Wissenschaftler und Künstler. Die vielleicht bekannteste Person dieses Kulturkreises ist der legendäre blinde Dichter Homer, der zwei Meisterwerke der griechischen Literatur dichtete: die „Ilias“ und die „Odyssee“.', 'is': 'Okkur er kunnugt um marga gríska stjórnmálamenn, vísindamenn og listamenn. Ef til vill er þekktasti einstaklingur þeirrar menningar Hómer, hið þjóðsagnakennda blinda skáld sem samdi tvö af meistaraverkum grískra bókmenna, Illions- og Óddyseifskviður.'} \n",
      "\n",
      "{'id': 415, 'de': 'Sophokles und Aristophanes sind nach wie vor beliebte Dramatiker, und ihre Stücke zählen zu den größten Werken der Weltliteratur.', 'is': 'Sófókles og Aristófanes eru enn vinsæl leikskáld og leikrit þeirra eru talin með mikilvægustu verkum heimsbókmenntanna.'} \n",
      "\n",
      "{'id': 416, 'de': 'Ein anderer bekannter Grieche ist der Mathematiker Pythagoras, der hauptsächlich für seinen berühmten Lehrsatz über die Seitenverhältnisse von rechtwinkligen Dreiecken bekannt ist.', 'is': 'Stærðfræðingurinn Pýþagóras er annar víðfrægur Grikki sem er einna helst þekktur fyrir alkunna kennisetningu sína um hliðar rétthyrndra þríhyrninga.'} \n",
      "\n",
      "{'id': 417, 'de': 'Es gibt unterschiedliche Schätzungen darüber, wie viele Menschen Hindi sprechen. Man schätzt, dass Hindi die zweit- bis viertmeist gesprochene Sprache der Welt ist.', 'is': 'Margar mismunandi ágiskanir eru til um hve margir tali hindí. Talið er að það sé annað til fjórða mest talaða tungumál í heimi.'} \n",
      "\n",
      "{'id': 418, 'de': 'Die Anzahl der Muttersprachler variiert abhängig davon, ob sehr eng verwandte Dialekte mitgezählt werden oder nicht.', 'is': 'Fjöldi manns með tungumálið að móðurmáli er breytilegur eftir því hvort mjög nátengdar mállýskur eru taldar með eða ekki.'} \n",
      "\n",
      "{'id': 419, 'de': 'Schätzungen reichen von 340 bis 500 Millionen Sprechern. Bis zu 800 Millionen Menschen verstehen die Sprache.', 'is': 'Það eru frá 340 til 500 milljónum sem tala málið og allt að 800 milljónir skilja það.'} \n",
      "\n",
      "{'id': 420, 'de': 'Hindi und Urdu haben einen ähnlichen Wortschatz, aber eine unterschiedliche Schrift; im Alltagsgespräch können sich Sprecher beider Sprachen in der Regel gegenseitig verstehen.', 'is': 'Hindí og úrdú hafa svipaðan orðaforða en ritmálin eru ólík; í venjulegum samræðum geta viðmælendur beggja tungumála yfirleitt skilið hvorn annan.'} \n",
      "\n",
      "{'id': 421, 'de': 'Um das 15. Jahrhundert stand Nordestland unter großem kulturellen Einfluss aus Deutschland.', 'is': 'Á 15. öld var norðanvert Eistland undir miklum menningarlegum áhrifum Þýskalands.'} \n",
      "\n",
      "{'id': 422, 'de': 'Einige deutsche Mönche wollten Gott dem eingeborenen Volk näherbringen und entwickelten so die estnische Schriftsprache.', 'is': 'Nokkrir þýskir munkar vildu færa Guð nær innfæddum og því fundu þeir upp eistnesku bókstafstunguna.'} \n",
      "\n",
      "{'id': 423, 'de': 'Sie basierte auf dem deutschen Alphabet und ein Buchstabe, nämlich „Õ/õ“, wurde hinzugefügt.', 'is': 'Það var byggt á þýska stafrófinu og var einum staf, \"Õ/õ\", bætt við.'} \n",
      "\n",
      "{'id': 424, 'de': 'Mit der Zeit verschmolzen viele Wörter, die aus dem Deutschen entlehnt worden waren. Das war der Beginn der Aufklärung.', 'is': 'Eftir því sem á leið runnu mörg tökuorð úr þýsku saman við málið. Þetta var upphafið að upplýsingarstefnunni.'} \n",
      "\n",
      "{'id': 425, 'de': 'Traditionell ging der Thronerbe nach dem Ende der Schulzeit direkt zum Militär.', 'is': 'Hefð er fyrir því að erfingi krúnunnar fari beint í herinn eftir að námi er lokið.'} \n",
      "\n",
      "{'id': 426, 'de': 'Charles studierte jedoch danach Anthropologie und Archäologie, später auch Geschichte, am Trinity College in Cambridge und schloss mit 2:2 ab (einem Abschluss ohne besondere Auszeichnung).', 'is': 'Charles gekk hins vegar í háskólann við Trinity College í Cambridge þar sem hann lagði stund á mannfræði og fornleifafræði og síðar sagnfræði og lauk 2:2 prófi (lægri gráðu af öðrum flokki).'} \n",
      "\n",
      "{'id': 427, 'de': 'Charles war das erste Mitglied der britischen Königsfamilie, dem ein Hochschulabschluss verliehen wurde.', 'is': 'Charles var fyrsti meðlimur bresku konungsfjölskyldunnar til að fá háskólagráðu.'} \n",
      "\n",
      "{'id': 428, 'de': 'Der europäische Teil der Türkei (Ostthrakien bzw. Rumelien auf der Balkanhalbinsel) umfasst 3 % des Landes.', 'is': 'Evrópski hluti Tyrklands (austurhluti Þrakíu eða Rúmelíu á Balkanskaganum) er 3% af landinu.'} \n",
      "\n",
      "{'id': 429, 'de': 'Das Hoheitsgebiet der Türkei mit einer Länge von mehr als 1.600 Kilometern (1.000 Meilen) und einer Breite von 800 Kilometern (500 Meilen) ähnelt in seiner Form einem Rechteck.', 'is': 'Yfirráðasvæði Tyrklands er meira en 1.600 kílómetrar (1000 mílur) að lengd og 800 km (500 mílur) á breidd með nokkurn veginn rétthyrnda lögun.'} \n",
      "\n",
      "{'id': 430, 'de': 'Das Staatsgebiet der Türkei, einschließlich der Seen, umfasst 783.562 Quadratkilometer (300.948 Quadratmeilen), davon befinden sich 755.688 Quadratkilometer (291.773 Quadratmeilen) in Südwestasien und 23.764 Quadratkilometer (9.174 Quadratmeilen) in Europa.', 'is': 'Stærð Tyrklands, að meðtöldum vötnum, er 783.562 ferkílómetrar, en af því eru 755.688 ferkílómetrar í suðvestur Asíu og 23.764 ferkílómetrar í Evrópu.'} \n",
      "\n",
      "{'id': 431, 'de': 'Die Fläche der Türkei macht sie zum 37.-größten Land der Welt und sie ist etwa so groß wie der europäische Teil Frankreichs und das Vereinigte Königreich zusammen.', 'is': 'Að flatarmáli er Tyrkland í 37. stærsta land heims, og er u.þ.b. jafnstórt og Frakkland og Bretland samanlagt.'} \n",
      "\n",
      "{'id': 432, 'de': 'Die Türkei ist auf drei Seiten von Meeren umgeben – von der Ägäis im Westen, dem Schwarze Meer im Norden und dem Mittelmeer im Süden.', 'is': 'Tyrkland er með höf á þrjá vegu: að vestan Eyjahaf, að norðan Svartahaf og að sunnan Miðjarðarhaf.'} \n",
      "\n",
      "{'id': 433, 'de': 'Luxemburg hat eine lange Geschichte, ist aber erst seit 1839 unabhängig.', 'is': 'Lúxemborg á sér langa sögu en ríkið hlaut sjálfstæði árið 1839.'} \n",
      "\n",
      "{'id': 434, 'de': 'Heutige Teile Belgiens gehörten in der Vergangenheit zu Luxemburg, wurden jedoch nach der Belgischen Revolution in den 1830ern Teil Belgiens.', 'is': 'Núverandi svæði Belgíu tilheyrðu áður Lúxemborg en urðu belgísk eftir belgísku byltinguna á 4. áratug 19. aldar.'} \n",
      "\n",
      "{'id': 435, 'de': 'Obwohl Luxemburg immer versucht hatte, ein neutrales Land zu bleiben, wurde es sowohl im Ersten als auch im Zweiten Weltkrieg von Deutschland besetzt.', 'is': 'Lúxemborg hefur alltaf reynt að vera hlutlaust land en það var hernumið bæði í fyrri heimsstyrjöldinni og síðari heimsstyrjöldinni af Þýskalandi.'} \n",
      "\n",
      "{'id': 436, 'de': 'Luxemburg wurde 1957 Gründungsmitglied der Organisation, die heute als Europäische Union bekannt ist.', 'is': 'Árið 1957 gerðist Lúxemborg stofnaðili samtakanna sem í dag nefnast Evrópusambandið.'} \n",
      "\n",
      "{'id': 437, 'de': 'Der Drukyel-Dzong ist eine Festungsruine und ein buddhistisches Kloster im oberen Teil des Paro-Distrikts (im Dorf Phondey).', 'is': 'Drukgyal Dzong eru rústir af virki og búddaklaustur í efri hluta Paro-hverfisins (í Phondey-dal).'} \n",
      "\n",
      "{'id': 438, 'de': 'Es heißt, Zhabdrung Ngawang Namgyel habe die Festung 1649 erbaut, um seines Sieges gegen die tibetisch-mongolischen Streitkräfte zu gedenken.', 'is': 'Sögur segja að árið 1649 hafi Zhabdrung Ngawang Namgyel byggt virkið sem minnisvarða um sigur sinn á herliði Tíbeta og Mongóla.'} \n",
      "\n",
      "{'id': 439, 'de': '1951 führte ein Feuer dazu, dass nur einige Überreste des Drukyel-Dzong überdauerten, darunter das Bild von Shabdrung Ngawang Namgyel.', 'is': 'Árið 1951 urðu tilteknar menjar í Drukgyal Dzong eldsvoða að bráð, þar á meðal myndin af Zhabdrung Ngawang Namgyal.'} \n",
      "\n",
      "{'id': 440, 'de': 'Nach dem Feuer wurde die Festung bewahrt und geschützt und bleibt so weiterhin eine von Bhutans sensationellsten Attraktionen.', 'is': 'Virkið var gert upp eftir eldsvoðann og verndað og er í dag einn fjölsóttasti ferðamannastaður Bútan.'} \n",
      "\n",
      "{'id': 441, 'de': 'Während des 18. Jahrhunderts war Kambodscha zwischen zwei mächtigen Nachbarn eingezwängt – Thailand und Vietnam.', 'is': 'Á 18. öld var Kambódía aðþrengt milli tveggja valdamikilla nágranna, Taílands og Víetnams.'} \n",
      "\n",
      "{'id': 442, 'de': 'Die Thais marschierten im 18. Jahrhundert mehrfach in Kambodscha ein und vernichteten Phnom Penh im Jahr 1772.', 'is': 'Taílendingar gerðu innrás inn í Kambódíu nokkrum sinnum á 18. öld og árið 1772 eyðilögðu þeir Phnom Phen.'} \n",
      "\n",
      "{'id': 443, 'de': 'Die Vietnamesen sind in den letzten Jahren des 18. Jahrhunderts auch in Kambodscha eingedrungen.', 'is': 'Síðustu ár 18. aldar réðust Víetnamar einnig inn í Kambódíu.'} \n",
      "\n",
      "{'id': 444, 'de': 'Achtzehn Prozent der Venezolaner sind arbeitslos und die meisten Beschäftigten arbeiten in der Schattenwirtschaft.', 'is': 'Átján prósent Venesúelabúa eru atvinnulausir og flestir þeirra sem eru með atvinnu starfa í svarta hagkerfinu.'} \n",
      "\n",
      "{'id': 445, 'de': 'Zwei Drittel der arbeitenden Venezolaner arbeiten im Dienstleistungsbereich, fast ein Viertel in der Industrie und ein Fünftel in der Landwirtschaft.', 'is': 'Tveir þriðju íbúa Venezúela sem eru með atvinnu eru í þjónustugreinum, nærri fjórðungur er í iðnaði og um fimmtungur í landbúnaði.'} \n",
      "\n",
      "{'id': 446, 'de': 'Ein wichtiger Industriezweig für die Venezolaner ist das Erdöl. Obwohl nur ein Prozent der Beschäftigten in der Erdölindustrie tätig ist, ist das Land hier ein Nettoexporteur.', 'is': 'Olíuiðnaðurinn er Venesúela afar mikilvægur, en landið er stór olíuútflytjandi þrátt fyrir að aðeins um eitt prósent landsmanna starfi í olíuiðnaðinum.'} \n",
      "\n",
      "{'id': 447, 'de': 'Früh in der Unabhängigkeit der Nation half die Expertise des botanischen Gartens von Singapur dabei, die Insel in eine tropische Gartenstadt zu verwandeln.', 'is': 'Fljótlega eftir sjálfstæði þjóðarinnar hjálpaði sérfræðiþekking Singapore Botanic Gardens til við að umbreyta eyjunni í hitabeltisgarðborg.'} \n",
      "\n",
      "{'id': 448, 'de': 'Vanda Miss Joaquim, eine Orchideenkreuzung, wurde im Jahr 1981 zur Nationalblume des Landes gekürt.', 'is': 'Árið 1981 varð blendingur af orkídeu með heitið Vanda Miss Joaquim fyrir valinu sem þjóðarblómið.'} \n",
      "\n",
      "{'id': 449, 'de': 'Jedes Jahr um den Oktober herum ziehen fast 1,5 Millionen Pflanzenfresser in die südlichen Ebenen und überqueren den Fluss Mara aus den nördlichen Hügeln wegen der Regenfälle.', 'is': 'Í kringum október á hverju ári leggja næstum 1,5 milljón plöntuætur leið sína til sunnanverðrar sléttunnar, vaða yfir Mara-ána, frá norðanverðum hæðunum út af regntímanum.'} \n",
      "\n",
      "{'id': 450, 'de': 'Und dann zurück in den Norden durch den Westen, mit einer erneuten Überquerung des Flusses Mara nach den Regenfällen im April.', 'is': 'Og síðan aftur í norðvestlæga átt og aftur yfir Mara-ána eftir að regntímabilinu lýkur í apríl.'} \n",
      "\n",
      "{'id': 451, 'de': 'Zum Serengeti-Gebiet gehört der Serengeti-Nationalpark, das Ngorongoro-Reservat und der Maswe-Wildpark in Tansania sowie der Maasai-Mara-Nationalpark in Kenia.', 'is': 'Serengeti-svæðið inniheldur Serengeti-þjóðgarðinn, Ngorongoro-verndarsvæðið og friðaða Maswa-svæðið í Tansaníu og Maasai Mara-friðlandið í Kenýa.'} \n",
      "\n",
      "{'id': 452, 'de': 'Um zu lernen, wie man interaktive Medien erstellt, sind konventionelle und traditionelle Fähigkeiten sowie Werkzeuge erforderlich, die in interaktiven Kursen erlernt werden (Storyboarding, Audio- und Videobearbeitung, Storytelling usw.).', 'is': 'Að læra að búa til gagnvirka miðla krefst hefðbundinnar sem og verkfæra sem lærð eru í gagnvirkum tímum (söguborð, hljóð- og myndvinnsla, frásögn o.s.frv.)'} \n",
      "\n",
      "{'id': 453, 'de': 'Interaktives Design erfordert, dass Sie Ihre Annahmen über die Medienproduktion hinterfragen und lernen, auf nicht-lineare Weise zu denken.', 'is': 'Gagnvirk hönnun kallar á endurmat þitt á fyrri ályktunum hvað varðar framleiðslu margmiðlunarefnis og þú lærir að hugsa á ólínulegan hátt.'} \n",
      "\n",
      "{'id': 454, 'de': 'Ein interaktives Design erfordert, dass sich die Komponenten eines Projektes miteinander verbinden, dass sie aber auch als eigenständige Einheiten Sinn ergeben.', 'is': 'Gagnvirk hönnun krefst þess að efnisþættir tiltekinna verkefna tengist innbyrðis en séu einnig skiljanlegir sem aðskildar einingar.'} \n",
      "\n",
      "{'id': 455, 'de': 'Der Nachteil von Zoomobjektiven ist, dass die Fokussierung und die Anzahl an Linsenelementen, die für einen Brennweitenbereich erforderlich sind, viel größer sind als bei Objektiven mit fester Brennweite.', 'is': 'Ókosturinn við aðdráttarlinsur er að skerpuflækjustigið og fjöldi linsuþátta sem þarf til að ná fram fjölda brennivíddar er miklu meiri en fyrir frumlinsur.'} \n",
      "\n",
      "{'id': 456, 'de': 'Dieses Problem wird immer unbedeutender, da die Linsenhersteller bei der Linsenproduktion höhere Standards erreichen.', 'is': 'Þetta er farið að skipta minna máli þar sem linsuframleiðendur skila af sér betri afköstum í framleiðslunni.'} \n",
      "\n",
      "{'id': 457, 'de': 'Dadurch konnten mit Zoomobjektiven Bilder in einer Qualität erzeugt werden, die mit der von Objektiven mit fester Brennweite vergleichbar ist.', 'is': 'Þetta hefur gert aðdráttarlinsum kleift að framleiða myndir af sambærilegum gæðum og fást með linsum með fasta brennivídd.'} \n",
      "\n",
      "{'id': 458, 'de': 'Ein weiterer Nachteil von Teleobjektiven besteht darin, dass die maximale Blendenöffnung (die Geschwindigkeit) der Linse für gewöhnlich niedriger ist.', 'is': 'Annar ókostur við aðdráttarlinsur er að ljósop (hraði) linsunnar er yfirleitt minna.'} \n",
      "\n",
      "{'id': 459, 'de': 'Deshalb sind billige Zoomobjektive in Situationen mit wenig Licht ohne Blitz schwer zu verwenden.', 'is': 'Þetta gerir ódýrar aðdráttarlinsur erfiðar í notkun við lítil birtuskilyrði án flass.'} \n",
      "\n",
      "{'id': 460, 'de': 'Eines der häufigsten Probleme bei der Umwandlung eines Films in das DVD-Format ist die Übertastung.', 'is': 'Eitt algengasta vandamálið þegar reynt er að breyta kvikmynd í DVD-snið 0er yfirskönnun.'} \n",
      "\n",
      "{'id': 461, 'de': 'Die meisten Fernsehgeräte werden so hergestellt, dass sie der breiten Öffentlichkeit gefallen.', 'is': 'Flest sjónvörp eru framleidd á máta sem þóknast almenningi.'} \n",
      "\n",
      "{'id': 462, 'de': 'Darum ist bei allem, was man im Fernseher sieht, oben, unten und an den Seiten der Rand abgeschnitten.', 'is': 'Af þeirri ástæðu hefur allt sem sést í sjónvarpinu verið klippt á jöðrunum, uppi, niðri og á hliðunum.'} \n",
      "\n",
      "{'id': 463, 'de': 'Damit soll sichergestellt werden, dass das Bild den ganzen Bildschirm bedeckt. Das bezeichnet man als Overscan.', 'is': 'Þetta er gert til að tryggja að myndin nái yfir allan skjáinn. Það er kallað klipptur rammi.'} \n",
      "\n",
      "{'id': 464, 'de': 'Leider werden die Ränder höchstwahrscheinlich auch abgeschnitten, wenn man eine DVD macht, und wenn im Video die Untertitel zu nahe am unteren Rand stehen, werden sie nicht vollständig angezeigt.', 'is': 'Því miður, ef gerður er mynddiskur, verða endarnir líklega klipptir líka og ef skjátextar eru of neðarlega munu þeir ekki sjást allir.'} \n",
      "\n",
      "{'id': 465, 'de': 'Die traditionelle mittelalterliche Burg inspiriert seit langem die Fantasie und beschwört Bilder von Turnieren, Banketten und Artus-Rittertum herauf.', 'is': 'Hefðbundni miðaldakastalinn hefur löngum veitt hugmyndafluginu innblástur og töfrað fram myndir af burtreiðum, veislum og riddaraliði Arthur.'} \n",
      "\n",
      "{'id': 466, 'de': 'Selbst zwischen tausend Jahre alten Ruinen stehend fällt es leicht, sich die Geräusche und Gerüche längst vergangener Schlachten vorzustellen, beinahe das Hufgetrappel auf dem Kopfsteinpflaster zu hören und die wachsende Furcht in den Verliesen zu riechen.', 'is': 'Það er auðvelt að ímynda sér hljóðin og lyktina af bardögum háðum fyrir löngu síðan þegar staðið er innan um þúsund ára gamlar rústir, að nánast heyra í tölti hestanna á götusteinunum og finna lyktina af hræðslunni sem stígur upp úr dýflissunum.'} \n",
      "\n",
      "{'id': 467, 'de': 'Aber gründet sich unsere Vorstellungskraft auf die Realität? Warum wurden Schlösser überhaupt erst gebaut? Wie wurden sie entworfen und errichtet?', 'is': 'Á ímyndunaraflið sér samt stoð í raunveruleikanum? Hví voru kastalar yfirhöfuð byggðir? Hvernig var hönnun þeirra og smíði?'} \n",
      "\n",
      "{'id': 468, 'de': 'Wie es für die damalige Zeit typisch war, ist das Kirby Muxloe Castle eher ein befestigtes Haus als eine echte Burg.', 'is': 'Dæmigert fyrir það tímabil er Kirby Muxloe Castle sem er frekar víggirt hús en raunverulegur kastali.'} \n",
      "\n",
      "{'id': 469, 'de': 'Seine großen verglasten Fenster und dünnen Wände hätten einem gezielten Angriff nicht lange standhalten können.', 'is': 'Stóru gljáðu gluggarnir og þunnu veggirnir hefðu ekki getað staðist stórárás í langan tíma.'} \n",
      "\n",
      "{'id': 470, 'de': 'In den 1480er Jahren, als Lord Hastings es zu errichten begann, war das Land ziemlich friedlich und Verteidigung war nur gegen kleine Banden umherstreichender Marodeure nötig.', 'is': 'Árið 1480, þegar Hastings lávarður hóf byggingarframkvæmdirnar, ríkti friður í nánast öllu landinu og aðeins var þörf á varnarmúrum gegn litlum ræningjahópum.'} \n",
      "\n",
      "{'id': 471, 'de': 'Das Kräftegleichgewicht war ein System, in dem die europäischen Nationen danach strebten, die nationale Souveränität aller europäischen Staaten aufrechtzuerhalten,', 'is': 'Valdajafnvægi var kerfi þar sem Evrópuþjóðir reyndu að viðhalda fullveldi allra Evrópuríkja.'} \n",
      "\n",
      "{'id': 472, 'de': 'Das Konzept bestand darin, dass alle europäischen Nationen versuchen mussten, zu verhindern, dass eine Nation mächtig würde. Daher wechselten die nationalen Regierungen ihre Bündnisse, um das Gleichgewicht zu erhalten.', 'is': 'Yfirvöld breyttu oft bandalögum sínum svo að hægt væri að halda jafnvæginu við. Þetta var gert því Evrópuþjóðir vildu hindra að ein þjóð yrði valdamikil.'} \n",
      "\n",
      "{'id': 473, 'de': 'Der Spanische Erbfolgekrieg stellt den ersten Krieg dar, dessen Hauptproblem das Machtgleichgewicht war.', 'is': 'Spænska erfðastríðið var það fyrsta þar sem lykilatriðið var valdajafnvægi.'} \n",
      "\n",
      "{'id': 474, 'de': 'Dies markierte einen wichtigen Wandel, da die europäischen Mächte nicht mehr den Vorwand nutzen konnten, religiöse Kriege auszufechten. Daher war der Dreißigjährige Krieg der letzte Krieg, der als religiöser Krieg etikettiert wurde.', 'is': 'Þetta hafði í för með sér þýðingarmikla breytingu því Evrópuþjóðir litu ekki lengur út fyrir að vera í trúarstríði. Þannig varð 30 ára stríðið það síðasta sem nefnt var trúarbragðastríð.'} \n",
      "\n",
      "{'id': 475, 'de': 'Der Artemis-Tempel in Ephesus wurde am 21. Juli 356 v. Chr. in einem Akt der Brandstiftung durch Herostratus zerstört.', 'is': 'Artemis-musteri Efesus var lagt í rúst þann 21. júlí 356 f.Kr. í eldvoða sem Herostratus kom af stað.'} \n",
      "\n",
      "{'id': 476, 'de': \"Der Geschichte zufolge lag seine Motivation in Ruhm um jeden Preis. Die erbosten Epheser erklärten, Herostratos' Name würde niemals aufgezeichnet werden.\", 'is': 'Sagan segir að hann hafi fórnað öllu til að öðlast frægð og frama. Íbúum Efesus var afar misboðið og tilkynnt var að nafn Heróstratusar yrði aldrei framar í minnum haft.'} \n",
      "\n",
      "{'id': 477, 'de': 'Der griechische Historiker Strabo schrieb später den Namen auf, weshalb wir ihn heute kennen. Der Tempel wurde in derselben Nacht zerstört, in der Alexander der Große geboren wurde.', 'is': 'Gríski sagnfræðingurinn Strabo veitti síðar nafninu athygli en við þekkjum það þannig í dag. Musterið var eyðilagt sömu nótt og Alexander mikli fæddist.'} \n",
      "\n",
      "{'id': 478, 'de': 'Alexander bat als König an, für einen Neubau des Tempels zu zahlen, doch sein Angebot wurde abgelehnt. Später, nach Alexanders Tod, wurde der Tempel 323 v. Chr. wieder aufgebaut.', 'is': 'Þegar Alexander var konungur bauðst hann til að greiða fyrir endurbyggingu hofsins en boðinu var hafnað. Síðar, eftir andlát Alexanders, var hofið endurbyggt, eða árið 323 fyrir fæðingu Krists.'} \n",
      "\n",
      "{'id': 479, 'de': 'Stellen Sie sicher, dass Ihre Hand so entspannt wie möglich ist und Sie dennoch alle Töne korrekt treffen können. Versuchen Sie auch, mit den Fingern keine unnötig großen Bewegungen zu machen.', 'is': 'Passaðu þig að höndin þín sé eins afslöppuð og mögulegt er á meðan þú slærð rétt á allar nóturnar. Reyndu líka að hreyfa ekki fingurna of mikið ef ekki er þörf á því.'} \n",
      "\n",
      "{'id': 480, 'de': 'So ermüden Sie sich möglichst wenig. Denken Sie daran, dass es nicht nötig ist, die Tasten mit viel Kraft anzuschlagen, um zusätzliche Lautstärke zu erzielen, wie es beim Klavier der Fall ist.', 'is': 'Þannig munt þú þreyta þig sem minnst. Mundu að það er engin þörf á að slá á takkana með miklum krafti til að fá hærra hljóð eins og á píanóinu.'} \n",
      "\n",
      "{'id': 481, 'de': 'Um die Lautstärke auf dem Akkordeon zu erhöhen, benutzt man den Blasebalg mit mehr Druck oder Geschwindigkeit.', 'is': 'Þú getur notað belg harmóníkunnar til að fá aukinn hljóðstyrk með því að beita meiri þrýstingi og hraða.'} \n",
      "\n",
      "{'id': 482, 'de': 'Mystik ist das Streben nach Gemeinschaft, Identität oder bewusster Achtsamkeit bezogen auf eine letztendliche Realität, Göttlichkeit, spirituelle Wahrheit oder Gott.', 'is': 'Dulspeki er leit að samfélagi, samsömun eða vitund um fullkominn veruleika, guðdóm, andlegan sannleika eða Guð.'} \n",
      "\n",
      "{'id': 483, 'de': 'Der Gläubige strebt nach einer direkten Erfahrung, Intuition oder Einsicht in die göttliche Wirklichkeit/die Gottheit oder Gottheiten.', 'is': 'Trúmaðurinn leitar að beinni reynslu, innsæi eða innsýn í guðlegan veruleika/ eða guðseðli.'} \n",
      "\n",
      "{'id': 484, 'de': 'Die Anhänger verfolgen bestimmte Lebensweisen oder Praktiken, die solche Erfahrungen fördern sollen.', 'is': 'Fylgjendur halda sig við tiltekna lifnaðarhætti eða ástundum sem á að ýta undir þessa upplifun.'} \n",
      "\n",
      "{'id': 485, 'de': 'Mystizismus unterscheidet sich von anderen Formen des religiösen Glaubens und der Anbetung dadurch, dass die direkte persönliche Erfahrung eines einzigartigen Bewusstseinszustands im Vordergrund steht. Dies gilt insbesondere für jene Formen mit einem friedvollen, einsichtigen, glückseligen oder sogar ekstatischen Charakter.', 'is': 'Hægt er að greina dulspeki frá öðrum trúarbrögðum og tilbeiðslu með áherslu hennar á beina persónulega reynslu af einstöku vitundarástandi, einkum því sem er friðsamlegt, gætt innsæi, alsælt eða jafnvel gagntekið.'} \n",
      "\n",
      "{'id': 486, 'de': 'Sikhismus ist eine Religion des indischen Subkontinents. Er entstand im 15. Jahrhundert im Pandschab aus einer Abspaltung des Hinduismus.', 'is': 'Sikhismi eru trúarbrögð frá Indlandi. Þau eiga uppruna sinn í Punjab-héraðinu á 15. öld eftir trúarklofningu innan hindúatrú.'} \n",
      "\n",
      "{'id': 487, 'de': 'Sikhs betrachten ihren Glauben als eine vom Hinduismus unabhängige Religion, obwohl sie dessen hinduistische Wurzeln und Traditionen anerkennen.', 'is': 'Síkar telja trú sína vera aðskilda trú frá hindúatrú þó að þeir viðurkenni hindúarætur þess og venjur.'} \n",
      "\n",
      "{'id': 488, 'de': 'Sikhs nennen ihre Religion Gurmat, was auf Pandschabi „Weg des Gurus“ bedeutet. Der Guru ist ein grundlegender Aspekt aller indischen Religionen, doch im Sikhismus hat er eine Bedeutung eingenommen, die den Kern des Sikh-Glaubens darstellt.', 'is': 'Síkar kalla trúarbrögð sín Gurmat, sem er púnjabí fyrir \"leið gúrúsins\". Gúrúinn er grundvallarþáttur allra indverskra trúarbragða en í sikhisma hefur hann fengið á sig mikilvægi sem myndar kjarna Sikh-trúar.'} \n",
      "\n",
      "{'id': 489, 'de': 'Die Religion wurde im 15. Jahrhundert von Guru Nanak (1469-1539) gegründet. In seiner Nachfolge standen weitere neun Gurus.', 'is': 'Trúarbrögðin var stofnuð á 15. öld af Guru Nanak (1469–1539). Á eftir honum fylgdu nýju gúrúar í röð.'} \n",
      "\n",
      "{'id': 490, 'de': 'Im Juni 1956 jedoch wurden Chruschtschows Versprechen auf die Probe gestellt, als Unruhen in Polen, wo Arbeiter gegen Lebensmittelknappheit und Lohnkürzungen protestierten, sich zu einem generellen Protest gegen den Kommunismus entwickelten.', 'is': 'Í júní árið 1956 reyndi hins vegar á loforð Kruschevs þegar óeirðir sem brutust út í Póllandi eftir að mótmæli verkamanna gegn matarskorti og launalækkunum breyttust í almenn mótmæli gegn kommúnismanum.'} \n",
      "\n",
      "{'id': 491, 'de': 'Obwohl Kruschtschow schließlich Panzer schickte, um die Ordnung wiederherzustellen, gab er einigen wirtschaftlichen Forderungen nach und willigte ein, den beliebten Wladyslaw Gomulka zum neuen Premierminister zu ernennen.', 'is': 'Krushchev sendi á endanum skriðdreka til að koma á friði og samþykkti ákveðnar efnahagslegar kröfur. Einnig samþykkti hann að setja í embætti vinsæla Wladyslaw Gomulka sem nýjan forsætisráðherra.'} \n",
      "\n",
      "{'id': 492, 'de': 'Bei der Indus-Tal-Zivilisation handelt es sich um eine bronzezeitliche Zivilisation im nordwestlichen indischen Subkontinent, die den größten Teil des heutigen Pakistan und einige Regionen im Nordwesten Indiens sowie im Nordosten Afghanistans umfasste.', 'is': 'Siðmenning Indusdals var bronsaldarsiðmenning á norðvesturhluta Indlands. Hún var á stærstum hluta þess svæðis sem Pakistan er á í dag en einnig á tilteknum svæðum í norðvestur Indlandi og norðaustur Afganistan.'} \n",
      "\n",
      "{'id': 493, 'de': 'Diese Zivilisation florierte im Becken des Indus, von dem ihr Name abgeleitet ist.', 'is': 'Siðmenningin blómstraði við vatnasvæði Indusfljótsins og þaðan á hún því uppruna hvað nafnið varðar.'} \n",
      "\n",
      "{'id': 494, 'de': 'Obgleich einige Gelehrte die Auffassung vertreten, dass die Zivilisation als Indus-Sarasvati-Zivilisation bezeichnet werden sollte, da sie auch in den Becken des nun ausgetrockneten Sarasvati-Flusses existierte, während andere sie als Harappan-Zivilisation bezeichnen – nach Harappa, der ersten ihrer Stätten, die in den 1920er Jahren ausgegraben wurde.', 'is': 'Tilteknir fræðimenn hafa birt kenningar þess efnis að siðmenning hafi eitt sinn dafnað á uppþornuðu vatnasvæði Sarasvati-árinnar, en í reynd ætti að kalla slíka menningu Indus-Saravati-siðmenninguna, en sumir kalla hana hins vegar Harappan-siðmenninguna eftir Harappa þar sem fyrsti fornleifauppgröfturinn átti sér stað í kringum árið 1920.'} \n",
      "\n",
      "{'id': 495, 'de': 'Die militärische Natur des Römischen Reichs half bei der Entwicklung medizinischer Fortschritte.', 'is': 'Hernaðarsinnað eðli rómverska heimsveldisins stuðlaði að þróun innan læknisfræðinnar.'} \n",
      "\n",
      "{'id': 496, 'de': 'Ärzte wurden von Kaiser Augustus rekrutiert und bildeten sogar die erste römische Sanitätstruppe für den Einsatz nach Schlachten.', 'is': 'Ágústus keisari fór að ráða lækna til starfa og setti meira að segja saman fyrstu rómversku herlæknadeildina sem átti að nýtast í kjölfar stríðsátaka.'} \n",
      "\n",
      "{'id': 497, 'de': 'Die römischen Chirurgen kannten mehrere Beruhigungsmittel, einschließlich Morphium aus Mohnsamen und Scopolamin aus den Samen von Nachtschattengewächsen.', 'is': 'Skurðlæknar þekktu ýmsar tegundir róandi lyfja, þeir þekktu m.a. morfín sem unnið var úr valmúafræjum og skópólamín sem unnið var úr grasafræjum.'} \n",
      "\n",
      "{'id': 498, 'de': 'Sie beherrschten Amputationen, um Patienten vor Wundbrand zu retten, sowie Druckverbände und Arterienklemmen zur Eindämmung des Blutflusses.', 'is': 'Vandvirkni var sýnd við aflimun til að bjarga sjúklingum frá drepi, og æðarklemmur og slagæðaklemmur voru notaðar til að stöðva blóðflæði.'} \n",
      "\n",
      "{'id': 499, 'de': 'Über mehrere Jahrhunderte ermöglichte das römische Reich großartige Fortschritte in der Medizin und formte einen Großteil unseres heutigen Wissens.', 'is': 'Í margar aldir olli Rómverska heimsveldið mikilli framþróun á sviði læknisfræðinnar og skapaði mikið af þeirri þekkingu sem við þekkjum í dag.'} \n",
      "\n",
      "{'id': 500, 'de': 'Pureland Origami ist Origami mit der Einschränkung, dass jeweils nur einmal gefaltet werden darf. Komplexere Faltungen wie umgekehrtes Falten sind nicht zulässig und alle Faltungen haben einfache Positionen.', 'is': 'Pureland origami er órigamí með þeim annmörkum að það brýst bara einu sinni saman. Flóknari brot eins og öfug brot eru ekki heimil og öll brot eru með beina hluta.'} \n",
      "\n",
      "{'id': 501, 'de': 'Es wurde in den 1970er Jahren von John Smith entwickelt, um Menschen zu helfen, die beim Falten unerfahren sind oder über eingeschränkte motorische Fähigkeiten verfügen.', 'is': 'Það var þróað af John Smith á áttunda áratug síðustu aldar til að hjálpa reynslulausum möppum eða fólki með takmarkaða hreyfigetu.'} \n",
      "\n",
      "{'id': 502, 'de': 'Kinder entwickeln ziemlich früh ein Rassenbewusstsein und Rassenstereotypen und diese Rassenstereotypen wirken sich auf das Verhalten aus.', 'is': 'Börn öðlast vitund um kynþátt og staðalímyndir á frekar ungum aldri og staðalímyndirnar um kynþætti hafa áhrif á hegðun þeirra.'} \n",
      "\n",
      "{'id': 503, 'de': 'Zum Beispiel neigen Kinder, die sich mit einer ethnischen Minderheit identifizieren, von der man sagt, dass sie in der Schule nicht gut abschneidet, dazu, in der Schule schlecht zu sein, sobald sie Kenntnis von dem mit ihrer Ethnie verbundenen Stereotyp erhalten.', 'is': 'Sem dæmi, börn sem samsama sig við kynþáttahóp í minnihluta sem er með það orð á sér að standa sig ekki vel í skóla, eiga það til að ganga ekki vel í skóla þegar þau gera sér grein fyrir staðalímyndinni sem tengist kynþætti þeirra.'} \n",
      "\n",
      "{'id': 504, 'de': 'MySpace ist die drittpopulärste Website in den Vereinigten Staaten und umfasst momentan 54 Millionen Profile.', 'is': 'MySpace er þriðja vinsælasta vefsíðan sem notuð er í Bandaríkjunum og býr þessa stundina yfir 54 milljónum lýsinga.'} \n",
      "\n",
      "{'id': 505, 'de': 'Diese Webseiten haben eine Menge Interesse verursacht, besonders im Bildungssektor.', 'is': 'Þessar vefsíður hafa fengið mikla athygli, einkum á menntasviðinu.'} \n",
      "\n",
      "{'id': 506, 'de': 'Es gibt positive Aspekte dieser Websites, unter anderem die Möglichkeit, auf einfache Weise eine Klassenseite einzurichten, die Blogs, Videos, Fotos und weitere Funktionen enthalten kann.', 'is': 'Þessar vefsíður búa einnig yfir jákvæðum hlutum, þar má til dæmis með greiðum hætti setja upp bekkjasíðu sem getur falið í sér blogg, myndskeið, myndir og aðra eiginleika.'} \n",
      "\n",
      "{'id': 507, 'de': 'Auf diese Seite kann einfach zugegriffen werden, indem man bloß eine Webadresse zur Verfügung stellt. Dies macht es einfach für Schüler, die möglicherweise Probleme bei der Benutzung der Tastatur oder mit dem Buchstabieren haben, sich an sie zu erinnern und sie einzutippen.', 'is': 'Auðvelt er að nálgast þessa síðu með því að gefa upp aðeins eina vefslóð, sem gerir það auðvelt að muna og auðvelt að slá inn fyrir nemendur sem geta átt í vandræðum með að nota lyklaborðið eða stafsetningu.'} \n",
      "\n",
      "{'id': 508, 'de': 'Sie kann angepasst werden, damit sie leicht lesbar ist, und auch mit so viel oder so wenig Farbe wie gewünscht.', 'is': 'Hana má sérstilla til að auðvelda aflestur og auka eða draga úr litum að vild.'} \n",
      "\n",
      "{'id': 509, 'de': 'Das Aufmerksamkeitsdefizitsyndrom „ist ein neurologisches Syndrom, dessen klassisch beschreibendes Symptomtrio Impulsivität, Ablenkbarkeit und Hyperaktivität oder überschüssige Energie beinhaltet.“', 'is': 'Athyglisbrestur \"er taugafræðileg röskun þar sem klassísku einkennin þrjú eru hvatvísi, einbeitingarleysi og ofvirkni eða hátt orkustig\".'} \n",
      "\n",
      "{'id': 510, 'de': '\"Es ist keine Lernbehinderung, es ist eine Lernschwäche; sie \"\"betrifft 3 bis 5 Prozent aller Kinder, vielleicht ganze 2 Millionen amerikanischer Kinder\"\".\"', 'is': 'Hér er ekki um námserfiðleika að ræða heldur námsröskun sem „hefur áhrif á 3 til 5 prósent allra barna, eða um 2 milljón börn í Bandaríkunum.\"'} \n",
      "\n",
      "{'id': 511, 'de': 'Kinder mit ADHS haben Schwierigkeiten, sich auf Dinge wie Schularbeiten zu konzentrieren, aber sie können sich auf Dinge konzentrieren, die ihnen Spaß machen, wie etwa Spielen, ihre Lieblingszeichentrickserie zu schauen oder Sätze ohne Zeichensetzung zu schreiben.', 'is': 'Börn með athyglisbrest eiga erfitt með að halda athygli á hlutum eins og heimanámi, en þau geta einbeitt sér að því sem þau hafa gaman af, eins og að spila leiki eða horfa á teiknimyndir í uppáhaldi eða skrifa setningar án punkta.'} \n",
      "\n",
      "{'id': 512, 'de': 'Diese Kinder neigen dazu, viel Ärger zu bekommen, weil sie ein „riskantes Verhalten an den Tag legen, in Kämpfe geraten und Autoritätspersonen herausfordern“, um ihr Gehirn zu stimulieren, da ihr Gehirn mit normalen Methoden nicht stimuliert werden kann.', 'is': 'Börnin eru gjörn á að lenda í umtalsverðum vandræðum, því þau „taka þátt í áhættuhegðun, slást og ögra yfirvaldinu\" til að örva heilann þar sem ekki er hægt að örva heila þeirra eftir hefðbundnum leiðum.'} \n",
      "\n",
      "{'id': 513, 'de': 'ADHS beeinträchtigt Beziehungen zu Gleichaltrigen, weil andere Kinder nicht verstehen können, warum sie sich so verhalten, warum sie so buchstabieren oder warum ihr Reifegrad anders ist.', 'is': 'Ofvirkni með athyglisbresti getur haft áhrif á samskipti við jafningja vegna þess að önnur börn skilja ekki af hverju viðkomandi hegðar sér svona eða af hverju viðkomandi stafsetur svona, eða af hverju viðkomandi er á öðru þroskaskeiði.'} \n",
      "\n",
      "{'id': 514, 'de': 'Da sich die Fähigkeit zum Wissenserwerb und zum Lernen wie oben beschrieben änderte, änderte sich auch die Basisrate des Wissenserwerbs.', 'is': 'Þar sem leiðin til að verða sér úti um þekkingu og menntun breyttist með þessum hætti eins og minnst var á hér á undan breyttist grunnforsendan fyrir því hvernig þekkingar var aflað.'} \n",
      "\n",
      "{'id': 515, 'de': 'Der Ansatz zur Informationsbeschaffung war anders. Der Druck lag nicht mehr im individuellen Erinnern. Vielmehr rückte die Fähigkeit, sich an Texte zu erinnern, stärker in den Mittelpunkt.', 'is': 'Aðferðin við upplýsingaöflun var önnur. Ekki var lengur þrýstingur á að framkvæma einstaka minningu heldur var getan til að muna texta meira í brennidepli.'} \n",
      "\n",
      "{'id': 516, 'de': 'Im Kern verursachte die Renaissance eine signifikante Veränderung in der Herangehensweise an das Lernen und der Verbreitung von Wissen.', 'is': 'Í meginatriðum leiddi endurreisnin til umtalsverðra breytinga á nálgun að námi og miðlun þekkingar.'} \n",
      "\n",
      "{'id': 517, 'de': 'Im Gegensatz zu anderen Primaten benutzen Hominiden nicht mehr die Hände zur Fortbewegung, um Lasten zu tragen oder um sich durch Bäume zu schwingen.', 'is': 'Ólíkt öðrum prímötum nota menn ekki lengur hendur sínar til að komast um, bera þyngd eða sveifla sér á milli trjáa.'} \n",
      "\n",
      "{'id': 518, 'de': 'Die Hand und der Fuß des Schimpansen sind von ähnlicher Größe und Länge, was die Verwendung der Hand zur Gewichtsbelastung beim Knöchelgang widerspiegelt.', 'is': 'Hendur og fætur simpansa eru af svipaðri stærð og lengd sem sýnir að hendur eru notaðar til að bera þyngd þegar gengið er á hnúunum.'} \n",
      "\n",
      "{'id': 519, 'de': 'Beim Menschen ist die Hand kürzer als der Fuß, wobei die Phalangen gerader sind.', 'is': 'Mannshöndin er styttri en fóturinn, með beinni kjúku.'} \n",
      "\n",
      "{'id': 520, 'de': 'Versteinerte Handknochen, deren Alter zwei bis drei Millionen Jahre beträgt, weisen diese Veränderung der Spezialisierung der Hand vom Fortbewegungsmittel zum Greifwerkzeug auf.', 'is': 'Tveggja til þriggja milljón ára steingervingar handarbeina leiða í ljós þessa breytingu á sérhæfingu handarinnar frá því að vera notuð til að komast á milli staða yfir í handfjötlun.'} \n",
      "\n",
      "{'id': 521, 'de': 'Einige Leute glauben, dass die Erfahrung von vielen künstlich erzeugten luziden Träumen häufig sehr anstrengend sein kann.', 'is': 'Til er fólk sem telur að það sé mjög þreytandi að upplifa marga tilbúna skýra drauma nógu oft.'} \n",
      "\n",
      "{'id': 522, 'de': 'Der Hauptgrund für dieses Phänomen ist, dass die Klarträume zu längeren Zeitabstände zwischen den REM-Phasen führen.', 'is': 'Helsta ástæðan fyrir þessu fyrirbæri er að finna í afleiðingu þess að skýrir draumar lengja tímann á milli REM ástands.'} \n",
      "\n",
      "{'id': 523, 'de': 'Mit weniger REM-Phasen pro Nacht wird der Zustand, in dem Sie echten Schlaf erleben und sich Ihr Körper erholt, so selten, dass es zum Problem wird.', 'is': 'Þegar svefnblikum á hverri nóttu fækkar, þeim tíma sem raunverulegur svefn á sér stað og líkaminn hvílist, og þau verða nógu tíð til að valda vandamálum.'} \n",
      "\n",
      "{'id': 524, 'de': 'Dies ist genauso anstrengend, wie wenn man alle zwanzig oder dreißig Minuten aufwachen und fernsehen würde.', 'is': 'Þetta er alveg jafn þreytandi og ef þú myndir vakna á tuttugu eða þrjátíu mínútna fresti og horfa á sjónvarpið.'} \n",
      "\n",
      "{'id': 525, 'de': 'Der Effekt hängt davon ab, wie oft Ihr Gehirn pro Nacht versucht, luzide zu träumen.', 'is': 'Áhrifin eru háð því hversu oft heilinn reynir að dreyma skýrt á nóttu.'} \n",
      "\n",
      "{'id': 526, 'de': 'Es lief fast von Anfang an nicht gut für die Italiener in Nordafrika. Innerhalb einer Woche nach Italiens Kriegserklärung am 10. Juni 1940 hatte das 11. Husarenregiment der Briten Fort Capuzzo in Libyen eingenommen.', 'is': 'Það gekk ekki vel hjá Ítölum í Norður-Afríku nánast frá upphafi. Innan viku frá stríðsyfirlýsingu Ítalíu 10. júní 1940 höfðu meðlimir í  11. bresku Húsarahreyfingunni lagt hald á Capuzzo-virkið í Líbíu.'} \n",
      "\n",
      "{'id': 527, 'de': 'Bei einem Überfall im Osten von Bardia ergriffen die Briten den Chefingenieur der italienischen Zehnten Armee, General Lastucci.', 'is': 'Í launsátri austur af Bardía var Lastucci hershöfðingi og yfirverkfræðingur ítalska tíunda hersins handsamaður af Bretum.'} \n",
      "\n",
      "{'id': 528, 'de': 'Am 28. Juni wurde Marshall Italo Balbo, der Generalgouverneur Libyens und mutmaßliche Nachfolger Mussolinis, versehentlich durch Beschuss der eigenen Truppen getötet, während er in Tobruk landete.', 'is': 'Þann 28. júní var Italo Balbo marskálkur, yfirlandstjóri yfir Líbíu og að því er virðist átt að hafa erft Mussolini, myrtur af slysaskoti við lendingu í Tobruk.'} \n",
      "\n",
      "{'id': 529, 'de': 'Der moderne Fechtsport wird auf vielen Ebenen ausgeübt. Von Universitätsstudenten bis hin zu professionellen und olympischen Wettkämpfen.', 'is': 'Nútímaskylmingar eru leiknar á mörgum stigum, allt frá nemendum sem læra í háskóla til atvinnu- og ólympíukeppni.'} \n",
      "\n",
      "{'id': 530, 'de': 'Der Sport wird in erster Linie als Zweikampf ausgeführt, indem ein Fechter mit einem anderen kämpft.', 'is': 'Íþróttin fer aðallega fram á milli tveggja, einn skylmingarmaður berst við annan.'} \n",
      "\n",
      "{'id': 531, 'de': 'Golf ist ein Spiel, bei dem Spieler Schläger benutzen, um Bälle in Löcher zu befördern.', 'is': 'Golf er leikur þar sem kylfingar nota kylfur til að hitta bolta í holu.'} \n",
      "\n",
      "{'id': 532, 'de': 'Während einer gewöhnlichen Runde werden achtzehn Löcher bespielt, wobei die Spieler normalerweise am ersten Loch des Kurses beginnen und am achtzehnten aufhören.', 'is': 'Átján holur eru spilaðar í venjulegri keppni, þar sem kylfingar hefja yfirleitt leik á fyrstu holu vallarins og enda á þeirri átjándu.'} \n",
      "\n",
      "{'id': 533, 'de': 'Der Spieler, der die wenigsten Schläge oder Schwünge mit dem Schläger braucht, um den Kurs abzuschließen, gewinnt.', 'is': 'Sá leikmaður sem slær sjaldnast, eða sveiflar kylfunni sjaldnast, til að ljúka hringnum vinnur.'} \n",
      "\n",
      "{'id': 534, 'de': 'Das Spiel wird auf einem Rasen ausgetragen. Das Gras um das Loch wird kürzer gemäht und als das Grün bezeichnet.', 'is': 'Leikurinn er spilaður á grasi og grasið í kringum holuna er slegið styttra og það er kallað flöt.'} \n",
      "\n",
      "{'id': 535, 'de': 'Die vielleicht häufigste Art des Tourismus ist das, was die meisten Menschen mit Reisen verbinden: Erholungstourismus.', 'is': 'Kannski er algengasta tegund ferðaþjónustu sú sem fólk tengir við ferðalög: Afþreyingarferðamennska.'} \n",
      "\n",
      "{'id': 536, 'de': 'Das ist der Fall, wenn Menschen zum Entspannen und Vergnügen an einen Ort gehen, der sich stark von ihrem normalen Alltagsleben unterscheidet.', 'is': 'Þetta er þegar fólk fer á stað sem er mjög frábrugðið venjulegu daglegu lífi til að slaka á og hafa gaman.'} \n",
      "\n",
      "{'id': 537, 'de': 'Strände, Vergnügungsparks und Campingplätze zählen zu den von Freizeittouristen am häufigsten besuchten Orten.', 'is': 'Strendur, þemagarðar og útivistarsvæði eru oft og tíðum algengustu staðirnir sem ferðamenn í leit að afþreyingu venja komur sínar á.'} \n",
      "\n",
      "{'id': 538, 'de': 'Wenn das Ziel des Besuches eines bestimmten Ortes ist, seine Geschichte und Kultur zu erfahren, dann wird diese Art des Tourismus als kultureller Tourismus bezeichnet.', 'is': 'Ef markmiðið með heimsókn á tiltekinn stað er að kynna sér sögu og menningu staðarins er hægt að kalla slíka ferðamennsku menningarferðir.'} \n",
      "\n",
      "{'id': 539, 'de': 'Touristen können unterschiedliche Attraktionen eines Landes besuchen oder sie können sich auch einfach dafür entscheiden, ihre Konzentration auf nur eine Region zu richten.', 'is': 'Ferðamenn kunna að skoða mismunandi kennileiti tiltekins lands eða kjósa að verja tíma sínum á einu svæði.'} \n",
      "\n",
      "{'id': 540, 'de': 'Die Kolonisten hatten auch nach Verstärkung gerufen, als sie diese Aktivität beobachteten.', 'is': 'Nýlendubúarnir sem sáu þetta höfðu einnig kallað eftir liðsauka.'} \n",
      "\n",
      "{'id': 541, 'de': 'Zu den Truppen, die die vorgeschobenen Verteidigungsstellungen verstärkten, zählten das 1. und das 3. New-Hampshire-Regiment mit 200 Mann unter den Colonels John Stark und James Reed (die später beide Generäle wurden).', 'is': 'Meðal hermanna sem styrktu framlínuna voru 1. og 3. sveit frá New Hampshire, 200 menn, undir stjórn John Stark ofursta og James Reed (þeir urðu báðir hershöfðingjar síðar).'} \n",
      "\n",
      "{'id': 542, 'de': 'Starks Männer stellten sich entlang des Zauns am Nordende der Stellung der Kolonisten auf.', 'is': 'Menn Stark tóku sér stöðu meðfram girðingunni við norðurenda staðsetningar nýlenduherrans.'} \n",
      "\n",
      "{'id': 543, 'de': 'Als durch die Ebbe eine Lücke entlang des Mystic River im Nordosten der Halbinsel entstand, verlängerten sie den Zaun rasch in nördlicher Richtung mit einer kurzen Steinmauer, die an einem kleinen Strand am Rande des Wassers endete.', 'is': 'Þegar op myndaðist meðfram Mystic River á mikilli fjöru, norðvestan megin á nesinu, lengdu þeir skjótlega girðinguna með stuttum steinvegg í norður, sem endar við vatnið á lítilli strönd.'} \n",
      "\n",
      "{'id': 544, 'de': 'Gridley oder Stark platzierte einen Pfahl etwa 100 Fuß (30 m) vor dem Zaun und befahl, dass niemand feuern sollte, bevor die regulären Soldaten daran vorbeigelaufen waren.', 'is': 'Gridley eða Stark setti niður stjaka um 100 fet (30 m) frá girðingunni og fyrirskipaði að enginn skyldi skjóta fyrr en óbreyttir borgarar væru farnir hjá.'} \n",
      "\n",
      "{'id': 545, 'de': 'Der amerikanische Plan setzte auf die Durchführung koordinierter Angriffe aus drei verschiedenen Richtungen.', 'is': 'Ameríska áætlunin reiddi sig á samræmdar árásir úr þremur mismunandi áttum.'} \n",
      "\n",
      "{'id': 546, 'de': 'General John Cadwalder führte einen Ablenkungsangriff auf die britische Garnison in Bordentown durch, um jegliche weitere Truppen zu blockieren.', 'is': 'John Cadwalder herforingi átti að hefja yfirvarpsárás gegn breska setuliðinu við Bordentown til þess að hindra allan liðsauka.'} \n",
      "\n",
      "{'id': 547, 'de': 'General James Ewing würde 700 Milizen über den Fluss bei Trenton Ferry führen, die Brücke über den Assunpink Creek einnehmen und alle feindlichen Truppen an der Flucht hindern.', 'is': 'James Ewing herforingi átti að fara með 700 uppreisnarhermenn yfir ána við Trenton Ferry, hertaka brúna yfir Assunpink Creek og koma í veg fyrir að óvinahermenn næðu að flýja.'} \n",
      "\n",
      "{'id': 548, 'de': 'Die Hauptangriffstruppe von 2.400 Mann sollte den Fluss neun Meilen nördlich von Trenton überqueren und sich dann in zwei Gruppen aufteilen, eine unter Greene und eine unter Sullivan, um vor der Morgendämmerung einen Angriff zu starten.', 'is': 'Aðal árásarher 2.400 manna myndi fara yfir ána níu mílum fyrir norðan Trenton og skiptast síðan í tvo hópa, einn undir forystu Greene og annar undir forystu Sullivan, til þess að hefja árás fyrir dögun.'} \n",
      "\n",
      "{'id': 549, 'de': 'Durch den Wechsel vom Viertelmeilen- zum Halbmeilen-Rennen ist das Tempo weitaus weniger wichtig und Ausdauer eine absolute Notwendigkeit.', 'is': 'Þegar hlaupið var lengt úr fjórðungi úr mílu í hálfa mílu varð hraðinn ekki nærri eins mikilivægari heldur var úthald algert lykilatriði.'} \n",
      "\n",
      "{'id': 550, 'de': 'Natürlich muss ein erstklassiger 800-m-Läufer, der unter zwei Minuten läuft, schnell sein, auf alle Fälle aber muss Ausdauer trainiert werden.', 'is': 'Að sjálfsögðu verður góður spretthlaupari, maður sem getur hlaupið á undir tveim mínútum, að búa yfir umtalsverðum hraða. Úthald verður þó alltaf að rækta.'} \n",
      "\n",
      "{'id': 551, 'de': 'Etwas Crosslauf im Winter kombiniert mit einem Training des Oberkörpers im Sportsaal ist die beste Vorbereitung auf die Laufsaison.', 'is': 'Víðavangshlaup á veturna ásamt vinnu fyrir efri hluta líkamans í líkamsrækt er er besti undirbúningurinn fyrir hlaupatímabilið.'} \n",
      "\n",
      "{'id': 552, 'de': 'Gute Ernährung allein garantiert keine Topleistungen, aber sie verbessert das allgemeine Wohlbefinden der jungen Athleten signifikant.', 'is': 'Réttar næringaraðferðir einar og sér veita ekki úrvalsframmistöðu. Þær geta samt haft veruleg áhrif á heildarvellíðan ungra íþróttamanna.'} \n",
      "\n",
      "{'id': 553, 'de': 'Das Beibehalten eines gesunden Energiegleichgewichts, effektive Trinkgewohnheiten und das Verständnis der verschiedenen Aspekte der Einnahme von Ergänzungspräparaten können Athleten helfen, ihre Leistung zu verbessern und ihre Freude am Sport zu steigern.', 'is': 'Að viðhalda heilbrigðu orkujafnvægi, stunda árangursríkar vötnunarvenjur og skilja ýmsa þætti fæðubótaefna getur hjálpað íþróttamönnum að bæta frammistöðu sína og auka ánægju þeirra af íþróttinni.'} \n",
      "\n",
      "{'id': 554, 'de': 'Mittelstreckenlauf ist ein relativ günstiger Sport; es gibt jedoch viele Missverständnisse hinsichtlich der wenigen Ausrüstungsgegenstände, die man hierfür braucht.', 'is': 'Millvegalengdarhlaup er frekar ódýr íþróttagrein. Þó eru margar ranghugmyndir fyrir hendi varðandi þann litla búnað sem nauðsynlegur er til þátttöku.'} \n",
      "\n",
      "{'id': 555, 'de': 'Die Produkte können nach Bedarf gekauft werden, aber die meisten werden wenig oder keinen wirklichen Einfluss auf die Leistung haben.', 'is': 'Hægt er að kaupa vörur eftir þörfum, en flestar hafa lítil sem engin raunveruleg áhrif á frammistöðuna.'} \n",
      "\n",
      "{'id': 556, 'de': 'Sportler können der Meinung sein, ein Produkt zu bevorzugen, auch wenn es keine wirklichen Vorteile bietet.', 'is': 'Íþróttafólk gæti kosið eina vöru umfram aðrar jafnvel þótt enginn sérstakur ávinningur felist í henni.'} \n",
      "\n",
      "{'id': 557, 'de': 'Das Atom kann als einer der fundamentalen Bausteine jedweder Materie angesehen werden.', 'is': 'Líta má á atómið sem eitt af grunnfrumeiningum alls efnis.'} \n",
      "\n",
      "{'id': 558, 'de': 'Es ist eine sehr komplexe Einheit, die nach einem vereinfachten Bohr-Modell aus einem zentralen Kern besteht, der von Elektronen umkreist wird, ähnlich wie die Sonne von den Planeten – siehe Abbildung 1.1.', 'is': 'Þetta er mjög flókin eining sem, samkvæmt einfölduðu Bohr-líkani, samanstendur af miðkjarna sem rafeindir sveima í kring, svipað og plánetur á sporbaug um jörðina – sjá skýringarmynd 1.1.'} \n",
      "\n",
      "{'id': 559, 'de': 'Der Atomkern besteht aus zwei Partikeln – Neutronen und Protonen.', 'is': 'Kjarninn er myndaður af tveimur ögnum , nifteindum og róteindum.'} \n",
      "\n",
      "{'id': 560, 'de': 'Protonen haben eine positive elektrische Ladung, während Neutronen keine Ladung haben. Die Elektronen haben eine negative elektrische Ladung.', 'is': 'Róteindir eru með jákvæða rafhleðslu en nifteindir eru með enga hleðslu. Rafeindirnar eru með neikvæða rafhleðslu.'} \n",
      "\n",
      "{'id': 561, 'de': 'Um das Oper zu überprüfen, müssen Sie sich zunächst einen Überblick über den Schauplatz verschaffen, um Ihre Sicherheit zu garantieren.', 'is': 'Til að huga að fórnarlambinu verður að skoða aðstæður fyrst til að tryggja eigið öryggi.'} \n",
      "\n",
      "{'id': 562, 'de': 'Sie müssen die Position des Opfers beachten, wenn Sie sich ihm nähern, sowie alle automatischen Warnzeichen.', 'is': 'Nauðsynlegt er að taka eftir stöðu fórnarlambsins þegar nær kemur sem og öll sjálfvirk viðvörunarmerki.'} \n",
      "\n",
      "{'id': 563, 'de': 'Wenn Sie sich beim Versuch der Hilfeleistung verletzen, machen Sie die Sache nur noch schlimmer.', 'is': 'Ef þú meiðir þig við að veita aðstoð gerir þú bara illt verra.'} \n",
      "\n",
      "{'id': 564, 'de': 'In der Studie wurde festgestellt, dass Depressionen, Angst und Katastrophendenken bei Hexenschusspatienten einen Einfluss auf die Verbindung von Schmerz und Aktivitätseinschränkung hat.', 'is': 'Rannsóknin sýndi að þunglyndi, ótti og stórslys sköpuðu tengingu á milli sársauka fötlunar hjá þeim sem þjást af mjóbakverkjum.'} \n",
      "\n",
      "{'id': 565, 'de': 'Lediglich die Auswirkungen der Katastrophisierung, nicht aber Depression und Angst waren Voraussetzung für regelmäßige wöchentliche strukturierte Sitzungen mit körperlichen Aktivitäten.', 'is': 'Áhrif hörmunga, ekki þunglyndis og ótta voru skilyrt við reglubundna, vikulega hreyfingu.'} \n",
      "\n",
      "{'id': 566, 'de': 'Diejenigen, die an regelmäßigen Aktivitäten teilnahmen, benötigten mehr Unterstützung in Bezug auf die negative Schmerzwahrnehmung, wenn es darum ging, chronische Schmerzen und Unwohlsein von normaler körperlicher Bewegung zu unterscheiden.', 'is': 'Þeir sem tóku þátt í reglulegri hreyfingu þurftu meiri stuðning hvað varðar neikvæða skynjun sársauka og við að greina muninn á langvarandi verkjum og óþægindum frá eðlilegri hreyfingu.'} \n",
      "\n",
      "{'id': 567, 'de': 'Sehkraft, also die Fähigkeit zu sehen, hängt von Sinnesorganen des visuellen Systems oder den Augen ab.', 'is': 'Sjón, eða eiginleikinn að sjá er háð sjónskynjunarfærunum eða augunum.'} \n",
      "\n",
      "{'id': 568, 'de': 'Augen können auf vielerlei Weisen aufgebaut sein, deren Komplexität sich mit den Erfordernissen der Lebensform unterscheidet.', 'is': 'Samsetningar augna eru margskonar, allt frá breytileika sem ræðst af kröfum lífverunnar.'} \n",
      "\n",
      "{'id': 569, 'de': 'Die verschiedenen Konstruktionen verfügen über verschiedene Fähigkeiten, sind empfänglich für verschiedene Wellenlängen und haben unterschiedliche Sehschärfen. Zudem erfordern sie unterschiedliche Arten der Verarbeitung des Aufgenommenen zu einem sinnvollen Eindruck, und die mit der jeweiligen Konstruktionsart einhergehende Augenzahl, die für ein optimales Funkionieren notwendig ist, ist unterschiedlich.', 'is': 'Mismunandi samsetningar eru með mismunandi getu, eru viðkvæm fyrir mismunandi bylgjulengdum og með mismunandi skerpustig. Einnig er þörf á mismunandi vinnslu til að skilja inntakið og láta mismunandi tölurvinna sem best.'} \n",
      "\n",
      "{'id': 570, 'de': 'Eine Population ist die Ansammlung von Organismen einer bestimmten Spezies innerhalb eines bestimmten geografischen Gebiets.', 'is': 'Dýrastofn er samsafn lífvera af tiltekinni dýrategund á tilteknu landsvæði.'} \n",
      "\n",
      "{'id': 571, 'de': 'Wenn alle Individuen einer Bevölkerung sich in Bezug auf ein bestimmtes phänotypisches Merkmal gleichen, dann nennt man sie monomorph.', 'is': 'Þegar allir einstaklingar í þýði eru eins þegar kemur að einni svipgerð, eru þeir sagðir eingerðir.'} \n",
      "\n",
      "{'id': 572, 'de': 'Sollten die Individuen verschiedene Variationen einer bestimmten Eigenschaft aufweisen, dann sind sie polymorph.', 'is': 'Þegar einstaklingarnir sýna nokkur afbrigði tiltekins eðlisþáttar eru þeir margbreytilegir.'} \n",
      "\n",
      "{'id': 573, 'de': 'Auch Ameisenvölker marschieren und nisten in verschiedenen Phasen.', 'is': 'Samfélag hermaura leggur að auki land undir fót og byggir sér bú á mismunandi tímabilum.'} \n",
      "\n",
      "{'id': 574, 'de': 'In der nomadischen Phase marschieren Wanderameisen bei Nacht und machen tagsüber Rast.', 'is': 'Á flökkutímabilinu þramma maurar að næturlagi og koma sér upp búi yfir daginn.'} \n",
      "\n",
      "{'id': 575, 'de': 'Die Kolonie beginnt eine nomadische Phase, wenn die verfügbare Nahrung zurückgegangen ist. Während dieser Phase baut die Kolonie vorübergehende Nester, die täglich gewechselt werden.', 'is': 'Nýlendan fór á hirðingjastig þegar minna var orðið af tiltækum matvælum. Á þessu stigi býr nýlendan til tímabundin hreiður sem breytast á hverjum degi.'} \n",
      "\n",
      "{'id': 576, 'de': 'Jeder dieser nomadischen Umzüge oder Märsche dauert etwa 17 Tage.', 'is': 'Hver þessara flökkuleiðangra stendur yfir í um það bil 17 daga.'} \n",
      "\n",
      "{'id': 577, 'de': '\"Was ist eine Zelle? Das Wort Zelle entstammt dem lateinischen Wort „cella\"\", was so viel wie „kleiner Raum\"\" bedeutet, und es wurde erstmals von einem Mikroskopiker geprägt, der die Struktur von Kork beobachtete.\"', 'is': 'Hvað er fruma? Latnesa orðið er \"cella\", sem merkir \"lítið herbergi\", og það var fyrst búið til af vísindamanni sem skoðaði kork í smásjá.'} \n",
      "\n",
      "{'id': 578, 'de': 'Die Zelle ist die grundlegende Einheit aller Lebewesen und alle Organismen bestehen aus einer oder mehreren Zellen.', 'is': 'Fruman er grunneining allra lífvera og allar lífverur eru samsettar úr einni eða fleiri frumum.'} \n",
      "\n",
      "{'id': 579, 'de': 'Zellen werden in der Erforschung des Lebens als so grundlegend und entscheidend angesehen, dass sie oft als Bausteine des Lebens bezeichnet werden.', 'is': 'Frumur eru svo mikilvægur grunnur við rannsóknir á lífi að oft er talað um þær sem \"byggingareiningar lífs\".'} \n",
      "\n",
      "{'id': 580, 'de': 'Das Nervensystem erhält die Homöostase aufrecht, indem es Nervenimpulse durch den Körper sendet, um den Blutfluss ungehindert in Bewegung zu halten.', 'is': 'Taugakerfið viðheldur samvægi með því að senda taugaboð út um líkamann til að halda blóðflæði gangandi og ótrufluðu.'} \n",
      "\n",
      "{'id': 581, 'de': 'Diese Nervenimpulse können sehr schnell durch den gesamten Körper gesendet werden, um ihn vor einer potenziellen Bedrohung zu schützen.', 'is': 'Hægt er að senda þessi taugaboð hratt um líkamann en það stuðlar að því að tryggja öryggi líkamans gegn ógn.'} \n",
      "\n",
      "{'id': 582, 'de': 'Tornados treffen im Vergleich zu anderen heftigen Stürmen auf eine eher kleine Fläche, doch sie können alles zerstören, was sich ihnen in den Weg stellt.', 'is': 'Skýstrókar fara um smærra svæði en aðrir ofsastormar, en þeir eyðileggja allt sem verður á vegi þeirra.'} \n",
      "\n",
      "{'id': 583, 'de': 'Tornados entwurzeln Bäume, reißen Bretter von Gebäuden und schleudern Autos durch die Luft. Die stärksten 2 Prozent der Tornados dauern mehr als drei Stunden an.', 'is': 'Skýstrókar rífa tré upp með rótum, rífa klæðningu af húsum og kasta bílum upp í loftið. Tvö prósent öflugustu skýstrókanna geta enst í meira en þrjá tíma.'} \n",
      "\n",
      "{'id': 584, 'de': 'Diese Monsterstürme haben Winde, die Geschwindigkeiten von bis zu 480 km/h (133 m/s; 300 MPH) erreichen.', 'is': 'Þetta illviðri er með vindstyrk við allt að 480 km/klst (133 m/s; 300 mph).'} \n",
      "\n",
      "{'id': 585, 'de': 'Menschen produzieren und nutzen schon seit abertausenden von Jahren Vergrößerungslinsen.', 'is': 'Mannkynið hefur búið til og notað stækkunarlinsur í mörg þúsund ár.'} \n",
      "\n",
      "{'id': 586, 'de': 'Allerdings wurden die ersten richtigen Teleskope im späten 16. Jahrhundert in Europa gebaut.', 'is': 'Hins vegar var byrjað að framleiða fyrstu alvöru sjónaukana í Evrópu á seinni hluta 16. aldar.'} \n",
      "\n",
      "{'id': 587, 'de': 'Diese Teleskope nutzten eine Kombination aus zwei Linsen, um entfernte Objekte sowohl näher als auch größer erscheinen zu lassen.', 'is': 'Í þessum sjónaukum var notast við tvær linsur til að láta hluti í fjarlægð minnka og stækka.'} \n",
      "\n",
      "{'id': 588, 'de': 'Habgier und Egoismus werden uns immer begleiten und es liegt in der Natur von Kooperation, dass es immer mehr mit egoistischem Verhalten zu gewinnen gibt, solange die Mehrheit profitiert.', 'is': 'Græðgi og eigingirni munu alltaf fylgja okkur og það er eðlislægur hluti allrar samvinnu að þegar meirihlutinn græðir verður alltaf hægt að græða meira til skamms tíma með því að sýna eigingirni'} \n",
      "\n",
      "{'id': 589, 'de': 'Es bleibt zu hoffen, dass die meisten Menschen erkennen, dass ihre langfristig beste Option die Zusammenarbeit mit anderen ist.', 'is': 'Vonandi áttar fólk sig á því að besti kosturinn til lengri tíma litið er að vinna með öðrum.'} \n",
      "\n",
      "{'id': 590, 'de': 'Viele Menschen träumen von dem Tag, an dem Menschen zu anderen Sternen reisen und andere Welten erkunden können. Manche Menschen machen sich Gedanken darüber, was es dort draußen gibt. Einige glauben, dass Aliens oder andere Lebensformen auf anderen Planeten existieren könnten.', 'is': 'Marga dreymir um þann dag þegar menn geta ferðast til annarrar stjörnu og kannað aðra heima. Sumir velta fyrir sér hvað sé þarna úti, sumir trúa að geimverur eða annað líf kunni að vera á annarri plánetu.'} \n",
      "\n",
      "{'id': 591, 'de': 'Sollte dies aber jemals geschehen, dann wird es bis dahin noch sehr lange dauern. Die Sterne sind so weit verstreut, dass selbst zwischen „Nachbarsternen“ Billionen von Kilometern liegen.', 'is': 'En ef þetta gerist nokkurn tíma, þá líður örugglega mjög langt á milli. Stjörnurnar eru svo dreifðar að þær eru í trilljóna mílna fjarlægð frá \"nágrönnum\" sínum.'} \n",
      "\n",
      "{'id': 592, 'de': 'Vielleicht werden eines Tages Ihre Urenkel auf dem Gipfel einer außerirdischen Welt stehen und sich fragen, wer ihre Vorfahren waren?', 'is': 'Kannski munu barnabarnabörn þín dag einn standa í framandi heimi og velta fyrir sér fornum forfeðrum sínum?'} \n",
      "\n",
      "{'id': 593, 'de': 'Tiere bestehen aus zahlreichen Zellen. Sie essen Dinge und verdauen sie in ihrem Innern. Die meisten Tiere können sich bewegen.', 'is': 'Dýr samanstanda af mörgum frumum. Þau borða hluti og melta innvortis. Flest dýr geta hreyft sig.'} \n",
      "\n",
      "{'id': 594, 'de': 'Ausschließlich die Tiere besitzen ein Gehirn (selbst wenn noch nicht einmal sämtliche Tiere eines besitzen; Quallen besitzen beispielsweise keines).', 'is': 'Aðeins dýr hafa heila (en þó hafa ekki öll dýr hann, marglyttur eru til dæmis ekki með heila).'} \n",
      "\n",
      "{'id': 595, 'de': 'Tiere sind überall auf der Erde zu finden. Sie wühlen sich durch den Erdboden, schwimmen in den Ozeanen und fliegen in der Luft.', 'is': 'Dýr fyrirfinnast um alla jörðu. Þau grafa sig niður í jörðina, synda í sjónum og fljúga um himininn.'} \n",
      "\n",
      "{'id': 596, 'de': 'Die Zelle ist die kleinste Struktur- und Funktionseinheit eines lebenden Organismus.', 'is': 'Fruma er minnsta byggingar- og starfræna eining lífvera (hluta).'} \n",
      "\n",
      "{'id': 597, 'de': 'Zelle kommt von dem lateinischen Wort cella, welches kleiner Raum bedeutet.', 'is': 'Fruma (e. cell) kemur frá latneska orðinu „cella“ sem merkir lítið herbergi.'} \n",
      "\n",
      "{'id': 598, 'de': 'Wenn Sie sich Lebewesen unter einem Mikroskop ansehen, werden Sie sehen, dass sie aus kleineren Quadraten oder Bällen bestehen.', 'is': 'Ef þú skoðar lifandi hluti undir smásjá kemur í ljós að þeir eru samsettir úr litlum ferningum eða kúlum.'} \n",
      "\n",
      "{'id': 599, 'de': 'Robert Hooke, ein Biologe aus England, entdeckte unter dem Mikroskop kleine Quadrate im Kork.', 'is': 'Robert Hooke, líffræðingur frá Englandi, tók eftir litlum ferningum í korki með því að nota smásjá.'} \n",
      "\n",
      "{'id': 600, 'de': 'Sie sahen wie Räume aus. Er war der erste Mensch, der tote Zellen beobachtete.', 'is': 'Þau líktust herbergjum. Hann var fyrsti aðilinn sem skoðaði dauðar frumur.'} \n",
      "\n",
      "{'id': 601, 'de': 'Elemente und Verbindungen können von einem Zustand in einen anderen übergehen und sich nicht verändern.', 'is': 'Frumefni og efnasambönd geta farið úr einu ástandi í annað án þess að breytast.'} \n",
      "\n",
      "{'id': 602, 'de': 'Stickstoff als Gas hat immer noch die gleichen Eigenschaften wie flüssiger Stickstoff. Der flüssige Zustand ist dichter, die Moleküle sind jedoch dieselben.', 'is': 'Köfnunarefni sem lofttegund hefur samt sem áður sömu eiginleika og fljótandi köfnunarefni. Sameindirnar eru þær sömu þó að fljótandi ástand sé þéttara.'} \n",
      "\n",
      "{'id': 603, 'de': 'Wasser ist ein weiteres Beispiel. Die Verbindung Wasser besteht aus zwei Wasserstoffatomen und einem Sauerstoffatom.', 'is': 'Vatn er annað tæmi: Vatnssameindin er gerð úr tveimur vetnisatómum og einu súrefnisatómi.'} \n",
      "\n",
      "{'id': 604, 'de': 'Es hat die gleiche Molekularstruktur, egal ob es gasförmig, flüssig oder fest ist.', 'is': 'Það hefur ávallt sömu sameindagerðina, hvort sem það er á loftkenndu, fljótandi eða föstu formi.'} \n",
      "\n",
      "{'id': 605, 'de': 'Obwohl sich sein Aggregatzustand ändern kann, bleibt der chemische Zustand derselbe.', 'is': 'Þrátt fyrir að efnislegt ástand þess geti breyst helst efnafræðilegt ástand þess eins.'} \n",
      "\n",
      "{'id': 606, 'de': 'Die Zeit ist etwas, das uns überall umgibt und alles beeinflusst, was wir tun, und dennoch schwer zu verstehen ist.', 'is': 'Tíminn er allt umhverfis okkur og hefur áhrif á allt sem við gerum, þó er erfitt að skilja hann.'} \n",
      "\n",
      "{'id': 607, 'de': 'Die Zeit wird seit Jahrtausenden von religiösen, philosophischen und wissenschaftlichen Denkern erforscht.', 'is': 'Tíminn hefur verið rannsóknarefni fræðimanna á sviði trúarbragða, heimspeki og vísinda í árþúsundir.'} \n",
      "\n",
      "{'id': 608, 'de': 'Wir erleben Zeit als eine Abfolge von Ereignissen, die von der Zukunft durch die Gegenwart in die Vergangenheit verlaufen.', 'is': 'Við upplifum tímann sem röð atburða sem berast úr framtíðinn inn í nútíðina og aftur í fortíðina.'} \n",
      "\n",
      "{'id': 609, 'de': 'Zeit ist auch die Art und Weise, wie wir die Dauer (Länge) von Veranstaltungen vergleichen.', 'is': 'Við notum tímann líka til að bera saman lengd atvika.'} \n",
      "\n",
      "{'id': 610, 'de': 'Man kann das Verstreichen der Zeit selbst markieren, indem man die Wiederholung eines zyklischen Ereignisses beobachtet. Ein zyklisches Ereignis ist etwas, das immer wieder regelmäßig stattfindet.', 'is': 'Greina má hvernig tíminn líður með því að fylgjast með sveiflubundnum atburði. Sveiflubundinn atburður er það sem gerist reglulega aftur og aftur.'} \n",
      "\n",
      "{'id': 611, 'de': 'Computer werden heutzutage verwendet, um Bilder und Videos zu manipulieren.', 'is': 'Nú til dags eru tölvur notaðar til að hagræða myndum og myndböndum.'} \n",
      "\n",
      "{'id': 612, 'de': 'Anspruchsvolle Animationen können am Computer konstruiert werden und werden zunehmend im Fernsehen und in Filmen verwendet.', 'is': 'Skapa má fágaðar hreyfimyndir í tölvum og þessi tegund af hreyfimynd er í auknum mæli notuð í sjónvarpi og kvikmyndum.'} \n",
      "\n",
      "{'id': 613, 'de': 'Musik wird oft mit Hilfe von hochentwickelten Computern aufgenommen, um Töne zu verarbeiten und zusammenzumischen.', 'is': 'Tónlist er oft tekin upp með vönduðum tölvum til að vinna úr og blanda saman hljóði.'} \n",
      "\n",
      "{'id': 614, 'de': 'Im neunzehnten und zwanzigsten Jahrhundert dachte man lange Zait, dass die ersten Bewohner Neuseelands die Maoris waren, die Moa genannte Riesenvögel bejagten.', 'is': 'Lengi vel á nítjándu og tuttugustu öldinni var talið að fyrstu íbúar Nýja-Sjálands hafi verið Maórar, sem veiddu risavaxna móafugla.'} \n",
      "\n",
      "{'id': 615, 'de': 'Die Theorie führte dann zu der Vorstellung, dass die Maoris von Polynesien mit einer großen Flotte abwanderten, Neuseeland den Moriori wegnahmen und damit eine auf Landwirtschaft basierende Gesellschaft begründeten.', 'is': 'Kenningin staðfesti loks þá hugmynd að Maóra-fólkið fluttist frá Pólýnesíu í miklum flota og tók Nýja-Sjáland frá Moriori-fólkinu og stofnaði landbúnaðarsamfélag.'} \n",
      "\n",
      "{'id': 616, 'de': 'Neue Hinweise deuten jedoch darauf hin, dass es sich bei den Moriori um eine Gruppe von Maori vom Festland handelte, die von Neuseeland auf die Chathaminseln migrierten und dort ihre eigene, friedliche Kultur entwickelten.', 'is': 'Hins vegar liggja nýjar sannanir fyrir því að Moriori hafi verið hópur Maora af meginlandinu sem flutti frá Nýja-Sjálandi yfir til Chatham-eyja og skóp sína eigin sérstöku og friðsamlegu menningu.'} \n",
      "\n",
      "{'id': 617, 'de': 'Es gab noch einen weiteren Stamm auf den Chathaminseln. Das waren Maori, die aus Neuseeland abwanderten.', 'is': 'Einnig var annar ættbálkur á Chatham-eyjunum, það voru Maórar sem höfðu flust búferlum frá Nýja-Sjálandi.'} \n",
      "\n",
      "{'id': 618, 'de': 'Sie nannten sich selbst Moriori, es kam zu einigen Scharmützeln und am Ende wurden die Moriori vernichtet.', 'is': 'Þeir kölluðu sig Moriori, það voru nokkrar rimmur og á endanum þurrkaðist Moriori-fólkið út.'} \n",
      "\n",
      "{'id': 619, 'de': 'Einzelpersonen, die seit mehreren Jahrzehnten involviert waren, halfen uns, unsere Stärken und Leidenschaften wertzuschätzen, während Schwierigkeiten und sogar Fehlschläge aufrichtig bewertet wurden.', 'is': 'Einstaklingar sem höfðu verið viðriðnir starfsemina í marga áratugi kenndu okkur að meta styrkleika og ástríður okkar og mátu erfiðleika og jafnvel mistök á einlægan hátt.'} \n",
      "\n",
      "{'id': 620, 'de': 'Indem wir Einzelpersonen zugehört haben, die ihre persönlichen, familiären und organisatorischen Geschichten mitgeteilt haben, haben wir wertvolle Einsichten in die Vergangenheit und in einige Persönlichkeiten gewonnen, die die Kultur der Organisation zum Guten wie zum Schlechten beeinflusst haben.', 'is': 'Þegar við hlustuðum á einstaklinga segja sögur sínar, fjölskyldu og fyrirtækja, fengum við dýrmæta innsýn í fortíðina og suma þá sem höfðu áhrif til góðs eða ills á menningu fyrirtækisins.'} \n",
      "\n",
      "{'id': 621, 'de': 'Das Verständnis der eigenen Geschichte setzt zwar kein Verständnis der Kultur voraus, aber es hilft den Menschen zumindest, ein Gefühl dafür zu bekommen, wo sie in der Geschichte der Organisation stehen.', 'is': 'Þó skilningur á sögunni feli ekki sér skilning á menningu, auðveldar það samt fólki að fá tilfinningu fyrir hvar það stendur innan sögu stofnunarinnar.'} \n",
      "\n",
      "{'id': 622, 'de': 'Während sie die Erfolge evaluieren und die Misserfolge bemerken, verinnerlichen einzelne Personen und alle Teilnehmer als Ganzes die Werte, den Auftrag und die treibenden Kräfte der Organisation stärker.', 'is': 'Við það að árangur er metinn og er horfst í augu við mistök, uppgötva einstaklingarnir og allir sem þátt taka dýpri gildi, hlutverk og hvað drífur fyrirtækið.'} \n",
      "\n",
      "{'id': 623, 'de': 'In diesem Fall half die Erinnerung an frühere Fälle unternehmerischen Verhaltens und die daraus resultierenden Erfolge den Menschen, offen für Veränderungen und eine neue Ausrichtung der Pfarrgemeinde zu sein.', 'is': 'Í þessu tilviki var fólk móttækilegra fyrir breytingum og nýrri stefnu kirkjunnar á svæðinu ef það hugsaði til baka til fyrri frumkvöðlahegðunar og árangurs.'} \n",
      "\n",
      "{'id': 624, 'de': 'Erfolgsgeschichten wie diese verringerten die Angst vor Veränderung und erzeugten zugleich eine positive Einstellung gegenüber kommender Änderungen.', 'is': 'Slíkar árangurssögur minnkuðu ótta við breytingar en höfðu í för með sér jákvæðar tilhneigingar til breytinga í framtíðinni.'} \n",
      "\n",
      "{'id': 625, 'de': 'Konvergente Denkmuster sind Methoden zur Problemlösung, die verschiedene Ideen oder Gebiete zusammenführen, um eine Lösung zu finden.', 'is': 'Mynstur samleitinnar hugsunar eru aðferðir til að leysa úr vandamálum þar sem saman koma ólíkar hugmyndir eða svið við úrlausn.'} \n",
      "\n",
      "{'id': 626, 'de': 'Bei dieser Denkweise liegt der Fokus auf Schnelligkeit, Logik und Genauigkeit, auch auf der Identifizierung von Fakten, der erneuten Anwendung bestehender Techniken, der Sammlung von Informationen.', 'is': 'Þungamiðjan í þessu hugarfari er hraði, rökfræði og nákvæmni, einnig að bera kennsl á staðreyndir, beita aftur núverandi tækni, söfnun upplýsinga.'} \n",
      "\n",
      "{'id': 627, 'de': 'Der wichtigste Faktor dieser Einstellung ist folgender: Es gibt nur eine richtige Antwort. Man denkt an nur zwei mögliche Antworten, nämlich richtig oder falsch.', 'is': 'Mikilvægasti hluti hugarfarsins er eftirfarandi: bara eitt svar er rétt. Þú hugsar hins vegar aðeins um tvö svör, rétt og rangt svar.'} \n",
      "\n",
      "{'id': 628, 'de': 'Diese Art des Denkens ist verbunden mit bestimmten wissenschaftlichen oder Standardprozeduren.', 'is': 'Þessi tegund hugsunnar er tengd ákveðnum vísindum eða stöðluðum verklagsreglum.'} \n",
      "\n",
      "{'id': 629, 'de': 'Menschen mit dieser Denkweise denken logisch, können sich Muster merken, Probleme lösen und wissenschaftliche Tests bearbeiten.', 'is': 'Fólk með þessa tegund hugsunar býr yfir rökréttri hugsun, er fært um að leggja á minnið mynstur, leysa vandamál og vinna að vísindalegum rannsóknum.'} \n",
      "\n",
      "{'id': 630, 'de': 'Menschen sind die mit Abstand begabteste Art beim Lesen der Gedanken anderer Personen.', 'is': 'Mannkynið hefur mestu hæfileika allra dýrategunda til að lesa hugsanir annarra.'} \n",
      "\n",
      "{'id': 631, 'de': 'Das bedeutet, dass wir in der Lage sind, richtig einzuschätzen, was andere Personen wahrnehmen, zu tun vorhaben, denken, wissen oder wollen.', 'is': 'Þannig getum við með góðum hætti reynt að spá fyrir um hvað aðrir skynja, ætla sér, trúa á, vita eða þrá.'} \n",
      "\n",
      "{'id': 632, 'de': 'Neben diesen Fähigkeiten ist es entscheidend, die Absichten anderer zu verstehen. Es ermöglicht uns, mögliche Zweideutigkeiten physischer Handlungen auszuräumen.', 'is': 'Einn mikilvægasti hæfileikinn er að skilja ætlun annarra. Slíkur skilningur aðstoðar okkur við að leysa úr hugsanlegri tvíræðni við líkamlegar athafnir.'} \n",
      "\n",
      "{'id': 633, 'de': 'Wenn Sie beispielsweise jemanden sehen, der ein Autofenster zertrümmert, würden Sie wahrscheinlich annehmen, dass er versucht, das Auto eines Fremden zu stehlen.', 'is': 'Ef maður til dæmis sæi einhvern brjóta bílrúðu myndi maður líklega gera ráð fyrir að viðkomandi væri að reyna að stela bíl einhvers.'} \n",
      "\n",
      "{'id': 634, 'de': 'Er müsste anders beurteilt werden, wenn er seine Autoschlüssel verloren hätte und es sein eigenes Auto gewesen wäre, in das er einzubrechen versuchte.', 'is': 'Þú myndir líta öðruvísi á það ef hann hefði týnt bíllyklunum sínum og væri að reyna að brjótast inn í sinn eigin bíl.'} \n",
      "\n",
      "{'id': 635, 'de': 'Das MR gründet auf einem physikalischen Phänomen namens kernmagnetische Resonanz (KMR), welches in den dreißiger Jahren von Felix Bloch (an der Stanford University) und Edward Purcell (an der Harvard University) entdeckt.', 'is': 'Segulómyndun byggist á eðlisfræðilegu fyrirbæri sem kallast kjarnsegulómur (NMR) og uppgötvaðist á þriðja áratug síðustu aldar af Felix Bloch (starfaði við Stanford-háskóla) og Edward Purcell (frá Harvard-háskóla).'} \n",
      "\n",
      "{'id': 636, 'de': 'Bei dieser Resonanz führen das magnetische Feld sowie Funkwellen dazu, dass Atome winzige Funksignale von sich geben.', 'is': 'Við ómunina valda segulsvið og útvarpsbylgjur því að atóm gefa frá sér örlítil radíómerki.'} \n",
      "\n",
      "{'id': 637, 'de': 'Im Jahr 1970 entdeckte der Arzt und Forscher Raymond Damadian die Basis für den Einsatz der Magnetresonanztomografie als Hilfsmittel für die medizinische Diagnose.', 'is': 'Árið 1970 uppgötvaði Raymond Damatian, læknir og rannsakandi, undirstöðuatriðin við að nota segulómun við læknisfræðilega greiningu.'} \n",
      "\n",
      "{'id': 638, 'de': 'Vier Jahre später wurde ein Patent erteilt, das weltweit das erste Patent im Bereich der MRT war.', 'is': 'Fjórum árum síðar var veitt einkaleyfi, sem var fyrsta einkaleyfið í heiminum sem gefið var út á sviði segulómunar.'} \n",
      "\n",
      "{'id': 639, 'de': '\"Im Jahr 1977 schloss Dr. Damadian den Bau des ersten \"\"Ganzkörper\"\"-MRI-Scanners, den er den \"\"Unbezwingbaren\"\" nannte, ab.\"', 'is': 'Árið 1977 lauk Dr. Damadian við smíði fyrsta segulómstækisins fyrir „allan líkamann“ sem hann nefndi hið „Ósigranlega“.'} \n",
      "\n",
      "{'id': 640, 'de': 'Asynchrone Kommunikation gibt Zeit für Reflexion und die Reaktion auf andere.', 'is': 'Fjarsamskipti gefa rými til umhugsunar áður en öðrum er svarað.'} \n",
      "\n",
      "{'id': 641, 'de': 'Sie erlaubt Schülern in ihrer eigenen Geschwindigkeit zu arbeiten und das Tempo im Umgang mit den Lehrinhalten zu steuern.', 'is': 'Slíkt gerir nemendum kleift að vinna á eigin hraða og stjórna takti upplýsingagjafar við kennsluna.'} \n",
      "\n",
      "{'id': 642, 'de': 'Außerdem gibt es weniger zeitliche Einschränkungen und die Möglichkeit, zu flexiblen Zeiten zu arbeiten. (Bremer, 1998)', 'is': 'Þar að auki eru færri tímatakmarkanir fyrir hendi þegar boðið er upp á sveigjanlegri vinnutíma (Bremer, 1998)'} \n",
      "\n",
      "{'id': 643, 'de': 'Die Nutzung des Internets und des World Wide Web ermöglicht es den Lernenden, jederzeit Zugang zu Informationen zu haben.', 'is': 'Netnotkun og notkun veraldarvefsins auðveldar nemendunum að hafa aðgang að upplýsingum hvenær sem er.'} \n",
      "\n",
      "{'id': 644, 'de': 'Die Studenten können auch zu jeder Tageszeit Fragen an die Dozenten stellen und relativ schnelle Antworten erwarten, anstatt bis zum nächsten persönlichen Treffen zu warten.', 'is': 'Nemendur geta einnig sent spurningar til leiðbeinenda hvenær sem er dagsins og þeir fá svör tiltölulega fljótt, í stað þess að bíða eftir næsta fundi augliti til auglitis.'} \n",
      "\n",
      "{'id': 645, 'de': 'Der postmoderne Ansatz des Lernens bietet die Freiheit von Absolutem. Es gibt nicht nur einen guten Weg, um zu lernen.', 'is': 'Póstmódernísk nálgun að námi býður upp á frelsi frá algildum sannleika. Það er ekki til nein góð leið til að læra.'} \n",
      "\n",
      "{'id': 646, 'de': 'Tatsächlich gibt es nicht eine gute Sache zu lernen. Das Lernen findet in der Erfahrung zwischen dem Lernenden und dem angebotenen Wissen statt.', 'is': 'Í rauninni er ekkert eitt atriði sem er gott að læra. Nám verður til við upplifun námsmannsins á þekkingunni sem lögð er fyrir viðkomandi.'} \n",
      "\n",
      "{'id': 647, 'de': 'Unsere aktuelle Erfahrung mit den vielen Fernsehsendungen, bei denen es um Do-it-yourself-Ansätze, Informationsweitergabe und Lernen geht, unterstreicht diese Beobachtung.', 'is': 'Núverandi reynsla okkar af öllum þáttum þar sem maður gerir allt sjálfur og sjónvarpsþáttum sem miðla upplýsingum og fræðslu sýna fram á þetta atriði.'} \n",
      "\n",
      "{'id': 648, 'de': 'So viele von uns erwischen sich beim Anschauen einer Fernsehsendung, die uns über einen Prozess oder eine Erfahrung informiert, obwohl wir nie daran teilhaben oder dieses Wissen anwenden werden.', 'is': 'Við lendum svo mörg í því að horfa á sjónvarpsþátt sem lýsir fyrir okkur ferli eða upplifun sem við munum aldrei vera hluti af eða beita slíkri þekkingu.'} \n",
      "\n",
      "{'id': 649, 'de': 'Wir werden niemals ein Auto überholen, einen Brunnen in unserem Hinterhof bauen, nach Peru reisen, um antike Ruinen zu untersuchen, oder das Haus unseres Nachbarn umgestalten.', 'is': 'Við munum aldrei taka í gegn bíl, reisa gosbrunn í bakgarðinum, ferðast til Perú til að skoða fornar rústir eða endurgera hús nágrannans.'} \n",
      "\n",
      "{'id': 650, 'de': 'Dank Unterwasser-Glasfaserkabelverbindungen nach Europa und Breitband-Satelliten ist Grönland gut vernetzt und 93 % der Bevölkerung verfügen über einen Internetzugang.', 'is': 'Grænland er með góða tengingu og 93% íbúanna eru með netaðgang þökk sé ljósleiðaratengingu í hafi til Evrópu og um breiðbandsgervihnetti.'} \n",
      "\n",
      "{'id': 651, 'de': 'Dein Hotel oder deine Gastgeber (falls du in einem Gasthaus oder einer Privatwohnung übernachtest) verfügen wahrscheinlich über WLAN oder einen PC, der mit dem Internet verbunden ist. Außerdem haben alle Siedlungen ein Internet-Café oder einen Ort mit öffentlich zugänglichem WLAN.', 'is': 'Á hótelinu eða hjá gestgjöfunum (ef gist er á gistiheimili eða inni á heimili) er líklega þráðlaust neða eða tölva tengd interneti og allar byggðir eru með internet kaffihús eða slíkt með almennu neti.'} \n",
      "\n",
      "{'id': 652, 'de': '\"Wie bereits erwähnt, ist das Wort \"\"Eskimo\"\" in den Vereinigten Staaten zwar nach wie vor akzeptabel, wird aber von vielen arktischen Völkern außerhalb der Vereinigten Staaten, insbesondere in Kanada, als abwertend betrachtet.\"', 'is': 'Eins og minnst er á hér að ofan, þótt orðið \"eskimói\" sé almennt talið viðeigandi í Bandaríkjunum, finnst mörgum íbúum norðurskautsins það vera niðrandi, sérstaklega í Kanada.'} \n",
      "\n",
      "{'id': 653, 'de': 'Sie hören dieses Wort zwar vielleicht bei den Ureinwohnern Grönlands, Ausländer sollten es allerdings vermeiden.', 'is': 'Þó Grænlendingar heyrist nota orðið ættu útlendingar að forðast að nota það.'} \n",
      "\n",
      "{'id': 654, 'de': 'Die Ureinwohner Grönlands nennen sich in Kanada Inuit und in Grönland Kalaalleq (Mehrzahl Kalaallit), also Grönländer.', 'is': 'Innfæddir íbúar Grænlands kalla sig inúíta í Kanada og Kalaalleq (fleirtala Kalaallit), Grænlending, á Grænlandi.'} \n",
      "\n",
      "{'id': 655, 'de': 'Kriminalität und Missgunst gegenüber Ausländern generell sind in Grönland praktisch unbekannt. Selbst in den Städten gibt es keine „Problemzonen“.', 'is': 'Glæpir og almenn óvild í garð útlendinga er nánast óþekkt á Grænlandi. Í bæjunum eru meira að segja engin \"slæm hverfi.\"'} \n",
      "\n",
      "{'id': 656, 'de': 'Kaltes Wetter ist vielleicht die einzige wirkliche Gefahr, der die Unvorbereiteten begegnen könnten.', 'is': 'Kalt veðurfar er sennilega eina raunverulega hættan sem steðjar að þeim sem eru vanbúnir.'} \n",
      "\n",
      "{'id': 657, 'de': 'Wenn Sie Grönland in einer kalten Jahreszeit besuchen (wenn man bedenkt, dass es umso kälter wird, je weiter nördlich Sie reisen), ist es unerlässlich, Kleidung mitzunehmen, die warm genug ist.', 'is': 'Ef þú heimsækir Grænland að vetri til (með það í huga að kaldara verður eftir því sem norðar dregur) verður þú að taka með nægilega hlýjan fatnað.'} \n",
      "\n",
      "{'id': 658, 'de': 'Die sehr langen Sommertage können zu unzureichendem Schlaf und damit einhergehenden Gesundheitsproblemen führen.', 'is': 'Mjög langir sumardagar geta skapað vandamál hvað nægjan svefn varðar og tengd heilsufarsvandamál.'} \n",
      "\n",
      "{'id': 659, 'de': 'Achten Sie während des Sommers auch auf die nordischen Mücken. Auch wenn sie keine Krankheiten übertragen, sind sie sehr lästig.', 'is': 'Að sumarlagi ætti líka að varast norrænu moskítófluguna. Þótt hún beri enga sjúkdóma á milli manna, getur hún verið þreytandi.'} \n",
      "\n",
      "{'id': 660, 'de': 'Obwohl San Franciscos Wirtschaft damit verbunden ist, dass die Stadt eine Touristenattraktion von Weltrang ist, ist sie dennoch diversifiziert.', 'is': 'Þó efnahagslíf San Francisco tengist því að borgin er vinsæll ferðamannastaður, er efnahagslífið fjölbreytt.'} \n",
      "\n",
      "{'id': 661, 'de': 'Die größten Beschäftigungsfelder sind professionelle Dienstleistungen, Regierung, Finanzwesen, Handel und Tourismus.', 'is': 'Stærstu atvinnugreinarnar eru sérfræðiþjónusta, stjórnsýsla, fjármál, viðskipti og ferðaþjónusta.'} \n",
      "\n",
      "{'id': 662, 'de': 'Ihre häufige Darstellung in Musik, Filmen, Literatur und Popkultur hat geholfen, die Stadt und ihre Wahrzeichen auf der ganzen Welt bekannt zu machen.', 'is': 'Endurtekin birting hennar í tónlist, kvikmyndum, bókmenntum og alþýðumenningu hefur gert borgina og kennimerki hennar víðfræg um allan heim.'} \n",
      "\n",
      "{'id': 663, 'de': 'San Francisco hat eine umfassende touristische Infrastruktur mit zahlreichen Hotels, Restaurants und erstklassigen Kongresseinrichtungen aufgebaut.', 'is': 'San Francisco hefur byggt upp mikla innviði fyrir ferðamenn með fjölmörgum hótelum, veitingastöðum og ráðstefnuaðstöðu í fremstu röð.'} \n",
      "\n",
      "{'id': 664, 'de': 'San Francisco ist auch einer der landesweit besten Orte für andere asiatische Küche: Koreanisch, Thailändisch, Indisch und Japanisch.', 'is': 'San Francisco er einnig einn besti staður í landinu fyrir aðra asíska matargerð: Kóreska, taílenska, indverska og japanska.'} \n",
      "\n",
      "{'id': 665, 'de': 'Eine Reise nach Walt Disney World stellt für viele amerikanische Familien eine große Wallfahrt dar.', 'is': 'Ferð til Walt Disney World er frábær pílagrímsferð fyrir margar fjölskyldur í Bandaríkjunum.'} \n",
      "\n",
      "{'id': 666, 'de': 'Der \\u200d\\u200c\\u200d„typische” Besuch beinhaltet die Flugreise zum internationalen Flughafen von Orlando, dann die Busfahrt zu einem Disney-Hotel auf dem Gelände, danach einen etwa wochenlangen Aufenthalt dort, ohne das Disney-Gelände zu verlassen, und anschließend die Heimreise.', 'is': '\"Dæmigerð\" heimsókn felst í því að fljúga til alþjóðaflugvallarins í Orlando, fara með rútu á Disney-hótel, eyða um viku án þess að fara úr Disney-garðinum og snúa aftur heim.'} \n",
      "\n",
      "{'id': 667, 'de': '\"Es sind unzählige Varianten möglich, aber dies ist es, was die meisten Leute meinen, wenn sie von einer \"\"Reise zur Disney World\"\" sprechen.\"', 'is': 'Óendanleg tilbrigði eru möguleg en þetta er það sem flestir meina þegar talað er um að „fara í Disney World\".'} \n",
      "\n",
      "{'id': 668, 'de': 'Bei vielen Tickets, die online über Auktionswebsites wie eBay oder Craigslist verkauft werden, handelt es sich um bereits teilweise benutzte mehrtägige Park-Hopper-Tickets.', 'is': 'Margir miðar sem seldir eru á netinu í gegnum uppboðsvefsíður á borð við eBay eða Craigslist, eru miðar sem gilda í nokkra daga í mismunandi garða og hafa verið notaðir að hluta til.'} \n",
      "\n",
      "{'id': 669, 'de': 'Das wird zwar sehr häufig so gehandhabt, ist aber von Disney verboten: Die Tickets sind nicht übertragbar.', 'is': 'Þó þetta sé mjög algengt bannar Disney það. Óheimilt er að framselja miðana.'} \n",
      "\n",
      "{'id': 670, 'de': 'Zum Zelten unterhalb des Rands im Grand Canyon benötigt man eine Genehmigung für das Hinterland.', 'is': 'Sækja verður um öræfaleyfi til að slá upp tjaldbúðum í Grand Canyon.'} \n",
      "\n",
      "{'id': 671, 'de': 'Lizenzen sind zum Schutz des Canyons limitiert und sind ab dem Monatsersten, vier Monate vor dem Startmonat, erhältlich.', 'is': 'Leyfi eru takmörkuð til að vernda gljúfrið og verða fáanleg 1. dag mánaðarins, fjórum mánuðum fyrir upphafsmánuðinn.'} \n",
      "\n",
      "{'id': 672, 'de': 'Somit steht am 1. Januar eine Genehmigung für das Hinterland für ein beliebiges Startdatum im Mai zur Verfügung.', 'is': 'Því verða í boði óbyggðaleyfi þann 1. janúar fyrir ferðir í maí.'} \n",
      "\n",
      "{'id': 673, 'de': 'Der Platz für die beliebtesten Gegenden, wie den Bright Angel Campground neben der Phantom Ranch, wird in der Regel durch jene Anfragen gefüllt, die am ersten Tag eingehen, an dem Reservierungen für sie möglich sind.', 'is': 'Pláss á vinsælustu svæðunum, svo sem Bright Angel-tjaldsvæðið við hliðina á Phantom Ranch, eru yfirleitt pöntuð fljótt þegar beiðnir sem berast fyrsta daginn eru opnaðar.'} \n",
      "\n",
      "{'id': 674, 'de': 'Es gibt eine begrenzte Anzahl von Genehmigungen, die für Gelegenheitsanfragen reserviert sind und nach dem Prinzip „Wer zuerst kommt, mahlt zuerst“ vergeben werden.', 'is': 'Takmarkaður fjöldi leyfa er í boði fyrir staðarbeiðnir og þar gildir reglan, fyrstur kemur, fyrstur fær.'} \n",
      "\n",
      "{'id': 675, 'de': 'Die Einreise in das südliche Afrika mit dem Auto ist eine erstaunliche Möglichkeit, die ganze Schönheit der Region zu sehen und an Orte abseits der normalen Touristenrouten zu gelangen.', 'is': 'Að ferðast um Suður-Afríku á bíl er frábær leið til að berja fegurð landsins augum, ásamt því að komast á staði sem eru úr alfaraleið ferðamanna.'} \n",
      "\n",
      "{'id': 676, 'de': 'Das kann man mit sorgfältiger Planung in einem normalen Auto machen. Es wird allerdings dringend ein Allradantrieb empfohlen, da viele Orte nur mit Allradantrieb und hohem Radstand zu erreichen sind.', 'is': 'Það er hægt að gera þetta í venjulegum bíl með nákvæmri skipulagningu en fjórhjóladrif er ráðlagt og margir staðir eru aðeins aðgengilegir með fjórhjóladrifi og upphækkun.'} \n",
      "\n",
      "{'id': 677, 'de': 'Denken Sie bei der Planung daran, dass der Süden Afrikas zwar stabil ist, die angrenzenden Länder jedoch nicht immer.', 'is': 'Hafðu í huga við skipulagninguna að þó að Suður-Afríka sé stöðug eru ekki öll nágrannalöndin það.'} \n",
      "\n",
      "{'id': 678, 'de': 'Anforderungen und Kosten für ein Visa sind mit jedem Land verschieden und hängen von dem Land ab, aus dem Sie stammen.', 'is': 'Kröfur um vegabréfsáritun og kostnaður er mismunandi á milli landi og ráðast af því frá hvaða landi þú kemur.'} \n",
      "\n",
      "{'id': 679, 'de': 'Jedes Land hat außerdem spezifische Gesetze, die vorschreiben, welche Gegenstände sich für Notfälle im Auto befinden müssen.', 'is': 'Hvert land hefur auk þess sín eigin lög um hvaða neyðarbúnaður eigi að vera í bifreiðinni.'} \n",
      "\n",
      "{'id': 680, 'de': 'Victoria Falls ist eine Stadt im westlichen Teil Simbabwes, auf der anderen Seite der Grenze von Livingstone, Sambia, und in der Nähe von Botswana.', 'is': 'Victoria Falls er bær í vestuhluta Zimbabwe, á móti Livingstone í Zambíu hinum megin landamæranna og nálægt Botswana.'} \n",
      "\n",
      "{'id': 681, 'de': 'Die Stadt liegt direkt neben den Wasserfällen und sie sind die Hauptattraktion, aber dieses beliebte Touristenziel bietet sowohl Abenteurern als auch Touristen, zahlreiche Möglichkeiten für einen längeren Aufenthalt.', 'is': 'Bærinn liggur rétt við fossana en þeir eru aðalaðdráttaraflið. Á þessum vinsæla áfangastað er ýmislegt hægt að gera fyrir ævintýraleitendur og tækifæri eru til að dveljast lengur fyrir þá sem vilja skoða sig um.'} \n",
      "\n",
      "{'id': 682, 'de': 'In der Regensaison (November bis März) wird die Wassermenge höher sein und die Fälle werden dramatischer sein.', 'is': 'Á meðan regntímabilið stendur yfir (frá nóvember til mars) er vatnsmagnið mun meira og fossarnir eru mun tilkomumeiri.'} \n",
      "\n",
      "{'id': 683, 'de': 'Sie können fest davon ausgehen, dass Sie nass werden, wenn Sie die Brücke überqueren oder die gewundenen Wege nutzen, die an den Wasserfälle entlangführen.', 'is': 'Það er öruggt að blotna ef farið er yfir brúna eða gengið meðfram handriðinu sem liggja nærri fossunum.'} \n",
      "\n",
      "{'id': 684, 'de': 'Andererseits wird gerade wegen des hohen Wasservolumens Ihre Sicht auf den eigentlichen Wasserfall verdeckt – durch das ganze Wasser!', 'is': 'Það er samt svo að útsýnið yfir raunverulega fossana er truflað vegna þess að vatnsmagnið er svo mikið!'} \n",
      "\n",
      "{'id': 685, 'de': 'Grab des Tutanchamun (KV62). KV62 ist das wohl berühmteste Grab im Tal. Die Grabstätte des jungen Königs wurde im Jahr 1922 von Howard Carter in beinahe intaktem Zustand entdeckt.', 'is': 'Gröf Tútankamons (KV62). KV62 kann að vera frægasta gröfin í dalnum, þar sem Howard Carter fann því sem næst ósnortna gröf konungsins unga 1922.'} \n",
      "\n",
      "{'id': 686, 'de': 'Im Vergleich zu den meisten anderen Königsgräbern ist das Grab des Tutanchamun jedoch kaum einen Besuch wert, da es viel kleiner ist und nur wenige Dekorationen aufweist.', 'is': 'Í samanburði við flest önnur konungleg grafhýsi er grafhýsi Tútankamons aftur á móti varla þess virði að heimsækja, verandi mun minna og ekki eins skreytt.'} \n",
      "\n",
      "{'id': 687, 'de': 'Jeder, der Interesse daran hat, Belege des Schadens zu sehen, der der Mumie bei den Entnahmeversuchen aus dem Sarg zugefügt wurde, wird enttäuscht sein, da nur Kopf und Schultern sichtbar sind.', 'is': 'Allir sem vilja skoða skemmdir sem verða á múmíunni þegar reynt er að fjarlægja hana úr líkkistunni verða vonsviknir, því aðeins sést í höfuðið og herðarnar.'} \n",
      "\n",
      "{'id': 688, 'de': 'Die fabelhaften Reichtümer des Grabes befinden sich nicht mehr in ihm, sondern wurden in das Ägyptische Museum in Kairo gebracht.', 'is': 'Hinn mikli auður grafhýsisins er ekki lengur tiltækur þar og hefur hann verið fluttur á Egypska safnið í Kaíró.'} \n",
      "\n",
      "{'id': 689, 'de': 'Besucher, die nur begrenzte Zeit zur Verfügung haben, sollten diese lieber anderswo verbringen.', 'is': 'Gestir sem hafa takmarkaðan tíma ættu heldur að eyða tíma sínum annars staðar.'} \n",
      "\n",
      "{'id': 690, 'de': 'Phnom Krom, 12 km südwestlich von Siem Reap. Dieser auf einem Hügel gelegene Tempel wurde Ende des 9. Jahrhunderts während der Herrschaft von König Yasovarman erbaut.', 'is': 'Phnom Krom, í 12 km fjarlægð suðvestan af Siem Reap. Musterið á hæðinni var smíðað í lok 9. aldar á valdatíma Yasovarman kóngs.'} \n",
      "\n",
      "{'id': 691, 'de': 'Die düstere Atmosphäre des Tempels und der Blick über den Tonle-Sap-See sind es wert, den Hügel zu besteigen.', 'is': 'Drunga andrúmsloft musterisins og útsýnið yfir Tonle Sap-vatnið gerir gönguna upp á hæðina þess virði.'} \n",
      "\n",
      "{'id': 692, 'de': 'Ein Besuch der Sehenswürdigkeit kann bequem mit einem Bootsausflug auf dem See verbunden werden.', 'is': 'Hægt er að skoða svæðið og fara síðan í bátsferð á vatninu.'} \n",
      "\n",
      "{'id': 693, 'de': 'Der Angkor-Pass ist erforderlich, um den Tempel zu betreten. Vergessen Sie deshalb nicht, Ihren Reisepass mitzunehmen, wenn Sie nach Tonle Sap reisen.', 'is': 'Fara þarf um Angkor-skarðið til að komast inn í musterið svo ekki gleyma að taka vegabréfið með þegar haldið er til Tonle Sap.'} \n",
      "\n",
      "{'id': 694, 'de': 'Jerusalem ist Israels Hauptstadt und größte Stadt, aber die meisten anderen Länder und die Vereinten Nationen erkennen die Stadt nicht als Israels Hauptstadt an.', 'is': 'Jerúsalem er höfuðborg og stærsta borg Ísraels, þó að flestar aðrar þjóðir og SÞ viðurkenni hana ekki sem höfuðborg Ísraels.'} \n",
      "\n",
      "{'id': 695, 'de': 'Die alte Stadt auf den Hügeln Judäas hat eine faszinierende Geschichte, die sich über Tausende von Jahren erstreckt.', 'is': 'Hin forna borg í Júdeuhæðum býr yfir heillandi sögu sem spannar þúsundir ára.'} \n",
      "\n",
      "{'id': 696, 'de': 'Die Stadt gilt in den drei monotheistischen Religionen – Judentum, Christentum und Islam – als heilig und dient als spirituelles, religiöses und kulturelles Zentrum.', 'is': 'Borgin er heilög fyrir þrjú eingyðistrúarbrögð - gyðingdóm, kristni og íslam og þjónar sem andleg, trúarleg og menningarleg miðstöð.'} \n",
      "\n",
      "{'id': 697, 'de': 'Angesichts der religiösen Bedeutsamkeit der Stadt und vor allem aufgrund der vielen Sehenswürdigkeiten innerhalb der Altstadt ist Jerusalem eines der wichtigsten Touristenziele Israels.', 'is': 'Vegna trúarlegs gildis borgarinnar, einkum margra staða í gamla borgarhlutanum, er Jerúsalem einn helsti ferðamannastaðurinn í Ísrael.'} \n",
      "\n",
      "{'id': 698, 'de': 'Jerusalem bietet viele historische, archäologische und kulturelle Stätten nebst dynamischen und belebten Einkaufszentren, Cafés und Restaurants.', 'is': 'Jerúsalem er með marga sögulega staði, fornleifastaði og menningarlega staði ásamt líflegum og fjölmennum verslunarmiðstöðvum, kaffihúsum og veitingahúsum.'} \n",
      "\n",
      "{'id': 699, 'de': 'Ecuador verlangt, dass kubanische Staatsbürger ein Einladungsschreiben erhalten, bevor sie über internationale Flughäfen oder Grenzübergangsstellen nach Ecuador einreisen.', 'is': 'Ekvador krefst þess að kúbanskir ríkisborgarar fái boðsbréf áður en þeir koma til Ekvador í gegnum alþjóðlega flugvelli eða landamærastöðvar.'} \n",
      "\n",
      "{'id': 700, 'de': 'Dieser Brief muss vom ecuadorianischen Außenministerium für legal erklärt werden und bestimmte Anforderungen erfüllen.', 'is': 'Bréfið verður að vera lögfest af utanríkisráðuneyti Ekvador og það skal uppfylla ákveðnar kröfur.'} \n",
      "\n",
      "{'id': 701, 'de': 'Diese Erfordernisse sind dafür ausgelegt, einen geregelten Migrationsstrom zwischen den beiden Ländern sicherzustellen.', 'is': 'Þessar kröfur eru hannaðar til að veita skipulagt farandflæði milli beggja landa.'} \n",
      "\n",
      "{'id': 702, 'de': 'Kubanische Staatsbürger, die Inhaber einer Green Card der USA sind, sollten ein ecuadorianisches Konsulat aufsuchen, um eine Befreiung von dieser Auflage zu erhalten.', 'is': 'Kúbanskir ríkisborgarar, sem eru handhafar bandaríska græna kortsins, ættu að fara á ræðisskrifstofu Ekvador til að öðlast undanþágu frá þessari kröfu.'} \n",
      "\n",
      "{'id': 703, 'de': 'Ihr Reisepass muss mindestens 6 Monate über den Zeitraum Ihrer Reise hinaus gültig sein. Ein Rück- oder Weiterflugticket wird benötigt, um die Länge Ihres Aufenthalts nachzuweisen.', 'is': 'Vegabréf verður að gilda a.m.k. 6 mánuði fram yfir ferðadagana. Sýna þarf farseðil fram og tilbaka til að sanna hve löng dvölin verður.'} \n",
      "\n",
      "{'id': 704, 'de': 'Touren sind für größere Gruppen billiger. Sollten Sie alleine oder lediglich mit einem Freund bzw. einer Freundin unterwegs sein, dann sollten Sie sich mit anderen zusammentun und versuchen, eine Gruppe von vier bis sechs Personen zu gründen, um einen für die einzelne Person günstigeren Tarif zu erhalten.', 'is': 'Ferðir eru ódýrari fyrir stærri hópa og því er betra fyrir þá sem ferðast einir eða tveir saman að hafa uppi á fleirum til að mynda fjögurra til sex manna hóp til að fá betra verð á mann.'} \n",
      "\n",
      "{'id': 705, 'de': 'Aber darüber sollten Sie sich keine Gedanken machen, weil Touristen oft zusammengefasst werden, damit die Fahrzeuge voll werden.', 'is': 'Hins vegar þarftu ekki að hafa áhyggjur af þessu því ferðamenn eru iðulega færðir til svo hægt sé að fylla bílana.'} \n",
      "\n",
      "{'id': 706, 'de': 'Das ist anscheinend eher ein Trick, um die Leute glauben zu machen, dass sie mehr bezahlen müssen.', 'is': 'Þetta virðist í raun vera aðferð til að plata fólk til að trúa að það þurfi að borga meira.'} \n",
      "\n",
      "{'id': 707, 'de': 'Hoch über dem nördlichen Rand von Machu Picchu türmt dieser steile Berg, der oft die Kulisse vieler Fotos der Ruinen darstellt.', 'is': 'Hátt og bratt fjallið gnæfir yfir norðurhluta Machu Picchu, oft í baksýn ljósmynda af rústunum.'} \n",
      "\n",
      "{'id': 708, 'de': 'Von unten sieht es etwas entmutigend aus und es ist ein steiler und schwieriger Aufstieg, aber die meisten einigermaßen fitten Personen sollten in der Lage sein, ihn in etwa 45 Minuten zu bewältigen.', 'is': 'Það er frekar óárennilegt séð frá jörðu niðri, hallinn er brattur og erfiður yfirferðar en flestir einstaklingar í sæmilegu líkamlegu ástandi ættu að vera færir um að klifra upp á u.þ.b. 45 mínútum.'} \n",
      "\n",
      "{'id': 709, 'de': 'Der größte Teil des Wegverlaufs ist mit Steinstufen versehen, und in den steileren Abschnitten bilden Stahlseile ein stützendes Geländer.', 'is': 'Steintröppur á mestum mestum hluta stígsins og á brattari stöðum skapa stálvírar handrið.'} \n",
      "\n",
      "{'id': 710, 'de': 'Rechnen Sie jedoch damit, außer Atem zu sein, und seien Sie in den steileren Abschnitten vorsichtig, besonders wenn es nass ist, da es dort schnell gefährlich werden kann.', 'is': 'Þú mátt því búast við að verða móður og passaðu þig á brattari svæðum, einkum þegar blautt er, þar sem aðstæður geta fljótt orðið hættulegar.'} \n",
      "\n",
      "{'id': 711, 'de': 'In der Nähe des Gipfels ist eine winzige Höhle zu durchqueren, die recht niedrig und sehr eng ist.', 'is': 'Pínulítill hellir er nálægt toppnum sem verður að fara í gegnum, hann er nokkuð lágur og frekar þröngur.'} \n",
      "\n",
      "{'id': 712, 'de': 'Die Sehenswürdigkeiten und die Tierwelt der Galapagosinseln lassen sich am besten per Boot besichtigen, so wie Charles Darwin es 1835 tat.', 'is': 'Best er að skoða staði og dýralíf Galapagos bátleiðis líkt og Charles Darwin gerði árið 1835.'} \n",
      "\n",
      "{'id': 713, 'de': 'Mehr als 60 Kreuzfahrtschiffe sind in den Gewässern rund um die Galapagos-Inseln unterwegs – deren Größe von 8 bis 100 Fahrtgästen reichen kann.', 'is': 'Fleiri en 60 skemmtiferðaskip sigla um vatnasvæði Galapagos með 8-100 farþega um borð.'} \n",
      "\n",
      "{'id': 714, 'de': 'Die meisten Menschen buchen ihren Platz lange im Voraus (da die Boote während der Hochsaison normalerweise voll sind).', 'is': 'Flestir bóka með góðum fyrirvara (þar sem bátarnir eru yfirleitt fullir yfir háannatímann).'} \n",
      "\n",
      "{'id': 715, 'de': 'Stellen Sie sicher, dass Sie über einen auf die Galapagos-Inseln spezialisierten Vermittler buchen, der über ein breites Spektrum an Schiffen gut Bescheid weiß.', 'is': 'Gakktu úr skugga um að umboðsaðilinn sem þú bókar í gegnum sé vel kunnugur Galapagoseyjum og hafi góða kunnáttu á mismunandi skipum.'} \n",
      "\n",
      "{'id': 716, 'de': 'So können Sie sichergehen, dass das Schiff am besten zu Ihren besonderen Wünschen und/oder Einschränkungen passt.', 'is': 'Þannig er séð til þess að sérstakt áhugasvið þitt og/eða skorður fari saman við skipið sem hentar þeim best.'} \n",
      "\n",
      "{'id': 717, 'de': 'Bevor die Spanier im 16. Jahrhundert Chile erreichten, war der Norden des Landes unter den Herrschaft der Inka, während die Mitte und der Süden des Landes von den einheimischen Araukanern (Mapuche) bewohnt wurde.', 'is': 'Fyrir komu Spánverja á 16. öld réðu Inkar ríkjum í norðurhluta Chile og Araucanian-indíánar bjuggu í mið- og suðurhluta Chile.'} \n",
      "\n",
      "{'id': 718, 'de': 'Die Mapuche waren auch eine der letzten unabhängigen Ureinwohnergruppen Amerikas, die bis nach der Unabhängigkeit Chiles nicht vollständig in die spanischsprachige Herrschaft absorbiert wurden.', 'is': 'Mapuche var einnig einn af síðustu sjálfstæðu amerísku frumbyggjahópunum sem var ekki að fullu settur undir spænskumælandi stjórn fyrr en eftir sjálfstæði Chile.'} \n",
      "\n",
      "{'id': 719, 'de': 'Obwohl Chile 1810 seine Unabhängigkeit erklärte (inmitten der Napoleonischen Kriege, durch die Spanien einige Jahre keine funktionierende Zentralregierung hatte), konnte der endgültige Sieg erst 1818 errungen werden.', 'is': 'Síle lýsti yfir sjálfstæði árið 1810 (í miðjum Napóleónsstríðunum þegar engin ríkisstjórn var á Spáni) en lokasigurinn á móti Spánverjunum vannst ekki fyrr en árið 1818.'} \n",
      "\n",
      "{'id': 720, 'de': 'Die Dominikanische Republik (spanisch: República Dominicana) ist ein Land in der Karibik, das die östliche Hälfte der Insel Hispaniola umfasst, die es mit Haiti teilt.', 'is': 'Dóminíska lýðveldið (spænska: República Dominicana) er land í Karíbahafi sem liggur á austurhluta eyjunnar Hispaniola, sem það deilir með Haítí'} \n",
      "\n",
      "{'id': 721, 'de': 'Neben weißen Sandstränden und Berglandschaften beheimatet das Land auch die älteste europäische Stadt Amerikas, die heute zu Santo Domingo gehört.', 'is': 'Fyrir utan hvítar sandstrendur og fjöllótt landslag er í landinu elsta evrópska borgin í Rómönsku Ameríku, nú hluti af Santo Domingo.'} \n",
      "\n",
      "{'id': 722, 'de': 'Die Insel wurde ursprünglich von den Taíno und Kariben bewohnt. Die Kariben sprachen Arawakisch und kamen etwa 10.000 Jahre v. Chr. dort an.', 'is': 'Fyrst bjuggu Taínos og Caribes á eyjunni. Caribes var fólk sem talaði Arawakan sem hafði komið þanað um 10.000 f.Kr.'} \n",
      "\n",
      "{'id': 723, 'de': 'Innerhalb einiger weniger Jahre nach der Ankunft der europäischen Entdecker hatte die Bevölkerungsgruppe der Taino durch die spanischen Konquistadoren einen signifikanten Bevölkerungsrückgang erfahren.', 'is': 'Aðeins fáum árum eftir að evrópsku landkönnuðurnir komu hafði fjöldi Tainomanna dregist verulega saman vegna spænsku landvinningamannanna.'} \n",
      "\n",
      "{'id': 724, 'de': 'Nach Fray Bartolomé de las Casas (Tratado de las Indias) töteten die spanischen Eroberer zwischen 1492 und 1498 rund 100.000 Taínos.', 'is': 'Að sögn Fray Bartolomé de las Casas (Tratado de las Indias) drápu spænsku landnemarnir í kringum 100.000 Taínos (frumbyggja Karíbahafseyjanna) á árunum 1492 til 1498.'} \n",
      "\n",
      "{'id': 725, 'de': 'Jardín de la Unión. Diese Anlage wurde als Atrium für ein Kloster aus dem 17. Jahrhundert gebaut, von dem als einziges Gebäude der Templo de San Diego erhalten ist.', 'is': 'Jardín de la Unión. Þetta rými var byggt sem aðalsalur fyrir 17. aldar klaustur, en Templo de San Diego er eina eftirstandandi byggingin.'} \n",
      "\n",
      "{'id': 726, 'de': 'Jetzt dient es als zentraler Platz, an dem tags- und nachtsüber zahlreiche Veranstaltungen stattfinden.', 'is': 'Núna er það aðaltorgið og er iðandi af lífi, að nóttu sem degi.'} \n",
      "\n",
      "{'id': 727, 'de': 'Es befinden sich zahlreiche Restaurants in der Umgebung des Gartens, wo nachmittags und abends oft kostenlose Konzerte im zentralen Pavillon stattfinden .', 'is': 'Fjöldi veitingastaða er í kringum garðinn og síðdegis og á kvöldin eru oft haldnir ókeypis tónleikar í garðskálanum í miðjunni.'} \n",
      "\n",
      "{'id': 728, 'de': 'Callejon del Beso (Kussgasse). Zwei Balkone, die nur 69 cm Abstand haben, sind der Ort einer alten Liebeserzählung.', 'is': 'Callejon del Beso (Kossadalurinn). Tvennar svalir með aðeins 69 sentímetrum á milli eru heimkynni gamallar ástarsögu.'} \n",
      "\n",
      "{'id': 729, 'de': 'Für etwas Kleingeld berichten Ihnen ein paar Kinder von der Geschichte.', 'is': 'Fyrir nokkra aura munu sumir krakkar segja þér söguna.'} \n",
      "\n",
      "{'id': 730, 'de': 'Bowen Island eignet sich als beliebter Tages- oder Wochenendausflug mit Kajakfahren, Wandern, Shops, Restaurants und vielem mehr.', 'is': 'Margir fara í dagsferð eða helgarferð til Bowen-eyjar, sem býður upp á kajakróður, gönguferðir, verslanir, veitingastaði og fleira.'} \n",
      "\n",
      "{'id': 731, 'de': 'Diese authentische Gemeinde befindet sich in Howe Sound in der Nähe von Vancouver und ist leicht mit regelmäßig fahrenden Wassertaxis zu erreichen, die von Granville Island in der Innenstadt Vancouvers abfahren.', 'is': 'Ósvikna samfélagið er í Howe Sound rétt fyrir utan Vancouver og auðvelt er að nálgast það með vatna-leigubílum sem ganga samkvæmt áætlun frá Granville-eyju í miðbæ Vancouver.'} \n",
      "\n",
      "{'id': 732, 'de': 'Für diejenigen, die gerne im Freien aktiv sind, ist eine Wanderung hinauf zum Sea-to-Sky-Corridor unerlässlich.', 'is': 'Fyrir þá sem hafa gaman af útiveru, er gangan upp að Sea to Sky-landræmunni ómissandi.'} \n",
      "\n",
      "{'id': 733, 'de': 'Whistler (1,5 Autostunden von Vancouver entfernt) ist teuer, aber aufgrund der Olympischen Winterspiele 2010 sehr bekannt.', 'is': 'Whistler (í 1,5 klukkustunda akstursfjarlægð frá Vancouver) er dýr staður og mjög þekktur vegna Vetrarólympíuleikanna 2010.'} \n",
      "\n",
      "{'id': 734, 'de': 'Erfreuen Sie sich den Winter über an einigen der Top-Skigebiete Nordamerikas, und während des Sommers sollten Sie echtes Mountainbiken ausprobieren.', 'is': 'Á veturna er hægt að njóta besta skíðafærisins sem gefst í Norður-Ameríku og á sumrin er hægt að prófa ekta fjallahjólreiðar.'} \n",
      "\n",
      "{'id': 735, 'de': 'Genehmigungen müssen im Voraus bestellt werden. Sie benötigen eine Genehmigung, um in La Sirena zu übernachten.', 'is': 'Leyfi þarf að panta fyrirfram. Þú verður að hafa leyfi til að gista í Sirena.'} \n",
      "\n",
      "{'id': 736, 'de': 'Sirena ist die einzige Rangerstation, die neben Zelten auch Übernachtung im Schlafsaal und warme Mahlzeiten anbietet. La Leona, San Pedrillo und Los Patos bieten nur Camping ohne Verpflegung an.', 'is': 'Sirena er eina landvarðarstöðin sem býður upp á gistingu í svefnsal og heitar máltíðir og tjaldsvæðis. La Leona, San Pedrillo og Los Patos eru aðeins með tjaldstæði án matarþjónustu.'} \n",
      "\n",
      "{'id': 737, 'de': 'Es ist möglich, eine Parklizenz direkt bei der Rangerstation in Puerto Jiménez zu bekommen, aber sie akzeptieren keine Kreditkarten', 'is': 'Hægt er að fá aðgangsleyfi að garðinum hjá þjóðgarðsvörðunum í Puerto Jimenez, en þar er ekki tekið við kreditkortum'} \n",
      "\n",
      "{'id': 738, 'de': 'Die Parkverwaltung (MINAE) stellt Genehmigungen  für den Park nicht früher als einen Monat vor der geplanten Ankunft aus.', 'is': 'Park Service (MINAE) gefur ekki út almenningsgarðleyfi meira en einum mánuði fyrir þann komutíma sem er áætlaður.'} \n",
      "\n",
      "{'id': 739, 'de': 'CafeNet El Sol bietet einen Reservierungsservice gegen eine Gebühr von 30 US-Dollar bzw. 10 US-Dollar für Tageskarten an. Einzelheiten dazu findet man auf deren Corcovado-Seite.', 'is': 'CafeNet El Sol býður upp á bókunarþjónustu fyrir gjald upp á 30 Bandaríkjadali, eða 10 Bandaríkjadali fyrir dagspassa; finna má upplýsingar á Corcovado-síðunni þeirra.'} \n",
      "\n",
      "{'id': 740, 'de': 'Die Cookinseln sind ein Inselstaat, der frei mit Neuseeland assoziiert ist, und sie liegen in Polynesien in der Mitte des Südpazifiks.', 'is': 'Cooks-eyjar er eyjaríki í frjálsu sambandi við Nýja-Sjáland, staðsett í Pólýnesíu, í miðju Suður-Kyrrahafi.'} \n",
      "\n",
      "{'id': 741, 'de': 'Es ist eine Inselgruppe mit 15 Inseln, die sich über 2,2 Millionen Quadratkilometer Ozeanfläche ausbreiten.', 'is': 'Þetta er eyjaklasi sem telur um 15 eyjar um víð og dreif á hafsvæði sem er um 2,2 milljón ferkílómetrar að stærð.'} \n",
      "\n",
      "{'id': 742, 'de': 'Mit der gleichen Zeitzone wie Hawaii werden die Inseln manchmal als „Hawaii Down Under“ bezeichnet.', 'is': 'Þar sem eyjurnar eru á sama tímabelti og Hawaii, eru þær oft sagðar \"Hawaii hinum megin á hnettingum\".'} \n",
      "\n",
      "{'id': 743, 'de': 'Obwohl kleiner, erinnert es manche älteren Besucher an Hawaii, bevor es zum Bundesstaat wurde, ohne all die großen Touristenhotels und andere Bebauung.', 'is': 'Þó hún sé minni, minnir hún suma eldri gesti á Hawaii áður en það varð eitt ríkjanna, án allra stóru ferðamannahótelanna og annarrar uppbyggingar.'} \n",
      "\n",
      "{'id': 744, 'de': 'Die Cookinseln weisen keine Städte auf, sondern bestehen aus 15 verschiedenen Inseln. Die wichtigsten sind Rarotonga und Aitutaki.', 'is': 'Á Cooks-eyjum eru engar borgir en þær samanstanda af 15 eyjum. Stærstu eyjarnar eru Rarotonga og Aitutaki.'} \n",
      "\n",
      "{'id': 745, 'de': 'In entwickelten Ländern ist das Anbieten von Luxus-Gästehäusern heute zu einer Art Kunstform erhoben worden.', 'is': 'Innan þróaðra landa í dag er framboð á lúxusgistingu með morgunverði orðið að nokkurs konar listgrein.'} \n",
      "\n",
      "{'id': 746, 'de': 'Am oberen Ende der Skala konkurrieren die B&Bs natürlich vor allem um zwei Hauptpunkte: Schlafplätze und Frühstück.', 'is': 'Heimagistingar snúast fyrst og fremst um tvennt: gistiaðstöðu og morgunverð.'} \n",
      "\n",
      "{'id': 747, 'de': 'Folglich kann man bei den besten dieser Unterkünfte das opulenteste Bettzeug, eventuell eine von Hand gemachte Bettdecke oder ein antikes Bettgestell, finden.', 'is': 'Því er hægt að finna glæsilegan sængurfatnað og jafnvel handgerða rúmábreiðu eða rúm í fornum stíl í fínustu verslunum af slíkum toga.'} \n",
      "\n",
      "{'id': 748, 'de': 'Beim Frühstück kann es saisonale Köstlichkeiten der Region oder das Spezialgericht des Gastgebers geben.', 'is': 'Morgunverðurinn getur samanstaðið af árstíðarbundnu góðmeti frá héraðinu eða sérrétti gestgjafans.'} \n",
      "\n",
      "{'id': 749, 'de': 'Der Rahmen kann ein historischer Altbau mit einer antiken Austattung, einem schön hergerichteten Gelände und einem Schwimmbecken sein.', 'is': 'Sögusviðið gæti verið söguleg gömul bygging með antíkhúsgögnum, vel hirtum garði og sundlaug.'} \n",
      "\n",
      "{'id': 750, 'de': 'In das eigene Auto einzusteigen und sich auf eine lange Reise zu begeben, hat durch seine Einfachheit eine immanente Anziehungskraft.', 'is': 'Einfaldleikinn við að setjast inn í bíl og halda af stað í langa bílferð hefur visst aðdráttarafl.'} \n",
      "\n",
      "{'id': 751, 'de': 'Anders als bei größeren Fahrzeugen sind Sie wahrscheinlich bereits mit dem Fahren Ihres Autos vertraut und kennen dessen Grenzen.', 'is': 'Þú þekkir líklega til við að aka bílnum þínum og þekkir takmörk hans, en það sam á ekki við um stærri ökutæki.'} \n",
      "\n",
      "{'id': 752, 'de': 'Das Aufstellen eines Zeltes auf einem Privatgrundstück oder in einer beliebig großen Stadt kann schnell zu unerwünschten Reaktionen führen.', 'is': 'Það getur auðveldlega vakið óæskilega athygli ef tjald er reist á einkalóð eða í bæ af hvaða stærð sem er.'} \n",
      "\n",
      "{'id': 753, 'de': 'Kurz gesagt ist die Nutzung des eigenen Autos eine tolle Option für einen Roadtrip, aber eher nicht für Camping.', 'is': 'Í stuttu máli er frábært að  nota bíl til að fara í ferðalag en sjaldnast sem „gististað\" í útilegu.'} \n",
      "\n",
      "{'id': 754, 'de': 'Camping mit einem Auto ist eine Möglichkeit, sofern Sie einen geräumigen Minivan, ein SUV, eine Limousine oder einen Kombiwagen besitzen, der über umklappbare Sitze verfügt.', 'is': 'Bílaútilega er möguleg ef þú ert með stóran fjölnotabíl, jeppa, sedan-bíl eða skutbíl með sætum sem hægt er að leggja niður.'} \n",
      "\n",
      "{'id': 755, 'de': 'Das Erbe mancher Hotels reicht zurück in die goldene Zeit der Dampfeisenbahnen und Ozeanliner, die Zeit vor dem zweiten Weltkrieg, das 19. oder frühe 20. Jahrhundert.', 'is': 'Sum hótel búa yfir arfleifð frá gullöld gufulesta og millilandaskipa, fyrir síðari heimsstyrjöldina, frá 19. öld eða snemma á 20. öld.'} \n",
      "\n",
      "{'id': 756, 'de': 'In diesen Hotels pflegten die Reichen und Berühmten ihrer Zeit zu übernachteten und gutes Essen und Nachtleben zu genießen.', 'is': 'Þetta eru hótel þar sem þeir ríku og frægu þess tíma gistu og oft var boðið upp á fágaðan mat og næturlíf.'} \n",
      "\n",
      "{'id': 757, 'de': 'Die antiken Einrichtungen, das Nichtvorhandensein moderner Bequemlichkeiten und eine gewisse elegante Bejahrtheit machen auch ihren Charakter aus.', 'is': 'Gamaldags innréttingar, skortur á nýjustu þægindum og ákveðin aldurseinkenni eru hluti af karakter þeirra.'} \n",
      "\n",
      "{'id': 758, 'de': 'Obwohl sie üblicherweise in Privatbesitz sind, beherbergen sie manchmal Staatsoberhäupter und andere Würdenträger, die zu Besuch sind.', 'is': 'Þó það sé yfirleitt í einkaeigu er stundum tekið á móti þjóðhöfðingjum og öðrum háttsettum aðilum.'} \n",
      "\n",
      "{'id': 759, 'de': 'Sehr wohlhabende Reisende könnten sich für eine Flugreise rund um die Welt entscheiden, die sich mit Besuchen vieler dieser Hotels abwechselt.', 'is': 'Ferðalangur með nóg á milli handanna gæti viljað skoða flug umhverfis jörðina, með viðkomu á mörgum þessara hótela.'} \n",
      "\n",
      "{'id': 760, 'de': 'Bei einem sogenannten Hospitality Exchange Network handelt es sich um die Organisation, die Reisende in den Städten, die sie besuchen, mit Einheimischen zusammenbringt.', 'is': 'Fyrirtæki sem nota skiptikerfi á gistirými tengja ferðamenn við íbúa borganna sem þeir heimsækja.'} \n",
      "\n",
      "{'id': 761, 'de': 'Einem solchen Netzwerk beizutreten erfordert für gewöhnlich bloß das Ausfüllen eines Online-Formulars; obwohl einige Netzwerke zusätzliche Überprüfungen anbieten oder erfordern.', 'is': 'Yfirleitt er nóg að fylla út eyðublað á netinu til að gerast meðlimur í svona samtökum þó sum samtök bjóði upp á eða geri kröfu um viðbótarsannvottun.'} \n",
      "\n",
      "{'id': 762, 'de': 'Eine Liste der verfügbaren Unterkünfte bekommt man nun entweder ausgedruckt oder online zur Verfügung gestellt. Sie umfasst manchmal Empfehlungen und Berichte anderer Reisender.', 'is': 'Þar á eftir er afhent prentað eintak af gestgjafalistanum eða listinn er birtur á netinu, stundum með meðmælum og umsögnum frá öðrum ferðalöngum.'} \n",
      "\n",
      "{'id': 763, 'de': 'Couchsurfing wurde im Januar 2004 gegründet, weil der Computerprogrammierer Casey Fenton für eine Reise nach Island zwar einen billigen Flug, aber keine Übernachtungsmöglichkeit gefunden hatte.', 'is': 'Couchsurfing var stofnað í janúar 2004 þegar forritarinn Casey Fenton fann ódýrt flug til Íslands en var með engan stað til að gista á.'} \n",
      "\n",
      "{'id': 764, 'de': 'Er schickte E-Mails an Studenten der örtlichen Universität und erhielt eine überwältigende Anzahl von Angeboten für eine kostenlose Unterkunft.', 'is': 'Hann sendi nemendum í nærliggjandi háskóla tölvupóst og fékk fjöldann allan af tilboðum um fría gistingu.'} \n",
      "\n",
      "{'id': 765, 'de': 'Hostels richten sich in erster Linie an junge Leute – ein typischer Gast ist in seinen Zwanzigern –, aber man findet dort oft auch ältere Reisende.', 'is': 'Farfuglaheimili eru fyrst og fremst ætluð yngra fólki – yfirleitt eru gestirnir á þrítugsaldri – en oft gista eldri ferðalangar þar líka.'} \n",
      "\n",
      "{'id': 766, 'de': 'Familien mit Kindern sind ein seltener Anblick, doch einige Herbergen erlauben ihre Unterbringung in Privatzimmern.', 'is': 'Ekki er mikið um fjölskyldur með börn, en slíkar fjölskyldur mega gista á einkaherbergjum á sumum farfuglaheimilum.'} \n",
      "\n",
      "{'id': 767, 'de': 'Die Stadt Peking in China wird im Jahr 2022 Gastgeber der Olympischen Winterspiele sein und ist damit die erste Stadt, die sowohl die Sommer- als auch die Winterolympiade ausrichtet.', 'is': 'Borgin Peking í Kína verður gistiborg vetrarólympíuleikanna árið 2022 sem gerir hana að fyrstu borginni sem hefur haldið bæði sumar- og vetrarólympíuleika.'} \n",
      "\n",
      "{'id': 768, 'de': 'Peking wird Gastgeber der Eröffnungs- und Schlusszeremonie sowie der Halleneisveranstaltungen sein.', 'is': 'Peking mun halda setningar- og lokaathöfnina og skautaíþróttir innanhúss.'} \n",
      "\n",
      "{'id': 769, 'de': 'Weitere Skiveranstaltungen finden im Skigebiet Taizicheng in Zhangjiakou statt, etwa 220 km (140 Meilen) von Peking entfernt.', 'is': 'Aðrir skíðaviðburðir verða á Taizicheng-skíðasvæðinu í Zhangjiakou í um 220 km fjarlægð frá Peking.'} \n",
      "\n",
      "{'id': 770, 'de': 'Die meisten Tempel haben ein jährliches Fest zwischen Ende November und Mitte Mai, das je nach Jahreskalender des jeweiligen Tempels unterschiedlich ist.', 'is': 'Flest musterin eru með árlega hátíð frá nóvember fram í miðjan maí, sem er mismunandi eftir árlegu dagatali hvers musteris.'} \n",
      "\n",
      "{'id': 771, 'de': 'Die meisten Tempelfeste werden im Rahmen des Tempeljubiläums, des Geburtstags der obersten Gottheit oder anderer wichtiger Ereignisse im Zusammenhang mit dem Tempel gefeiert.', 'is': 'Flestar musterishátíðirnar eru haldnar hátíðlegar sem hluti af afmæli musterisins eða á afmælisdegi guðsins eða öðrum stórviðburðum sem tengjast musterinu.'} \n",
      "\n",
      "{'id': 772, 'de': 'Die Tempelfeste in Kerala mit regelmäßigen Umzügen geschmückter Elefanten, Tempelorchester und anderen Festlichkeiten sind sehr interessant zu beobachten,', 'is': 'Musterishátíðir í Kerala eru mjög áhugaverðar. Þar má sjá fjölmargar skrúðgöngur með skreyttum fílum, musterishljómsveitir og önnur hátíðarhöld.'} \n",
      "\n",
      "{'id': 773, 'de': 'Eine Weltausstellung (häufig Welt-Expo oder einfach Expo genannt) ist ein großes internationales Festival der Künste und Wissenschaften.', 'is': 'Heimssýning (oft kölluð Alþjóðleg vörusýning) er stór alþjóðleg lista- og vísindahátíð.'} \n",
      "\n",
      "{'id': 774, 'de': 'Teilnehmende Länder stellen in nationalen Pavillons künstlerische und pädagogische Exponate aus, um globale Anliegen oder die Kultur und Geschichte des jeweiligen Landes zu präsentieren.', 'is': 'Þátttökulönd kynna listrænar og fræðandi sýningar í þjóðskálum til að sýna heimstengd atriði eða menningar- og sögutengda þætti lands síns.'} \n",
      "\n",
      "{'id': 775, 'de': 'Internationale Gartenbauausstellungen sind spezielle Ereignisse, bei denen Blumenschauen, botanische Gärten und alles sonst, was mit Pflanzen zu tun hat, präsentiert werden.', 'is': 'Garðyrkjusýningar á alþjóðavísu eru sérhæfðir atburðir þar sem sýndar eru blómaútstillingar, grasagarðar og aðrir hlutir sem tengjast plönturíkinu.'} \n",
      "\n",
      "{'id': 776, 'de': 'Obwohl sie theoretisch jährlich stattfinden können (solange sie in unterschiedlichen Ländern sind), ist das in der Praxis anders.', 'is': 'Fræðilega séð getur slíkt átt sér stað árlega (svo lengi sem slíkt á sér stað í sitt hvoru landinu), en í reynd er slíkt ekki gert.'} \n",
      "\n",
      "{'id': 777, 'de': 'Diese Veranstaltungen gehen zumeist über drei bis sechs Monate und werden an Orten abgehalten, die mindestens 50 Hektar umfassen.', 'is': 'Þessir atburðir vara venjulega á bilinu þrjá til sex mánuði og eru haldnir á stöðum sem eru ekki minni en 50 hektarar.'} \n",
      "\n",
      "{'id': 778, 'de': 'Im Laufe der Jahre wurden viele verschiedene Filmformate verwendet. Der normale 35-mm-Film (Negative mit Maßen von 36 x 24 mm) ist am verbreitetsten.', 'is': 'Ég gegnum tíðina hafa mörg mismunandi snið verið notuð. Venjuleg 35 mm filma (36 x 24 mm negatífa) er langalgengust.'} \n",
      "\n",
      "{'id': 779, 'de': 'Er kann zumeist recht einfach nachgelegt werden, wenn er Ihnen ausgeht, und er verfügt über eine Auflösung, die ungefähr der von aktuellen digitalen Spiegelreflexkameras entspricht.', 'is': 'Hægt er að fylla nokkuð auðveldlega á filmuna ef hún klárast hjá þér og hún veitir svipaða upplausn og núverandi DSLR.'} \n",
      "\n",
      "{'id': 780, 'de': 'Einige Mittelformat-Filmkameras verwenden ein Format von 6 x 6 cm, genauer gesagt, ein 56 x 56 mm großes Negativ.', 'is': 'Sumar kvikmyndavélar með miðlungssnið nota 6 x 6 cm snið, nánar tiltekið 56 x 56 mm neikvætt.'} \n",
      "\n",
      "{'id': 781, 'de': 'Das führt zu einer fast viermal höheren Auflösung als bei einem 35-mm-Negativ (3136 mm² im Vergleich zu 864).', 'is': 'Þetta gefur næstum fjórfalda upplausn miðað við 35 mm negatífu (3136 mm2 á móti 864).'} \n",
      "\n",
      "{'id': 782, 'de': 'Die Tierwelt ist eines des schwierigsten Motive für einen Fotografen. Man braucht für diese Art der Fotografie sowohl Glück als auch Geduld, Erfahrung und eine gute Ausrüstung.', 'is': 'Villt náttúra er eitt erfiðasta viðfangsefni ljósmyndara og krefst blöndu heppni, þolinmæði, reynslu og góðs búnaðar.'} \n",
      "\n",
      "{'id': 783, 'de': 'Wildtierfotografie wird oft als gegeben hingenommen, aber wie auch bei anderer Fotografie gilt, dass ein Bild mehr sagt als tausend Worte.', 'is': 'Oft er ljósmyndun af villtri náttúru tekið sem sjálfsögðum hlut, en eins og ljósmyndun almennt jafngildir ein mynd þúsund orðum.'} \n",
      "\n",
      "{'id': 784, 'de': 'Wildtierfotografie benötigt oft lange Teleobjektive, obwohl für Motive wie eine Vogelschar oder ein kleines Lebewesen andere Objektive erforderlich sind.', 'is': 'Þegar teknar eru myndir af villtri náttúru þarf oft að nota langa aðdráttarlinsu, þó nota þurfi aðrar linsur fyrir hóp fugla eða örlítil dýr.'} \n",
      "\n",
      "{'id': 785, 'de': 'Viele exotische Tiere sind nur schwer zu entdecken und in manchen Parks gibt es Vorschriften für Fotoaufnahmen zu kommerziellen Zwecken.', 'is': 'Örðugt getur reynst að finna mörg framandi dýr og í sumum almenningsgörðum eru fyrir hendi reglur varðandi myndatöku í atvinnuskyni.'} \n",
      "\n",
      "{'id': 786, 'de': 'Wildtiere können entweder scheu oder aggressiv sein. Die Umgebung kann kalt, heiß oder anderweitig feindselig sein.', 'is': 'Villt dýr kunna að vera ýmist feimin eða árásargjörn. Unhverfið kann að vera kalt, heitt eða fjandsamlegt með öðrum hætti.'} \n",
      "\n",
      "{'id': 787, 'de': 'Es gibt auf der Welt über 5.000 verschiedene Sprachen, darunter mehr als zwanzig mit 50 Millionen oder mehr Sprechern.', 'is': 'Í heiminum finnast yfir 5.000 mismunandi tungumál, þar af meira en tuttugu sem töluð eru af 50 milljón manns eða meira.'} \n",
      "\n",
      "{'id': 788, 'de': 'Geschriebene Worte sind oft auch leichter zu verstehen als gesprochene Worte. Dies gilt insbesondere für Adressen, bei denen eine deutliche Aussprache häufig schwer fällt.', 'is': 'Einnig er oft auðveldara að skilja rituð orð en töluð. Það á einkum við um heimilisföng sem er oft erfitt að bera skiljanlega fram.'} \n",
      "\n",
      "{'id': 789, 'de': 'Viele gesamte Nationen sprechen fließend Englisch, und in noch mehr Ländern kann man – vor allem bei jüngeren Menschen – begrenzte Englischkenntnisse erwarten.', 'is': 'Margar þjóðir eru reiprennandi í ensku og í enn fleiri má búast við takmarkaðri þekkingu, einkum meðal yngra fólks.'} \n",
      "\n",
      "{'id': 790, 'de': 'Stellen Sie sich vor, wie eine Person aus Manchester, eine aus Boston, eine aus Jamaika und eine aus Sydney in einem Restaurant in Toronto zusammen beim Essen sitzen.', 'is': 'Ímyndaðu þér fólk frá Manchester, Boston, Jamaíka og Sydney sem situr saman og snæðir kvöldverð á veitingastað í Toronto.'} \n",
      "\n",
      "{'id': 791, 'de': 'Sie ergötzen sich an gegenseitig erzählten Geschichten aus ihren Heimatstädten, dargeboten in ihren ausgeprägten Akzenten und lokalen Jargons.', 'is': 'Þeir eru að skemmta hver öðrum með sögum frá heimabæ sínum, sagðar með þeirra sérstaka framburði og staðbundnu slangri.'} \n",
      "\n",
      "{'id': 792, 'de': 'Essen im Supermarkt zu kaufen ist normalerweise der günstigste Weg, um satt zu werden. Ohne Kochgelegenheit ist die Auswahl jedoch auf fertig zubereitete Gerichte beschränkt.', 'is': 'Að versla í stórmarkaði er yfirleitt ódýrasta leiðin til að borða. Án eldunaraðstöðu einskorðast möguleikarnir hins vegar við tilbúinn mat.'} \n",
      "\n",
      "{'id': 793, 'de': 'Supermärkte erhalten eine zunehmende Vielfalt an Fertiggerichten. Einige bieten sogar Mikrowellen und andere Methoden zum Aufwärmen des Essens.', 'is': 'Í æ ríkara mæli bjóða stórverslanir upp á fjölbreyttan skyndimat. Slíkar verslanir bjóða jafnvel upp á örbylgjuofna eða annan búnað til að hita upp matinn.'} \n",
      "\n",
      "{'id': 794, 'de': 'In einigen Ländern oder Ladenarten gibt es mindestens ein Restaurant vor Ort, das häufig eher ungezwungen und erschwinglich ist.', 'is': 'Í sumum löndum eða tegundum verslana er a.m.k. einn veitingastaður á staðnum, oft frekar óformlegur staður þar sem maturinn er á viðráðanlegu verði.'} \n",
      "\n",
      "{'id': 795, 'de': 'Erstellen Sie Kopien Ihrer Police und der Kontaktdaten Ihres Versicherers und tragen Sie diese bei sich.', 'is': 'Taktu afrit og hafðu skírteinið með þér sem og samskiptaupplýsingar vátryggjanda þíns.'} \n",
      "\n",
      "{'id': 796, 'de': 'Für Beratungen/Autorisierungen und Antragstellungen müssen sie die E-Mail-Adresse und die internationalen Telefonnummern des Versicherers angeben.', 'is': 'Þeir þurfa að sýna netfang vátryggingafélags og alþjóðleg símanúmer til að fá ráð/heimildir og gera kröfur.'} \n",
      "\n",
      "{'id': 797, 'de': 'Bewahren Sie eine weitere Kopie in Ihrem Gepäck und online auf (E-Mail an Sie selbst mit Anhang oder gespeichert in der „Cloud“).', 'is': 'Geymdu annað afrit í farangrinum þínum og á netinu (sendu þér tölvupóst með viðhengi eða geymdu það í \"skýinu\").'} \n",
      "\n",
      "{'id': 798, 'de': 'Falls Sie mit einem Laptop oder einem Tablet reisen, legen Sie eine Kopie im Speicher oder auf der Festplatte an (die ohne Internet verfügbar ist).', 'is': 'Ef ferðast er með fartölvu eða spjaldtölvu skal geyma afrit á minni eða harða diski tölvunnar (sem er hægt að opna án nettengingar).'} \n",
      "\n",
      "{'id': 799, 'de': 'Geben Sie Kopien der Versicherung/Kontaktdaten auch an Mitreisende und Verwandte oder Freunde zu Hause, die bereit sind zu helfen.', 'is': 'Láttu líka ferðafélaga fá afrit af reglunum/tengiliðaupplýsingum eða deildu þeim með vinum og vandamönnum heima við sem vilja hjálpa til.'} \n",
      "\n",
      "{'id': 800, 'de': 'Elche sind nicht von Natur aus aggressiv, verteidigen sich aber, wenn sie eine Bedrohung wahrnehmen.', 'is': 'Elgir eru í eðlislægt ekki árásargjarnir. Þeir verja sig samt ef þeir skynja ógnun.'} \n",
      "\n",
      "{'id': 801, 'de': 'Menschen, die den Elch nicht als mögliche Bedrohung betrachten, können ihm zu nahe kommen und sich selbst in Gefahr bringen.', 'is': 'Þeir sem telja elginn ekki hættulegan, kunna að fara of nálægt og stofna sér í hættu.'} \n",
      "\n",
      "{'id': 802, 'de': 'Trinken Sie alkoholische Getränke in Maßen. Alkohol wirkt sich auf jeden anders aus und es ist sehr wichtig, die eigene Grenze zu kennen.', 'is': 'Drekka skal áfenga drykki í hófi. Alkóhól hefur mismunandi áhrif á fólk og mikilvægt er að þekkja sín mörk.'} \n",
      "\n",
      "{'id': 803, 'de': 'Zu den möglichen langfristigen gesundheitlichen Problemen durch übermäßigen Alkoholkonsum können Leberschäden und sogar Blindheit und Tod gehören. Die potenzielle Gefahr wird durch den Konsum von illegal hergestelltem Alkohol erhöht.', 'is': 'Möguleg langtíma heilbrigðisáhrif vegna ofdrykkju geta falið í sér lifrarskemmdir og jafnvel blindu og dauða. Möguleg hætta eykst þegar er áfengis sem er ólöglega framleitt.'} \n",
      "\n",
      "{'id': 804, 'de': 'Illegale Spirituosen können verschiedene gefährliche Verunreinigungen enthalten, darunter Methanol, das schon in geringen Dosen zu Blindheit oder Tod führen kann.', 'is': 'Ólöglegt áfengi getur innihaldið ýmis hættuleg óhreinindi, þar á meðal metanól sem veldur blindu eða dauða jafnvel í litlum skömmtum.'} \n",
      "\n",
      "{'id': 805, 'de': 'Brillen können in anderen Ländern billiger sein, besonders in Ländern mit niedrigem Einkommen, wo die Lohnkosten geringer sind.', 'is': 'Gleraugu kunna að vera ódýrari í útlöndum, einkum í lágtekjulöndum þar sem launakostnaður er lægri.'} \n",
      "\n",
      "{'id': 806, 'de': 'Ziehen Sie in Betracht, eine Augenuntersuchung im Heimatland zu machen, insbesondere wenn diese von der Versicherung abgedeckt ist, und das Rezept dann in einem anderen Land einzulösen.', 'is': 'Íhugaðu að láta gera augnrannsókn heima hjá þér, sérstaklega ef tryggingin nær yfir það, og fá lyfseðilinn með þar sem pappírsvinnan verður gerð annars staðar.'} \n",
      "\n",
      "{'id': 807, 'de': 'Hochwertige Markenfassungen, die in solchen Gebieten erhältlich sind, können zwei Probleme aufweisen - einige sind vielleicht Fälschungen, die echten, importierten sind vielleicht teurer als im eigenen Land.', 'is': 'Umgjörðum frá vinsælum vörumerkjum sem fást á slíkum stöðum kunna að fylgja tvennskonar vandamál; sumar kunna að vera eftirlíkingar og innfluttar ósviknar umgjarðir kunna að vera dýrari en í heimalandinu.'} \n",
      "\n",
      "{'id': 808, 'de': 'Kaffee ist eines der weltweit am meisten gehandelten Güter und Sie können in Ihrer Heimatregion wahrscheinlich viele verschiedene Sorten finden.', 'is': 'Kaffi er ein algengasta verslunarvara heims og þú getur sennilega fundið margar gerðir á þínum heimaslóðum.'} \n",
      "\n",
      "{'id': 809, 'de': 'Dennoch gibt es auf der ganzen Welt viele unterschiedliche Arten, Kaffee zu trinken, die man erleben sollte.', 'is': 'Engu að síður eru margar einstakar leiðir til að drekka kaffi á heimsvísu sem vert er að upplifa.'} \n",
      "\n",
      "{'id': 810, 'de': 'Beim Canyoning (auch Schluchteln genannt) geht es darum, in den Grund einer Schlucht zu steigen, die entweder trocken oder voller Wasser ist.', 'is': 'Gljúfraferð snýst um að fara niður í botninn á gljúfri sem er annaðhvort þurrt eða fullt af vatni.'} \n",
      "\n",
      "{'id': 811, 'de': 'Elemente des Canyonings sind Schwimmen, Klettern und Springen – doch es hat für Einsteiger relativ geringe Anforderungen an Training und körperliche Verfassung (zum Beispiel im Vergleich zu Felsenklettern, Sporttauchen und dem alpinen Skisport).', 'is': 'Gljúfraferð sameinar sundiðkun, klifur og dýfingar -- en krefst lítillar þjálfunar eða líkamlegs atgervis til að koma sér af stað (í samanburði við klettaklifur, köfun eða skíðaiðkun sem dæmi).'} \n",
      "\n",
      "{'id': 812, 'de': 'Wandern ist eine Outdoor-Aktivität, die darin besteht, in der Natur, oft auf Wanderwegen, zu Fuß zu gehen.', 'is': 'Gönguferðir eru hreyfing utandyra sem felur í sér að ganga í náttúrunni, iðulega á göngustígum.'} \n",
      "\n",
      "{'id': 813, 'de': 'Tageswanderungen umfassen Strecken von weniger als einer Meile bis hin zu längeren Strecken, die an einem einzigen Tag zurückgelegt werden können.', 'is': 'Dagslöng fjallganga felur í sér vegalengd frá undir einni mílu til lengri vegalengda sem hægt er að komast yfir á einum degi.'} \n",
      "\n",
      "{'id': 814, 'de': 'Für eine Tageswanderung auf einer einfachen Route braucht es nicht viel Vorbereitung und jeder, der einigermaßen fit ist, kann sie genießen.', 'is': 'Fyrir heilsdags göngur á auðveldum slóða þarf ekki mikinn undirbúning og allir sem eru í miðlungsgóðu formi geta notið þeirra.'} \n",
      "\n",
      "{'id': 815, 'de': 'Familien mit kleinen Kindern brauchen vielleicht mehr Vorbereitungen, aber ein Tag im Freien ist auch mit Babys und Vorschulkindern einfach machbar.', 'is': 'Fjölskyldur með lítil börn þurfa ef til vill meiri undirbúning, en það er vel hægt að eyða degi úti við þrátt fyrir ungbörn og börn á leikskólaaldri.'} \n",
      "\n",
      "{'id': 816, 'de': 'Weltweit gibt es fast 200 Lauftouren-Organisationen. Die meisten arbeiten unabhängig.', 'is': 'Í heiminum eru næstum 200 fyrirtæki sem skipuleggja hlaupaferðir. Flest þeirra eru sjálfstætt starfandi.'} \n",
      "\n",
      "{'id': 817, 'de': 'Go Running Tours, der Nachfolger von Global Running Tours, vernetzt Dutzende von Sightrunning-Anbietern auf vier Kontinenten.', 'is': 'Fyrirtækið Go Running Tours, sem tók við af Global Running Tours myndar tengsl við tugir fyrirtækja sem bjóða upp á hlaup og skoðunarferðir saman á fjórum heimsálfum.'} \n",
      "\n",
      "{'id': 818, 'de': 'Mit Wurzeln in Barcelonas Running Tours Barcelona und Kopenhagens Running Copenhagen erhielt es schnell Zuwachs durch Running Tours Prague in Prag und weitere.', 'is': 'Upprunalega sprottið af fyrirtækinu Running Tours Barcelona og Running Copenhagen, Running Tours Prague með aðsetur í Prag, bættist fljótlega við hópinn ásamt öðrum.'} \n",
      "\n",
      "{'id': 819, 'de': 'Es gibt viele Dinge, die Sie vor und während einer Reise berücksichtigen müssen.', 'is': 'Þú þarft að hafa margt í huga áður þú og þegar þú ferðast eitthvað.'} \n",
      "\n",
      "{'id': 820, 'de': 'Erwarten Sie nicht, dass die Dinge beim Reisen genau so sind wie „zuhause“. Umgangsformen, Gesetze, Essen, Verkehr, Unterkünfte, Standards, Spache und so weiter werden zu einem gewissen Grad anders sein als dort, wo Sie leben.', 'is': 'Á ferðalögum er best að búast við að hlutirnir séu ekki eins og \"heima\". Siðir, lög, matur, umferð, gististaðir, staðlar, tungumál og svo framvegis mun að einhverju leyti vera ólíkt því sem er á þínum heimaslóðum.'} \n",
      "\n",
      "{'id': 821, 'de': 'Dies ist etwas, was man immer im Hinterkopf behalten sollte, um Enttäuschung oder gar Abneigung über lokale Vorgehensweisen zu vermeiden.', 'is': 'Þetta er eitthvað sem þú þarft alltaf að hafa í huga, til að forðast vonbrigði eða kannski jafnvel óbeit á á því hvernig heimamenn gera hlutina.'} \n",
      "\n",
      "{'id': 822, 'de': 'Reiseagenturen gibt es seit dem 19. Jahrhundert. Ein Reiseberater ist in der Regel eine gute Wahl für Reisen, die über die bisherige Erfahrung des Reisenden hinsichtlich Natur, Kultur, Sprache oder einkommensschwacher Länder hinausgehen.', 'is': 'Ferðaskrifstofur hafa verið til síðan á 19. öld. Þangað er gott að leita ef ferðast á staði þar sem ferðamaðurinn þekkir ekki náttúru, menningu, tungumálið eða til landa þar sem tekjur eru lágar.'} \n",
      "\n",
      "{'id': 823, 'de': 'Obwohl die meisten Agenturen bereit sind, die meisten regulären Buchungen zu übernehmen, spezialisieren sich viele Vertreter auf bestimmte Reisearten, Preisspannen oder Reiseziele.', 'is': 'Flestar ferðaskrifstofur taka við hefðbundnum bókunum, en tilteknar ferðaskrifstofur sérhæfa sig í sérsniðnum ferðalögum, sérstökum fjárhagsáætlunum eða áfangastöðum.'} \n",
      "\n",
      "{'id': 824, 'de': 'Es kann sinnvoller sein, einen Reiseberater zu nutzen, der häufig ähnliche Reisen wie Ihre bucht.', 'is': 'Hugsanlega er betra að nota ferðaskrifstofu sem bókar reglulega svipaðar ferðir og þú hyggst fara í.'} \n",
      "\n",
      "{'id': 825, 'de': 'Werfen Sie einen Blick auf die Reisen, die der Reisekaufmann auf der Webseite oder in einem Schaufenster bewirbt.', 'is': 'Skoðaðu hvaða ferðir fulltrúinn er að auglýsa, hvort sem þær eru á vefsíðu eða í búðarglugga.'} \n",
      "\n",
      "{'id': 826, 'de': 'Wenn Sie die Welt notgedrungen, wegen Ihres Lebensstils oder als Herausforderung kostengünstig sehen möchten, gibt es einige Möglichkeiten, dies zu tun.', 'is': 'Ef þig langar að skoða allan heiminn á ódýran hátt eru nokkrar leiðir til þess í boði, hvort sem slíkt er af nauðsyn, lífsstílsákvörðun eða áskorun.'} \n",
      "\n",
      "{'id': 827, 'de': 'Sie lassen sich im Wesentlichen in zwei Kategorien einteilen: Entweder arbeiten Sie, während Sie reisen, oder Sie versuchen, Ihre Ausgaben zu senken. Dieser Artikel konzentriert sich auf Letzteres.', 'is': 'Í raun er um tvær leiðir að ræða: Annaðhvort vinnur maður á meðan maður ferðast eða reynir að draga úr útgjöldum. Þessi grein fjallar mestmegnis um seinni kostinn.'} \n",
      "\n",
      "{'id': 828, 'de': 'Für diejenigen, die bereit sind, auf Komfort, Zeit und Planbarkeit zu verzichten, um die Ausgaben fast auf Null zu reduzieren, siehe Reisen mit minimalem Budget.', 'is': 'Fyrir þá sem eru til í að fórna þægindum, tíma og fyrirsjáanleika til að minnka útgjöld niður í næstum núll er vert að skoða ódýrar leiðir til að ferðast.'} \n",
      "\n",
      "{'id': 829, 'de': 'Der Ratschlag setzt voraus, dass Reisende nicht stehlen, Hausfriedensbruch begehen, Schwarzmarktaktivitäten nachgehen, betteln oder andere Menschen auf andere Weise zum eigenen Vorteil ausnutzen.', 'is': 'Ráðgjöfin gefur sér að ferðamenn steli ekki, fari ekki inn í leyfisleysi, taki þátt í ólöglegum markaði, betli eða notfæri sér annað fólk.'} \n",
      "\n",
      "{'id': 830, 'de': 'Eine Einwanderungsprüfstelle ist für gewöhnlich die erste Station, wenn man aus einem Flugzeug, einem Schiff oder einem anderen Fahrzeug steigt.', 'is': 'Útlendingaeftirlit er yfirleitt fyrsta skoðunin þegar gengið er frá borði við komu með flugvél, skipi eða öðrum farartækjum.'} \n",
      "\n",
      "{'id': 831, 'de': 'In einigen grenzüberschreitenden Zügen werden Kontrollen im fahrenden Zug durchgeführt und Sie sollten beim Einsteigen in einen dieser Züge einen gültigen Ausweis bei sich haben.', 'is': 'Í sumum lestum sem fara yfir landamæri fer eftirlit fram þegar lestin er á ferð og þú verður að hafa meðferðis gild skilríki ef þú ferðast í slíkum lestum.'} \n",
      "\n",
      "{'id': 832, 'de': 'In Nachtzügen können die Pässe vom Schaffner eingesammelt werden, damit Ihr Schlaf nicht unterbrochen wird.', 'is': 'Í næturlestum geta lestarverðir safnað saman vegabréfum svo að svefn þinn verði ekki fyrir truflun.'} \n",
      "\n",
      "{'id': 833, 'de': 'Die Anmeldung ist eine weitere Notwendigkeit beim Visaverfahren. In manchen Ländern müssen Sie Ihre Anwesenheit und Ihre Wohnadresse bei den lokalen Behörden melden.', 'is': 'Skráning er viðbótarkrafa í vegabréfsáritunarferlinu. Í sumum löndum verður þú að skrá viðveru þína og það heimilisfang þar sem þú dvelur hjá staðaryfirvöldum.'} \n",
      "\n",
      "{'id': 834, 'de': 'Dies bedeutet zum Beispiel ein Formular bei der Polizei vor Ort auszufüllen oder bei der Einwanderungsbehörde vorstellig zu werden.', 'is': 'Þetta gæti þýtt að það þurfi að fylla út eyðublað hjá lögreglunni á staðnum eða heimsækja Útlendingastofnun.'} \n",
      "\n",
      "{'id': 835, 'de': 'In vielen Ländern mit so einem Gesetz, kümmern sich lokale Hotels um die Registrierung (vergessen Sie nicht, danach zu fragen).', 'is': 'Í mörgum löndum þar sem slík lög eru í gildi sjá hótelin á staðnum sjá um skráninguna (gætið þess að spyrja um slíkt).'} \n",
      "\n",
      "{'id': 836, 'de': 'Gegebenenfalls müssen sich nur Reisende anmelden, die nicht in Unterkünften für Touristen wohnen. Dadurch wird das Gesetz allerdings viel unklarer, daher sollten Sie sich vor dem Reiseantritt informieren.', 'is': 'Í öðrum tilvikum þurfa eingöngu aðilar sem dvelja í gistiaðstöðu sem ekki er fyrir ferðamenn að skrá sig. Lögin eru hins vegar mjög óljós hvað þetta varðar og því verður að leita upplýsinga áður en haldið er af stað.'} \n",
      "\n",
      "{'id': 837, 'de': 'Die Architektur befasst sich mit der Planung und dem Bau von Gebäuden. Die Architektur eines Ortes ist oft eine Touristenattraktion an sich.', 'is': 'Byggingarlist gengur út á að hanna og byggja húsnæði. Byggingarlist ein og sér getur dregið að ferðamenn.'} \n",
      "\n",
      "{'id': 838, 'de': 'Viele Gebäude sind sehr schön anzusehen und die Aussicht von einem hohen Gebäude oder von einem geschickt positionierten Fenster kann sich als wunderschön erweisen.', 'is': 'Margar byggingar eru ansi fallegar á að líta og útsýnið frá hárri byggingu eða frá vel staðsettum glugga getur verið fallegt að sjá.'} \n",
      "\n",
      "{'id': 839, 'de': 'Architektur überschneidet sich in weiten Teilen mit anderen Fachgebieten, darunter Städteplanung, Bauwesen, dekorative Kunst, Raumgestaltung und Landschaftsgestaltung.', 'is': 'Byggingarlist skarast við aðrar greinar á borð við borgarskipulag, byggingarverkfræði, skreytilist, innanhússhönnun og landslagshönnun.'} \n",
      "\n",
      "{'id': 840, 'de': 'Wenn man bedenkt, wie abgelegen viele der Pueblos sind, werden Sie kein nennenswertes Nachtleben finden, wenn Sie nicht nach Albuquerque oder Santa Fe reisen.', 'is': 'Þar sem mörg þorpanna eru úr alfaraleið, verður ekki hægt að finna næturlíf að neinu ráði án þess að fara til Albuquerque eða Santa Fe.'} \n",
      "\n",
      "{'id': 841, 'de': 'Allerdings servieren fast alle der oben aufgeführten Casinos Getränke und einige von ihnen laden namhafte Unterhaltungskünstler ein (hauptsächlich die großen Casinos in der unmittelbaren Nachbarschaft von Albuquerque und Santa Fe).', 'is': 'Flest af spilavítunum sem talin eru upp hér á undan bjóða hins vegar upp á drykki og heimsfrægir skemmtikraftar troða upp í nokkrum þeirra (aðallega í stærstu spilavítunum sem eru í nágrenni Albuquerque og Santa Fe).'} \n",
      "\n",
      "{'id': 842, 'de': 'Vorsicht: Die Kleinstadtkneipen in dieser Gegend sind nicht immer geeignete Besuchsziele für Gäste von außerhalb.', 'is': 'Varúð: Litlar þorpskrár eru ekki alltaf góðir staðir fyrir gesti til að hanga á hér.'} \n",
      "\n",
      "{'id': 843, 'de': 'Einerseits hat das nördliche New Mexico signifikante Probleme mit Fahren unter Alkoholeinfluss. In der Umgebung von Kleinstadt-Bars ist die Konzentration betrunkener Fahrer besonders hoch.', 'is': 'Í fyrsta lagi er ölvunarakstur töluvert vandamál í norðurhluta Nýju-Mexíkó og fjöldi ökumanna undir áhrifum er mikill í grennd við bari í litlum bæjum.'} \n",
      "\n",
      "{'id': 844, 'de': 'Unerwünschte Wandgemälde oder Schmierereien sind als Graffiti bekannt.', 'is': 'Óumboðnar veggmyndir og krafs er kallað graff.'} \n",
      "\n",
      "{'id': 845, 'de': 'Obwohl es alles andere als ein modernes Phänomen ist, verbinden die meisten Menschen es wahrscheinlich mit Jugendlichen, die öffentliches und privates Eigentum mit Sprühfarbe zerstören.', 'is': 'Þó það sér alls ekki nútímafyrirbæri, tengja flestir veggjakrot með úðabrúsum líklega við skemmdarverk unglinga á eignum hins opinbera og einkaaðila.'} \n",
      "\n",
      "{'id': 846, 'de': '\"Heutzutage gibt es allerdings etablierte Graffiti-Künstler, Graffiti-Veranstaltungen und „legale\"\" Wände. In diesem Kontext gleichen Graffiti-Gemälde häufiger Kunstwerken als unlesbaren Kritzeleien. \"', 'is': 'Í dag eru  hins vegar til frægir veggjakrotslistamenn, veggjakrotsviðburðir eru haldnir og til eru veggir sem „löglegt\" er að krota á. Þessi gerð veggjakrots líkist oft listaverkum frekar en ólæsilegum merkingum.'} \n",
      "\n",
      "{'id': 847, 'de': 'Bumerangwerfen ist eine beliebte Fertigkeit, die viele Touristen erlernen wollen.', 'is': 'Bjúgverpilskast er vinsæl iðja sem margir ferðamenn vilja ná valdi á.'} \n",
      "\n",
      "{'id': 848, 'de': 'Wenn Sie lernen wollen, wie man einen Bumerang so wirft, dass er zu Ihrer Hand zurückkommt, achten Sie darauf, dass Sie einen dafür geeigneten Bumerang haben.', 'is': 'Ef þú vilt læra að kasta bjúgverpli og fá hann til að koma til baka í hönd þína verður þú að nota bjúgverpil af réttri gerð.'} \n",
      "\n",
      "{'id': 849, 'de': 'Die meisten Bumerangs, die in Australien erhältlich sind, kehren in Wirklichkeit nicht zurück. Anfänger sollten versuchen, möglichst nicht bei windigem Wetter zu werfen.', 'is': 'Flest búmeröng sem tiltæk eru í Ástralíu koma í raun ekki til baka. Best er að byrjendur hendi ekki í vindi'} \n",
      "\n",
      "{'id': 850, 'de': 'Ein Hāngi-Gericht wird in einem heißen Erdloch gekocht.', 'is': 'Rétturinn Hangi er soðinn í heitri gryfju ofan í jörðu.'} \n",
      "\n",
      "{'id': 851, 'de': 'Die Grube wird mit heißen Steinen aus einem Feuer oder an manchen Orten durch Erdwärme erhitzt, wo der Boden stellenweise von Natur aus heiß ist.', 'is': 'Gryfjan er annaðhvort hituð með heitum steinum úr eldi, en á sumum stöðum gerir jarðhiti svæðin á jörðinni náttúrulega heit.'} \n",
      "\n",
      "{'id': 852, 'de': 'Hangi wird oft verwendet, um ein traditionell gebratenenes Abendessen zuzubereiten.', 'is': 'Hangi er oft notað til að elda hefðbundinn steiktan kvöldverð.'} \n",
      "\n",
      "{'id': 853, 'de': 'Mehrere Orte in Rotorua bieten geothermales Hangi an, während anderes Hangi in Christchurch, Wellington und anderswo gekostet werden kann.', 'is': 'Nokkrir staðir í Rotorua bjóða upp á jarðhita hangi en hægt er að prófa annað hangi í Christchurch, Wellington og víðar.'} \n",
      "\n",
      "{'id': 854, 'de': 'MetroRail besitzt zwei Klassen von Pendlerzügen in und um Kapstadt: MetroPlus (auch als erste Klasse bezeichnet) und Metro (als dritte Klasse bezeichnet).', 'is': 'MetroRail býður upp á tvennskonar miðaflokka fyrir svæðislestir í Höfðaborg og úthverfum: MetroPlus (kallast einnig First Class) og Metro (kallast Third Class).'} \n",
      "\n",
      "{'id': 855, 'de': 'MetroPlus ist komfortabler und weniger überfüllt, allerdings etwas teurer – wenn auch immer noch günstiger als normale U-Bahn-Tickets in Europa.', 'is': 'MetroPlus er þægilegri og ekki eins mannmargur en örlítið dýrari. Samt ódýrari en hefðbundnir miðar í neðanjarðarlestir Evrópu.'} \n",
      "\n",
      "{'id': 856, 'de': 'Jeder Zug hat sowohl MetroPlus- als auch Metro-Wagen. Die MetroPlus-Wagen befinden sich immer an dem Zugende, das Kapstadt am nächsten ist.', 'is': 'Allar lestir eru bæði með MetroPlus- og Metro-farrými; MetroPlus-farrýmin eru alltaf í enda lestarinnar næst Höfðaborg.'} \n",
      "\n",
      "{'id': 857, 'de': 'Tragen für andere – Verlieren Sie Ihr Gepäck niemals aus den Augen, besonders wenn Sie internationale Grenzen überschreiten.', 'is': 'Að bera fyrir aðra - Aldrei missa sjónar af farangrinum þínum, sérstaklega þegar farið er á milli landamæra.'} \n",
      "\n",
      "{'id': 858, 'de': 'Man könnte als Drogenbote benutzt werden, ohne es zu wissen, was einem viel Ärger einbringt.', 'is': 'Það er hægt að lenda í því að vera notaður til að flytja eiturlyfj án þinnar vitundar, en slíkt getur bakað manni mikil vandræði.'} \n",
      "\n",
      "{'id': 859, 'de': 'Dazu gehört auch das Warten in der Schlange, da Drogenspürhunde jederzeit und ohne Vorankündigung eingesetzt werden könnten.', 'is': 'Þetta á líka við að bíða í röð. Notkun eiturlyfjahunda er nefnilega ekki möguleg án fyrirvara.'} \n",
      "\n",
      "{'id': 860, 'de': 'In einigen Ländern gibt es selbst für erstmalige Vergehen überaus drakonische Strafen; diese können Gefängnisstrafen von über 10 Jahren oder die Todesstrafe einschließen.', 'is': 'Sum lönd eru með mjög grimmdarlegar refsingar, jafnvel við brot í fyrsta sinn. Slíkt getur falið í sér fangelsisdóma sem eru yfir 10 ár eða dauðadóm.'} \n",
      "\n",
      "{'id': 861, 'de': 'Unbeaufsichtigte Taschen sind ein Ziel für Diebe und können auch die Aufmerksamkeit von Behörden auf sich ziehen, die Bombendrohungen fürchten.', 'is': 'Farangri sem skilinn er eftir er oft stolið og getur einnig dregið athygli yfirvalda sem hafa áhyggjur af sprengjuhótunum.'} \n",
      "\n",
      "{'id': 862, 'de': 'Daheim sind Sie gegen lokale Keime mit großer Wahrscheinlichkeit schon immun, da Sie ihnen ständig ausgesetzt sind.', 'is': 'Heima fyrir, sökum þess að maður er stöðugt í návist sýkla, eru góðar líkur á að maður sé þegar orðinn ónæmur fyrir þeim.'} \n",
      "\n",
      "{'id': 863, 'de': 'In anderen Teilen der Welt, in denen die bakteriologische Fauna neu für Sie ist, werden Sie jedoch viel eher auf Probleme stoßen.', 'is': 'En í öðrum heimshlutum, þar sem gerlaríkið er manni framandi, eru talsvert meiri líkur á að lenda í vanda.'} \n",
      "\n",
      "{'id': 864, 'de': 'In wärmeren Klimazonen wachsen Bakterien außerdem schneller und überleben länger außerhalb des Körpers.', 'is': 'Bakteríur vaxa hraðar og lifa lengur utan líkamans í heitu loftslagi.'} \n",
      "\n",
      "{'id': 865, 'de': 'Daher die Geißeln von Delhi Belly, der Pharaonenfluch, Montezumas Rache und ihre vielen Freunde.', 'is': 'Þar af leiðandi Delhi Belly plágan, bölvun farósins, hefnd Montezuma og fjölmargir vinir þeirra.'} \n",
      "\n",
      "{'id': 866, 'de': 'Wie Atemprobleme in kaltem Klima sind Darmprobleme in heißem Klima recht weit verbreitet. In den meisten Fällen sind sie sehr lästig, aber eher ungefährlich.', 'is': 'Líkt og með öndunarerfiðleika í köldu loftslagi eru þarmavandamál í hlýju loftslagi nokkuð algeng og í flestum tilfellum valda þau töluverðum óþægindum en eru ekki sérlega hættuleg.'} \n",
      "\n",
      "{'id': 867, 'de': 'Wenn Sie zum ersten Mal in ein Entwicklungsland – oder in einen neuen Teil der Welt – reisen, sollten Sie nicht unterschätzen, wie stark der Kulturschock sein kann.', 'is': 'Ef ferðast er til þróunarlands í fyrsta sinn eða nýrra heimshluta skal ekki vanmeta hversu mikil áhrif menningarmunur getur haft.'} \n",
      "\n",
      "{'id': 868, 'de': 'So mancher stabile, fähige Reisende ist schon von der Andersartigkeit des Reisens in den Entwicklungsländern überwältigt worden, wo sich die vielen kleinen kulturellen Unterschiede schnell summieren können.', 'is': 'Margir staðfastir og færir ferðalangar hafa sigrast á nýstárleika á ferðalögum en margar litlar menningarlegar aðlaganir geta fljótt orðið að stórum.'} \n",
      "\n",
      "{'id': 869, 'de': 'Vor allem in den ersten Tagen sollten Sie erwägen, Hotels, Essen und Dienstleistungen mit westlicher Prägung und Qualität in Anspruch zu nehmen, um die Akklimatisierung zu erleichtern.', 'is': 'Sérstaklega fyrstu dagana ætti maður að leyfa sér að eyða í gæðahótel, mat og þjónustu í vestrænum stíl til að aðlagast betur.'} \n",
      "\n",
      "{'id': 870, 'de': 'Schlafen Sie in Gegenden, in denen Sie die örtliche Tierwelt nicht kennen, nicht auf einer Matratze oder Matte auf dem Boden.', 'is': 'Ekki sofa á dýnu eða yfirdýnu á jörðinni á svæðum þar sem þú þekkir ekki dýraríkið á staðnum.'} \n",
      "\n",
      "{'id': 871, 'de': 'Wenn Sie im Freien zelten, sollten Sie ein Klappbett oder eine Hängematte mitnehmen, um sich vor Schlangen, Skorpionen usw. zu schützen.', 'is': 'Ef þú ætlar að tjalda skaltu taka með þér tjaldbedda eða hengirúm til að forðast snáka, sporðdreka og viðlíka dýr.'} \n",
      "\n",
      "{'id': 872, 'de': 'Erfülle Dein Zuhause mit einem köstlichem Kaffee am Morgen und etwas entspannendem Kamillentee am Abend.', 'is': 'Fylltu heimili þitt af ilmandi kaffi á morgnana og róandi kamillutei á kvöldin.'} \n",
      "\n",
      "{'id': 873, 'de': 'Wenn Sie Urlaub zu Hause machen, haben Sie die Zeit, es sich gut gehen zu lassen und ein paar Minuten mehr zu investieren, um etwas Besonderes aufzubrühen.', 'is': 'Þegar farið er í heimafrí efst tími til að gera vel við sig og eyða smá tíma í að gera eitthvað sérstakt.'} \n",
      "\n",
      "{'id': 874, 'de': 'Wenn Sie ein wenig mehr Abenteuer wollen, ergreifen Sie die Chance, Smoothies saftiger zu machen oder zu mixen:', 'is': 'Ef þig langar að prófa eitthvað nýtt skaltu nýta tækifærið og búa til eða blanda saman nokkrum þeytingum:'} \n",
      "\n",
      "{'id': 875, 'de': 'Vielleicht finden Sie ein einfaches Getränk, das Sie zum Frühstück zubereiten können, wenn Sie wieder in Ihrer täglichen Routine angekommen sind.', 'is': 'kannski kemurðu upp með einfaldan drykk sem þú getur búið til í morgunverð þegar hversdagslega rútínan þín er aftur komin í gang.'} \n",
      "\n",
      "{'id': 876, 'de': 'Wenn Sie in einer Stadt mit einer vielfältigen Trinkkultur leben, gehen Sie in Bars oder Kneipen in Stadtvierteln, die Sie nicht häufig besuchen.', 'is': 'Ef þú býrð í borg þar sem er fjölbreytt drykkjarmenning skaltu prófa að fara á bari eða pöbba í hverfum sem þú heimsækir ekki oft.'} \n",
      "\n",
      "{'id': 877, 'de': 'Für die, die sich mit dem medizinischen Fachjargon wenig auskennen: Die Begriffe infektiös und ansteckend haben unterschiedliche Bedeutungen.', 'is': 'Fyrir þá sem skilja ekki læknamál hafa orðin „infectious“ og „contagious“ ólíka merkingu.'} \n",
      "\n",
      "{'id': 878, 'de': 'Eine Infektionskrankheit ist eine Krankheit, die durch einen Erreger, wie z. B. einen Virus, ein Bakterium, einen Pilz oder andere Parasiten, verursacht wird.', 'is': 'Sýklar eins og veirur, bakteríur, sveppir eða önnur sníkjudýr valda smitsjúkdómum.'} \n",
      "\n",
      "{'id': 879, 'de': 'Eine ansteckende Krankheit ist eine Krankheit, die leicht übertragen wird, wenn man sich in der Nähe einer infizierten Person aufhält.', 'is': 'Smitsjúkdómur er sjúkdómur sem smitast auðveldlega á milli fólks sem er nálægt sýktri manneskju.'} \n",
      "\n",
      "{'id': 880, 'de': 'Viele Regierungen fordern von einreisenden Besuchern oder abreisenden Einwohnern in ihren Ländern, dass sie sich gegen eine Reihe von Krankheiten impfen lassen.', 'is': 'Margar ríkisstjórnir krefjast þess að gestir sem koma inn í landið, eða íbúar sem yfirgefa það, séu bólusettir gegn ýmsum sjúkdómum.'} \n",
      "\n",
      "{'id': 881, 'de': 'Diese Voraussetzungen hängen oft davon ab, welche Länder ein Urlauber schon besucht hat oder welche er besuchen will.', 'is': 'Þessar kröfur geta oft verið háðar hvaða lönd ferðamaður hefur heimsótt eða hyggst heimsækja.'} \n",
      "\n",
      "{'id': 882, 'de': 'Eine der Stärken von Charlotte (North Carolina) ist, dass es dort eine Fülle hochwertiger Angebote für Familien gibt.', 'is': 'Einn af öflugu punktum Charlotte í Norður-Karólínu er að þar er nóg af vönduðum valkostum fyrir fjölskyldur.'} \n",
      "\n",
      "{'id': 883, 'de': 'Bewohner aus anderen Gegenden geben oft Familienfreundlichkeit als Hauptgrund für ihren Umzug an, und Besucher mit Kindern fühlen sich in der Stadt sehr wohl.', 'is': 'Fólk sem kemur öðrum svæðum nefnr fjölskylduvænt oft sem helstu ástæðuna fyrir flutningi þangað og gestum finnst borgin oft vera þægileg hvað börn varðar.'} \n",
      "\n",
      "{'id': 884, 'de': 'In den letzten 20 Jahren ist die Auswahl an kinderfreundlichen Optionen in Uptown Charlotte exponentiell gewachsen.', 'is': 'Á síðustu 20 árum hefur úrval barnvænna valkosta aukist til muna í miðbæ Charlotte.'} \n",
      "\n",
      "{'id': 885, 'de': 'Taxis werden von Familien in Charlotte normalerweise nicht genutzt, obwohl sie unter bestimmten Umständen nützlich sein können.', 'is': 'Leigubílar eru almennt ekki notaðir af fjölskyldum í Charlotte, þó að þeir geti komið að gagni við ákveðnar kringumstæður.'} \n",
      "\n",
      "{'id': 886, 'de': 'Für mehr als 2 Passagiere gilt eine Zusatzgebühr, was diese Wahl unter Umständen teurer als nötig macht.', 'is': 'Ekki þarf að greiða aukalega fyrir að vera með fleiri en 2 farþega. Því gæti þessi valkostur verið dýrari en nauðsyn krefur.'} \n",
      "\n",
      "{'id': 887, 'de': 'Die Antarktis die den Südpol umgibt, ist der kälteste Ort der Erde.', 'is': 'Suðurskautslandið er kaldasti staður á jörðinni og liggur umhverfis suðurskautið.'} \n",
      "\n",
      "{'id': 888, 'de': 'Touristische Besuche sind teuer, erfordern körperliche Fitness, können nur im Sommer (Nov–Feb) stattfinden und sind größtenteils auf die Halbinsel, die Inseln und das Rossmeer beschränkt.', 'is': 'Heimsóknir ferðamanna eru dýrar, krefjast hreysti, eru aðeins mögulegar að sumri, nóvember til febrúar og eru einkum takmarkaðar við skagann, eyjarnar og Rosshafið.'} \n",
      "\n",
      "{'id': 889, 'de': 'Ein paar tausend Mitarbeiter leben hier im Sommer in etwa vier Dutzend Stützpunkten, hauptsächlich in diesen Gebieten; eine kleine Anzahl bleibt über den Winter.', 'is': 'Hér hafa búsetu nokkur þúsund starfsmenn í um 50 stöðvum aðallega á þessum svæðum. Fáir hafa hér vetursetu.'} \n",
      "\n",
      "{'id': 890, 'de': 'Das Binnenland der Antarktis ist ein einsames Plateau, das mit 2–3 km Eis bedeckt ist.', 'is': 'Meginland Suðurskautslandsins er auð slétta sem er hulin 2–3 km af ís.'} \n",
      "\n",
      "{'id': 891, 'de': 'Gelegentliche spezialisierte Flugtouren führen landeinwärts, zum Bergsteigen oder zum Pol, bei dem es eine große Forschungsstation gibt.', 'is': 'Flugferðir undir handleiðslu sérfræðinga fara inn í landið, vegna fjallgöngu eða á Pólinn en þar er stór stöð.'} \n",
      "\n",
      "{'id': 892, 'de': 'Bei der South Pole Traverse (auch Highway genannt) handelt es sich um eine 1600 km lange Straße von der McMurdo-Station am Rossmeer bis zum Pol.', 'is': 'South Pole Traverse (eða Highway) er 1600 km leið frá McMurdo-stöðinni við Rosshaf á Pólinn.'} \n",
      "\n",
      "{'id': 893, 'de': 'Der Straßenbelag ist planierter Schnee. Spalten sind mit Schnee gefüllt und mit Flaggen markiert. Die Straße kann nur von speziellen Zugmaschinen befahren werden, die Schlitten mit Treibstoff und Vorräten hinter sich herziehen.', 'is': 'Hann er samanþjappaður snjór með snjófylltum jökulsprungum og er merktur með fánum. Einungis er hægt að ferðast um hann á sérútbúnum farartækjum sem draga á eftir sér sleða með eldsneyti og birgðum.'} \n",
      "\n",
      "{'id': 894, 'de': 'Diese sind nicht sehr wendig, sodass die Straße um das Transantarktische Gebirge einen weiten Bogen machen muss, um auf das Plateau zu gelangen.', 'is': 'Ekki er þetta mjög lipurt. Taka þarf því stóran sveig á stíginn í kringum Transantarctic-fjöllin svo hægt sé að fara á hásléttuna.'} \n",
      "\n",
      "{'id': 895, 'de': 'Die häufigste Unfallursache im Winter sind rutschige Straßen, Gehwege (Bürgersteige) und vor allem Stufen.', 'is': 'Slys verða oftast á veturna vegna vega, gangstétta og stiga sem eru hálir.'} \n",
      "\n",
      "{'id': 896, 'de': 'Sie benötigen zumindest Schuhe mit geeigneten Sohlen. Sommerschuhe sind in der Regel sehr rutschig auf Eis und Schnee, selbst manche Winterstiefel sind unzureichend.', 'is': 'Maður þarf að minnsta kosti skófatnað með hentugum sóla. Sumarskór eru venjulega sleipir á ís og snjó, jafnvel sumir kuldaskór duga ekki til.'} \n",
      "\n",
      "{'id': 897, 'de': 'Das Profil sollte tief genug sein, 5 mm (1/5 Zoll) oder mehr, und das Material auch bei niedrigen Temperaturen weich genug.', 'is': 'Mynstrið ætti að vera nógu djúpt, 5 mm (1/5 tommur) eða dýpra, og efnið nógu mjúkt í kulda.'} \n",
      "\n",
      "{'id': 898, 'de': 'Einige Stiefel haben Stollen und für rutschige Verhältnisse gibt es Zusatzausrüstung mit Stollen für die Absätze oder Absätze und Sohle, die für die meisten Schuhe und Stiefel geeignet sind.', 'is': 'Sum stígvél eru með nagla og í boði er negldur viðbótarbúnaður fyrir hálar aðstæður, hentugur fyrir flesta skó og stígvél, fyrir hælana eða hælana og sóla.'} \n",
      "\n",
      "{'id': 899, 'de': 'Die Absätze sollten niedrig und breit sein. Sand, Kies oder Salz (Calciumchlorid) werden häufig auf Straßen oder Wege gestreut, um die Bodenhaftung zu verbessern.', 'is': 'Hælar eiga að vera lágir og breiðir. Sandi, möl eða salti (kalsíumklóríð) er oft dreift á vegi og slóða til að auka grip.'} \n",
      "\n",
      "{'id': 900, 'de': 'Lawinen sind keine Anomalie; steile Hänge können nur eine bestimmte Menge an Schnee halten und die überschüssige Menge kommt als Lawinen herunter.', 'is': 'Snjóflóð geta átt sér stað. Brattar hlíðarnar geta aðeins haldið vissu magni af snjó og umframmagn fer af stað og skapar snjóflóðið.'} \n",
      "\n",
      "{'id': 901, 'de': 'Das Problem ist, das Schnee haftet. Daher braucht es einen Auslöser, damit der Schnee herunterkommt. Etwas herunterfallender Schnee kann das auslösende Ereignis für den Rest sein.', 'is': 'Vandamálið er að snjór er samloðandi og því þarf ákveðna fyrirhöfn til að koma honum af stað og þegar hann fer af stað getur það orðið kveikjan fyrir afganginn.'} \n",
      "\n",
      "{'id': 902, 'de': 'Mitunter ist der ursprüngliche Auslöser die Sonne, die den Schnee erwärmt, bisweilen ist es weiterer Schneefall, mitunter andere Naturereignisse, häufig ein Mensch.', 'is': 'Kveikjan er stundum í upphafi sólin að verma snjó, stundum er um meiri snjókoma að ræða, stundum aðra náttúrulega atburði, oft eru þeir af mannavöldum.'} \n",
      "\n",
      "{'id': 903, 'de': 'Ein Tornado ist eine wirbelnde Säule von Luft mit sehr niedrigem Druck, welche die umgebende Luft einsaugt und aufsteigen lässt.', 'is': 'Skýstrokkur er súla af lágþrýstilofti sem snýst í hringi og sýgur inn í sig loftið í kringum sig og þaðan upp á við.'} \n",
      "\n",
      "{'id': 904, 'de': 'Sie erzeugen starke Winde (oft 100-200 Meilen/Stunde) und können schwere Objekte in die Luft heben und herumwirbeln.', 'is': 'Þeir skapa mikinn vindhraða (oft 100-200 mílur/klst) og geta lyft þungum hlutum upp og borið þá með hvirfilbylnum.'} \n",
      "\n",
      "{'id': 905, 'de': 'Sie beginnen als Trichter, die aus Gewitterwolken herabsinken, und werden zu „Tornados“, wenn sie den Boden berühren.', 'is': 'Þeir byrja sem einskonar trektir sem síga niður úr óveðursskýjum og verða að \"hvirfilbyljum\" þegar þeir snerta jörðina.'} \n",
      "\n",
      "{'id': 906, 'de': 'Persönliche VPN-Anbieter (virtual private network) sind eine ausgezeichnete Möglichkeit, sowohl politische Zensur als auch kommerzielle IP-Geofilter zu umgehen.', 'is': 'Sýndareinkanet (VPN-net) eru góð leið til að fara fram hjá bæði pólitískri ritskoðun og  viðskiptatengdum IP-svæðissíum.'} \n",
      "\n",
      "{'id': 907, 'de': 'Sie sind aus verschiedenen Gründen den Web-Proxies überlegen: Sie leiten den gesamten Internetverkehr um, nicht nur http.', 'is': 'Þeir eru fremri en vefmiðlari af nokkrum ástæðum: Þeir endurbeina allri netumferð, ekki aðeins http.'} \n",
      "\n",
      "{'id': 908, 'de': 'Üblicherweise bieten sie höhere Bandbreiten und bessere Leistungsqualität. Sie sind verschlüsselt und daher schwieriger auszuspionieren.', 'is': 'Þeir bjóða venjulega meiri bandvídd og betri gæði þjónustu. Þau eru dulkóðuð og því erfiðari að njósna um.'} \n",
      "\n",
      "{'id': 909, 'de': '\"Die Medienunternehmen lügen regelmäßig über die Absicht dahinter und behaupten, dass es dazu diene, \"\"Piraterie vorzubeugen\"\".\"', 'is': 'Fjölmiðlafyrirtækin ljúga reglulega um tilgang þessa og halda því fram þetta sé gert til að \"koma í veg fyrir sjórán\".'} \n",
      "\n",
      "{'id': 910, 'de': 'Vielmehr hat der Regionalcode gar keinen Effekt auf das Raubkopieren. Die Bit-für-Bit-Kopie einer CD läuft sich ohne Probleme auf allen Geräten, auf der sich das Original läuft.', 'is': 'Í rauninni hafa svæðiskóðar alls engin áhrif á ólöglegar afritanir, hægt er að spila efni sem er afritað bita fyrir bita á diski í nánast öllum tækjum sem spila upprunalega efnið.'} \n",
      "\n",
      "{'id': 911, 'de': 'Der eigentliche Zweck besteht darin, diesen Unternehmen mehr Kontrolle über ihre Märkte zu geben; Es dreht sich alles um den Profit.', 'is': 'Raunverulegi tilgangurinn er að veita þessum fyrirtækjum meiri stjórn á mörkuðum sínum. Allt snýst þetta um að græða meira.'} \n",
      "\n",
      "{'id': 912, 'de': 'Da die Anrufe über das Internet geroutet werden, müssen Sie keine Telefongesellschaft nutzen, die an Ihrem Wohn- oder Reiseort angesiedelt ist.', 'is': 'Vegna þess að símtöl fara fram í gegnum netið, þarftu ekki að nota þjónustu símafyrirtækis þar sem þú býrð eða ferðast.'} \n",
      "\n",
      "{'id': 913, 'de': 'Es ist auch nicht erforderlich, dass Sie eine lokale Nummer von der Gemeinde erhalten, in der Sie leben. Sie können eine Internetverbindung über Satellit in der Wildnis von Chicken in Alaska erhalten und eine Nummer auswählen, die vorgibt, dass Sie im sonnigen Arizona sind.', 'is': 'Ekki er heldur nein krafa um að þú fáir staðarnúmer frá samfélaginu þar sem þú býrð. Þú getur fengið gervihnattatengingu í óbyggðum Chicken í Alaska og valið númer sem sýnir að þú ert í hinu sólríka Arizona.'} \n",
      "\n",
      "{'id': 914, 'de': 'In vielen Fällen muss man sich separat eine globale Nummer kaufen, auf die man über das öffentliche Telefonnetz angerufen werden kann. Wo die Nummer herkommt, macht für die Leute, die Sie anrufen, einen Unterschied.', 'is': 'Oft þarf maður að kaupa sérstaklega alþjóðanúmer sem opnar fyrir möguleikann að PSTN símar geti hringt í þig. Það skiptir það fólk máli sem hringir í þig hvaðan númerið er.'} \n",
      "\n",
      "{'id': 915, 'de': 'Echtzeit-Textübersetzungsapps – Apps, die fähig sind, automatisch ganze Abschnitte eines Texts von einer Sprache in eine andere zu übersetzen.', 'is': 'Rauntíma textaþýðingarforrit - forrit sem geta sjálfkrafa þýtt heilan hluta texta úr einu tungumáli yfir á annað.'} \n",
      "\n",
      "{'id': 916, 'de': 'Einige der Anwendungen in dieser Kategorie können sogar fremdsprachige Texte auf Schildern oder anderen Objekten in der realen Welt übersetzen, wenn der Benutzer das Smartphone auf diese Objekte richtet.', 'is': 'Sum forritin í þessum flokki geta jafnvel þýtt texta á erlendum tungumálum á skiltum eða aðra hluti í raunheimum þegar notandinn vísar snjallsímanum í átt að þessum hlutum.'} \n",
      "\n",
      "{'id': 917, 'de': 'Übersetzungsmaschinen haben Ihre Leistung dramatisch verbessert und stellen nun oft mehr oder weniger korrekte Übersetzungen zur Verfügung (und seltener Kauderwelsch). Trotzdem ist Vorsicht angesagt, da sie möglicherweise immer noch alles falsch verstehen.', 'is': 'Þýðingarvélarnar hafa orðið betri svo um munar og þýða nú oft nokkurn veginn rétt (og sjaldan er þrugl), en aðgát skal höfð, þar sem enn kann að vera að niðurstöðurnar séu rangar.'} \n",
      "\n",
      "{'id': 918, 'de': 'Eine der prominentesten Apps in dieser Kategorie ist Google Translate, das nach Herunterladen der Daten der gewünschten Sprache eine Offline-Übersetzung ermöglicht.', 'is': 'Eitt þekktasta appið í flokkinum er Google Translate. Í því er hægt að þýða án þess að vera nettengdur þegar viðeigandi tungumálagög hafa verið sótt.'} \n",
      "\n",
      "{'id': 919, 'de': 'GPS-Navigationsapps auf Ihrem Smartphone zu nutzen ist vermutlich die einfachste und praktischste Art und Weise, sich außerhalb Ihres Heimatlandes zurechtzufinden.', 'is': 'Það kann að vera auðveldast og þægilegast að rata í útlöndum með GPS leiðsöguappi í snjallsímanum.'} \n",
      "\n",
      "{'id': 920, 'de': 'Das kann Geld sparen, da man keine neuen Karten für ein Navigationsgerät oder ein eigenständiges Navigationsgerät kaufen bzw. eines von einem Mietwagenunternehmen mieten muss.', 'is': 'Þetta er ódýrara en að kaupa ný kort fyrir GPS-kerfi, stakt GPS-tæki eða leigja tæki af bílaleigufyrirtæki.'} \n",
      "\n",
      "{'id': 921, 'de': 'Ihre Leistung könnte eingeschränkt oder nicht verfügbar sein, wenn Sie keine Datenverbindung mit Ihrem Telefon haben oder wenn es sich außerhalb der Reichweite befindet.', 'is': 'Ef engin gagnatenging er fyrir hendi í símanum þínum eða þegar hann er utan þjónustusvæðis kann að draga úr afköstunum.'} \n",
      "\n",
      "{'id': 922, 'de': 'Jeder Eckladen ist mit einer verwirrenden Auswahl von vorausbezahlten Telefonkarten gefüllt, die für Münztelefone oder normale Telefone genutzt werden können.', 'is': 'Hver einasti söluturn býður upp á  frumskóg af fyrirframgreiddum símakortum sem hægt er að nota í símasjálfsölum eða venjulegum símum.'} \n",
      "\n",
      "{'id': 923, 'de': 'Während man mit den meisten Karten überall anrufen kann, dienen manche nur dazu, vorteilhafte Tarife für bestimmte Ländergruppen zur Verfügung zu stellen.', 'is': 'Flest kort má nota til að hringja hvert sem er, en sum bjóða sérstaklega upp á hagstætt verð á stímtölum til ákveðinna hópa landa.'} \n",
      "\n",
      "{'id': 924, 'de': 'Diese Dienste sind häufig über eine kostenlose Telefonnummer erreichbar, die von den meisten Telefonen aus ohne Gebühren angerufen werden kann.', 'is': 'Oft fæst aðgangur að slíkri þjónustu í gegnum tollfrjálst símanúmer sem hringt er í endurgjaldslaust úr flestum símum.'} \n",
      "\n",
      "{'id': 925, 'de': 'Die Regeln für normale Fotografie gelten auch für Videoaufnahmen, vielleicht sogar noch mehr.', 'is': 'Reglur um hefðbundna myndatöku eiga líka við um myndbandsupptöku, jafnvel enn meira.'} \n",
      "\n",
      "{'id': 926, 'de': 'Wenn es schon nicht erlaubt ist, etwas zu fotografieren, dann sollten Sie nicht einmal daran denken, ein Video davon aufzunehmen.', 'is': 'Ef bann liggur við myndatöku af einhverju skaltu ekki reyna að taka upp myndskeið af því.'} \n",
      "\n",
      "{'id': 927, 'de': 'Wenn Sie eine Drohne benutzen, sollten Sie schon weit im Voraus überprüfen, was Sie filmen dürfen und welche Genehmigungen oder zusätzlichen Lizenzen erforderlich sind.', 'is': 'Ef dróni er notaður verður að athuga með góðum fyrirvara hvað má kvikmynda og hvaða leyfa eða viðbótarleyfa verður að afla.'} \n",
      "\n",
      "{'id': 928, 'de': 'Das Fliegen einer Drone in der Nähe eines Flughafens oder über einer Menschenmenge ist fast immer eine schlechte Idee, auch wenn es in ihrem Gebiet nicht illegal ist.', 'is': 'Að fljúga dróna í grennd við flugvöll eða yfir mannfjölda er nánast alltaf slæm hugmynd þótt það sé ekki ólöglegt þar sem þú býrð.'} \n",
      "\n",
      "{'id': 929, 'de': 'Heutzutage werden Flugreisen nur noch selten direkt bei der Fluggesellschaft ohne vorherige Suche und Preisvergleiche gebucht.', 'is': 'Í dag er flug sjaldan bókað í gegnum flugfélagið án þess að fyrst sé leitað að verðum og þau borin saman.'} \n",
      "\n",
      "{'id': 930, 'de': 'Manchmal kann derselbe Flug bei verschiedenen Buchungsseiten extrem unterschiedliche Preise aufweisen. Daher zahlt es sich aus, vor dem Buchen Suchergebnisse zu vergleichen und auch auf der Website der Fluggesellschaft selbst nachzuschauen.', 'is': 'Stundum getur verið mjög mismunandi verð á sama flugi hjá mismunandi fyrirtækjum og það borgar sig að bera saman leitarniðurstöður og að skoða einnig vefsíðu flugfélagsins áður en bókað er.'} \n",
      "\n",
      "{'id': 931, 'de': 'Auch wenn Sie für Kurzbesuche in bestimmten Ländern als Tourist oder geschäftlich kein Visum benötigen, erfordert die Einreise als internationaler Student in der Regel einen längeren Aufenthalt, als wenn man nur als gewöhnlicher Tourist einreist.', 'is': 'Þó ekki sé nauðsynlegt að fá vegabréfsáritun fyrir stuttar heimsóknir til ákveðinna landa sem ferðamaður eða í viðskiptaerindum, þurfa nemendur utanlands frá yfirleitt að dvelja lengur en tilfallandi ferðalangar.'} \n",
      "\n",
      "{'id': 932, 'de': 'Im Allgemeinen macht ein längerfristiger Aufenthalt in einem fremden Land die vorherige Beantragung eines Visums erforderlich.', 'is': 'Ef þú ætlar að dvelja erlendis í lengri tíma þarftu almennt að fá vegabréfsáritun áður en þú leggur af stað.'} \n",
      "\n",
      "{'id': 933, 'de': 'Studierendenvisa haben grundsätzlich andere Anforderungen und Bewerbungsverfahren als normale Touristen- oder Geschäftsvisa.', 'is': 'Námsmannaáritanir eru yfirleitt með aðrar kröfur og umsóknarferli en hefðbundnar vegabréfsáritanir fyrir ferðamenn eða fyrirtæki.'} \n",
      "\n",
      "{'id': 934, 'de': 'Für die meisten Ländern brauchen Sie ein schriftliches Angebot von der Einrichtung, an der Sie studieren möchten, und zudem einen Nachweis, dass Sie über die nötigen Mittel verfügen, um sich zumindest in Ihrem ersten Studienjahr über Wasser zu halten.', 'is': 'Fyrir flest lönd er þörf á boðsbréfi frá stofnuninni sem þú vilt stunda nám við og sýna fram á nægt fjármagn svo að þú getir framfleytt þér a.m.k. fyrsta námsárið.'} \n",
      "\n",
      "{'id': 935, 'de': 'Informieren Sie sich bei der Institution wie auch bei der Einwanderungsbehörde des Landes, in dem Sie studieren wollen, über die einzelnen Voraussetzungen.', 'is': 'Leitaðu til stofnunarinnar auk útlendingaeftirlitsins í landinu þar sem þú vilt stunda nám til að verða þér úti um nákvæmar kröfur.'} \n",
      "\n",
      "{'id': 936, 'de': 'Sofern Sie kein Diplomat sind, ist es beim Arbeiten im Ausland im Allgemeinen so, dass Sie Ihre Einkommensteuererklärung in dem Land, in dem Sie Ihren Wohnsitz haben, einreichen müssen.', 'is': 'Þegar unnið er í útlöndum verður að skila skattskýrslu í því landi, nema ef viðkomandi er diplómati.'} \n",
      "\n",
      "{'id': 937, 'de': 'Die Einkommenssteuer ist in verschiedenen Ländern unterschiedlich strukturiert und die Steuersätze und -klassen variieren sehr von einem Land zum anderen.', 'is': 'Tekjuskatti er skipt niður á mismunandi hátt eftir löndum og skatthlutfall og skattþrep eru mjög ólík á milli landa.'} \n",
      "\n",
      "{'id': 938, 'de': 'In einigen föderal organisierten Ländern, wie den Vereinigten Staaten und Kanada, wird die Einkommenssteuer sowohl auf föderaler wie auch lokaler Ebene erhoben. Daher können sich die Steuerraten und -gruppen von Region zu Region unterscheiden.', 'is': 'Í sumum alríkislöndum, eins og Bandaríkjunum og Kanada, er tekjuskattur innheimtur bæði af alríkinu og hverju ríki fyrir sig, þannig að skatthlutfallið og skattþrepin eru breytileg eftir landsvæðum.'} \n",
      "\n",
      "{'id': 939, 'de': 'Während es normalerweise keine Einreisekontrolle bei der Ankunft in Ihrem Heimatland gibt oder dies lediglich eine Formalität ist, kann die Zollkontrolle ein Ärgernis sein.', 'is': 'Þó útlendingaeftirlit sé yfirleitt ekkert eða formsatriði þegar komið er til heimalands síns, getur tollvarslan verið erfið.'} \n",
      "\n",
      "{'id': 940, 'de': 'Stellen Sie sicher, dass Sie wissen, was Sie einführen können und was nicht, und geben Sie alles an, was über die gesetzlichen Grenzen hinausgeht.', 'is': 'Gakktu úr skugga um að þú vitir hvað þú mátt koma með og teldu fram allt sem er yfir löglegum mörkum.'} \n",
      "\n",
      "{'id': 941, 'de': 'Der einfachste Weg, um einen Einstieg in die Reiseliteratur zu bekommen, ist es, seine Fähigkeiten auf einer etablierten Reiseblog-Webseite zu verfeinern.', 'is': 'Besta leiðin þegar hafist er handa við ferðaritstörf er að bæta hæfni þína á þekktri vefsíðu með ferðabloggi.'} \n",
      "\n",
      "{'id': 942, 'de': 'Wenn Sie sich an das Formatieren und Editieren online erst einmal gewöhnt haben, können Sie später vielleicht auch Ihre eigene Webseite kreieren.', 'is': 'Þegar þú hefur náð færni við að sníða og ritstýra á netinu getur þú síðan búið til þína eigin vefsíðu síðar meir.'} \n",
      "\n",
      "{'id': 943, 'de': 'Freiwillige Arbeit auf Reisen ist eine tolle Möglichkeit, etwas zu verändern, aber es geht nicht nur darum, etwas zu geben.', 'is': 'Sjálfboðastarf á ferðalögum er mjög góð leið til að láta gott af sér leiða, en það snýst um fleira en að gefa.'} \n",
      "\n",
      "{'id': 944, 'de': 'In einem fremden Land zu leben und einen Freiwilligendienst zu absolvieren ist eine tolle Möglichkeit, eine andere Kultur kennenzulernen, neue Menschen zu treffen, etwas über sich selbst zu lernen, die Dinge aus einer anderen Perspektive zu sehen und sogar neue Fähigkeiten zu erlernen.', 'is': 'Að búa og bjóða sig fram til sjálfboðastarfs í erlendu landi er frábær leið til að kynnast annarri menningu, kynnast nýju fólki, læra um sjálfan sig, fá tilfinningu fyrir nýju sjónarhorni og jafnvel öðlast nýja færni.'} \n",
      "\n",
      "{'id': 945, 'de': 'Es kann auch ein guter Weg sein, sein Budget zu vergrößern, um einen längeren Aufenthalt möglich zu machen, denn viele Freiwilligendienste beinhalten Kost und Logis und manche zahlen ein geringes Entgelt.', 'is': 'Önnur góð leið til að spara peninga er að skipuleggja lengri dvöl, því oft fylgir matur og gisting með sjálfboðaliðastörfum og í vissum tilvikum eru greidd laun.'} \n",
      "\n",
      "{'id': 946, 'de': 'Die Wikinger nutzten die russischen Wasserwege, um zum Schwarzen Meer und zum Kaspischen Meer zu gelangen. Ein Teil dieser Routen kann auch heute noch genutzt werden. Möglicherweise ist für die Nutzung eine Sondergenehmigung erforderlich. Diese zu erhalten, ist nicht immer einfach.', 'is': 'Víkinigarnir notuðu vatnaleiðir í Rússlandi til að komast í Svartahafið og Kaspíahafið. Hluti þeirra leiða er enn hægt að nota. Athugið hvort sækja þurfi um sérstök leyfi, en slíkt getur verið erfitt að fá.'} \n",
      "\n",
      "{'id': 947, 'de': 'Die Weißmeer-Ostsee-Wasserstraße verknüpft das Nordpolarmeer mit dem Baltischen Meer über den Onegasee, den Ladogasee und Sankt Petersburg, zumeist über Flüsse und Seen.', 'is': 'Skurðurinn frá Hvíta hafi til Eystrasalts tengir Norður-Íshafið við Eystrasaltið, um Onegavatn, Ladogavatn eða Sankti Pétursborg, aðallega með ám og vötnum.'} \n",
      "\n",
      "{'id': 948, 'de': 'Der Onegasee ist auch mit der Wolga verbunden, so dass eine Anreise vom Kaspischen Meer durch Russland noch möglich ist.', 'is': 'Onega-vatn er einnig tengt Volgu, svo það er enn mögulegt að koma frá Kaspíahafi í gegnum Rússland.'} \n",
      "\n",
      "{'id': 949, 'de': 'Seien Sie versichert, dass alles ziemlich klar sein wird, sobald Sie die Anlegestellen erreichen. Sie werden andere Boot-Tramper treffen, die ihr Wissen mit Ihnen teilen werden.', 'is': 'Þegar þú kemur á smábátahöfnina geturðu verið viss um að allt sé nokkuð augljóst. Þú munt hitta aðra puttaferðalanga í leit að fari með báti og þeir munu deila reynslu sinni með þér.'} \n",
      "\n",
      "{'id': 950, 'de': 'Im Grunde werden Sie Ihre Hilfe anbieten, auf den Docks umhergehen, sich Menschen nähern, die ihre Yachten reinigen, Kontakt mit Seeleuten in der Bar aufnehmen usw.', 'is': 'Þú munt setja upp auglýsingar þar sem þú býður fram þjónustu þína, gengur um höfnina, talar við fólkið sem er að þrífa snekkjurnar sínar, reynir að hitta hásetana á barnum o.s.frv.'} \n",
      "\n",
      "{'id': 951, 'de': 'Versuchen Sie mit so vielen Leuten wie möglich zu sprechen. Nach einer Weile kennt Sie jeder und Sie werden Tipps erhalten, welches Boot jemanden sucht.', 'is': 'Reyndu að tala við sem flesta. Ekki líður á löngu áður en allir kannast við þig og gefa þér vísbendingu um hvaða bátur er að leita að einhverjum.'} \n",
      "\n",
      "{'id': 952, 'de': 'Sie sollten Ihre Vielflieger-Airline in einem Bündnis gründlich aussuchen.', 'is': 'Flugfélög sem eru í samstarfi þarf að velja vandlega.'} \n",
      "\n",
      "{'id': 953, 'de': 'Auch wenn Sie vielleicht denken, dass man instinktiv die Fluggesellschaft nehmen sollte, mit der man am meisten fliegt, sollten Sie beachten, dass die angebotenen Vorteile oft unterschiedlich sind. Vielfliegerpunkte könnten bei einer anderen Fluggesellschaft bei der gleichen Verbindung großzügiger vergeben werden.', 'is': 'Flestir telja best að gerast meðlimir flugfélaga sem ferðast er oftast með, en fólk ætti að hafa í huga að sérréttindi og vildarpunktar kunna að vera betri hjá öðru flugfélagi innan sömu samtaka flugrekenda.'} \n",
      "\n",
      "{'id': 954, 'de': 'Fluglinien wie Emirates, Etihad Airways, Qatar Airways und Turkish Airlines haben ihre Flugverbindungen nach Afrika deutlich ausgebaut und haben im Vergleich zu europäischen Fluglinien Verbindungen zu zahlreichen wichtigen afrikanischen Städten bei günstigen Preisen in ihrem Angebot.', 'is': 'Flugfélög eins og Emirates, Etihad Airways, Qatar Airways og Turkish Airlines hafa bætt þjónustu sína í Afríku til muna og bjóða tengiflug til stærstu borga Afríku á lægra verði en flugfélög í Evrópu.'} \n",
      "\n",
      "{'id': 955, 'de': 'Ab 2014 fliegt Turkish Airlines 39 Ziele in 30 afrikanischen Ländern an.', 'is': 'Frá og með 2014 fljúga tyrknesk flugfélög til 39 áfangastaða í 30 afrískum löndum.'} \n",
      "\n",
      "{'id': 956, 'de': 'Wenn Sie zusätzliche Zeit zum Reisen haben, prüfen Sie, wie Ihre gesamten Reisekosten nach Afrika im Vergleich zu den Kosten einer Weltreise aussehen.', 'is': 'Ef þú hefur ferðatíma aflögu skaltu athuga hver heildarkostnaður við fargjaldið til Afríku er samanborið við flug í kringum heiminn.'} \n",
      "\n",
      "{'id': 957, 'de': 'Vergessen Sie nicht die Extrakosten für weitere Visa, Abfluggebühren, Transportmittel an Land etc. für all die Orte außerhalb von Afrika mit einzuberechnen.', 'is': 'Ekki gleyma að bæta við aukakostnaði sem fylgir fleiri vegabréfsáritunum, flugvallarsköttum, samgöngum á landi o.s.frv. fyrir alla staði utan Afríku.'} \n",
      "\n",
      "{'id': 958, 'de': 'Wenn man in der südlichen Hemisphäre vollständig die Welt umrunden will, ist die Auswahl an Flügen und Reisezielen aufgrund fehlender transozeanischer Routen sehr begrenzt.', 'is': 'Ef þú vilt fljúga hringinn í kringum hnöttinn á suðurhveli jarðar er takmarkað framboð á flugferðum og áfangastöðum vegna skorts á flugleiðum yfir hafið.'} \n",
      "\n",
      "{'id': 959, 'de': 'Keine Luftfahrtallianz deckt alle drei Ozeanüberquerungen auf der Südhalbkugel ab (und SkyTeam bietet keine dieser Verbindungen an).', 'is': 'Ekkert bandalag flugfélaga nær yfir þau þrjú flug yfir höf á suðurhveli jarðar (og SkyTeam flýgur ekki neitt af þeim).'} \n",
      "\n",
      "{'id': 960, 'de': 'Star Alliance deckt allerdings alles außerhalb des östlichen Südpazifiks von Santiage de Chile bis Tahiti ab, welches ein LATAM Oneworld-Flug ist.', 'is': 'Star Alliance býður upp á flugferðir um allt svæðið fyrir utan Suður-Kyrrahaf frá Santíagó í Síle til Tahítí, en slíkar flugferðir eru á vegum LATAM Oneworld.'} \n",
      "\n",
      "{'id': 961, 'de': 'Dieser Flug ist nicht die einzige Option, wenn Sie den Südpazifik und die südamerikanische Westküste auslassen wollen. (siehe unten)', 'is': 'Þetta flug er ekki eini valkosturinn ef þú vilt sleppa Suður-Kyrrahafi og vesturströnd Suður-Ameríku. (sjá hér að neðan)'} \n",
      "\n",
      "{'id': 962, 'de': '1994 führte die ethnisch armenische Region Bergkarabach in Aserbaidschan Krieg gegen die Aserbaidschaner.', 'is': 'Árið 1994 fóru Armenar Nagorno-Karabakh héraðsins í Aserbaísjan í stríð við Aserbaísjana.'} \n",
      "\n",
      "{'id': 963, 'de': 'Mit armenischer Unterstützung wurde eine neue Republik gegründet. Allerdings erkennt sie kein etabliertes Land – noch nicht einmal Armenien – offiziell an.', 'is': 'Með stuðningi Armeníu var stofnað nýtt lýðveldi. En ekkert staðfest ríki, ekki einu sinni Armenía, viðurkenna það opinberlega.'} \n",
      "\n",
      "{'id': 964, 'de': 'Diplomatische Auseinandersetzungen über die Region trüben weiterhin die Beziehungen zwischen Armenien und Aserbaidschan.', 'is': 'Diplómatískur ágreiningur um svæðið heldur áfram að spilla fyrir samskiptum Armeníu og Aserbaídsjan.'} \n",
      "\n",
      "{'id': 965, 'de': 'Der Grachtengürtel (holländisch: Grachtengordel) ist der berühmte Stadtteil aus dem 17. Jahrhundert, der die Amsterdamer Innenstadt umfasst.', 'is': 'Síkjahverfið (hollenska: Grachtengordel) er hið fræga 17. aldar hverfi sem umkringir Binnenstad í Amsterdam.'} \n",
      "\n",
      "{'id': 966, 'de': 'Das gesamte Viertel wurde wegen seines einzigartigen kulturellen und historischen Wertes zum UNESCO-Weltkulturerbe erklärt und seine Immobilienwerte gehören zu den höchsten des Landes.', 'is': 'Allt umdæmið er tilnefnt sem staður á heimsminjaskrá UNESCO sökum hins einstaka menningarlega og sögulega gildis og eignargildi hans sem er með því mesta innan landsins.'} \n",
      "\n",
      "{'id': 967, 'de': 'Cinque Terre, was soviel bedeutet wie Fünf Länder, umfasst die fünf kleinen Küstendörfer Riomaggiore, Manarola, Corniglia, Vernazza und Monterosso in der italienischen Region Ligurien.', 'is': 'Cinque Terre, sem þýðir fimm landsvæði, samanstendur af fimm litlum hafnarbæjum: Riomaggiore, Manarola, Corniglia, Vernazza og Monterosso, sem eru á ítalska svæðinu Liguria.'} \n",
      "\n",
      "{'id': 968, 'de': 'Sie stehen auf der Liste des UNESCO-Welterbes.', 'is': 'Þær eru skráðar á heimsminjaskrá UNESCO.'} \n",
      "\n",
      "{'id': 969, 'de': 'Im Laufe der Jahrhunderte wurden bis zu den Klippen, die direkt über dem Meer liegen, vorsichtig Terrassen in das raue, abschüssige Gelände gebaut.', 'is': 'Í aldanna rás hafa menn byggt með vönduðum hætti verandir á rosalegu og bröttu landsvæði rétt við klettana sem eru með útsýni yfir hafið.'} \n",
      "\n",
      "{'id': 970, 'de': 'Zu seinem Charme gehört auch, dass es keine sichtbaren Geschäftsgebäude gibt. Die Dörfer sind über Wege, Züge und Boote miteinander verbunden und es kommen keine Autos von außen herein.', 'is': 'Hluti af þokka þess er skortur á sýnilegri þróun fyrirtækja. Stígar, lestir og bátar tengja þorpin saman og ekki er hægt að aka bílum til þeirra utan frá.'} \n",
      "\n",
      "{'id': 971, 'de': 'Die in Belgien und der Schweiz gesprochenen Varianten des Französischen unterscheiden sich geringfügig von der in Frankreich gesprochenen Variante, ähneln sich jedoch genug, um für beide Seiten verständlich zu sein.', 'is': 'Franska mállýskan sem töluð er í Belgíu og Sviss er aðeins frábrugðin þeirri frönsku sem töluð eru í Frakklandi. Málin eru þó líka að þau eru skiljanleg.'} \n",
      "\n",
      "{'id': 972, 'de': 'Insbesondere weist die Zählweise im französischsprachigen Belgien und in der Schweiz einige geringfügige Besonderheiten auf, die sich von dem in Frankreich gesprochenen Französisch unterscheiden, und auch die Aussprache einiger Wörter weicht ein wenig ab.', 'is': 'Númerakerfið í frönskumælandi hlutum Belgíu og Sviss hefur nokkur sérkenni sem eru ólík frönskunni sem töluð er í Frakklandi, einnig er framburður tiltekinna orða nokkuð frábrugðinn.'} \n",
      "\n",
      "{'id': 973, 'de': 'Dennoch ist davon auszugehen, dass alle französischsprachigen Belgier und Schweizer in der Schule Standardfranzösisch gelernt haben und Sie verstehen, auch wenn Sie das normale französische Zählsystem verwenden.', 'is': 'Allir frönskumælandi Belgar og Svisslendingar hefðu engu að síður lært hefðbundna frönsku í skóla. Þeir myndu því skilja þig jafnvel þótt þú notir ekki hið hefðbundna franska númerakerfið.'} \n",
      "\n",
      "{'id': 974, 'de': 'In vielen Teilen der Welt ist Winken eine freundliche Geste, die ein „Hallo“ signalisiert.', 'is': 'Víðsvegar í veröldinni er vinarkveðja að veifa og slík bending þýðir \"halló.\"'} \n",
      "\n",
      "{'id': 975, 'de': '\"Allerdings bedeutet es in Malaysia oder zumindest unter den Malaien in ländlichen Gebieten \"\"komm her\"\", ähnlich wie das Krümmen des Zeigefingers in Richtung des Körpers, eine Geste, die in einigen westlichen Ländern genutzt wird, und sollte nur für diesen Zweck genutzt werden.\"', 'is': 'Slík bending þýðir \"komdu hingað\" í Malasíu, eða að minnsta kosti á meðal malasíubúa í dreifbýli. Þetta er svipuð bending og að beygja vísifingur í áttina að líkamanum, en sú bending er notuð sumstaðar á Vesturlöndum, og skal einungis nota í þeim tilgangi.'} \n",
      "\n",
      "{'id': 976, 'de': 'In ähnlicher Weise kann ein britischer Reisender in Spanien ein Winken zum Abschied, bei dem die Handfläche dem Winkenden zugewandt ist (und nicht der Person, der gewunken wird), als Geste zum Zurückkommen missverstehen.', 'is': 'Á sama hátt getur breskur ferðamaður á Spáni misskilið þegar veifað er bless og lófin snýr að þeim sem veifar (í stað þeim sem veifað er að) sem merki um að koma aftur.'} \n",
      "\n",
      "{'id': 977, 'de': 'Hilfssprachen sind künstliche oder konstruierte Sprachen, die mit dem Ziel geschaffen werden, die Kommunikation zwischen Völkern zu erleichtern, die sich sonst nur schwer verständigen könnten.', 'is': 'Aukamál eru tilbúin tungumál sem búin eru til í þeim tilgangi að koma á samskiptum milli fólks sem ætti annars erfitt með samskipti.'} \n",
      "\n",
      "{'id': 978, 'de': 'Sie unterscheiden sich von der sogenannten Linguae Francae, natürlichen oder organischen Sprachen, die aus verschiedenen Gründen als Kommunikationsmittel zwischen Sprechern anderer Sprachen vorherrschend werden.', 'is': 'Þau eru aðskilin frá samskiptamálum, sem eru náttúruleg eða lífræn tungumál sem verða ríkjandi af einni eða annarri ástæðu sem samskiptatæki milli mælenda annarra tungumála.'} \n",
      "\n",
      "{'id': 979, 'de': 'In der Tageshitze können Reisende Fata Morganen erleben, die die Illusion von Wasser (oder anderen Dingen) vermitteln.', 'is': 'Í hita dagsins kunna ferðalangar að sjá hillingar sem virðast vera vatn (eða aðrir hlutir).'} \n",
      "\n",
      "{'id': 980, 'de': 'Diese können gefährlich sein, wenn der Reisende die Luftspiegelung verfolgt und dabei wertvolle Energie und sein restliches Wasser verschwendet.', 'is': 'Þetta getur reynst hættulegt ef ferðalangurinn eltist við hillinguna og eyðir þannig þeirri orku og vatni sem hann á eftir.'} \n",
      "\n",
      "{'id': 981, 'de': 'Selbst in den heißesten Wüsten kann es nachts extrem kalt werden. Ohne warme Kleidung stellt Unterkühlung eine echte Gefahr dar.', 'is': 'Heitustu eyðimerkur geta jafnvel orðið nístingskaldar að næturlagi. Ofkæling er raunveruleg ef hlýjar flíkur eru ekki fyrir hendi.'} \n",
      "\n",
      "{'id': 982, 'de': 'Vor allem im Sommer müssen sie sich vor Mücken in Acht nehmen, wenn sie den Regenwald durchwandern wollen.', 'is': 'Á sumrin verður þú sérstaklega að gæta þín á moskítóflugum ef þú ætlar að ferðast í gegnum frumskóginn.'} \n",
      "\n",
      "{'id': 983, 'de': 'Selbst wenn Sie mit dem Auto durch den subtropischen Regenwald fahren, reichen ein paar Sekunden mit offenen Türen beim Einsteigen aus, um Moskitos mit in den Wagen zu nehmen.', 'is': 'Jafnvel þótt keyrt sé í gegnum regnskóga á heittempruðum svæðum, þá komast moskítóflugur inn í ökutækið bara við það að opna dyrnar í nokkrar sekúndur til að setjast inn.'} \n",
      "\n",
      "{'id': 984, 'de': 'Die Vogelgrippe, oder besser gesagt die Geflügelpest, kann sowohl Vögel als auch Säugetiere infizieren.', 'is': 'Fuglaflensa, eða fuglainflúensa, getur sýkt bæði fugla og spendýr.'} \n",
      "\n",
      "{'id': 985, 'de': 'Beim Menschen gibt es weniger als eintausend dokumentierte Fälle, aber manche davon waren tödlich.', 'is': 'Færri en þúsund tilfelli í mönnum hafa verið skráð, en sum þeirra hafa leitt til dauða.'} \n",
      "\n",
      "{'id': 986, 'de': 'Die meisten Fälle betrafen Menschen, die mit Geflügel arbeiten, aber auch für Vogelbeobachter besteht ein gewisses Risiko.', 'is': 'Flest tengist fólki sem hefur atvinnu af alifuglum en fuglaskoðarar eru einnig í ákveðinni hættu.'} \n",
      "\n",
      "{'id': 987, 'de': 'Steile Fjorde und Täler, die unerwartet in eine hochgelegene, mehr oder weniger ebene Hochfläche übergehen, sind typisch für Norwegen.', 'is': 'Landslag í Noregi einkennist af djúpum fjörðum og dölum sem svo víkja fyrir hásléttu.'} \n",
      "\n",
      "{'id': 988, 'de': 'Diese Hochebenen werden oft als „vidde“ bezeichnet, was soviel bedeutet wie ein weiter, offener, baumloser Raum, eine grenzenlose Weite.', 'is': 'Háslétturnar ganga oft undir nafninu „vidde“ sem þýðir breitt, opið trjálaust rými, víðátta án takmörkunar.'} \n",
      "\n",
      "{'id': 989, 'de': 'In Rogaland und Agder nennt man sie für gewöhnlich „hei“, womit eine baumlose Moorlandschaft, oft mit Heidekraut bedeckt, gemeint ist.', 'is': 'Í Rogalandi og Agder kallast þær yfirleitt \"hei\" eða skóglaust mýrlendi sem er oft þakið beitilyngi.'} \n",
      "\n",
      "{'id': 990, 'de': 'Die Gletscher sind nicht stabil, sondern fließen den Berg hinunter. Dadurch entstehen Risse und Spalten, die durch Schneebrücken verdeckt sein können.', 'is': 'Jöklarnir eru ekki stöðugir. Þeir færast til niður fjallið. Slíkt skapar sprungur, jökulsprungur sem geta verið huldar af snjóbrúm.'} \n",
      "\n",
      "{'id': 991, 'de': 'Die Wände und Decken von Eishöhlen können einstürzen und Risse sich schließen.', 'is': 'Veggir og þök íshella geta fallið saman og sprungur geta einnig gert hið sama.'} \n",
      "\n",
      "{'id': 992, 'de': 'Am Rande von Gletschern brechen riesige Blöcke ab, fallen herunter und springen oder rollen möglicherweise weiter vom Rand weg.', 'is': 'Gríðarstórir ísklumpar brotna af jökulbrúnum, falla niður og veltast jafnvel enn lengra frá brúninni.'} \n",
      "\n",
      "{'id': 993, 'de': 'Die Touristensaison für die Hügelstationen erreicht ihren Höhepunkt in der Regel während des indischen Sommers.', 'is': 'Á indverska sumrinu nær ferðamannatími hæðarstöðva yfirleitt hámarki.'} \n",
      "\n",
      "{'id': 994, 'de': 'Allerdings verfügen sie im Winter über eine andere Art von Schönheit und Zauber. Zahlreiche Bergstationen haben viel Schnee und haben Aktivitäten wie Skifahren und Snowboarden im Angebot.', 'is': 'Slík fjallþorp búa hins vegar yfir annarri fegurð og töfrum yfir vetrartímann. Oft snjóar mikið í fjallaþorpunum og þar er hægt að leggja stund á vetraríþróttir eins og að fara á skíði eða snjóbretti.'} \n",
      "\n",
      "{'id': 995, 'de': 'Nur noch wenige Fluggesellschaften bieten Todesfalltarife mit einem geringfügigen Rabatt auf eine Last-Minute-Reise zu einer Beerdigung an.', 'is': 'Aðeins fá flugfélög bjóða enn gjöld vegna ástvinamissis sem lækka lítillega kostnað vegna ferðalaga á síðustu stundu sökum útfarar.'} \n",
      "\n",
      "{'id': 996, 'de': 'Zu den Fluggesellschaften, die diese anbieten, zählen Air Canada, Delta Air Lines, Lufthansa für Flüge aus den USA oder Kanada, sowie Westjet.', 'is': 'Flugfélög sem bjóða upp á slíkt eru m.a. Air Canada, Delta Air Lines, Lufthansa fyrir flug frá Bandaríkjunum eða Kanada og WestJet.'} \n",
      "\n",
      "{'id': 997, 'de': 'Sie müssen in jedem Fall telefonisch über die Fluggesellschaft buchen.', 'is': 'Þú verður alltaf að bóka beint hjá flugfélaginu í gegnum síma.'} \n",
      "\n"
     ]
    }
   ],
   "source": [
    "for each in range(wow.num_rows):\n",
    "    print(wow[each], \"\\n\")"
   ]
  },
  {
   "cell_type": "code",
   "execution_count": 110,
   "metadata": {},
   "outputs": [
    {
     "name": "stdout",
     "output_type": "stream",
     "text": [
      "Dataset({\n",
      "    features: ['id', 'de', 'is'],\n",
      "    num_rows: 997\n",
      "})\n"
     ]
    }
   ],
   "source": [
    "print(wow)"
   ]
  },
  {
   "cell_type": "code",
   "execution_count": 112,
   "metadata": {},
   "outputs": [
    {
     "name": "stdout",
     "output_type": "stream",
     "text": [
      "Leiðandi vísindamenn segja að þetta geti orðið til snemmbúinnar greiningar á krabbameini, berklum, alnæmi og malaríu hjá sjúklingum í lágtekjulöndum, þar sem lifunarhlutfall fyrir sjúkdóma á borð við brjóstakrabbamein getur verið helmingi lægri en hjá ríkari löndum.\n"
     ]
    }
   ],
   "source": [
    "print(wow[1]['is'])"
   ]
  },
  {
   "cell_type": "code",
   "execution_count": 123,
   "metadata": {},
   "outputs": [],
   "source": [
    "from datasets import DatasetDict\n",
    "\n",
    "#gera translations til að passa við formið\n",
    "def get_transDict(dataset):\n",
    "    transDict = { 'id': [], 'translation': [] }\n",
    "    for item in dataset:\n",
    "        transDict['id'].append(item['id'])\n",
    "        transDict['translation'].append({'de': item['de'], 'is': item['is']})\n",
    "    transDataset = Dataset.from_dict(transDict)\n",
    "    transData = DatasetDict({'train': transDataset})\n",
    "    return transData"
   ]
  },
  {
   "cell_type": "code",
   "execution_count": 124,
   "metadata": {},
   "outputs": [],
   "source": [
    "virkaretta = get_transDict(wow)"
   ]
  },
  {
   "cell_type": "code",
   "execution_count": 125,
   "metadata": {},
   "outputs": [],
   "source": [
    "kommon = DatasetDict(virkaretta)"
   ]
  },
  {
   "cell_type": "code",
   "execution_count": 126,
   "metadata": {},
   "outputs": [
    {
     "name": "stdout",
     "output_type": "stream",
     "text": [
      "DatasetDict({\n",
      "    train: Dataset({\n",
      "        features: ['id', 'translation'],\n",
      "        num_rows: 997\n",
      "    })\n",
      "})\n"
     ]
    }
   ],
   "source": [
    "print(kommon)"
   ]
  },
  {
   "cell_type": "code",
   "execution_count": 130,
   "metadata": {},
   "outputs": [
    {
     "name": "stdout",
     "output_type": "stream",
     "text": [
      "{'de': 'Führende Forscher sagen, dass dies die Früherkennung von Krebs, Tuberkulose, HIV und Malaria für Patienten in einkommensschwachen Ländern fördern könnte, wo die Überlebensraten bei Krankheiten wie Brustkrebs teilweise nur halb so hoch sind wie in reicheren Ländern.', 'is': 'Leiðandi vísindamenn segja að þetta geti orðið til snemmbúinnar greiningar á krabbameini, berklum, alnæmi og malaríu hjá sjúklingum í lágtekjulöndum, þar sem lifunarhlutfall fyrir sjúkdóma á borð við brjóstakrabbamein getur verið helmingi lægri en hjá ríkari löndum.'}\n"
     ]
    }
   ],
   "source": [
    "print(kommon['train'][1]['translation'])"
   ]
  },
  {
   "cell_type": "markdown",
   "metadata": {
    "id": "WHUmphG3IrI3"
   },
   "source": [
    "To get a sense of what the data looks like, the following function will show some examples picked randomly in the dataset."
   ]
  },
  {
   "cell_type": "code",
   "execution_count": 88,
   "metadata": {
    "id": "i3j8APAoIrI3"
   },
   "outputs": [],
   "source": [
    "import datasets\n",
    "import random\n",
    "import pandas as pd\n",
    "from IPython.display import display, HTML\n",
    "\n",
    "def show_random_elements(dataset, num_examples=5):\n",
    "    assert num_examples <= len(dataset), \"Can't pick more elements than there are in the dataset.\"\n",
    "    picks = []\n",
    "    for _ in range(num_examples):\n",
    "        pick = random.randint(0, len(dataset)-1)\n",
    "        while pick in picks:\n",
    "            pick = random.randint(0, len(dataset)-1)\n",
    "        picks.append(pick)\n",
    "    \n",
    "    df = pd.DataFrame(dataset[picks])\n",
    "    for column, typ in dataset.features.items():\n",
    "        if isinstance(typ, datasets.ClassLabel):\n",
    "            df[column] = df[column].transform(lambda i: typ.names[i])\n",
    "    display(HTML(df.to_html()))"
   ]
  },
  {
   "cell_type": "code",
   "execution_count": 89,
   "metadata": {
    "id": "SZy5tRB_IrI7",
    "outputId": "ba8f2124-e485-488f-8c0c-254f34f24f13",
    "tags": []
   },
   "outputs": [
    {
     "ename": "NameError",
     "evalue": "name 'raw_datasets' is not defined",
     "output_type": "error",
     "traceback": [
      "\u001b[0;31m---------------------------------------------------------------------------\u001b[0m",
      "\u001b[0;31mNameError\u001b[0m                                 Traceback (most recent call last)",
      "\u001b[0;32m<ipython-input-89-e28da9122678>\u001b[0m in \u001b[0;36m<module>\u001b[0;34m\u001b[0m\n\u001b[0;32m----> 1\u001b[0;31m \u001b[0mshow_random_elements\u001b[0m\u001b[0;34m(\u001b[0m\u001b[0mraw_datasets\u001b[0m\u001b[0;34m[\u001b[0m\u001b[0;34m\"train\"\u001b[0m\u001b[0;34m]\u001b[0m\u001b[0;34m)\u001b[0m\u001b[0;34m\u001b[0m\u001b[0;34m\u001b[0m\u001b[0m\n\u001b[0m",
      "\u001b[0;31mNameError\u001b[0m: name 'raw_datasets' is not defined"
     ]
    }
   ],
   "source": [
    "show_random_elements(raw_datasets[\"train\"])"
   ]
  },
  {
   "cell_type": "markdown",
   "metadata": {
    "id": "lnjDIuQ3IrI-"
   },
   "source": [
    "The metric is an instance of [`datasets.Metric`](https://huggingface.co/docs/datasets/package_reference/main_classes.html#datasets.Metric):"
   ]
  },
  {
   "cell_type": "code",
   "execution_count": null,
   "metadata": {
    "id": "5o4rUteaIrI_",
    "outputId": "18038ef5-554c-45c5-e00a-133b02ec10f1"
   },
   "outputs": [
    {
     "data": {
      "text/plain": [
       "Metric(name: \"sacrebleu\", features: {'predictions': Value(dtype='string', id='sequence'), 'references': Sequence(feature=Value(dtype='string', id='sequence'), length=-1, id='references')}, usage: \"\"\"\n",
       "Produces BLEU scores along with its sufficient statistics\n",
       "from a source against one or more references.\n",
       "\n",
       "Args:\n",
       "    predictions: The system stream (a sequence of segments)\n",
       "    references: A list of one or more reference streams (each a sequence of segments)\n",
       "    smooth: The smoothing method to use\n",
       "    smooth_value: For 'floor' smoothing, the floor to use\n",
       "    force: Ignore data that looks already tokenized\n",
       "    lowercase: Lowercase the data\n",
       "    tokenize: The tokenizer to use\n",
       "Returns:\n",
       "    'score': BLEU score,\n",
       "    'counts': Counts,\n",
       "    'totals': Totals,\n",
       "    'precisions': Precisions,\n",
       "    'bp': Brevity penalty,\n",
       "    'sys_len': predictions length,\n",
       "    'ref_len': reference length,\n",
       "Examples:\n",
       "\n",
       "    >>> predictions = [\"hello there general kenobi\", \"foo bar foobar\"]\n",
       "    >>> references = [[\"hello there general kenobi\", \"hello there !\"], [\"foo bar foobar\", \"foo bar foobar\"]]\n",
       "    >>> sacrebleu = datasets.load_metric(\"sacrebleu\")\n",
       "    >>> results = sacrebleu.compute(predictions=predictions, references=references)\n",
       "    >>> print(list(results.keys()))\n",
       "    ['score', 'counts', 'totals', 'precisions', 'bp', 'sys_len', 'ref_len']\n",
       "    >>> print(round(results[\"score\"], 1))\n",
       "    100.0\n",
       "\"\"\", stored examples: 0)"
      ]
     },
     "execution_count": null,
     "metadata": {},
     "output_type": "execute_result"
    }
   ],
   "source": [
    "metric"
   ]
  },
  {
   "cell_type": "markdown",
   "metadata": {
    "id": "jAWdqcUBIrJC"
   },
   "source": [
    "You can call its `compute` method with your predictions and labels, which need to be list of decoded strings (list of list for the labels):"
   ]
  },
  {
   "cell_type": "code",
   "execution_count": null,
   "metadata": {
    "id": "6XN1Rq0aIrJC",
    "outputId": "a4405435-a8a9-41ff-9f79-a13077b587c7"
   },
   "outputs": [
    {
     "data": {
      "text/plain": [
       "{'score': 0.0,\n",
       " 'counts': [4, 2, 0, 0],\n",
       " 'totals': [4, 2, 0, 0],\n",
       " 'precisions': [100.0, 100.0, 0.0, 0.0],\n",
       " 'bp': 1.0,\n",
       " 'sys_len': 4,\n",
       " 'ref_len': 4}"
      ]
     },
     "execution_count": null,
     "metadata": {},
     "output_type": "execute_result"
    }
   ],
   "source": [
    "fake_preds = [\"hello there\", \"general kenobi\"]\n",
    "fake_labels = [[\"hello there\"], [\"general kenobi\"]]\n",
    "metric.compute(predictions=fake_preds, references=fake_labels)"
   ]
  },
  {
   "cell_type": "markdown",
   "metadata": {
    "id": "n9qywopnIrJH"
   },
   "source": [
    "## Preprocessing the data"
   ]
  },
  {
   "cell_type": "markdown",
   "metadata": {
    "id": "YVx71GdAIrJH"
   },
   "source": [
    "Before we can feed those texts to our model, we need to preprocess them. This is done by a 🤗 Transformers `Tokenizer` which will (as the name indicates) tokenize the inputs (including converting the tokens to their corresponding IDs in the pretrained vocabulary) and put it in a format the model expects, as well as generate the other inputs that model requires.\n",
    "\n",
    "To do all of this, we instantiate our tokenizer with the `AutoTokenizer.from_pretrained` method, which will ensure:\n",
    "\n",
    "- we get a tokenizer that corresponds to the model architecture we want to use,\n",
    "- we download the vocabulary used when pretraining this specific checkpoint.\n",
    "\n",
    "That vocabulary will be cached, so it's not downloaded again the next time we run the cell."
   ]
  },
  {
   "cell_type": "code",
   "execution_count": null,
   "metadata": {
    "id": "eXNLu_-nIrJI"
   },
   "outputs": [],
   "source": [
    "from transformers import AutoTokenizer\n",
    "    \n",
    "tokenizer = AutoTokenizer.from_pretrained(model_checkpoint)"
   ]
  },
  {
   "cell_type": "markdown",
   "metadata": {
    "id": "qOeNZkhMbahS"
   },
   "source": [
    "For the mBART tokenizer (like we have here), we need to set the source and target languages (so the texts are preprocessed properly). You can check the language codes [here](https://huggingface.co/facebook/mbart-large-cc25) if you are using this notebook on a different pairs of languages."
   ]
  },
  {
   "cell_type": "code",
   "execution_count": null,
   "metadata": {
    "id": "eTOqlBNbbahS"
   },
   "outputs": [],
   "source": [
    "if \"mbart\" in model_checkpoint:\n",
    "    tokenizer.src_lang = \"en-XX\"\n",
    "    tokenizer.tgt_lang = \"ro-RO\""
   ]
  },
  {
   "cell_type": "markdown",
   "metadata": {
    "id": "Vl6IidfdIrJK"
   },
   "source": [
    "By default, the call above will use one of the fast tokenizers (backed by Rust) from the 🤗 Tokenizers library."
   ]
  },
  {
   "cell_type": "markdown",
   "metadata": {
    "id": "rowT4iCLIrJK"
   },
   "source": [
    "You can directly call this tokenizer on one sentence or a pair of sentences:"
   ]
  },
  {
   "cell_type": "code",
   "execution_count": null,
   "metadata": {
    "id": "a5hBlsrHIrJL",
    "outputId": "acdaa98a-a8cd-4a20-89b8-cc26437bbe90"
   },
   "outputs": [
    {
     "data": {
      "text/plain": [
       "{'input_ids': [125, 778, 3, 63, 141, 9191, 23, 0], 'attention_mask': [1, 1, 1, 1, 1, 1, 1, 1]}"
      ]
     },
     "execution_count": null,
     "metadata": {},
     "output_type": "execute_result"
    }
   ],
   "source": [
    "tokenizer(\"Hello, this one sentence!\")"
   ]
  },
  {
   "cell_type": "markdown",
   "metadata": {
    "id": "qo_0B1M2IrJM"
   },
   "source": [
    "Depending on the model you selected, you will see different keys in the dictionary returned by the cell above. They don't matter much for what we're doing here (just know they are required by the model we will instantiate later), you can learn more about them in [this tutorial](https://huggingface.co/transformers/preprocessing.html) if you're interested.\n",
    "\n",
    "Instead of one sentence, we can pass along a list of sentences:"
   ]
  },
  {
   "cell_type": "code",
   "execution_count": null,
   "metadata": {
    "id": "tQxRgXZqbahT",
    "outputId": "36c1d7dc-6279-46b7-aa76-9d5162dfec21"
   },
   "outputs": [
    {
     "data": {
      "text/plain": [
       "{'input_ids': [[125, 778, 3, 63, 141, 9191, 23, 0], [187, 32, 716, 9191, 2, 0]], 'attention_mask': [[1, 1, 1, 1, 1, 1, 1, 1], [1, 1, 1, 1, 1, 1]]}"
      ]
     },
     "execution_count": null,
     "metadata": {},
     "output_type": "execute_result"
    }
   ],
   "source": [
    "tokenizer([\"Hello, this one sentence!\", \"This is another sentence.\"])"
   ]
  },
  {
   "cell_type": "markdown",
   "metadata": {
    "id": "XMBLnmSrbahU"
   },
   "source": [
    "To prepare the targets for our model, we need to tokenize them inside the `as_target_tokenizer` context manager. This will make sure the tokenizer uses the special tokens corresponding to the targets:"
   ]
  },
  {
   "cell_type": "code",
   "execution_count": null,
   "metadata": {
    "id": "0BB6vlrUbahU",
    "outputId": "951ab40a-7201-4bb2-d239-fe0ae191b5e9"
   },
   "outputs": [
    {
     "name": "stdout",
     "output_type": "stream",
     "text": [
      "{'input_ids': [[10334, 1204, 3, 15, 8915, 27, 452, 59, 29579, 581, 23, 0], [235, 1705, 11, 32, 8, 1205, 5305, 59, 29579, 581, 2, 0]], 'attention_mask': [[1, 1, 1, 1, 1, 1, 1, 1, 1, 1, 1, 1], [1, 1, 1, 1, 1, 1, 1, 1, 1, 1, 1, 1]]}\n"
     ]
    }
   ],
   "source": [
    "with tokenizer.as_target_tokenizer():\n",
    "    print(tokenizer([\"Hello, this one sentence!\", \"This is another sentence.\"]))"
   ]
  },
  {
   "cell_type": "markdown",
   "metadata": {
    "id": "2C0hcmp9IrJQ"
   },
   "source": [
    "If you are using one of the five T5 checkpoints that require a special prefix to put before the inputs, you should adapt the following cell."
   ]
  },
  {
   "cell_type": "code",
   "execution_count": null,
   "metadata": {
    "id": "CZKke1y6bahU"
   },
   "outputs": [],
   "source": [
    "if model_checkpoint in [\"t5-small\", \"t5-base\", \"t5-larg\", \"t5-3b\", \"t5-11b\"]:\n",
    "    prefix = \"translate English to Romanian: \"\n",
    "else:\n",
    "    prefix = \"\""
   ]
  },
  {
   "cell_type": "markdown",
   "metadata": {
    "id": "wuTxtloEbahV"
   },
   "source": [
    "We can then write the function that will preprocess our samples. We just feed them to the `tokenizer` with the argument `truncation=True`. This will ensure that an input longer that what the model selected can handle will be truncated to the maximum length accepted by the model. The padding will be dealt with later on (in a data collator) so we pad examples to the longest length in the batch and not the whole dataset."
   ]
  },
  {
   "cell_type": "code",
   "execution_count": null,
   "metadata": {
    "id": "vc0BSBLIIrJQ"
   },
   "outputs": [],
   "source": [
    "max_input_length = 128\n",
    "max_target_length = 128\n",
    "source_lang = \"en\"\n",
    "target_lang = \"ro\"\n",
    "\n",
    "def preprocess_function(examples):\n",
    "    inputs = [prefix + ex[source_lang] for ex in examples[\"translation\"]]\n",
    "    targets = [ex[target_lang] for ex in examples[\"translation\"]]\n",
    "    model_inputs = tokenizer(inputs, max_length=max_input_length, truncation=True)\n",
    "\n",
    "    # Setup the tokenizer for targets\n",
    "    with tokenizer.as_target_tokenizer():\n",
    "        labels = tokenizer(targets, max_length=max_target_length, truncation=True)\n",
    "\n",
    "    model_inputs[\"labels\"] = labels[\"input_ids\"]\n",
    "    return model_inputs"
   ]
  },
  {
   "cell_type": "markdown",
   "metadata": {
    "id": "0lm8ozrJIrJR"
   },
   "source": [
    "This function works with one or several examples. In the case of several examples, the tokenizer will return a list of lists for each key:"
   ]
  },
  {
   "cell_type": "code",
   "execution_count": null,
   "metadata": {
    "id": "-b70jh26IrJS",
    "outputId": "acd3a42d-985b-44ee-9daa-af5d944ce1d9"
   },
   "outputs": [
    {
     "data": {
      "text/plain": [
       "{'input_ids': [[393, 4462, 14, 1137, 53, 216, 28636, 0], [24385, 14, 28636, 14, 4646, 4622, 53, 216, 28636, 0]], 'attention_mask': [[1, 1, 1, 1, 1, 1, 1, 1], [1, 1, 1, 1, 1, 1, 1, 1, 1, 1]], 'labels': [[42140, 494, 1750, 53, 8, 59, 903, 3543, 9, 15202, 0], [36199, 6612, 9, 15202, 122, 568, 35788, 21549, 53, 8, 59, 903, 3543, 9, 15202, 0]]}"
      ]
     },
     "execution_count": null,
     "metadata": {},
     "output_type": "execute_result"
    }
   ],
   "source": [
    "preprocess_function(raw_datasets['train'][:2])"
   ]
  },
  {
   "cell_type": "markdown",
   "metadata": {
    "id": "zS-6iXTkIrJT"
   },
   "source": [
    "To apply this function on all the pairs of sentences in our dataset, we just use the `map` method of our `dataset` object we created earlier. This will apply the function on all the elements of all the splits in `dataset`, so our training, validation and testing data will be preprocessed in one single command."
   ]
  },
  {
   "cell_type": "code",
   "execution_count": null,
   "metadata": {
    "id": "DDtsaJeVIrJT",
    "outputId": "aa4734bf-4ef5-4437-9948-2c16363da719"
   },
   "outputs": [
    {
     "name": "stderr",
     "output_type": "stream",
     "text": [
      "Loading cached processed dataset at /home/sgugger/.cache/huggingface/datasets/wmt16/ro-en/1.0.0/9dc00622c30446e99c4c63d12a484ea4fb653f2f37c867d6edcec839d7eae50f/cache-126b7925258542cf.arrow\n",
      "Loading cached processed dataset at /home/sgugger/.cache/huggingface/datasets/wmt16/ro-en/1.0.0/9dc00622c30446e99c4c63d12a484ea4fb653f2f37c867d6edcec839d7eae50f/cache-995e36d1e1745505.arrow\n",
      "Loading cached processed dataset at /home/sgugger/.cache/huggingface/datasets/wmt16/ro-en/1.0.0/9dc00622c30446e99c4c63d12a484ea4fb653f2f37c867d6edcec839d7eae50f/cache-313c89c543a3c175.arrow\n"
     ]
    }
   ],
   "source": [
    "tokenized_datasets = raw_datasets.map(preprocess_function, batched=True)"
   ]
  },
  {
   "cell_type": "markdown",
   "metadata": {
    "id": "voWiw8C7IrJV"
   },
   "source": [
    "Even better, the results are automatically cached by the 🤗 Datasets library to avoid spending time on this step the next time you run your notebook. The 🤗 Datasets library is normally smart enough to detect when the function you pass to map has changed (and thus requires to not use the cache data). For instance, it will properly detect if you change the task in the first cell and rerun the notebook. 🤗 Datasets warns you when it uses cached files, you can pass `load_from_cache_file=False` in the call to `map` to not use the cached files and force the preprocessing to be applied again.\n",
    "\n",
    "Note that we passed `batched=True` to encode the texts by batches together. This is to leverage the full benefit of the fast tokenizer we loaded earlier, which will use multi-threading to treat the texts in a batch concurrently."
   ]
  },
  {
   "cell_type": "markdown",
   "metadata": {
    "id": "545PP3o8IrJV"
   },
   "source": [
    "## Fine-tuning the model"
   ]
  },
  {
   "cell_type": "markdown",
   "metadata": {
    "id": "FBiW8UpKIrJW"
   },
   "source": [
    "Now that our data is ready, we can download the pretrained model and fine-tune it. Since our task is of the sequence-to-sequence kind, we use the `AutoModelForSeq2SeqLM` class. Like with the tokenizer, the `from_pretrained` method will download and cache the model for us."
   ]
  },
  {
   "cell_type": "code",
   "execution_count": null,
   "metadata": {
    "id": "TlqNaB8jIrJW"
   },
   "outputs": [],
   "source": [
    "from transformers import AutoModelForSeq2SeqLM, DataCollatorForSeq2Seq, Seq2SeqTrainingArguments, Seq2SeqTrainer\n",
    "\n",
    "model = AutoModelForSeq2SeqLM.from_pretrained(model_checkpoint)"
   ]
  },
  {
   "cell_type": "markdown",
   "metadata": {
    "id": "CczA5lJlIrJX"
   },
   "source": [
    "Note that  we don't get a warning like in our classification example. This means we used all the weights of the pretrained model and there is no randomly initialized head in this case."
   ]
  },
  {
   "cell_type": "markdown",
   "metadata": {
    "id": "_N8urzhyIrJY"
   },
   "source": [
    "To instantiate a `Seq2SeqTrainer`, we will need to define three more things. The most important is the [`Seq2SeqTrainingArguments`](https://huggingface.co/transformers/main_classes/trainer.html#transformers.Seq2SeqTrainingArguments), which is a class that contains all the attributes to customize the training. It requires one folder name, which will be used to save the checkpoints of the model, and all other arguments are optional:"
   ]
  },
  {
   "cell_type": "code",
   "execution_count": null,
   "metadata": {
    "id": "Bliy8zgjIrJY"
   },
   "outputs": [],
   "source": [
    "batch_size = 16\n",
    "model_name = model_checkpoint.split(\"/\")[-1]\n",
    "args = Seq2SeqTrainingArguments(\n",
    "    f\"{model_name}-finetuned-{source_lang}-to-{target-lang}\",\n",
    "    evaluation_strategy = \"epoch\",\n",
    "    learning_rate=2e-5,\n",
    "    per_device_train_batch_size=batch_size,\n",
    "    per_device_eval_batch_size=batch_size,\n",
    "    weight_decay=0.01,\n",
    "    save_total_limit=3,\n",
    "    num_train_epochs=1,\n",
    "    predict_with_generate=True,\n",
    "    fp16=True,\n",
    "    push_to_hub=True,\n",
    ")"
   ]
  },
  {
   "cell_type": "markdown",
   "metadata": {
    "id": "km3pGVdTIrJc"
   },
   "source": [
    "Here we set the evaluation to be done at the end of each epoch, tweak the learning rate, use the `batch_size` defined at the top of the cell and customize the weight decay. Since the `Seq2SeqTrainer` will save the model regularly and our dataset is quite large, we tell it to make three saves maximum. Lastly, we use the `predict_with_generate` option (to properly generate summaries) and activate mixed precision training (to go a bit faster).\n",
    "\n",
    "The last argument to setup everything so we can push the model to the [Hub](https://huggingface.co/models) regularly during training. Remove it if you didn't follow the installation steps at the top of the notebook. If you want to save your model locally in a name that is different than the name of the repository it will be pushed, or if you want to push your model under an organization and not your name space, use the `hub_model_id` argument to set the repo name (it needs to be the full name, including your namespace: for instance `\"sgugger/marian-finetuned-en-to-ro\"` or `\"huggingface/marian-finetuned-en-to-ro\"`).\n",
    "\n",
    "Then, we need a special kind of data collator, which will not only pad the inputs to the maximum length in the batch, but also the labels:"
   ]
  },
  {
   "cell_type": "code",
   "execution_count": null,
   "metadata": {
    "id": "3M5PXdkGbahY"
   },
   "outputs": [],
   "source": [
    "data_collator = DataCollatorForSeq2Seq(tokenizer, model=model)"
   ]
  },
  {
   "cell_type": "markdown",
   "metadata": {
    "id": "7sZOdRlRIrJd"
   },
   "source": [
    "The last thing to define for our `Seq2SeqTrainer` is how to compute the metrics from the predictions. We need to define a function for this, which will just use the `metric` we loaded earlier, and we have to do a bit of pre-processing to decode the predictions into texts:"
   ]
  },
  {
   "cell_type": "code",
   "execution_count": null,
   "metadata": {
    "id": "UmvbnJ9JIrJd"
   },
   "outputs": [],
   "source": [
    "import numpy as np\n",
    "\n",
    "def postprocess_text(preds, labels):\n",
    "    preds = [pred.strip() for pred in preds]\n",
    "    labels = [[label.strip()] for label in labels]\n",
    "\n",
    "    return preds, labels\n",
    "\n",
    "def compute_metrics(eval_preds):\n",
    "    preds, labels = eval_preds\n",
    "    if isinstance(preds, tuple):\n",
    "        preds = preds[0]\n",
    "    decoded_preds = tokenizer.batch_decode(preds, skip_special_tokens=True)\n",
    "\n",
    "    # Replace -100 in the labels as we can't decode them.\n",
    "    labels = np.where(labels != -100, labels, tokenizer.pad_token_id)\n",
    "    decoded_labels = tokenizer.batch_decode(labels, skip_special_tokens=True)\n",
    "\n",
    "    # Some simple post-processing\n",
    "    decoded_preds, decoded_labels = postprocess_text(decoded_preds, decoded_labels)\n",
    "\n",
    "    result = metric.compute(predictions=decoded_preds, references=decoded_labels)\n",
    "    result = {\"bleu\": result[\"score\"]}\n",
    "\n",
    "    prediction_lens = [np.count_nonzero(pred != tokenizer.pad_token_id) for pred in preds]\n",
    "    result[\"gen_len\"] = np.mean(prediction_lens)\n",
    "    result = {k: round(v, 4) for k, v in result.items()}\n",
    "    return result"
   ]
  },
  {
   "cell_type": "markdown",
   "metadata": {
    "id": "rXuFTAzDIrJe"
   },
   "source": [
    "Then we just need to pass all of this along with our datasets to the `Seq2SeqTrainer`:"
   ]
  },
  {
   "cell_type": "code",
   "execution_count": null,
   "metadata": {
    "id": "imY1oC3SIrJf"
   },
   "outputs": [],
   "source": [
    "trainer = Seq2SeqTrainer(\n",
    "    model,\n",
    "    args,\n",
    "    train_dataset=tokenized_datasets[\"train\"],\n",
    "    eval_dataset=tokenized_datasets[\"validation\"],\n",
    "    data_collator=data_collator,\n",
    "    tokenizer=tokenizer,\n",
    "    compute_metrics=compute_metrics\n",
    ")"
   ]
  },
  {
   "cell_type": "markdown",
   "metadata": {
    "id": "CdzABDVcIrJg"
   },
   "source": [
    "We can now finetune our model by just calling the `train` method:"
   ]
  },
  {
   "cell_type": "code",
   "execution_count": null,
   "metadata": {
    "id": "uNx5pyRlIrJh",
    "outputId": "077e661e-d36c-469b-89b8-7ff7f73541ec"
   },
   "outputs": [
    {
     "data": {
      "text/html": [
       "\n",
       "    <div>\n",
       "        <style>\n",
       "            /* Turns off some styling */\n",
       "            progress {\n",
       "                /* gets rid of default border in Firefox and Opera. */\n",
       "                border: none;\n",
       "                /* Needs to be in here for Safari polyfill so background images work as expected. */\n",
       "                background-size: auto;\n",
       "            }\n",
       "        </style>\n",
       "      \n",
       "      <progress value='38145' max='38145' style='width:300px; height:20px; vertical-align: middle;'></progress>\n",
       "      [38145/38145 1:18:58, Epoch 1/1]\n",
       "    </div>\n",
       "    <table border=\"1\" class=\"dataframe\">\n",
       "  <thead>\n",
       "    <tr style=\"text-align: left;\">\n",
       "      <th>Epoch</th>\n",
       "      <th>Training Loss</th>\n",
       "      <th>Validation Loss</th>\n",
       "      <th>Bleu</th>\n",
       "      <th>Gen Len</th>\n",
       "      <th>Runtime</th>\n",
       "      <th>Samples Per Second</th>\n",
       "    </tr>\n",
       "  </thead>\n",
       "  <tbody>\n",
       "    <tr>\n",
       "      <td>1</td>\n",
       "      <td>0.740100</td>\n",
       "      <td>1.290665</td>\n",
       "      <td>28.059300</td>\n",
       "      <td>34.051500</td>\n",
       "      <td>135.611700</td>\n",
       "      <td>14.741000</td>\n",
       "    </tr>\n",
       "  </tbody>\n",
       "</table><p>"
      ],
      "text/plain": [
       "<IPython.core.display.HTML object>"
      ]
     },
     "metadata": {},
     "output_type": "display_data"
    },
    {
     "data": {
      "text/plain": [
       "TrainOutput(global_step=38145, training_loss=0.7717826230230017, metrics={'train_runtime': 4738.3882, 'train_samples_per_second': 8.05, 'total_flos': 3.62019881263104e+16, 'epoch': 1.0, 'init_mem_cpu_alloc_delta': 337319, 'init_mem_gpu_alloc_delta': 300833792, 'init_mem_cpu_peaked_delta': 18306, 'init_mem_gpu_peaked_delta': 0, 'train_mem_cpu_alloc_delta': 1028051, 'train_mem_gpu_alloc_delta': 899235328, 'train_mem_cpu_peaked_delta': 267371462, 'train_mem_gpu_peaked_delta': 3136797184})"
      ]
     },
     "execution_count": null,
     "metadata": {},
     "output_type": "execute_result"
    }
   ],
   "source": [
    "trainer.train()"
   ]
  },
  {
   "cell_type": "markdown",
   "metadata": {
    "id": "VhljAIvTbaha"
   },
   "source": [
    "You can now upload the result of the training to the Hub, just execute this instruction:"
   ]
  },
  {
   "cell_type": "code",
   "execution_count": null,
   "metadata": {
    "id": "p8-2NW8Ybaha"
   },
   "outputs": [],
   "source": [
    "trainer.push_to_hub()"
   ]
  },
  {
   "cell_type": "markdown",
   "metadata": {
    "id": "n39Jw-wpbaha"
   },
   "source": [
    "You can now share this model with all your friends, family, favorite pets: they can all load it with the identifier `\"your-username/the-name-you-picked\"` so for instance:\n",
    "\n",
    "```python\n",
    "from transformers import AutoModelForSeq2SeqLM\n",
    "\n",
    "model = AutoModelForSeq2SeqLM.from_pretrained(\"sgugger/my-awesome-model\")\n",
    "```"
   ]
  },
  {
   "cell_type": "code",
   "execution_count": null,
   "metadata": {
    "id": "9fgQHBTBbaha"
   },
   "outputs": [],
   "source": []
  }
 ],
 "metadata": {
  "colab": {
   "name": "Translation",
   "provenance": []
  },
  "kernelspec": {
   "display_name": "Python 3",
   "language": "python",
   "name": "python3"
  },
  "language_info": {
   "codemirror_mode": {
    "name": "ipython",
    "version": 3
   },
   "file_extension": ".py",
   "mimetype": "text/x-python",
   "name": "python",
   "nbconvert_exporter": "python",
   "pygments_lexer": "ipython3",
   "version": "3.8.8"
  }
 },
 "nbformat": 4,
 "nbformat_minor": 4
}
