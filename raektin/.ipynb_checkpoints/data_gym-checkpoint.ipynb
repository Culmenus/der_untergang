{
 "cells": [
  {
   "cell_type": "code",
   "execution_count": 2,
   "id": "e09899c9-7119-4c52-8ec2-d06c3bb7bf2b",
   "metadata": {},
   "outputs": [
    {
     "data": {
      "application/vnd.jupyter.widget-view+json": {
       "model_id": "e4fabea127274980a2f6e8fcb26c983a",
       "version_major": 2,
       "version_minor": 0
      },
      "text/plain": [
       "Downloading:   0%|          | 0.00/2.41k [00:00<?, ?B/s]"
      ]
     },
     "metadata": {},
     "output_type": "display_data"
    },
    {
     "data": {
      "application/vnd.jupyter.widget-view+json": {
       "model_id": "8ee85378f9314d72adf9b74fa20c5886",
       "version_major": 2,
       "version_minor": 0
      },
      "text/plain": [
       "Downloading:   0%|          | 0.00/2.05k [00:00<?, ?B/s]"
      ]
     },
     "metadata": {},
     "output_type": "display_data"
    },
    {
     "name": "stderr",
     "output_type": "stream",
     "text": [
      "Using custom data configuration de-is-lang1=de,lang2=is\n"
     ]
    },
    {
     "name": "stdout",
     "output_type": "stream",
     "text": [
      "Downloading and preparing dataset tilde_model/de-is to /home/oddurace/.cache/huggingface/datasets/tilde_model/de-is-lang1=de,lang2=is/0.0.0/cea5250cab9d7f20be33fd2b08330b2e17bf4de020ded2719dda9b288e99a205...\n"
     ]
    },
    {
     "data": {
      "application/vnd.jupyter.widget-view+json": {
       "model_id": "a29933f5402644419027f769abaf3e23",
       "version_major": 2,
       "version_minor": 0
      },
      "text/plain": [
       "Downloading:   0%|          | 0.00/22.4M [00:00<?, ?B/s]"
      ]
     },
     "metadata": {},
     "output_type": "display_data"
    },
    {
     "data": {
      "application/vnd.jupyter.widget-view+json": {
       "model_id": "",
       "version_major": 2,
       "version_minor": 0
      },
      "text/plain": [
       "0 examples [00:00, ? examples/s]"
      ]
     },
     "metadata": {},
     "output_type": "display_data"
    },
    {
     "name": "stdout",
     "output_type": "stream",
     "text": [
      "Dataset tilde_model downloaded and prepared to /home/oddurace/.cache/huggingface/datasets/tilde_model/de-is-lang1=de,lang2=is/0.0.0/cea5250cab9d7f20be33fd2b08330b2e17bf4de020ded2719dda9b288e99a205. Subsequent calls will reuse this data.\n"
     ]
    },
    {
     "data": {
      "application/vnd.jupyter.widget-view+json": {
       "model_id": "97f4ac13f9a849cca2462ba07ea2eff4",
       "version_major": 2,
       "version_minor": 0
      },
      "text/plain": [
       "  0%|          | 0/1 [00:00<?, ?it/s]"
      ]
     },
     "metadata": {},
     "output_type": "display_data"
    }
   ],
   "source": [
    "from datasets import load_dataset\n",
    "dataset_tilde = load_dataset(\"tilde_model\", lang1=\"de\", lang2=\"is\")"
   ]
  },
  {
   "cell_type": "code",
   "execution_count": 3,
   "id": "9879eb92-340c-4b13-902d-17bfb379c545",
   "metadata": {},
   "outputs": [
    {
     "name": "stdout",
     "output_type": "stream",
     "text": [
      "<class 'datasets.arrow_dataset.Dataset'>\n"
     ]
    }
   ],
   "source": [
    "print(type(dataset_tilde['train']))"
   ]
  },
  {
   "cell_type": "code",
   "execution_count": 4,
   "id": "e20ba356-e1f3-4588-b54c-7ff115769736",
   "metadata": {},
   "outputs": [
    {
     "name": "stdout",
     "output_type": "stream",
     "text": [
      "DatasetDict({\n",
      "    train: Dataset({\n",
      "        features: ['id', 'translation'],\n",
      "        num_rows: 399681\n",
      "    })\n",
      "})\n"
     ]
    }
   ],
   "source": [
    "print(dataset_tilde)"
   ]
  },
  {
   "cell_type": "code",
   "execution_count": 5,
   "id": "e59481a5-860a-4e7b-91fd-caf98a3c5925",
   "metadata": {},
   "outputs": [
    {
     "name": "stdout",
     "output_type": "stream",
     "text": [
      "1.1 Zum gegenwärtigen Zeitpunkt wird hart um die Unterstützung der Öffentlichkeit für Islands Antrag auf EU-Mitgliedschaft gerungen, wie die öffentliche Anhörung im September 2010 in Island bestätigte.\n"
     ]
    }
   ],
   "source": [
    "print(dataset_tilde['train'][3]['translation']['de'])"
   ]
  },
  {
   "cell_type": "code",
   "execution_count": 7,
   "id": "b5b2a306-ac16-487a-9f2a-864c14525358",
   "metadata": {},
   "outputs": [
    {
     "name": "stdout",
     "output_type": "stream",
     "text": [
      "/mnt/c/Users/oddur/Háskólinn/MalTaekni/Lokaverk/raektin\n"
     ]
    }
   ],
   "source": [
    "!pwd"
   ]
  },
  {
   "cell_type": "code",
   "execution_count": 9,
   "id": "3e9924ac-08c2-436e-99c0-f734345cbe18",
   "metadata": {
    "tags": []
   },
   "outputs": [
    {
     "data": {
      "text/plain": [
       "90436388"
      ]
     },
     "execution_count": 9,
     "metadata": {},
     "output_type": "execute_result"
    }
   ],
   "source": [
    "dataset_tilde['train'].to_parquet('../data/processed_data/tilde_model.parquet')"
   ]
  },
  {
   "cell_type": "code",
   "execution_count": 10,
   "id": "1f4cd985-3d23-4a22-81a3-9323787f9f04",
   "metadata": {},
   "outputs": [
    {
     "name": "stderr",
     "output_type": "stream",
     "text": [
      "Using custom data configuration default-d3d5525f74025ea3\n"
     ]
    },
    {
     "name": "stdout",
     "output_type": "stream",
     "text": [
      "Downloading and preparing dataset parquet/default to /home/oddurace/.cache/huggingface/datasets/parquet/default-d3d5525f74025ea3/0.0.0/9296ce43568b20d72ff8ff8ecbc821a16b68e9b8b7058805ef11f06e035f911a...\n"
     ]
    },
    {
     "data": {
      "application/vnd.jupyter.widget-view+json": {
       "model_id": "69a77ee15d5b4fbbb7ac0bca2a3c8420",
       "version_major": 2,
       "version_minor": 0
      },
      "text/plain": [
       "  0%|          | 0/1 [00:00<?, ?it/s]"
      ]
     },
     "metadata": {},
     "output_type": "display_data"
    },
    {
     "data": {
      "application/vnd.jupyter.widget-view+json": {
       "model_id": "479916db9ae94027846bde7848dd9236",
       "version_major": 2,
       "version_minor": 0
      },
      "text/plain": [
       "  0%|          | 0/1 [00:00<?, ?it/s]"
      ]
     },
     "metadata": {},
     "output_type": "display_data"
    },
    {
     "name": "stdout",
     "output_type": "stream",
     "text": [
      "Dataset parquet downloaded and prepared to /home/oddurace/.cache/huggingface/datasets/parquet/default-d3d5525f74025ea3/0.0.0/9296ce43568b20d72ff8ff8ecbc821a16b68e9b8b7058805ef11f06e035f911a. Subsequent calls will reuse this data.\n"
     ]
    },
    {
     "data": {
      "application/vnd.jupyter.widget-view+json": {
       "model_id": "356445f1672f406f9d8cbb07c480e991",
       "version_major": 2,
       "version_minor": 0
      },
      "text/plain": [
       "  0%|          | 0/1 [00:00<?, ?it/s]"
      ]
     },
     "metadata": {},
     "output_type": "display_data"
    }
   ],
   "source": [
    "\n",
    "dataset_tab = load_dataset('parquet', data_files='../data/processed_data/tilde_model.parquet')"
   ]
  },
  {
   "cell_type": "code",
   "execution_count": 11,
   "id": "306c1a60-a5a3-495a-85f8-455486628d89",
   "metadata": {},
   "outputs": [
    {
     "name": "stdout",
     "output_type": "stream",
     "text": [
      "DatasetDict({\n",
      "    train: Dataset({\n",
      "        features: ['id', 'translation'],\n",
      "        num_rows: 399681\n",
      "    })\n",
      "})\n"
     ]
    }
   ],
   "source": [
    "print(dataset_tab)"
   ]
  },
  {
   "cell_type": "code",
   "execution_count": null,
   "id": "f63b244c-bd33-43b3-aff6-122a624e90e8",
   "metadata": {},
   "outputs": [],
   "source": []
  },
  {
   "cell_type": "code",
   "execution_count": 51,
   "id": "8100d29b-8eef-45df-98e8-8630fa40b6fe",
   "metadata": {},
   "outputs": [
    {
     "name": "stdout",
     "output_type": "stream",
     "text": [
      "{'text': '284\\tIch spreche kein Japanisch.\\t399287\\tÉg tala ekki japönsku.'}\n"
     ]
    }
   ],
   "source": []
  },
  {
   "cell_type": "code",
   "execution_count": 34,
   "id": "4a52dfd4-2aa3-4b63-942d-7d2f471e8cd5",
   "metadata": {},
   "outputs": [
    {
     "name": "stdout",
     "output_type": "stream",
     "text": [
      "{'text': '284\\tIch spreche kein Japanisch.\\t399287\\tÉg tala ekki japönsku.'}\n"
     ]
    }
   ],
   "source": [
    "\n"
   ]
  }
 ],
 "metadata": {
  "kernelspec": {
   "display_name": "Python 3",
   "language": "python",
   "name": "python3"
  },
  "language_info": {
   "codemirror_mode": {
    "name": "ipython",
    "version": 3
   },
   "file_extension": ".py",
   "mimetype": "text/x-python",
   "name": "python",
   "nbconvert_exporter": "python",
   "pygments_lexer": "ipython3",
   "version": "3.8.8"
  }
 },
 "nbformat": 4,
 "nbformat_minor": 5
}
